{
 "cells": [
  {
   "cell_type": "code",
   "execution_count": 1,
   "metadata": {},
   "outputs": [],
   "source": [
    "from pymongo import MongoClient\n",
    "import pandas as pd\n",
    "from src.functions import * \n",
    "from src.df_computation import *\n",
    "from src.strbkcs_computation import *\n",
    "from src.schls_computation import *\n",
    "from src.brs_computation import *\n",
    "from src.rpts_computation import *\n",
    "from src.vgn_computation import *\n",
    "from keplergl import KeplerGl"
   ]
  },
  {
   "cell_type": "code",
   "execution_count": 2,
   "metadata": {},
   "outputs": [],
   "source": [
    "dbName = \"companies\"\n",
    "mongodbURL = f\"mongodb://localhost/{dbName}\"\n",
    "client = MongoClient(mongodbURL, connectTimeoutMS=2000,serverSelectionTimeoutMS=2000)\n",
    "db = client.get_database()"
   ]
  },
  {
   "cell_type": "markdown",
   "metadata": {},
   "source": [
    "# Indentify Old Companies (>10y)"
   ]
  },
  {
   "cell_type": "code",
   "execution_count": 3,
   "metadata": {},
   "outputs": [],
   "source": [
    "old_comps = list(db.companies.find({\"founded_year\":{\"$lte\":2003}},{\"_id\":0,\"name\":1,\"category_code\":1,\"total_money_raised\":1,\"founded_year\":1,\"offices.city\":1,\"offices.country_code\":1,\"offices.latitude\":1,\"offices.longitude\":1}))\n",
    "dfo = normalize(old_comps)"
   ]
  },
  {
   "cell_type": "code",
   "execution_count": 4,
   "metadata": {
    "scrolled": true
   },
   "outputs": [],
   "source": [
    "dfo = dfo.dropna(subset=[\"latitude\"])"
   ]
  },
  {
   "cell_type": "code",
   "execution_count": 5,
   "metadata": {
    "scrolled": true
   },
   "outputs": [],
   "source": [
    "dfo[\"coordinates\"] = dfo.apply(lambda row:{\"type\":\"Point\", \"coordinates\":[row.latitude,row.longitude]},axis=1)"
   ]
  },
  {
   "cell_type": "code",
   "execution_count": 6,
   "metadata": {},
   "outputs": [],
   "source": [
    "export_dfo = dfo.to_csv ('OUTPUT/dfo.csv', index=None, header=True)"
   ]
  },
  {
   "cell_type": "markdown",
   "metadata": {},
   "source": [
    "# Indentify 1M Tech Startups"
   ]
  },
  {
   "cell_type": "code",
   "execution_count": 7,
   "metadata": {
    "scrolled": true
   },
   "outputs": [],
   "source": [
    "cool_comps = list(db.companies.find({\"$and\":[{\"founded_year\":{\"$gt\":2003}},{\"total_money_raised\":{\"$not\":{\"$regex\":\"\\$0|\\.*k\"}}}]},{\"_id\":0,\"name\":1,\"category_code\":1,\"total_money_raised\":1,\"founded_year\":1,\"offices.city\":1,\"offices.country_code\":1,\"offices.latitude\":1,\"offices.longitude\":1}))\n",
    "dfc = normalize(cool_comps)"
   ]
  },
  {
   "cell_type": "code",
   "execution_count": 8,
   "metadata": {},
   "outputs": [],
   "source": [
    "dfc = dfc.dropna(subset=['latitude'])"
   ]
  },
  {
   "cell_type": "code",
   "execution_count": 9,
   "metadata": {},
   "outputs": [],
   "source": [
    "dfc = dfc.loc[dfc.category_code.isin(tech_comps)]"
   ]
  },
  {
   "cell_type": "code",
   "execution_count": 10,
   "metadata": {
    "scrolled": true
   },
   "outputs": [],
   "source": [
    "dfc[\"coordinates\"] = dfc.apply(lambda row:{\"type\":\"Point\", \"coordinates\":[row.latitude,row.longitude]},axis=1)"
   ]
  },
  {
   "cell_type": "code",
   "execution_count": 11,
   "metadata": {},
   "outputs": [],
   "source": [
    "export_dfc = dfc.to_csv ('OUTPUT/dfc.csv', index=None, header=True)"
   ]
  },
  {
   "cell_type": "markdown",
   "metadata": {},
   "source": [
    "# Select Tech Startups out of Radio"
   ]
  },
  {
   "cell_type": "code",
   "execution_count": 12,
   "metadata": {},
   "outputs": [],
   "source": [
    "dfc[\"check\"] = dfc.apply(checkCoord,axis=1)"
   ]
  },
  {
   "cell_type": "code",
   "execution_count": 13,
   "metadata": {
    "scrolled": false
   },
   "outputs": [],
   "source": [
    "df_clean = dfc.loc[dfc.check==\"outside\"]"
   ]
  },
  {
   "cell_type": "code",
   "execution_count": 14,
   "metadata": {},
   "outputs": [],
   "source": [
    "export_df_clean = df_clean.to_csv('OUTPUT/df_clean.csv', index=None, header=True)"
   ]
  },
  {
   "cell_type": "markdown",
   "metadata": {},
   "source": [
    "# Find Starbucks"
   ]
  },
  {
   "cell_type": "code",
   "execution_count": 15,
   "metadata": {
    "scrolled": true
   },
   "outputs": [
    {
     "name": "stderr",
     "output_type": "stream",
     "text": [
      "/home/diego/anaconda3/lib/python3.7/site-packages/ipykernel_launcher.py:1: SettingWithCopyWarning: \n",
      "A value is trying to be set on a copy of a slice from a DataFrame.\n",
      "Try using .loc[row_indexer,col_indexer] = value instead\n",
      "\n",
      "See the caveats in the documentation: http://pandas.pydata.org/pandas-docs/stable/user_guide/indexing.html#returning-a-view-versus-a-copy\n",
      "  \"\"\"Entry point for launching an IPython kernel.\n"
     ]
    }
   ],
   "source": [
    "df_clean[\"starbucks\"] = df_clean.apply(getStarbucks,axis=1)"
   ]
  },
  {
   "cell_type": "code",
   "execution_count": 16,
   "metadata": {
    "scrolled": true
   },
   "outputs": [
    {
     "name": "stderr",
     "output_type": "stream",
     "text": [
      "/home/diego/anaconda3/lib/python3.7/site-packages/ipykernel_launcher.py:1: SettingWithCopyWarning: \n",
      "A value is trying to be set on a copy of a slice from a DataFrame.\n",
      "Try using .loc[row_indexer,col_indexer] = value instead\n",
      "\n",
      "See the caveats in the documentation: http://pandas.pydata.org/pandas-docs/stable/user_guide/indexing.html#returning-a-view-versus-a-copy\n",
      "  \"\"\"Entry point for launching an IPython kernel.\n"
     ]
    }
   ],
   "source": [
    "df_clean[\"starbucks_count\"] = df_clean.apply(countStarbucks,axis=1)"
   ]
  },
  {
   "cell_type": "markdown",
   "metadata": {},
   "source": [
    "# Find Schools"
   ]
  },
  {
   "cell_type": "code",
   "execution_count": 17,
   "metadata": {},
   "outputs": [
    {
     "name": "stderr",
     "output_type": "stream",
     "text": [
      "/home/diego/anaconda3/lib/python3.7/site-packages/ipykernel_launcher.py:1: SettingWithCopyWarning: \n",
      "A value is trying to be set on a copy of a slice from a DataFrame.\n",
      "Try using .loc[row_indexer,col_indexer] = value instead\n",
      "\n",
      "See the caveats in the documentation: http://pandas.pydata.org/pandas-docs/stable/user_guide/indexing.html#returning-a-view-versus-a-copy\n",
      "  \"\"\"Entry point for launching an IPython kernel.\n"
     ]
    }
   ],
   "source": [
    "df_clean[\"schools\"] = df_clean.apply(getSchools,axis=1)"
   ]
  },
  {
   "cell_type": "code",
   "execution_count": 18,
   "metadata": {},
   "outputs": [
    {
     "name": "stderr",
     "output_type": "stream",
     "text": [
      "/home/diego/anaconda3/lib/python3.7/site-packages/ipykernel_launcher.py:1: SettingWithCopyWarning: \n",
      "A value is trying to be set on a copy of a slice from a DataFrame.\n",
      "Try using .loc[row_indexer,col_indexer] = value instead\n",
      "\n",
      "See the caveats in the documentation: http://pandas.pydata.org/pandas-docs/stable/user_guide/indexing.html#returning-a-view-versus-a-copy\n",
      "  \"\"\"Entry point for launching an IPython kernel.\n"
     ]
    }
   ],
   "source": [
    "df_clean[\"schools_count\"] = df_clean.apply(countSchools,axis=1)"
   ]
  },
  {
   "cell_type": "markdown",
   "metadata": {},
   "source": [
    "# Find Bars"
   ]
  },
  {
   "cell_type": "code",
   "execution_count": 19,
   "metadata": {},
   "outputs": [
    {
     "name": "stderr",
     "output_type": "stream",
     "text": [
      "/home/diego/anaconda3/lib/python3.7/site-packages/ipykernel_launcher.py:1: SettingWithCopyWarning: \n",
      "A value is trying to be set on a copy of a slice from a DataFrame.\n",
      "Try using .loc[row_indexer,col_indexer] = value instead\n",
      "\n",
      "See the caveats in the documentation: http://pandas.pydata.org/pandas-docs/stable/user_guide/indexing.html#returning-a-view-versus-a-copy\n",
      "  \"\"\"Entry point for launching an IPython kernel.\n"
     ]
    }
   ],
   "source": [
    "df_clean[\"bars\"] = df_clean.apply(getBars,axis=1)"
   ]
  },
  {
   "cell_type": "code",
   "execution_count": 20,
   "metadata": {},
   "outputs": [
    {
     "name": "stderr",
     "output_type": "stream",
     "text": [
      "/home/diego/anaconda3/lib/python3.7/site-packages/ipykernel_launcher.py:1: SettingWithCopyWarning: \n",
      "A value is trying to be set on a copy of a slice from a DataFrame.\n",
      "Try using .loc[row_indexer,col_indexer] = value instead\n",
      "\n",
      "See the caveats in the documentation: http://pandas.pydata.org/pandas-docs/stable/user_guide/indexing.html#returning-a-view-versus-a-copy\n",
      "  \"\"\"Entry point for launching an IPython kernel.\n"
     ]
    }
   ],
   "source": [
    "df_clean[\"bars_count\"] = df_clean.apply(countBars,axis=1)"
   ]
  },
  {
   "cell_type": "markdown",
   "metadata": {
    "scrolled": true
   },
   "source": [
    "# Find Airports"
   ]
  },
  {
   "cell_type": "code",
   "execution_count": 21,
   "metadata": {},
   "outputs": [
    {
     "name": "stderr",
     "output_type": "stream",
     "text": [
      "/home/diego/anaconda3/lib/python3.7/site-packages/ipykernel_launcher.py:1: SettingWithCopyWarning: \n",
      "A value is trying to be set on a copy of a slice from a DataFrame.\n",
      "Try using .loc[row_indexer,col_indexer] = value instead\n",
      "\n",
      "See the caveats in the documentation: http://pandas.pydata.org/pandas-docs/stable/user_guide/indexing.html#returning-a-view-versus-a-copy\n",
      "  \"\"\"Entry point for launching an IPython kernel.\n"
     ]
    }
   ],
   "source": [
    "df_clean[\"airports\"] = df_clean.apply(getAirports,axis=1)"
   ]
  },
  {
   "cell_type": "code",
   "execution_count": 22,
   "metadata": {},
   "outputs": [
    {
     "name": "stderr",
     "output_type": "stream",
     "text": [
      "/home/diego/anaconda3/lib/python3.7/site-packages/ipykernel_launcher.py:1: SettingWithCopyWarning: \n",
      "A value is trying to be set on a copy of a slice from a DataFrame.\n",
      "Try using .loc[row_indexer,col_indexer] = value instead\n",
      "\n",
      "See the caveats in the documentation: http://pandas.pydata.org/pandas-docs/stable/user_guide/indexing.html#returning-a-view-versus-a-copy\n",
      "  \"\"\"Entry point for launching an IPython kernel.\n"
     ]
    }
   ],
   "source": [
    "df_clean[\"airports_count\"] = df_clean.apply(countAirports,axis=1)"
   ]
  },
  {
   "cell_type": "markdown",
   "metadata": {},
   "source": [
    "# Find Vegan Restaurants"
   ]
  },
  {
   "cell_type": "code",
   "execution_count": 23,
   "metadata": {},
   "outputs": [
    {
     "name": "stderr",
     "output_type": "stream",
     "text": [
      "/home/diego/anaconda3/lib/python3.7/site-packages/ipykernel_launcher.py:1: SettingWithCopyWarning: \n",
      "A value is trying to be set on a copy of a slice from a DataFrame.\n",
      "Try using .loc[row_indexer,col_indexer] = value instead\n",
      "\n",
      "See the caveats in the documentation: http://pandas.pydata.org/pandas-docs/stable/user_guide/indexing.html#returning-a-view-versus-a-copy\n",
      "  \"\"\"Entry point for launching an IPython kernel.\n"
     ]
    }
   ],
   "source": [
    "df_clean[\"vegan\"] = df_clean.apply(getVegan,axis=1)"
   ]
  },
  {
   "cell_type": "code",
   "execution_count": 24,
   "metadata": {},
   "outputs": [
    {
     "name": "stderr",
     "output_type": "stream",
     "text": [
      "/home/diego/anaconda3/lib/python3.7/site-packages/ipykernel_launcher.py:1: SettingWithCopyWarning: \n",
      "A value is trying to be set on a copy of a slice from a DataFrame.\n",
      "Try using .loc[row_indexer,col_indexer] = value instead\n",
      "\n",
      "See the caveats in the documentation: http://pandas.pydata.org/pandas-docs/stable/user_guide/indexing.html#returning-a-view-versus-a-copy\n",
      "  \"\"\"Entry point for launching an IPython kernel.\n"
     ]
    }
   ],
   "source": [
    "df_clean[\"vegan_count\"] = df_clean.apply(countVegan,axis=1)"
   ]
  },
  {
   "cell_type": "markdown",
   "metadata": {},
   "source": [
    "# Final DF"
   ]
  },
  {
   "cell_type": "code",
   "execution_count": 82,
   "metadata": {},
   "outputs": [
    {
     "data": {
      "text/html": [
       "<div>\n",
       "<style scoped>\n",
       "    .dataframe tbody tr th:only-of-type {\n",
       "        vertical-align: middle;\n",
       "    }\n",
       "\n",
       "    .dataframe tbody tr th {\n",
       "        vertical-align: top;\n",
       "    }\n",
       "\n",
       "    .dataframe thead th {\n",
       "        text-align: right;\n",
       "    }\n",
       "</style>\n",
       "<table border=\"1\" class=\"dataframe\">\n",
       "  <thead>\n",
       "    <tr style=\"text-align: right;\">\n",
       "      <th></th>\n",
       "      <th>city</th>\n",
       "      <th>country_code</th>\n",
       "      <th>latitude</th>\n",
       "      <th>longitude</th>\n",
       "      <th>name</th>\n",
       "      <th>category_code</th>\n",
       "      <th>total_money_raised</th>\n",
       "      <th>founded_year</th>\n",
       "      <th>coordinates</th>\n",
       "      <th>check</th>\n",
       "      <th>starbucks</th>\n",
       "      <th>starbucks_count</th>\n",
       "      <th>schools</th>\n",
       "      <th>schools_count</th>\n",
       "      <th>bars</th>\n",
       "      <th>bars_count</th>\n",
       "      <th>airports</th>\n",
       "      <th>airports_count</th>\n",
       "      <th>vegan</th>\n",
       "      <th>vegan_count</th>\n",
       "    </tr>\n",
       "  </thead>\n",
       "  <tbody>\n",
       "    <tr>\n",
       "      <td>173</td>\n",
       "      <td>None</td>\n",
       "      <td>ISR</td>\n",
       "      <td>17.088810</td>\n",
       "      <td>-96.764920</td>\n",
       "      <td>Sportingo</td>\n",
       "      <td>web</td>\n",
       "      <td>$3.2M</td>\n",
       "      <td>2006</td>\n",
       "      <td>{'type': 'Point', 'coordinates': [17.08881, -9...</td>\n",
       "      <td>outside</td>\n",
       "      <td>no</td>\n",
       "      <td>0</td>\n",
       "      <td>[New Mexico High School General, {'lat': 17.08...</td>\n",
       "      <td>20</td>\n",
       "      <td>[La Rinconada, {'lat': 17.0957441, 'lng': -96....</td>\n",
       "      <td>16</td>\n",
       "      <td>[Taxi Tour Valle de Oaxaca Antequera, {'lat': ...</td>\n",
       "      <td>2</td>\n",
       "      <td>[Annona Pan Integral, {'lat': 17.0931677, 'lng...</td>\n",
       "      <td>2</td>\n",
       "    </tr>\n",
       "    <tr>\n",
       "      <td>738</td>\n",
       "      <td>TromsÃ¸</td>\n",
       "      <td>NOR</td>\n",
       "      <td>69.636216</td>\n",
       "      <td>18.931062</td>\n",
       "      <td>Playfish</td>\n",
       "      <td>games_video</td>\n",
       "      <td>$21M</td>\n",
       "      <td>2007</td>\n",
       "      <td>{'type': 'Point', 'coordinates': [69.636216, 1...</td>\n",
       "      <td>outside</td>\n",
       "      <td>no</td>\n",
       "      <td>0</td>\n",
       "      <td>[Kongsbakken Upper Secondary School, {'lat': 6...</td>\n",
       "      <td>15</td>\n",
       "      <td>[Rorbua Pub, {'lat': 69.6489929, 'lng': 18.961...</td>\n",
       "      <td>20</td>\n",
       "      <td>[The Arctic Route, {'lat': 69.6486448, 'lng': ...</td>\n",
       "      <td>11</td>\n",
       "      <td>[Tromso Kaffebrenneri - Veita, {'lat': 69.6519...</td>\n",
       "      <td>20</td>\n",
       "    </tr>\n",
       "    <tr>\n",
       "      <td>1171</td>\n",
       "      <td>Dhanmondi</td>\n",
       "      <td>BGD</td>\n",
       "      <td>23.743156</td>\n",
       "      <td>90.379976</td>\n",
       "      <td>Code71</td>\n",
       "      <td>software</td>\n",
       "      <td>$1M</td>\n",
       "      <td>2006</td>\n",
       "      <td>{'type': 'Point', 'coordinates': [23.743156, 9...</td>\n",
       "      <td>outside</td>\n",
       "      <td>no</td>\n",
       "      <td>0</td>\n",
       "      <td>[Oxford International School, {'lat': 23.75383...</td>\n",
       "      <td>20</td>\n",
       "      <td>[Chalet Bar &amp; Restaurant, {'lat': 23.7444123, ...</td>\n",
       "      <td>20</td>\n",
       "      <td>[Helipad, {'lat': 23.7541347, 'lng': 90.400074...</td>\n",
       "      <td>4</td>\n",
       "      <td>[Santoor Restaurant, {'lat': 23.7518678, 'lng'...</td>\n",
       "      <td>14</td>\n",
       "    </tr>\n",
       "    <tr>\n",
       "      <td>1247</td>\n",
       "      <td>Saskatoon</td>\n",
       "      <td>CAN</td>\n",
       "      <td>52.143886</td>\n",
       "      <td>-106.663456</td>\n",
       "      <td>MyFrontSteps</td>\n",
       "      <td>web</td>\n",
       "      <td>$3M</td>\n",
       "      <td>2008</td>\n",
       "      <td>{'type': 'Point', 'coordinates': [52.143886, -...</td>\n",
       "      <td>outside</td>\n",
       "      <td>[Starbucks, {'lat': 52.1315654, 'lng': -106.64...</td>\n",
       "      <td>7</td>\n",
       "      <td>[E. D. Feehan Catholic High School, {'lat': 52...</td>\n",
       "      <td>18</td>\n",
       "      <td>[Hudsons Saskatoon, {'lat': 52.1263771, 'lng':...</td>\n",
       "      <td>20</td>\n",
       "      <td>no</td>\n",
       "      <td>0</td>\n",
       "      <td>[The Karma - Conscious Café &amp; Eatery, {'lat': ...</td>\n",
       "      <td>20</td>\n",
       "    </tr>\n",
       "    <tr>\n",
       "      <td>1663</td>\n",
       "      <td>Tartu</td>\n",
       "      <td>USA</td>\n",
       "      <td>58.382054</td>\n",
       "      <td>26.731054</td>\n",
       "      <td>ZeroTurnaround</td>\n",
       "      <td>software</td>\n",
       "      <td>$2.7M</td>\n",
       "      <td>2007</td>\n",
       "      <td>{'type': 'Point', 'coordinates': [58.3820542, ...</td>\n",
       "      <td>outside</td>\n",
       "      <td>no</td>\n",
       "      <td>0</td>\n",
       "      <td>[Tartu International School MTÜ, {'lat': 58.37...</td>\n",
       "      <td>20</td>\n",
       "      <td>[Illegaard, {'lat': 58.379455, 'lng': 26.72237...</td>\n",
       "      <td>20</td>\n",
       "      <td>[VIRTA Charging Station, {'lat': 58.377787, 'l...</td>\n",
       "      <td>11</td>\n",
       "      <td>[Krempel Kohvik, {'lat': 58.3815493, 'lng': 26...</td>\n",
       "      <td>20</td>\n",
       "    </tr>\n",
       "    <tr>\n",
       "      <td>1973</td>\n",
       "      <td>Tartu</td>\n",
       "      <td>EST</td>\n",
       "      <td>58.375411</td>\n",
       "      <td>26.721221</td>\n",
       "      <td>Fortumo</td>\n",
       "      <td>mobile</td>\n",
       "      <td>$10M</td>\n",
       "      <td>2007</td>\n",
       "      <td>{'type': 'Point', 'coordinates': [58.3754107, ...</td>\n",
       "      <td>outside</td>\n",
       "      <td>no</td>\n",
       "      <td>0</td>\n",
       "      <td>[Tartu International School MTÜ, {'lat': 58.37...</td>\n",
       "      <td>20</td>\n",
       "      <td>[Illegaard, {'lat': 58.379455, 'lng': 26.72237...</td>\n",
       "      <td>20</td>\n",
       "      <td>[Virta Global Charging Station, {'lat': 58.378...</td>\n",
       "      <td>8</td>\n",
       "      <td>[Krempel Kohvik, {'lat': 58.3815493, 'lng': 26...</td>\n",
       "      <td>20</td>\n",
       "    </tr>\n",
       "    <tr>\n",
       "      <td>2058</td>\n",
       "      <td>Abertillery, Gwent,</td>\n",
       "      <td>GBR</td>\n",
       "      <td>23.066066</td>\n",
       "      <td>-82.292780</td>\n",
       "      <td>Atraverda</td>\n",
       "      <td>cleantech</td>\n",
       "      <td>£16.6M</td>\n",
       "      <td>2005</td>\n",
       "      <td>{'type': 'Point', 'coordinates': [23.066066, -...</td>\n",
       "      <td>outside</td>\n",
       "      <td>no</td>\n",
       "      <td>0</td>\n",
       "      <td>[Secundaria básica 13 de marzo, {'lat': 23.051...</td>\n",
       "      <td>2</td>\n",
       "      <td>[Pilar, {'lat': 23.0677356, 'lng': -82.2951503...</td>\n",
       "      <td>2</td>\n",
       "      <td>no</td>\n",
       "      <td>0</td>\n",
       "      <td>[McCesar's, {'lat': 23.0518415, 'lng': -82.275...</td>\n",
       "      <td>1</td>\n",
       "    </tr>\n",
       "    <tr>\n",
       "      <td>2136</td>\n",
       "      <td>Perth</td>\n",
       "      <td>AUS</td>\n",
       "      <td>-31.978220</td>\n",
       "      <td>115.890840</td>\n",
       "      <td>HealthEngine</td>\n",
       "      <td>web</td>\n",
       "      <td>$10.4M</td>\n",
       "      <td>2007</td>\n",
       "      <td>{'type': 'Point', 'coordinates': [-31.97822, 1...</td>\n",
       "      <td>outside</td>\n",
       "      <td>no</td>\n",
       "      <td>0</td>\n",
       "      <td>[St Clare's School, {'lat': -31.9712183, 'lng'...</td>\n",
       "      <td>20</td>\n",
       "      <td>[Plain Street Bar, {'lat': -31.96118019999999,...</td>\n",
       "      <td>20</td>\n",
       "      <td>[Find Airport Transfer, {'lat': -31.9604702, '...</td>\n",
       "      <td>1</td>\n",
       "      <td>[Loving Hut Victoria Park, {'lat': -31.9738044...</td>\n",
       "      <td>17</td>\n",
       "    </tr>\n",
       "    <tr>\n",
       "      <td>2522</td>\n",
       "      <td>Saskatoon</td>\n",
       "      <td>CAN</td>\n",
       "      <td>52.143886</td>\n",
       "      <td>-106.663456</td>\n",
       "      <td>VendAsta</td>\n",
       "      <td>software</td>\n",
       "      <td>C$11.3M</td>\n",
       "      <td>2008</td>\n",
       "      <td>{'type': 'Point', 'coordinates': [52.143886, -...</td>\n",
       "      <td>outside</td>\n",
       "      <td>[Starbucks, {'lat': 52.1315654, 'lng': -106.64...</td>\n",
       "      <td>7</td>\n",
       "      <td>[E. D. Feehan Catholic High School, {'lat': 52...</td>\n",
       "      <td>18</td>\n",
       "      <td>[Hudsons Saskatoon, {'lat': 52.1263771, 'lng':...</td>\n",
       "      <td>20</td>\n",
       "      <td>no</td>\n",
       "      <td>0</td>\n",
       "      <td>[The Karma - Conscious Café &amp; Eatery, {'lat': ...</td>\n",
       "      <td>20</td>\n",
       "    </tr>\n",
       "  </tbody>\n",
       "</table>\n",
       "</div>"
      ],
      "text/plain": [
       "                     city country_code   latitude   longitude            name  \\\n",
       "173                  None          ISR  17.088810  -96.764920       Sportingo   \n",
       "738               TromsÃ¸          NOR  69.636216   18.931062        Playfish   \n",
       "1171            Dhanmondi          BGD  23.743156   90.379976          Code71   \n",
       "1247            Saskatoon          CAN  52.143886 -106.663456    MyFrontSteps   \n",
       "1663                Tartu          USA  58.382054   26.731054  ZeroTurnaround   \n",
       "1973                Tartu          EST  58.375411   26.721221         Fortumo   \n",
       "2058  Abertillery, Gwent,          GBR  23.066066  -82.292780       Atraverda   \n",
       "2136                Perth          AUS -31.978220  115.890840    HealthEngine   \n",
       "2522            Saskatoon          CAN  52.143886 -106.663456        VendAsta   \n",
       "\n",
       "     category_code total_money_raised founded_year  \\\n",
       "173            web              $3.2M         2006   \n",
       "738    games_video               $21M         2007   \n",
       "1171      software                $1M         2006   \n",
       "1247           web                $3M         2008   \n",
       "1663      software              $2.7M         2007   \n",
       "1973        mobile               $10M         2007   \n",
       "2058     cleantech             £16.6M         2005   \n",
       "2136           web             $10.4M         2007   \n",
       "2522      software            C$11.3M         2008   \n",
       "\n",
       "                                            coordinates    check  \\\n",
       "173   {'type': 'Point', 'coordinates': [17.08881, -9...  outside   \n",
       "738   {'type': 'Point', 'coordinates': [69.636216, 1...  outside   \n",
       "1171  {'type': 'Point', 'coordinates': [23.743156, 9...  outside   \n",
       "1247  {'type': 'Point', 'coordinates': [52.143886, -...  outside   \n",
       "1663  {'type': 'Point', 'coordinates': [58.3820542, ...  outside   \n",
       "1973  {'type': 'Point', 'coordinates': [58.3754107, ...  outside   \n",
       "2058  {'type': 'Point', 'coordinates': [23.066066, -...  outside   \n",
       "2136  {'type': 'Point', 'coordinates': [-31.97822, 1...  outside   \n",
       "2522  {'type': 'Point', 'coordinates': [52.143886, -...  outside   \n",
       "\n",
       "                                              starbucks  starbucks_count  \\\n",
       "173                                                  no                0   \n",
       "738                                                  no                0   \n",
       "1171                                                 no                0   \n",
       "1247  [Starbucks, {'lat': 52.1315654, 'lng': -106.64...                7   \n",
       "1663                                                 no                0   \n",
       "1973                                                 no                0   \n",
       "2058                                                 no                0   \n",
       "2136                                                 no                0   \n",
       "2522  [Starbucks, {'lat': 52.1315654, 'lng': -106.64...                7   \n",
       "\n",
       "                                                schools  schools_count  \\\n",
       "173   [New Mexico High School General, {'lat': 17.08...             20   \n",
       "738   [Kongsbakken Upper Secondary School, {'lat': 6...             15   \n",
       "1171  [Oxford International School, {'lat': 23.75383...             20   \n",
       "1247  [E. D. Feehan Catholic High School, {'lat': 52...             18   \n",
       "1663  [Tartu International School MTÜ, {'lat': 58.37...             20   \n",
       "1973  [Tartu International School MTÜ, {'lat': 58.37...             20   \n",
       "2058  [Secundaria básica 13 de marzo, {'lat': 23.051...              2   \n",
       "2136  [St Clare's School, {'lat': -31.9712183, 'lng'...             20   \n",
       "2522  [E. D. Feehan Catholic High School, {'lat': 52...             18   \n",
       "\n",
       "                                                   bars  bars_count  \\\n",
       "173   [La Rinconada, {'lat': 17.0957441, 'lng': -96....          16   \n",
       "738   [Rorbua Pub, {'lat': 69.6489929, 'lng': 18.961...          20   \n",
       "1171  [Chalet Bar & Restaurant, {'lat': 23.7444123, ...          20   \n",
       "1247  [Hudsons Saskatoon, {'lat': 52.1263771, 'lng':...          20   \n",
       "1663  [Illegaard, {'lat': 58.379455, 'lng': 26.72237...          20   \n",
       "1973  [Illegaard, {'lat': 58.379455, 'lng': 26.72237...          20   \n",
       "2058  [Pilar, {'lat': 23.0677356, 'lng': -82.2951503...           2   \n",
       "2136  [Plain Street Bar, {'lat': -31.96118019999999,...          20   \n",
       "2522  [Hudsons Saskatoon, {'lat': 52.1263771, 'lng':...          20   \n",
       "\n",
       "                                               airports  airports_count  \\\n",
       "173   [Taxi Tour Valle de Oaxaca Antequera, {'lat': ...               2   \n",
       "738   [The Arctic Route, {'lat': 69.6486448, 'lng': ...              11   \n",
       "1171  [Helipad, {'lat': 23.7541347, 'lng': 90.400074...               4   \n",
       "1247                                                 no               0   \n",
       "1663  [VIRTA Charging Station, {'lat': 58.377787, 'l...              11   \n",
       "1973  [Virta Global Charging Station, {'lat': 58.378...               8   \n",
       "2058                                                 no               0   \n",
       "2136  [Find Airport Transfer, {'lat': -31.9604702, '...               1   \n",
       "2522                                                 no               0   \n",
       "\n",
       "                                                  vegan  vegan_count  \n",
       "173   [Annona Pan Integral, {'lat': 17.0931677, 'lng...            2  \n",
       "738   [Tromso Kaffebrenneri - Veita, {'lat': 69.6519...           20  \n",
       "1171  [Santoor Restaurant, {'lat': 23.7518678, 'lng'...           14  \n",
       "1247  [The Karma - Conscious Café & Eatery, {'lat': ...           20  \n",
       "1663  [Krempel Kohvik, {'lat': 58.3815493, 'lng': 26...           20  \n",
       "1973  [Krempel Kohvik, {'lat': 58.3815493, 'lng': 26...           20  \n",
       "2058  [McCesar's, {'lat': 23.0518415, 'lng': -82.275...            1  \n",
       "2136  [Loving Hut Victoria Park, {'lat': -31.9738044...           17  \n",
       "2522  [The Karma - Conscious Café & Eatery, {'lat': ...           20  "
      ]
     },
     "execution_count": 82,
     "metadata": {},
     "output_type": "execute_result"
    }
   ],
   "source": [
    "df_clean"
   ]
  },
  {
   "cell_type": "code",
   "execution_count": 85,
   "metadata": {
    "scrolled": false
   },
   "outputs": [
    {
     "data": {
      "text/plain": [
       "['Starbucks',\n",
       " {'lat': 52.1315654, 'lng': -106.6409981},\n",
       " 'Starbucks',\n",
       " {'lat': 52.1285414, 'lng': -106.6636211},\n",
       " 'Starbucks',\n",
       " {'lat': 52.1311913, 'lng': -106.6369734},\n",
       " 'Starbucks',\n",
       " {'lat': 52.1276455, 'lng': -106.6664984},\n",
       " 'Starbucks',\n",
       " {'lat': 52.1475915, 'lng': -106.670829},\n",
       " 'Starbucks',\n",
       " {'lat': 52.1584278, 'lng': -106.6636507},\n",
       " \"Grandma Lee's Bakery & Cafe\",\n",
       " {'lat': 52.13297499999999, 'lng': -106.659487}]"
      ]
     },
     "execution_count": 85,
     "metadata": {},
     "output_type": "execute_result"
    }
   ],
   "source": [
    "coords = [e for e in df_clean.starbucks.loc[df_clean.starbucks!=\"no\"]][0]\n",
    "coords"
   ]
  },
  {
   "cell_type": "code",
   "execution_count": 79,
   "metadata": {},
   "outputs": [
    {
     "data": {
      "text/plain": [
       "['Taxi Tour Valle de Oaxaca Antequera',\n",
       " {'lat': 17.1031401, 'lng': -96.7508411},\n",
       " 'Terminal de Autobuses AU',\n",
       " {'lat': 17.0814698, 'lng': -96.7438698}]"
      ]
     },
     "execution_count": 79,
     "metadata": {},
     "output_type": "execute_result"
    }
   ],
   "source": [
    "s = [e for e in df_clean.airports.loc[df_clean.airports!=\"no\"]][0]\n",
    "s"
   ]
  },
  {
   "cell_type": "code",
   "execution_count": 83,
   "metadata": {},
   "outputs": [
    {
     "data": {
      "text/plain": [
       "['New Mexico High School General',\n",
       " {'lat': 17.0868594, 'lng': -96.7533758},\n",
       " 'CECyTE Pl. 40',\n",
       " {'lat': 17.0946041, 'lng': -96.7805671},\n",
       " 'Escuela Primaria 27 de Septiembre',\n",
       " {'lat': 17.1030966, 'lng': -96.7580562},\n",
       " 'Kosan Montoya',\n",
       " {'lat': 17.0716476, 'lng': -96.7574293},\n",
       " 'Escuela de musica Atl-tzontle',\n",
       " {'lat': 17.1039682, 'lng': -96.7778684},\n",
       " '3D English Oaxaca',\n",
       " {'lat': 17.07668, 'lng': -96.753706},\n",
       " 'El Sauz Ejutla de Crespo',\n",
       " {'lat': 17.0731866, 'lng': -96.75071179999999},\n",
       " 'Misioneras de San Juan Bautista',\n",
       " {'lat': 17.0968788, 'lng': -96.75085299999999},\n",
       " 'Escuela Preparatoria Macedonio Alcalá',\n",
       " {'lat': 17.0903859, 'lng': -96.7524103},\n",
       " 'Centro Universitario Casandoo Campus 2',\n",
       " {'lat': 17.0824135, 'lng': -96.7617367},\n",
       " 'Liceo Pierre de Coubertin',\n",
       " {'lat': 17.0947432, 'lng': -96.7680579},\n",
       " 'Colegio Henry C. Morrison',\n",
       " {'lat': 17.0711575, 'lng': -96.7548614},\n",
       " 'Escuela Rural',\n",
       " {'lat': 17.0708386, 'lng': -96.77579229999999},\n",
       " 'Escuela Primaria Matutina México Libre',\n",
       " {'lat': 17.0886374, 'lng': -96.7544272},\n",
       " 'Technical High School 215',\n",
       " {'lat': 17.1032863, 'lng': -96.761932},\n",
       " 'Escuela Secundaria Tecnica',\n",
       " {'lat': 17.0923112, 'lng': -96.74719669999999},\n",
       " 'Escuela Primaria Basilio Rojas Gallardo',\n",
       " {'lat': 17.100472, 'lng': -96.76342299999999},\n",
       " 'Escuela Primaria Urbana Federal Hermanos Flores Magón',\n",
       " {'lat': 17.087458, 'lng': -96.7510825},\n",
       " 'Instituto Darcy Ribeiro',\n",
       " {'lat': 17.1055188, 'lng': -96.7512678},\n",
       " 'Colegio Henry C. Morrison Primaria y Preescolar',\n",
       " {'lat': 17.0711978, 'lng': -96.75477889999999}]"
      ]
     },
     "execution_count": 83,
     "metadata": {},
     "output_type": "execute_result"
    }
   ],
   "source": [
    "x = [e for e in df_clean.schools.loc[df_clean.schools!=\"no\"]][0]\n",
    "x"
   ]
  },
  {
   "cell_type": "code",
   "execution_count": 84,
   "metadata": {},
   "outputs": [
    {
     "data": {
      "text/plain": [
       "['La Rinconada',\n",
       " {'lat': 17.0957441, 'lng': -96.768439},\n",
       " 'Liverpool bar musica retro',\n",
       " {'lat': 17.1008725, 'lng': -96.7610098},\n",
       " \"Cuate's BAR\",\n",
       " {'lat': 17.0745031, 'lng': -96.746774},\n",
       " 'bar bar',\n",
       " {'lat': 17.08083, 'lng': -96.760437},\n",
       " 'Bar el mariachi',\n",
       " {'lat': 17.0789519, 'lng': -96.7613708},\n",
       " 'La Zandunga',\n",
       " {'lat': 17.100971, 'lng': -96.75181309999999},\n",
       " 'BAR LOS CAUDILLOS \"DE YU\"',\n",
       " {'lat': 17.090005, 'lng': -96.75306200000001},\n",
       " 'El Establo Bar & Grill',\n",
       " {'lat': 17.071215, 'lng': -96.75215500000002},\n",
       " 'Deposito De Cerveza Juquilita',\n",
       " {'lat': 17.1032739, 'lng': -96.7765924},\n",
       " 'Botanero Santa Elena',\n",
       " {'lat': 17.0785046, 'lng': -96.76731559999999},\n",
       " 'Barola 35 restaurante Coffee bar',\n",
       " {'lat': 17.076232, 'lng': -96.75109309999999},\n",
       " 'Bar magaly',\n",
       " {'lat': 17.0966273, 'lng': -96.75861309999999},\n",
       " 'Viña Tulps',\n",
       " {'lat': 17.1028985, 'lng': -96.75276339999999},\n",
       " 'PAPALOPEZ',\n",
       " {'lat': 17.0754626, 'lng': -96.7533129},\n",
       " 'Los Tarros Micheladas',\n",
       " {'lat': 17.069621, 'lng': -96.75377119999999},\n",
       " 'Restaurante bar la cocina de Ana',\n",
       " {'lat': 17.0818268, 'lng': -96.7610397}]"
      ]
     },
     "execution_count": 84,
     "metadata": {},
     "output_type": "execute_result"
    }
   ],
   "source": [
    "y = [e for e in df_clean.bars.loc[df_clean.bars!=\"no\"]][0]\n",
    "y"
   ]
  },
  {
   "cell_type": "code",
   "execution_count": 96,
   "metadata": {},
   "outputs": [
    {
     "data": {
      "text/html": [
       "<div>\n",
       "<style scoped>\n",
       "    .dataframe tbody tr th:only-of-type {\n",
       "        vertical-align: middle;\n",
       "    }\n",
       "\n",
       "    .dataframe tbody tr th {\n",
       "        vertical-align: top;\n",
       "    }\n",
       "\n",
       "    .dataframe thead th {\n",
       "        text-align: right;\n",
       "    }\n",
       "</style>\n",
       "<table border=\"1\" class=\"dataframe\">\n",
       "  <thead>\n",
       "    <tr style=\"text-align: right;\">\n",
       "      <th></th>\n",
       "      <th>0</th>\n",
       "    </tr>\n",
       "  </thead>\n",
       "  <tbody>\n",
       "    <tr>\n",
       "      <td>1</td>\n",
       "      <td>{'lat': 17.0931677, 'lng': -96.74605389999999}</td>\n",
       "    </tr>\n",
       "    <tr>\n",
       "      <td>3</td>\n",
       "      <td>{'lat': 17.0749795, 'lng': -96.75851589999999}</td>\n",
       "    </tr>\n",
       "  </tbody>\n",
       "</table>\n",
       "</div>"
      ],
      "text/plain": [
       "                                                0\n",
       "1  {'lat': 17.0931677, 'lng': -96.74605389999999}\n",
       "3  {'lat': 17.0749795, 'lng': -96.75851589999999}"
      ]
     },
     "execution_count": 96,
     "metadata": {},
     "output_type": "execute_result"
    }
   ],
   "source": [
    "v = [e for e in df_clean.vegan.loc[df_clean.vegan!=\"no\"]][0]\n",
    "dfs = pd.DataFrame(v)\n",
    "dfs[1::2]"
   ]
  },
  {
   "cell_type": "code",
   "execution_count": 61,
   "metadata": {},
   "outputs": [],
   "source": [
    "df = pd.DataFrame(\n",
    "    {'City': ['Buenos Aires', 'Brasilia', 'Santiago', 'Bogota', 'Caracas'],\n",
    "     'Latitude': [-34.58, -15.78, -33.45, 4.60, 10.48],\n",
    "     'Longitude': [-58.66, -47.91, -70.66, -74.08, -66.86]})"
   ]
  },
  {
   "cell_type": "code",
   "execution_count": 65,
   "metadata": {
    "scrolled": false
   },
   "outputs": [
    {
     "name": "stdout",
     "output_type": "stream",
     "text": [
      "User Guide: https://github.com/keplergl/kepler.gl/blob/master/docs/keplergl-jupyter/user-guide.md\n"
     ]
    },
    {
     "data": {
      "application/vnd.jupyter.widget-view+json": {
       "model_id": "d7fa447828074cf896168ca0283f63de",
       "version_major": 2,
       "version_minor": 0
      },
      "text/plain": [
       "KeplerGl(data={'cities': {'index': [0, 1, 2, 3, 4], 'columns': ['City', 'Latitude', 'Longitude'], 'data': [['B…"
      ]
     },
     "metadata": {},
     "output_type": "display_data"
    }
   ],
   "source": [
    "# Load an empty map\n",
    "map_1 = KeplerGl(height=500)\n",
    "map_1.add_data(data=df, name=\"cities\")\n",
    "map_1"
   ]
  },
  {
   "cell_type": "code",
   "execution_count": null,
   "metadata": {},
   "outputs": [],
   "source": []
  },
  {
   "cell_type": "code",
   "execution_count": null,
   "metadata": {},
   "outputs": [],
   "source": []
  },
  {
   "cell_type": "code",
   "execution_count": null,
   "metadata": {},
   "outputs": [],
   "source": []
  },
  {
   "cell_type": "code",
   "execution_count": null,
   "metadata": {},
   "outputs": [],
   "source": []
  }
 ],
 "metadata": {
  "kernelspec": {
   "display_name": "Python 3",
   "language": "python",
   "name": "python3"
  },
  "language_info": {
   "codemirror_mode": {
    "name": "ipython",
    "version": 3
   },
   "file_extension": ".py",
   "mimetype": "text/x-python",
   "name": "python",
   "nbconvert_exporter": "python",
   "pygments_lexer": "ipython3",
   "version": "3.7.4"
  }
 },
 "nbformat": 4,
 "nbformat_minor": 2
}
