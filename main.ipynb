{
 "cells": [
  {
   "cell_type": "code",
   "execution_count": 1,
   "metadata": {},
   "outputs": [],
   "source": [
    "from pymongo import MongoClient\n",
    "import pandas as pd\n",
    "from src.functions import * \n",
    "from src.df_computation import *\n",
    "from src.strbkcs_computation import *\n",
    "from src.schls_computation import *\n",
    "from src.brs_computation import *\n",
    "from src.rpts_computation import *\n",
    "from src.vgn_computation import *\n",
    "from keplergl import KeplerGl\n",
    "from pandas.io.json import json_normalize"
   ]
  },
  {
   "cell_type": "code",
   "execution_count": 2,
   "metadata": {},
   "outputs": [],
   "source": [
    "dbName = \"companies\"\n",
    "mongodbURL = f\"mongodb://localhost/{dbName}\"\n",
    "client = MongoClient(mongodbURL, connectTimeoutMS=2000,serverSelectionTimeoutMS=2000)\n",
    "db = client.get_database()"
   ]
  },
  {
   "cell_type": "markdown",
   "metadata": {},
   "source": [
    "# Indentify Old Companies (>10y)"
   ]
  },
  {
   "cell_type": "code",
   "execution_count": 3,
   "metadata": {},
   "outputs": [],
   "source": [
    "old_comps = list(db.companies.find({\"founded_year\":{\"$lte\":2003}},{\"_id\":0,\"name\":1,\"category_code\":1,\"total_money_raised\":1,\"founded_year\":1,\"offices.city\":1,\"offices.country_code\":1,\"offices.latitude\":1,\"offices.longitude\":1}))\n",
    "dfo = normalize(old_comps)"
   ]
  },
  {
   "cell_type": "code",
   "execution_count": 4,
   "metadata": {
    "scrolled": true
   },
   "outputs": [],
   "source": [
    "dfo = dfo.dropna(subset=[\"latitude\"])"
   ]
  },
  {
   "cell_type": "code",
   "execution_count": 5,
   "metadata": {
    "scrolled": true
   },
   "outputs": [],
   "source": [
    "dfo[\"coordinates\"] = dfo.apply(lambda row:{\"type\":\"Point\", \"coordinates\":[row.latitude,row.longitude]},axis=1)"
   ]
  },
  {
   "cell_type": "code",
   "execution_count": 6,
   "metadata": {},
   "outputs": [],
   "source": [
    "export_dfo = dfo.to_csv ('OUTPUT/dfo.csv', index=None, header=True)"
   ]
  },
  {
   "cell_type": "markdown",
   "metadata": {},
   "source": [
    "# Indentify 1M Tech Startups"
   ]
  },
  {
   "cell_type": "code",
   "execution_count": 7,
   "metadata": {
    "scrolled": true
   },
   "outputs": [],
   "source": [
    "cool_comps = list(db.companies.find({\"$and\":[{\"founded_year\":{\"$gt\":2003}},{\"total_money_raised\":{\"$not\":{\"$regex\":\"\\$0|\\.*k\"}}}]},{\"_id\":0,\"name\":1,\"category_code\":1,\"total_money_raised\":1,\"founded_year\":1,\"offices.city\":1,\"offices.country_code\":1,\"offices.latitude\":1,\"offices.longitude\":1}))\n",
    "dfc = normalize(cool_comps)"
   ]
  },
  {
   "cell_type": "code",
   "execution_count": 8,
   "metadata": {},
   "outputs": [],
   "source": [
    "dfc = dfc.dropna(subset=['latitude'])"
   ]
  },
  {
   "cell_type": "code",
   "execution_count": 9,
   "metadata": {},
   "outputs": [],
   "source": [
    "dfc = dfc.loc[dfc.category_code.isin(tech_comps)]"
   ]
  },
  {
   "cell_type": "code",
   "execution_count": 10,
   "metadata": {
    "scrolled": true
   },
   "outputs": [],
   "source": [
    "dfc[\"coordinates\"] = dfc.apply(lambda row:{\"type\":\"Point\", \"coordinates\":[row.latitude,row.longitude]},axis=1)"
   ]
  },
  {
   "cell_type": "code",
   "execution_count": 11,
   "metadata": {},
   "outputs": [],
   "source": [
    "export_dfc = dfc.to_csv ('OUTPUT/dfc.csv', index=None, header=True)"
   ]
  },
  {
   "cell_type": "markdown",
   "metadata": {},
   "source": [
    "# Select Tech Startups out of Old Companies Radius"
   ]
  },
  {
   "cell_type": "code",
   "execution_count": 12,
   "metadata": {},
   "outputs": [],
   "source": [
    "dfc[\"check\"] = dfc.apply(checkCoord,axis=1)"
   ]
  },
  {
   "cell_type": "code",
   "execution_count": 13,
   "metadata": {
    "scrolled": false
   },
   "outputs": [],
   "source": [
    "df_clean = dfc.loc[dfc.check==\"outside\"]"
   ]
  },
  {
   "cell_type": "code",
   "execution_count": 14,
   "metadata": {},
   "outputs": [],
   "source": [
    "export_df_clean = df_clean.to_csv('OUTPUT/df_clean.csv', index=None, header=True)"
   ]
  },
  {
   "cell_type": "markdown",
   "metadata": {},
   "source": [
    "# Find Starbucks"
   ]
  },
  {
   "cell_type": "code",
   "execution_count": 15,
   "metadata": {
    "scrolled": true
   },
   "outputs": [
    {
     "name": "stderr",
     "output_type": "stream",
     "text": [
      "/home/diego/anaconda3/lib/python3.7/site-packages/ipykernel_launcher.py:1: SettingWithCopyWarning: \n",
      "A value is trying to be set on a copy of a slice from a DataFrame.\n",
      "Try using .loc[row_indexer,col_indexer] = value instead\n",
      "\n",
      "See the caveats in the documentation: http://pandas.pydata.org/pandas-docs/stable/user_guide/indexing.html#returning-a-view-versus-a-copy\n",
      "  \"\"\"Entry point for launching an IPython kernel.\n"
     ]
    }
   ],
   "source": [
    "df_clean[\"starbucks\"] = df_clean.apply(getStarbucks,axis=1)"
   ]
  },
  {
   "cell_type": "code",
   "execution_count": 16,
   "metadata": {
    "scrolled": true
   },
   "outputs": [
    {
     "name": "stderr",
     "output_type": "stream",
     "text": [
      "/home/diego/anaconda3/lib/python3.7/site-packages/ipykernel_launcher.py:1: SettingWithCopyWarning: \n",
      "A value is trying to be set on a copy of a slice from a DataFrame.\n",
      "Try using .loc[row_indexer,col_indexer] = value instead\n",
      "\n",
      "See the caveats in the documentation: http://pandas.pydata.org/pandas-docs/stable/user_guide/indexing.html#returning-a-view-versus-a-copy\n",
      "  \"\"\"Entry point for launching an IPython kernel.\n"
     ]
    }
   ],
   "source": [
    "df_clean[\"starbucks_count\"] = df_clean.apply(countStarbucks,axis=1)"
   ]
  },
  {
   "cell_type": "markdown",
   "metadata": {},
   "source": [
    "# Find Schools"
   ]
  },
  {
   "cell_type": "code",
   "execution_count": 17,
   "metadata": {},
   "outputs": [
    {
     "name": "stderr",
     "output_type": "stream",
     "text": [
      "/home/diego/anaconda3/lib/python3.7/site-packages/ipykernel_launcher.py:1: SettingWithCopyWarning: \n",
      "A value is trying to be set on a copy of a slice from a DataFrame.\n",
      "Try using .loc[row_indexer,col_indexer] = value instead\n",
      "\n",
      "See the caveats in the documentation: http://pandas.pydata.org/pandas-docs/stable/user_guide/indexing.html#returning-a-view-versus-a-copy\n",
      "  \"\"\"Entry point for launching an IPython kernel.\n"
     ]
    }
   ],
   "source": [
    "df_clean[\"schools\"] = df_clean.apply(getSchools,axis=1)"
   ]
  },
  {
   "cell_type": "code",
   "execution_count": 18,
   "metadata": {},
   "outputs": [
    {
     "name": "stderr",
     "output_type": "stream",
     "text": [
      "/home/diego/anaconda3/lib/python3.7/site-packages/ipykernel_launcher.py:1: SettingWithCopyWarning: \n",
      "A value is trying to be set on a copy of a slice from a DataFrame.\n",
      "Try using .loc[row_indexer,col_indexer] = value instead\n",
      "\n",
      "See the caveats in the documentation: http://pandas.pydata.org/pandas-docs/stable/user_guide/indexing.html#returning-a-view-versus-a-copy\n",
      "  \"\"\"Entry point for launching an IPython kernel.\n"
     ]
    }
   ],
   "source": [
    "df_clean[\"schools_count\"] = df_clean.apply(countSchools,axis=1)"
   ]
  },
  {
   "cell_type": "markdown",
   "metadata": {},
   "source": [
    "# Find Bars"
   ]
  },
  {
   "cell_type": "code",
   "execution_count": 19,
   "metadata": {},
   "outputs": [
    {
     "name": "stderr",
     "output_type": "stream",
     "text": [
      "/home/diego/anaconda3/lib/python3.7/site-packages/ipykernel_launcher.py:1: SettingWithCopyWarning: \n",
      "A value is trying to be set on a copy of a slice from a DataFrame.\n",
      "Try using .loc[row_indexer,col_indexer] = value instead\n",
      "\n",
      "See the caveats in the documentation: http://pandas.pydata.org/pandas-docs/stable/user_guide/indexing.html#returning-a-view-versus-a-copy\n",
      "  \"\"\"Entry point for launching an IPython kernel.\n"
     ]
    }
   ],
   "source": [
    "df_clean[\"bars\"] = df_clean.apply(getBars,axis=1)"
   ]
  },
  {
   "cell_type": "code",
   "execution_count": 20,
   "metadata": {},
   "outputs": [
    {
     "name": "stderr",
     "output_type": "stream",
     "text": [
      "/home/diego/anaconda3/lib/python3.7/site-packages/ipykernel_launcher.py:1: SettingWithCopyWarning: \n",
      "A value is trying to be set on a copy of a slice from a DataFrame.\n",
      "Try using .loc[row_indexer,col_indexer] = value instead\n",
      "\n",
      "See the caveats in the documentation: http://pandas.pydata.org/pandas-docs/stable/user_guide/indexing.html#returning-a-view-versus-a-copy\n",
      "  \"\"\"Entry point for launching an IPython kernel.\n"
     ]
    }
   ],
   "source": [
    "df_clean[\"bars_count\"] = df_clean.apply(countBars,axis=1)"
   ]
  },
  {
   "cell_type": "markdown",
   "metadata": {
    "scrolled": true
   },
   "source": [
    "# Find Airports"
   ]
  },
  {
   "cell_type": "code",
   "execution_count": 21,
   "metadata": {},
   "outputs": [
    {
     "name": "stderr",
     "output_type": "stream",
     "text": [
      "/home/diego/anaconda3/lib/python3.7/site-packages/ipykernel_launcher.py:1: SettingWithCopyWarning: \n",
      "A value is trying to be set on a copy of a slice from a DataFrame.\n",
      "Try using .loc[row_indexer,col_indexer] = value instead\n",
      "\n",
      "See the caveats in the documentation: http://pandas.pydata.org/pandas-docs/stable/user_guide/indexing.html#returning-a-view-versus-a-copy\n",
      "  \"\"\"Entry point for launching an IPython kernel.\n"
     ]
    }
   ],
   "source": [
    "df_clean[\"airports\"] = df_clean.apply(getAirports,axis=1)"
   ]
  },
  {
   "cell_type": "code",
   "execution_count": 22,
   "metadata": {},
   "outputs": [
    {
     "name": "stderr",
     "output_type": "stream",
     "text": [
      "/home/diego/anaconda3/lib/python3.7/site-packages/ipykernel_launcher.py:1: SettingWithCopyWarning: \n",
      "A value is trying to be set on a copy of a slice from a DataFrame.\n",
      "Try using .loc[row_indexer,col_indexer] = value instead\n",
      "\n",
      "See the caveats in the documentation: http://pandas.pydata.org/pandas-docs/stable/user_guide/indexing.html#returning-a-view-versus-a-copy\n",
      "  \"\"\"Entry point for launching an IPython kernel.\n"
     ]
    }
   ],
   "source": [
    "df_clean[\"airports_count\"] = df_clean.apply(countAirports,axis=1)"
   ]
  },
  {
   "cell_type": "markdown",
   "metadata": {},
   "source": [
    "# Find Vegan Restaurants"
   ]
  },
  {
   "cell_type": "code",
   "execution_count": 23,
   "metadata": {},
   "outputs": [
    {
     "name": "stderr",
     "output_type": "stream",
     "text": [
      "/home/diego/anaconda3/lib/python3.7/site-packages/ipykernel_launcher.py:1: SettingWithCopyWarning: \n",
      "A value is trying to be set on a copy of a slice from a DataFrame.\n",
      "Try using .loc[row_indexer,col_indexer] = value instead\n",
      "\n",
      "See the caveats in the documentation: http://pandas.pydata.org/pandas-docs/stable/user_guide/indexing.html#returning-a-view-versus-a-copy\n",
      "  \"\"\"Entry point for launching an IPython kernel.\n"
     ]
    }
   ],
   "source": [
    "df_clean[\"vegan\"] = df_clean.apply(getVegan,axis=1)"
   ]
  },
  {
   "cell_type": "code",
   "execution_count": 24,
   "metadata": {},
   "outputs": [
    {
     "name": "stderr",
     "output_type": "stream",
     "text": [
      "/home/diego/anaconda3/lib/python3.7/site-packages/ipykernel_launcher.py:1: SettingWithCopyWarning: \n",
      "A value is trying to be set on a copy of a slice from a DataFrame.\n",
      "Try using .loc[row_indexer,col_indexer] = value instead\n",
      "\n",
      "See the caveats in the documentation: http://pandas.pydata.org/pandas-docs/stable/user_guide/indexing.html#returning-a-view-versus-a-copy\n",
      "  \"\"\"Entry point for launching an IPython kernel.\n"
     ]
    }
   ],
   "source": [
    "df_clean[\"vegan_count\"] = df_clean.apply(countVegan,axis=1)"
   ]
  },
  {
   "cell_type": "markdown",
   "metadata": {},
   "source": [
    "# Final DF"
   ]
  },
  {
   "cell_type": "code",
   "execution_count": 25,
   "metadata": {
    "scrolled": false
   },
   "outputs": [
    {
     "data": {
      "text/html": [
       "<div>\n",
       "<style scoped>\n",
       "    .dataframe tbody tr th:only-of-type {\n",
       "        vertical-align: middle;\n",
       "    }\n",
       "\n",
       "    .dataframe tbody tr th {\n",
       "        vertical-align: top;\n",
       "    }\n",
       "\n",
       "    .dataframe thead th {\n",
       "        text-align: right;\n",
       "    }\n",
       "</style>\n",
       "<table border=\"1\" class=\"dataframe\">\n",
       "  <thead>\n",
       "    <tr style=\"text-align: right;\">\n",
       "      <th></th>\n",
       "      <th>city</th>\n",
       "      <th>country_code</th>\n",
       "      <th>latitude</th>\n",
       "      <th>longitude</th>\n",
       "      <th>name</th>\n",
       "      <th>category_code</th>\n",
       "      <th>total_money_raised</th>\n",
       "      <th>founded_year</th>\n",
       "      <th>coordinates</th>\n",
       "      <th>check</th>\n",
       "      <th>starbucks</th>\n",
       "      <th>starbucks_count</th>\n",
       "      <th>schools</th>\n",
       "      <th>schools_count</th>\n",
       "      <th>bars</th>\n",
       "      <th>bars_count</th>\n",
       "      <th>airports</th>\n",
       "      <th>airports_count</th>\n",
       "      <th>vegan</th>\n",
       "      <th>vegan_count</th>\n",
       "    </tr>\n",
       "  </thead>\n",
       "  <tbody>\n",
       "    <tr>\n",
       "      <td>173</td>\n",
       "      <td>None</td>\n",
       "      <td>ISR</td>\n",
       "      <td>17.088810</td>\n",
       "      <td>-96.764920</td>\n",
       "      <td>Sportingo</td>\n",
       "      <td>web</td>\n",
       "      <td>$3.2M</td>\n",
       "      <td>2006</td>\n",
       "      <td>{'type': 'Point', 'coordinates': [17.08881, -9...</td>\n",
       "      <td>outside</td>\n",
       "      <td>no</td>\n",
       "      <td>0</td>\n",
       "      <td>[New Mexico High School General, {'lat': 17.08...</td>\n",
       "      <td>20</td>\n",
       "      <td>[La Rinconada, {'lat': 17.0957441, 'lng': -96....</td>\n",
       "      <td>15</td>\n",
       "      <td>[Taxi Tour Valle de Oaxaca Antequera, {'lat': ...</td>\n",
       "      <td>2</td>\n",
       "      <td>[Annona Pan Integral, {'lat': 17.0931677, 'lng...</td>\n",
       "      <td>2</td>\n",
       "    </tr>\n",
       "    <tr>\n",
       "      <td>738</td>\n",
       "      <td>TromsÃ¸</td>\n",
       "      <td>NOR</td>\n",
       "      <td>69.636216</td>\n",
       "      <td>18.931062</td>\n",
       "      <td>Playfish</td>\n",
       "      <td>games_video</td>\n",
       "      <td>$21M</td>\n",
       "      <td>2007</td>\n",
       "      <td>{'type': 'Point', 'coordinates': [69.636216, 1...</td>\n",
       "      <td>outside</td>\n",
       "      <td>no</td>\n",
       "      <td>0</td>\n",
       "      <td>[Kongsbakken Upper Secondary School, {'lat': 6...</td>\n",
       "      <td>15</td>\n",
       "      <td>[Rorbua Pub, {'lat': 69.6489929, 'lng': 18.961...</td>\n",
       "      <td>20</td>\n",
       "      <td>[The Arctic Route, {'lat': 69.6486448, 'lng': ...</td>\n",
       "      <td>13</td>\n",
       "      <td>[Tromso Kaffebrenneri - Veita, {'lat': 69.6519...</td>\n",
       "      <td>20</td>\n",
       "    </tr>\n",
       "    <tr>\n",
       "      <td>1171</td>\n",
       "      <td>Dhanmondi</td>\n",
       "      <td>BGD</td>\n",
       "      <td>23.743156</td>\n",
       "      <td>90.379976</td>\n",
       "      <td>Code71</td>\n",
       "      <td>software</td>\n",
       "      <td>$1M</td>\n",
       "      <td>2006</td>\n",
       "      <td>{'type': 'Point', 'coordinates': [23.743156, 9...</td>\n",
       "      <td>outside</td>\n",
       "      <td>no</td>\n",
       "      <td>0</td>\n",
       "      <td>[Mohammadpur Preparatory School &amp; College, {'l...</td>\n",
       "      <td>20</td>\n",
       "      <td>[Chalet Bar &amp; Restaurant, {'lat': 23.7444123, ...</td>\n",
       "      <td>20</td>\n",
       "      <td>[Helipad, {'lat': 23.7541347, 'lng': 90.400074...</td>\n",
       "      <td>4</td>\n",
       "      <td>[Santoor Restaurant, {'lat': 23.7518678, 'lng'...</td>\n",
       "      <td>14</td>\n",
       "    </tr>\n",
       "    <tr>\n",
       "      <td>1247</td>\n",
       "      <td>Saskatoon</td>\n",
       "      <td>CAN</td>\n",
       "      <td>52.143886</td>\n",
       "      <td>-106.663456</td>\n",
       "      <td>MyFrontSteps</td>\n",
       "      <td>web</td>\n",
       "      <td>$3M</td>\n",
       "      <td>2008</td>\n",
       "      <td>{'type': 'Point', 'coordinates': [52.143886, -...</td>\n",
       "      <td>outside</td>\n",
       "      <td>[Starbucks, {'lat': 52.1315654, 'lng': -106.64...</td>\n",
       "      <td>6</td>\n",
       "      <td>[E. D. Feehan Catholic High School, {'lat': 52...</td>\n",
       "      <td>18</td>\n",
       "      <td>[Hudsons Saskatoon, {'lat': 52.1263771, 'lng':...</td>\n",
       "      <td>20</td>\n",
       "      <td>no</td>\n",
       "      <td>0</td>\n",
       "      <td>[The Karma - Conscious Café &amp; Eatery, {'lat': ...</td>\n",
       "      <td>20</td>\n",
       "    </tr>\n",
       "    <tr>\n",
       "      <td>1663</td>\n",
       "      <td>Tartu</td>\n",
       "      <td>USA</td>\n",
       "      <td>58.382054</td>\n",
       "      <td>26.731054</td>\n",
       "      <td>ZeroTurnaround</td>\n",
       "      <td>software</td>\n",
       "      <td>$2.7M</td>\n",
       "      <td>2007</td>\n",
       "      <td>{'type': 'Point', 'coordinates': [58.3820542, ...</td>\n",
       "      <td>outside</td>\n",
       "      <td>no</td>\n",
       "      <td>0</td>\n",
       "      <td>[Tartu International School MTÜ, {'lat': 58.37...</td>\n",
       "      <td>20</td>\n",
       "      <td>[Illegaard, {'lat': 58.379455, 'lng': 26.72237...</td>\n",
       "      <td>20</td>\n",
       "      <td>[VIRTA Charging Station, {'lat': 58.377787, 'l...</td>\n",
       "      <td>9</td>\n",
       "      <td>[Krempel Kohvik, {'lat': 58.3815493, 'lng': 26...</td>\n",
       "      <td>20</td>\n",
       "    </tr>\n",
       "    <tr>\n",
       "      <td>1973</td>\n",
       "      <td>Tartu</td>\n",
       "      <td>EST</td>\n",
       "      <td>58.375411</td>\n",
       "      <td>26.721221</td>\n",
       "      <td>Fortumo</td>\n",
       "      <td>mobile</td>\n",
       "      <td>$10M</td>\n",
       "      <td>2007</td>\n",
       "      <td>{'type': 'Point', 'coordinates': [58.3754107, ...</td>\n",
       "      <td>outside</td>\n",
       "      <td>no</td>\n",
       "      <td>0</td>\n",
       "      <td>[Tartu International School MTÜ, {'lat': 58.37...</td>\n",
       "      <td>20</td>\n",
       "      <td>[Illegaard, {'lat': 58.379455, 'lng': 26.72237...</td>\n",
       "      <td>20</td>\n",
       "      <td>[VIRTA Charging Station, {'lat': 58.377787, 'l...</td>\n",
       "      <td>9</td>\n",
       "      <td>[Krempel Kohvik, {'lat': 58.3815493, 'lng': 26...</td>\n",
       "      <td>20</td>\n",
       "    </tr>\n",
       "    <tr>\n",
       "      <td>2058</td>\n",
       "      <td>Abertillery, Gwent,</td>\n",
       "      <td>GBR</td>\n",
       "      <td>23.066066</td>\n",
       "      <td>-82.292780</td>\n",
       "      <td>Atraverda</td>\n",
       "      <td>cleantech</td>\n",
       "      <td>£16.6M</td>\n",
       "      <td>2005</td>\n",
       "      <td>{'type': 'Point', 'coordinates': [23.066066, -...</td>\n",
       "      <td>outside</td>\n",
       "      <td>no</td>\n",
       "      <td>0</td>\n",
       "      <td>no</td>\n",
       "      <td>0</td>\n",
       "      <td>[Pilar, {'lat': 23.0677356, 'lng': -82.2951503}]</td>\n",
       "      <td>1</td>\n",
       "      <td>no</td>\n",
       "      <td>0</td>\n",
       "      <td>[McCesar's, {'lat': 23.0518415, 'lng': -82.275...</td>\n",
       "      <td>1</td>\n",
       "    </tr>\n",
       "    <tr>\n",
       "      <td>2136</td>\n",
       "      <td>Perth</td>\n",
       "      <td>AUS</td>\n",
       "      <td>-31.978220</td>\n",
       "      <td>115.890840</td>\n",
       "      <td>HealthEngine</td>\n",
       "      <td>web</td>\n",
       "      <td>$10.4M</td>\n",
       "      <td>2007</td>\n",
       "      <td>{'type': 'Point', 'coordinates': [-31.97822, 1...</td>\n",
       "      <td>outside</td>\n",
       "      <td>no</td>\n",
       "      <td>0</td>\n",
       "      <td>[St Clare's School, {'lat': -31.9712183, 'lng'...</td>\n",
       "      <td>20</td>\n",
       "      <td>[Plain Street Bar, {'lat': -31.96118019999999,...</td>\n",
       "      <td>20</td>\n",
       "      <td>[Find Airport Transfer, {'lat': -31.9604702, '...</td>\n",
       "      <td>1</td>\n",
       "      <td>[Loving Hut Victoria Park, {'lat': -31.9738044...</td>\n",
       "      <td>17</td>\n",
       "    </tr>\n",
       "    <tr>\n",
       "      <td>2522</td>\n",
       "      <td>Saskatoon</td>\n",
       "      <td>CAN</td>\n",
       "      <td>52.143886</td>\n",
       "      <td>-106.663456</td>\n",
       "      <td>VendAsta</td>\n",
       "      <td>software</td>\n",
       "      <td>C$11.3M</td>\n",
       "      <td>2008</td>\n",
       "      <td>{'type': 'Point', 'coordinates': [52.143886, -...</td>\n",
       "      <td>outside</td>\n",
       "      <td>[Starbucks, {'lat': 52.1315654, 'lng': -106.64...</td>\n",
       "      <td>6</td>\n",
       "      <td>[E. D. Feehan Catholic High School, {'lat': 52...</td>\n",
       "      <td>18</td>\n",
       "      <td>[Hudsons Saskatoon, {'lat': 52.1263771, 'lng':...</td>\n",
       "      <td>20</td>\n",
       "      <td>no</td>\n",
       "      <td>0</td>\n",
       "      <td>[The Karma - Conscious Café &amp; Eatery, {'lat': ...</td>\n",
       "      <td>20</td>\n",
       "    </tr>\n",
       "  </tbody>\n",
       "</table>\n",
       "</div>"
      ],
      "text/plain": [
       "                     city country_code   latitude   longitude            name  \\\n",
       "173                  None          ISR  17.088810  -96.764920       Sportingo   \n",
       "738               TromsÃ¸          NOR  69.636216   18.931062        Playfish   \n",
       "1171            Dhanmondi          BGD  23.743156   90.379976          Code71   \n",
       "1247            Saskatoon          CAN  52.143886 -106.663456    MyFrontSteps   \n",
       "1663                Tartu          USA  58.382054   26.731054  ZeroTurnaround   \n",
       "1973                Tartu          EST  58.375411   26.721221         Fortumo   \n",
       "2058  Abertillery, Gwent,          GBR  23.066066  -82.292780       Atraverda   \n",
       "2136                Perth          AUS -31.978220  115.890840    HealthEngine   \n",
       "2522            Saskatoon          CAN  52.143886 -106.663456        VendAsta   \n",
       "\n",
       "     category_code total_money_raised founded_year  \\\n",
       "173            web              $3.2M         2006   \n",
       "738    games_video               $21M         2007   \n",
       "1171      software                $1M         2006   \n",
       "1247           web                $3M         2008   \n",
       "1663      software              $2.7M         2007   \n",
       "1973        mobile               $10M         2007   \n",
       "2058     cleantech             £16.6M         2005   \n",
       "2136           web             $10.4M         2007   \n",
       "2522      software            C$11.3M         2008   \n",
       "\n",
       "                                            coordinates    check  \\\n",
       "173   {'type': 'Point', 'coordinates': [17.08881, -9...  outside   \n",
       "738   {'type': 'Point', 'coordinates': [69.636216, 1...  outside   \n",
       "1171  {'type': 'Point', 'coordinates': [23.743156, 9...  outside   \n",
       "1247  {'type': 'Point', 'coordinates': [52.143886, -...  outside   \n",
       "1663  {'type': 'Point', 'coordinates': [58.3820542, ...  outside   \n",
       "1973  {'type': 'Point', 'coordinates': [58.3754107, ...  outside   \n",
       "2058  {'type': 'Point', 'coordinates': [23.066066, -...  outside   \n",
       "2136  {'type': 'Point', 'coordinates': [-31.97822, 1...  outside   \n",
       "2522  {'type': 'Point', 'coordinates': [52.143886, -...  outside   \n",
       "\n",
       "                                              starbucks  starbucks_count  \\\n",
       "173                                                  no                0   \n",
       "738                                                  no                0   \n",
       "1171                                                 no                0   \n",
       "1247  [Starbucks, {'lat': 52.1315654, 'lng': -106.64...                6   \n",
       "1663                                                 no                0   \n",
       "1973                                                 no                0   \n",
       "2058                                                 no                0   \n",
       "2136                                                 no                0   \n",
       "2522  [Starbucks, {'lat': 52.1315654, 'lng': -106.64...                6   \n",
       "\n",
       "                                                schools  schools_count  \\\n",
       "173   [New Mexico High School General, {'lat': 17.08...             20   \n",
       "738   [Kongsbakken Upper Secondary School, {'lat': 6...             15   \n",
       "1171  [Mohammadpur Preparatory School & College, {'l...             20   \n",
       "1247  [E. D. Feehan Catholic High School, {'lat': 52...             18   \n",
       "1663  [Tartu International School MTÜ, {'lat': 58.37...             20   \n",
       "1973  [Tartu International School MTÜ, {'lat': 58.37...             20   \n",
       "2058                                                 no              0   \n",
       "2136  [St Clare's School, {'lat': -31.9712183, 'lng'...             20   \n",
       "2522  [E. D. Feehan Catholic High School, {'lat': 52...             18   \n",
       "\n",
       "                                                   bars  bars_count  \\\n",
       "173   [La Rinconada, {'lat': 17.0957441, 'lng': -96....          15   \n",
       "738   [Rorbua Pub, {'lat': 69.6489929, 'lng': 18.961...          20   \n",
       "1171  [Chalet Bar & Restaurant, {'lat': 23.7444123, ...          20   \n",
       "1247  [Hudsons Saskatoon, {'lat': 52.1263771, 'lng':...          20   \n",
       "1663  [Illegaard, {'lat': 58.379455, 'lng': 26.72237...          20   \n",
       "1973  [Illegaard, {'lat': 58.379455, 'lng': 26.72237...          20   \n",
       "2058   [Pilar, {'lat': 23.0677356, 'lng': -82.2951503}]           1   \n",
       "2136  [Plain Street Bar, {'lat': -31.96118019999999,...          20   \n",
       "2522  [Hudsons Saskatoon, {'lat': 52.1263771, 'lng':...          20   \n",
       "\n",
       "                                               airports  airports_count  \\\n",
       "173   [Taxi Tour Valle de Oaxaca Antequera, {'lat': ...               2   \n",
       "738   [The Arctic Route, {'lat': 69.6486448, 'lng': ...              13   \n",
       "1171  [Helipad, {'lat': 23.7541347, 'lng': 90.400074...               4   \n",
       "1247                                                 no               0   \n",
       "1663  [VIRTA Charging Station, {'lat': 58.377787, 'l...               9   \n",
       "1973  [VIRTA Charging Station, {'lat': 58.377787, 'l...               9   \n",
       "2058                                                 no               0   \n",
       "2136  [Find Airport Transfer, {'lat': -31.9604702, '...               1   \n",
       "2522                                                 no               0   \n",
       "\n",
       "                                                  vegan  vegan_count  \n",
       "173   [Annona Pan Integral, {'lat': 17.0931677, 'lng...            2  \n",
       "738   [Tromso Kaffebrenneri - Veita, {'lat': 69.6519...           20  \n",
       "1171  [Santoor Restaurant, {'lat': 23.7518678, 'lng'...           14  \n",
       "1247  [The Karma - Conscious Café & Eatery, {'lat': ...           20  \n",
       "1663  [Krempel Kohvik, {'lat': 58.3815493, 'lng': 26...           20  \n",
       "1973  [Krempel Kohvik, {'lat': 58.3815493, 'lng': 26...           20  \n",
       "2058  [McCesar's, {'lat': 23.0518415, 'lng': -82.275...            1  \n",
       "2136  [Loving Hut Victoria Park, {'lat': -31.9738044...           17  \n",
       "2522  [The Karma - Conscious Café & Eatery, {'lat': ...           20  "
      ]
     },
     "execution_count": 25,
     "metadata": {},
     "output_type": "execute_result"
    }
   ],
   "source": [
    "df_clean"
   ]
  },
  {
   "cell_type": "code",
   "execution_count": 26,
   "metadata": {},
   "outputs": [],
   "source": [
    "export_df_clean = df_clean.to_csv('OUTPUT/df_final.csv', index=None, header=True)"
   ]
  },
  {
   "cell_type": "markdown",
   "metadata": {},
   "source": [
    "Once you have seen the different options, choose the perfect location for you\n",
    "hint: location = rowIndex"
   ]
  },
  {
   "cell_type": "code",
   "execution_count": 27,
   "metadata": {
    "scrolled": true
   },
   "outputs": [
    {
     "name": "stdout",
     "output_type": "stream",
     "text": [
      "Select the row: 3\n"
     ]
    }
   ],
   "source": [
    "row_index = input(\"Select the row: \")"
   ]
  },
  {
   "cell_type": "code",
   "execution_count": 28,
   "metadata": {
    "scrolled": true
   },
   "outputs": [],
   "source": [
    "#cleaning places\n",
    "index = int(row_index)\n",
    "\n",
    "starbucks = [e for e in df_clean.starbucks][index]\n",
    "schools = [e for e in df_clean.schools][index]\n",
    "bars = [e for e in df_clean.bars][index]\n",
    "stations = [e for e in df_clean.airports][index]\n",
    "vegan = [e for e in df_clean.vegan][index]"
   ]
  },
  {
   "cell_type": "code",
   "execution_count": 29,
   "metadata": {},
   "outputs": [],
   "source": [
    "#getting correct final coords\n",
    "coords_ok = df_clean.iloc[[index],[0,2,3]]\n",
    "\n",
    "starbucks_ok = starbucksOK(starbucks)\n",
    "schools_ok = schoolsOK(schools)\n",
    "bars_ok = barsOK(bars)\n",
    "stations_ok = stationsOK(stations)\n",
    "vegan_ok = veganOK(vegan)"
   ]
  },
  {
   "cell_type": "markdown",
   "metadata": {},
   "source": [
    "# Map"
   ]
  },
  {
   "cell_type": "code",
   "execution_count": 30,
   "metadata": {
    "scrolled": false
   },
   "outputs": [
    {
     "name": "stdout",
     "output_type": "stream",
     "text": [
      "User Guide: https://github.com/keplergl/kepler.gl/blob/master/docs/keplergl-jupyter/user-guide.md\n"
     ]
    },
    {
     "data": {
      "application/vnd.jupyter.widget-view+json": {
       "model_id": "0a7f9af1ed9541b3883bc690ef176653",
       "version_major": 2,
       "version_minor": 0
      },
      "text/plain": [
       "KeplerGl(config={'version': 'v1', 'config': {'visState': {'filters': [], 'layers': [{'id': '3kjv467', 'type': …"
      ]
     },
     "metadata": {},
     "output_type": "display_data"
    }
   ],
   "source": [
    "#loading map config\n",
    "%run src/hex_config.py\n",
    "\n",
    "map_1 = KeplerGl(height=500, config=config)\n",
    "map_1.add_data(data=coords_ok, name=\"Final Location\")\n",
    "\n",
    "map_1.add_data(data=starbucks_ok, name=\"starbucks\")\n",
    "map_1.add_data(data=schools_ok, name=\"schools\")\n",
    "map_1.add_data(data=bars_ok, name=\"bars\")\n",
    "map_1.add_data(data=stations_ok, name=\"stations\")\n",
    "map_1.add_data(data=vegan_ok, name=\"vegan\")\n",
    "\n",
    "map_1"
   ]
  },
  {
   "cell_type": "code",
   "execution_count": 31,
   "metadata": {},
   "outputs": [],
   "source": [
    "#saving map config\n",
    "config = map_1.config\n",
    "with open('src/hex_config.py', 'w') as f:\n",
    "    f.write('config = {}'.format(map_1.config))"
   ]
  },
  {
   "cell_type": "code",
   "execution_count": 32,
   "metadata": {},
   "outputs": [
    {
     "name": "stdout",
     "output_type": "stream",
     "text": [
      "Map saved to OUTPUT/first_map.html!\n"
     ]
    }
   ],
   "source": [
    "#saving map as html\n",
    "map_1.save_to_html(config=config, file_name='OUTPUT/first_map.html')"
   ]
  }
 ],
 "metadata": {
  "kernelspec": {
   "display_name": "Python 3",
   "language": "python",
   "name": "python3"
  },
  "language_info": {
   "codemirror_mode": {
    "name": "ipython",
    "version": 3
   },
   "file_extension": ".py",
   "mimetype": "text/x-python",
   "name": "python",
   "nbconvert_exporter": "python",
   "pygments_lexer": "ipython3",
   "version": "3.7.4"
  },
  "widgets": {
   "application/vnd.jupyter.widget-state+json": {
    "state": {
     "05ae9b417423479baac36147ed512eb4": {
      "model_module": "@jupyter-widgets/base",
      "model_module_version": "1.2.0",
      "model_name": "LayoutModel",
      "state": {}
     },
     "05cb8cf221194cd8953b88d0ee64fcee": {
      "model_module": "keplergl-jupyter",
      "model_module_version": "^0.1.0",
      "model_name": "KeplerGlModal",
      "state": {
       "_model_module_version": "^0.1.0",
       "_view_module_version": "^0.1.0",
       "config": {
        "config": {
         "mapState": {
          "bearing": 24,
          "dragRotate": true,
          "isSplit": false,
          "latitude": 52.136511023675574,
          "longitude": -106.67198425759962,
          "pitch": 50,
          "zoom": 13.04262880832321
         },
         "mapStyle": {
          "mapStyles": {},
          "styleType": "dark",
          "threeDBuildingColor": [
           9.665468314072013,
           17.18305478057247,
           31.1442867897876
          ],
          "topLayerGroups": {},
          "visibleLayerGroups": {
           "3d building": true,
           "border": false,
           "building": true,
           "label": true,
           "land": true,
           "road": true,
           "water": true
          }
         },
         "visState": {
          "animationConfig": {
           "currentTime": null,
           "speed": 1
          },
          "filters": [],
          "interactionConfig": {
           "brush": {
            "enabled": false,
            "size": 0.5
           },
           "tooltip": {
            "enabled": true,
            "fieldsToShow": {
             "Final Location": [
              "city"
             ],
             "bars": [
              "place"
             ],
             "schools": [
              "place"
             ],
             "starbucks": [
              "place"
             ],
             "vegan": [
              "place"
             ]
            }
           }
          },
          "layerBlending": "normal",
          "layers": [
           {
            "config": {
             "color": [
              136,
              87,
              44
             ],
             "columns": {
              "altitude": null,
              "lat": "latitude",
              "lng": "longitude"
             },
             "dataId": "Final Location",
             "isVisible": true,
             "label": "City",
             "textLabel": [
              {
               "alignment": "center",
               "anchor": "start",
               "color": [
                255,
                255,
                255
               ],
               "field": {
                "name": "city",
                "type": "string"
               },
               "offset": [
                0,
                0
               ],
               "size": 18
              }
             ],
             "visConfig": {
              "colorRange": {
               "category": "Uber",
               "colors": [
                "#5A1846",
                "#900C3F",
                "#C70039",
                "#E3611C",
                "#F1920E",
                "#FFC300"
               ],
               "name": "Global Warming",
               "type": "sequential"
              },
              "filled": true,
              "fixedRadius": false,
              "opacity": 0.8,
              "outline": false,
              "radius": 34.7,
              "radiusRange": [
               0,
               50
              ],
              "strokeColor": null,
              "strokeColorRange": {
               "category": "Uber",
               "colors": [
                "#5A1846",
                "#900C3F",
                "#C70039",
                "#E3611C",
                "#F1920E",
                "#FFC300"
               ],
               "name": "Global Warming",
               "type": "sequential"
              },
              "thickness": 2
             }
            },
            "id": "d35u2nb",
            "type": "point",
            "visualChannels": {
             "colorField": null,
             "colorScale": "quantile",
             "sizeField": null,
             "sizeScale": "linear",
             "strokeColorField": null,
             "strokeColorScale": "quantile"
            }
           },
           {
            "config": {
             "color": [
              255,
              153,
              31
             ],
             "columns": {
              "altitude": null,
              "lat": "latitude",
              "lng": "longitude"
             },
             "dataId": "starbucks",
             "isVisible": true,
             "label": "Starbucks",
             "textLabel": [
              {
               "alignment": "center",
               "anchor": "start",
               "color": [
                255,
                255,
                255
               ],
               "field": null,
               "offset": [
                0,
                0
               ],
               "size": 18
              }
             ],
             "visConfig": {
              "colorRange": {
               "category": "Uber",
               "colors": [
                "#5A1846",
                "#900C3F",
                "#C70039",
                "#E3611C",
                "#F1920E",
                "#FFC300"
               ],
               "name": "Global Warming",
               "type": "sequential"
              },
              "filled": true,
              "fixedRadius": false,
              "opacity": 0.8,
              "outline": false,
              "radius": 10,
              "radiusRange": [
               0,
               50
              ],
              "strokeColor": null,
              "strokeColorRange": {
               "category": "Uber",
               "colors": [
                "#5A1846",
                "#900C3F",
                "#C70039",
                "#E3611C",
                "#F1920E",
                "#FFC300"
               ],
               "name": "Global Warming",
               "type": "sequential"
              },
              "thickness": 2
             }
            },
            "id": "s11vhl",
            "type": "point",
            "visualChannels": {
             "colorField": null,
             "colorScale": "quantile",
             "sizeField": null,
             "sizeScale": "linear",
             "strokeColorField": null,
             "strokeColorScale": "quantile"
            }
           },
           {
            "config": {
             "color": [
              241,
              92,
              23
             ],
             "columns": {
              "altitude": null,
              "lat": "latitude",
              "lng": "longitude"
             },
             "dataId": "schools",
             "isVisible": true,
             "label": "Schools",
             "textLabel": [
              {
               "alignment": "center",
               "anchor": "start",
               "color": [
                255,
                255,
                255
               ],
               "field": null,
               "offset": [
                0,
                0
               ],
               "size": 18
              }
             ],
             "visConfig": {
              "colorRange": {
               "category": "Uber",
               "colors": [
                "#5A1846",
                "#900C3F",
                "#C70039",
                "#E3611C",
                "#F1920E",
                "#FFC300"
               ],
               "name": "Global Warming",
               "type": "sequential"
              },
              "filled": true,
              "fixedRadius": false,
              "opacity": 0.8,
              "outline": false,
              "radius": 10,
              "radiusRange": [
               0,
               50
              ],
              "strokeColor": null,
              "strokeColorRange": {
               "category": "Uber",
               "colors": [
                "#5A1846",
                "#900C3F",
                "#C70039",
                "#E3611C",
                "#F1920E",
                "#FFC300"
               ],
               "name": "Global Warming",
               "type": "sequential"
              },
              "thickness": 2
             }
            },
            "id": "nqnauv4",
            "type": "point",
            "visualChannels": {
             "colorField": null,
             "colorScale": "quantile",
             "sizeField": null,
             "sizeScale": "linear",
             "strokeColorField": null,
             "strokeColorScale": "quantile"
            }
           },
           {
            "config": {
             "color": [
              34,
              63,
              154
             ],
             "columns": {
              "altitude": null,
              "lat": "latitude",
              "lng": "longitude"
             },
             "dataId": "bars",
             "isVisible": true,
             "label": "Bars",
             "textLabel": [
              {
               "alignment": "center",
               "anchor": "start",
               "color": [
                255,
                255,
                255
               ],
               "field": null,
               "offset": [
                0,
                0
               ],
               "size": 18
              }
             ],
             "visConfig": {
              "colorRange": {
               "category": "Uber",
               "colors": [
                "#5A1846",
                "#900C3F",
                "#C70039",
                "#E3611C",
                "#F1920E",
                "#FFC300"
               ],
               "name": "Global Warming",
               "type": "sequential"
              },
              "filled": true,
              "fixedRadius": false,
              "opacity": 0.8,
              "outline": false,
              "radius": 10,
              "radiusRange": [
               0,
               50
              ],
              "strokeColor": null,
              "strokeColorRange": {
               "category": "Uber",
               "colors": [
                "#5A1846",
                "#900C3F",
                "#C70039",
                "#E3611C",
                "#F1920E",
                "#FFC300"
               ],
               "name": "Global Warming",
               "type": "sequential"
              },
              "thickness": 2
             }
            },
            "id": "7feug5p",
            "type": "point",
            "visualChannels": {
             "colorField": null,
             "colorScale": "quantile",
             "sizeField": null,
             "sizeScale": "linear",
             "strokeColorField": null,
             "strokeColorScale": "quantile"
            }
           },
           {
            "config": {
             "color": [
              218,
              112,
              191
             ],
             "columns": {
              "altitude": null,
              "lat": "latitude",
              "lng": "longitude"
             },
             "dataId": "vegan",
             "isVisible": true,
             "label": "Vegan Restaurants",
             "textLabel": [
              {
               "alignment": "center",
               "anchor": "start",
               "color": [
                255,
                255,
                255
               ],
               "field": null,
               "offset": [
                0,
                0
               ],
               "size": 18
              }
             ],
             "visConfig": {
              "colorRange": {
               "category": "Uber",
               "colors": [
                "#5A1846",
                "#900C3F",
                "#C70039",
                "#E3611C",
                "#F1920E",
                "#FFC300"
               ],
               "name": "Global Warming",
               "type": "sequential"
              },
              "filled": true,
              "fixedRadius": false,
              "opacity": 0.8,
              "outline": false,
              "radius": 10,
              "radiusRange": [
               0,
               50
              ],
              "strokeColor": null,
              "strokeColorRange": {
               "category": "Uber",
               "colors": [
                "#5A1846",
                "#900C3F",
                "#C70039",
                "#E3611C",
                "#F1920E",
                "#FFC300"
               ],
               "name": "Global Warming",
               "type": "sequential"
              },
              "thickness": 2
             }
            },
            "id": "dnt6b8",
            "type": "point",
            "visualChannels": {
             "colorField": null,
             "colorScale": "quantile",
             "sizeField": null,
             "sizeScale": "linear",
             "strokeColorField": null,
             "strokeColorScale": "quantile"
            }
           }
          ],
          "splitMaps": []
         }
        },
        "version": "v1"
       },
       "data": {
        "Final Location": {
         "columns": [
          "city",
          "latitude",
          "longitude"
         ],
         "data": [
          [
           "Saskatoon",
           52.143886,
           -106.6634565
          ]
         ],
         "index": [
          1247
         ]
        },
        "bars": {
         "columns": [
          "place",
          "latitude",
          "longitude"
         ],
         "data": [
          [
           "Hudsons Saskatoon",
           52.1263771,
           -106.6609726
          ],
          [
           "Winston's English Pub & Grill",
           52.1268,
           -106.6634549
          ],
          [
           "Cathedral Social Hall",
           52.1267709,
           -106.6594192
          ],
          [
           "Congress Beer House",
           52.126907,
           -106.665293
          ],
          [
           "The Rook & Raven Pub",
           52.127713,
           -106.664077
          ],
          [
           "Red Zone Sports Bar",
           52.1588691,
           -106.6722458
          ],
          [
           "Shark Club Sports Bar & Grill",
           52.1583653,
           -106.6741767
          ],
          [
           "Outlaws Country Rock Bar",
           52.1367803,
           -106.6699082
          ],
          [
           "Fox & Hounds Pub & Brewery",
           52.1597333,
           -106.6456222
          ],
          [
           "Melody Bar",
           52.1260428,
           -106.6634974
          ],
          [
           "Flint",
           52.1261472,
           -106.665375
          ],
          [
           "Dogg House",
           52.1499573,
           -106.6707325
          ],
          [
           "Bartari",
           52.126025,
           -106.6771944
          ],
          [
           "Louis'",
           52.1299684,
           -106.6352134
          ],
          [
           "The Riv Bar",
           52.1575808,
           -106.6722375
          ],
          [
           "Birmingham's Vodka and Ale House Saskatoon",
           52.15898499999999,
           -106.6507974
          ],
          [
           "Manchester Brew Pub",
           52.14404099999999,
           -106.670908
          ],
          [
           "Divas Nightclub",
           52.126377,
           -106.662583
          ],
          [
           "Finns Irish Pub",
           52.13173399999999,
           -106.6525952
          ],
          [
           "Taverna Italian Kitchen + Bar",
           52.1268818,
           -106.663954
          ]
         ],
         "index": [
          0,
          1,
          2,
          3,
          4,
          5,
          6,
          7,
          8,
          9,
          10,
          11,
          12,
          13,
          14,
          15,
          16,
          17,
          18,
          19
         ]
        },
        "schools": {
         "columns": [
          "place",
          "latitude",
          "longitude"
         ],
         "data": [
          [
           "E. D. Feehan Catholic High School",
           52.13405299999999,
           -106.6890684
          ],
          [
           "Westmount Community School",
           52.1338815,
           -106.6848947
          ],
          [
           "Caswell Community School",
           52.1388107,
           -106.6722033
          ],
          [
           "City Park Collegiate",
           52.139676,
           -106.648072
          ],
          [
           "Mayfair Community School",
           52.146272,
           -106.676687
          ],
          [
           "North Park Wilson School",
           52.1479045,
           -106.6498186
          ],
          [
           "École St. Paul Elementary School",
           52.147756,
           -106.6454079
          ],
          [
           "Princess Alexandra Community School",
           52.12807979999999,
           -106.6810388
          ],
          [
           "École Henry Kelsey School",
           52.14479979999999,
           -106.6882793
          ],
          [
           "Bedford Road Collegiate",
           52.133737,
           -106.6810117
          ],
          [
           "Brunskill School",
           52.1248623,
           -106.6385865
          ],
          [
           "École River Heights School",
           52.1636139,
           -106.6344305
          ],
          [
           "Flex ED School",
           52.1494159,
           -106.6675388
          ],
          [
           "St. Maria Goretti Community School",
           52.1325916,
           -106.6963512
          ],
          [
           "St. Edward School",
           52.1405373,
           -106.693808
          ],
          [
           "St. Mary's Wellness & Education Centre",
           52.1249032,
           -106.6908406
          ],
          [
           "Newcomer Student Centre - Saskatoon Public Schools",
           52.1270164,
           -106.6623526
          ],
          [
           "Post-Secondary Education & Skills Training",
           52.12864039999999,
           -106.6651608
          ]
         ],
         "index": [
          0,
          1,
          2,
          3,
          4,
          5,
          6,
          7,
          8,
          9,
          10,
          11,
          12,
          13,
          14,
          15,
          16,
          17
         ]
        },
        "starbucks": {
         "columns": [
          "place",
          "latitude",
          "longitude"
         ],
         "data": [
          [
           "Starbucks",
           52.1315654,
           -106.6409981
          ],
          [
           "Starbucks",
           52.1285414,
           -106.6636211
          ],
          [
           "Starbucks",
           52.1311913,
           -106.6369734
          ],
          [
           "Starbucks",
           52.1276455,
           -106.6664984
          ],
          [
           "Starbucks",
           52.1475915,
           -106.670829
          ],
          [
           "Starbucks",
           52.1584278,
           -106.6636507
          ]
         ],
         "index": [
          0,
          1,
          2,
          3,
          4,
          5
         ]
        },
        "stations": "no",
        "vegan": {
         "columns": [
          "place",
          "latitude",
          "longitude"
         ],
         "data": [
          [
           "The Karma - Conscious Café & Eatery",
           52.130243,
           -106.6633351
          ],
          [
           "Yay! Thai",
           52.1277832,
           -106.664059
          ],
          [
           "The Griffin Takeaway",
           52.1393225,
           -106.6526751
          ],
          [
           "Seasoned Fusion Tastes",
           52.127114,
           -106.6633115
          ],
          [
           "Leyda's Cafe",
           52.12624,
           -106.6707697
          ],
          [
           "Odd Couple Restaurant",
           52.126256,
           -106.6728275
          ],
          [
           "Pizza Pirates",
           52.1295711,
           -106.6930952
          ],
          [
           "Hometown Diner",
           52.1262749,
           -106.6723029
          ],
          [
           "Poached Breakfast Bistro",
           52.1261444,
           -106.665375
          ],
          [
           "Cactus Club Cafe Idylwyld Drive",
           52.1276583,
           -106.669775
          ],
          [
           "Spicy Bite",
           52.1278988,
           -106.6629386
          ],
          [
           "Picaro Cocktails & Tacos",
           52.125685,
           -106.6704665
          ],
          [
           "Freshii",
           52.1277167,
           -106.6645874
          ],
          [
           "Flanagan's Steakhouse",
           52.1267045,
           -106.6635229
          ],
          [
           "Genesis Family Restaurant",
           52.128916,
           -106.6834179
          ],
          [
           "Season's Cafe & Eatery",
           52.15499579999999,
           -106.6848518
          ],
          [
           "Saba's African Cuisine",
           52.1290207,
           -106.6830997
          ],
          [
           "Earls Kitchen + Bar - Takeout & Delivery",
           52.136891,
           -106.659574
          ],
          [
           "Taverna Italian Kitchen + Bar",
           52.1268818,
           -106.663954
          ],
          [
           "The Rook & Raven Pub",
           52.127713,
           -106.664077
          ]
         ],
         "index": [
          0,
          1,
          2,
          3,
          4,
          5,
          6,
          7,
          8,
          9,
          10,
          11,
          12,
          13,
          14,
          15,
          16,
          17,
          18,
          19
         ]
        }
       },
       "height": 500,
       "layout": "IPY_MODEL_1bd0a99c97454092bab1265eb88017cc",
       "value": "Hello World!"
      }
     },
     "065f29a3bbf64df8a0b6ff1b56efb6b6": {
      "model_module": "keplergl-jupyter",
      "model_module_version": "^0.1.0",
      "model_name": "KeplerGlModal",
      "state": {
       "_model_module_version": "^0.1.0",
       "_view_module_version": "^0.1.0",
       "config": {
        "config": {
         "mapState": {
          "bearing": 24,
          "dragRotate": true,
          "isSplit": false,
          "latitude": 52.136511023675574,
          "longitude": -106.67198425759962,
          "pitch": 50,
          "zoom": 13.04262880832321
         },
         "mapStyle": {
          "mapStyles": {},
          "styleType": "dark",
          "threeDBuildingColor": [
           9.665468314072013,
           17.18305478057247,
           31.1442867897876
          ],
          "topLayerGroups": {},
          "visibleLayerGroups": {
           "3d building": true,
           "border": false,
           "building": true,
           "label": true,
           "land": true,
           "road": true,
           "water": true
          }
         },
         "visState": {
          "animationConfig": {
           "currentTime": null,
           "speed": 1
          },
          "filters": [],
          "interactionConfig": {
           "brush": {
            "enabled": false,
            "size": 0.5
           },
           "tooltip": {
            "enabled": true,
            "fieldsToShow": {
             "Final Location": [
              "city"
             ],
             "bars": [
              "place"
             ],
             "schools": [
              "place"
             ],
             "starbucks": [
              "place"
             ],
             "vegan": [
              "place"
             ]
            }
           }
          },
          "layerBlending": "normal",
          "layers": [
           {
            "config": {
             "color": [
              136,
              87,
              44
             ],
             "columns": {
              "altitude": null,
              "lat": "latitude",
              "lng": "longitude"
             },
             "dataId": "Final Location",
             "isVisible": true,
             "label": "City",
             "textLabel": [
              {
               "alignment": "center",
               "anchor": "start",
               "color": [
                255,
                255,
                255
               ],
               "field": {
                "name": "city",
                "type": "string"
               },
               "offset": [
                0,
                0
               ],
               "size": 18
              }
             ],
             "visConfig": {
              "colorRange": {
               "category": "Uber",
               "colors": [
                "#5A1846",
                "#900C3F",
                "#C70039",
                "#E3611C",
                "#F1920E",
                "#FFC300"
               ],
               "name": "Global Warming",
               "type": "sequential"
              },
              "filled": true,
              "fixedRadius": false,
              "opacity": 0.8,
              "outline": false,
              "radius": 34.7,
              "radiusRange": [
               0,
               50
              ],
              "strokeColor": null,
              "strokeColorRange": {
               "category": "Uber",
               "colors": [
                "#5A1846",
                "#900C3F",
                "#C70039",
                "#E3611C",
                "#F1920E",
                "#FFC300"
               ],
               "name": "Global Warming",
               "type": "sequential"
              },
              "thickness": 2
             }
            },
            "id": "d35u2nb",
            "type": "point",
            "visualChannels": {
             "colorField": null,
             "colorScale": "quantile",
             "sizeField": null,
             "sizeScale": "linear",
             "strokeColorField": null,
             "strokeColorScale": "quantile"
            }
           },
           {
            "config": {
             "color": [
              255,
              153,
              31
             ],
             "columns": {
              "altitude": null,
              "lat": "latitude",
              "lng": "longitude"
             },
             "dataId": "starbucks",
             "isVisible": true,
             "label": "Starbucks",
             "textLabel": [
              {
               "alignment": "center",
               "anchor": "start",
               "color": [
                255,
                255,
                255
               ],
               "field": null,
               "offset": [
                0,
                0
               ],
               "size": 18
              }
             ],
             "visConfig": {
              "colorRange": {
               "category": "Uber",
               "colors": [
                "#5A1846",
                "#900C3F",
                "#C70039",
                "#E3611C",
                "#F1920E",
                "#FFC300"
               ],
               "name": "Global Warming",
               "type": "sequential"
              },
              "filled": true,
              "fixedRadius": false,
              "opacity": 0.8,
              "outline": false,
              "radius": 10,
              "radiusRange": [
               0,
               50
              ],
              "strokeColor": null,
              "strokeColorRange": {
               "category": "Uber",
               "colors": [
                "#5A1846",
                "#900C3F",
                "#C70039",
                "#E3611C",
                "#F1920E",
                "#FFC300"
               ],
               "name": "Global Warming",
               "type": "sequential"
              },
              "thickness": 2
             }
            },
            "id": "s11vhl",
            "type": "point",
            "visualChannels": {
             "colorField": null,
             "colorScale": "quantile",
             "sizeField": null,
             "sizeScale": "linear",
             "strokeColorField": null,
             "strokeColorScale": "quantile"
            }
           },
           {
            "config": {
             "color": [
              241,
              92,
              23
             ],
             "columns": {
              "altitude": null,
              "lat": "latitude",
              "lng": "longitude"
             },
             "dataId": "schools",
             "isVisible": true,
             "label": "Schools",
             "textLabel": [
              {
               "alignment": "center",
               "anchor": "start",
               "color": [
                255,
                255,
                255
               ],
               "field": null,
               "offset": [
                0,
                0
               ],
               "size": 18
              }
             ],
             "visConfig": {
              "colorRange": {
               "category": "Uber",
               "colors": [
                "#5A1846",
                "#900C3F",
                "#C70039",
                "#E3611C",
                "#F1920E",
                "#FFC300"
               ],
               "name": "Global Warming",
               "type": "sequential"
              },
              "filled": true,
              "fixedRadius": false,
              "opacity": 0.8,
              "outline": false,
              "radius": 10,
              "radiusRange": [
               0,
               50
              ],
              "strokeColor": null,
              "strokeColorRange": {
               "category": "Uber",
               "colors": [
                "#5A1846",
                "#900C3F",
                "#C70039",
                "#E3611C",
                "#F1920E",
                "#FFC300"
               ],
               "name": "Global Warming",
               "type": "sequential"
              },
              "thickness": 2
             }
            },
            "id": "nqnauv4",
            "type": "point",
            "visualChannels": {
             "colorField": null,
             "colorScale": "quantile",
             "sizeField": null,
             "sizeScale": "linear",
             "strokeColorField": null,
             "strokeColorScale": "quantile"
            }
           },
           {
            "config": {
             "color": [
              34,
              63,
              154
             ],
             "columns": {
              "altitude": null,
              "lat": "latitude",
              "lng": "longitude"
             },
             "dataId": "bars",
             "isVisible": true,
             "label": "Bars",
             "textLabel": [
              {
               "alignment": "center",
               "anchor": "start",
               "color": [
                255,
                255,
                255
               ],
               "field": null,
               "offset": [
                0,
                0
               ],
               "size": 18
              }
             ],
             "visConfig": {
              "colorRange": {
               "category": "Uber",
               "colors": [
                "#5A1846",
                "#900C3F",
                "#C70039",
                "#E3611C",
                "#F1920E",
                "#FFC300"
               ],
               "name": "Global Warming",
               "type": "sequential"
              },
              "filled": true,
              "fixedRadius": false,
              "opacity": 0.8,
              "outline": false,
              "radius": 10,
              "radiusRange": [
               0,
               50
              ],
              "strokeColor": null,
              "strokeColorRange": {
               "category": "Uber",
               "colors": [
                "#5A1846",
                "#900C3F",
                "#C70039",
                "#E3611C",
                "#F1920E",
                "#FFC300"
               ],
               "name": "Global Warming",
               "type": "sequential"
              },
              "thickness": 2
             }
            },
            "id": "7feug5p",
            "type": "point",
            "visualChannels": {
             "colorField": null,
             "colorScale": "quantile",
             "sizeField": null,
             "sizeScale": "linear",
             "strokeColorField": null,
             "strokeColorScale": "quantile"
            }
           },
           {
            "config": {
             "color": [
              218,
              112,
              191
             ],
             "columns": {
              "altitude": null,
              "lat": "latitude",
              "lng": "longitude"
             },
             "dataId": "vegan",
             "isVisible": true,
             "label": "Vegan Restaurants",
             "textLabel": [
              {
               "alignment": "center",
               "anchor": "start",
               "color": [
                255,
                255,
                255
               ],
               "field": null,
               "offset": [
                0,
                0
               ],
               "size": 18
              }
             ],
             "visConfig": {
              "colorRange": {
               "category": "Uber",
               "colors": [
                "#5A1846",
                "#900C3F",
                "#C70039",
                "#E3611C",
                "#F1920E",
                "#FFC300"
               ],
               "name": "Global Warming",
               "type": "sequential"
              },
              "filled": true,
              "fixedRadius": false,
              "opacity": 0.8,
              "outline": false,
              "radius": 10,
              "radiusRange": [
               0,
               50
              ],
              "strokeColor": null,
              "strokeColorRange": {
               "category": "Uber",
               "colors": [
                "#5A1846",
                "#900C3F",
                "#C70039",
                "#E3611C",
                "#F1920E",
                "#FFC300"
               ],
               "name": "Global Warming",
               "type": "sequential"
              },
              "thickness": 2
             }
            },
            "id": "dnt6b8",
            "type": "point",
            "visualChannels": {
             "colorField": null,
             "colorScale": "quantile",
             "sizeField": null,
             "sizeScale": "linear",
             "strokeColorField": null,
             "strokeColorScale": "quantile"
            }
           }
          ],
          "splitMaps": []
         }
        },
        "version": "v1"
       },
       "data": {
        "Final Location": {
         "columns": [
          "city",
          "latitude",
          "longitude"
         ],
         "data": [
          [
           "Saskatoon",
           52.143886,
           -106.6634565
          ]
         ],
         "index": [
          1247
         ]
        },
        "bars": {
         "columns": [
          "place",
          "latitude",
          "longitude"
         ],
         "data": [
          [
           "Hudsons Saskatoon",
           52.1263771,
           -106.6609726
          ],
          [
           "Winston's English Pub & Grill",
           52.1268,
           -106.6634549
          ],
          [
           "Cathedral Social Hall",
           52.1267709,
           -106.6594192
          ],
          [
           "Congress Beer House",
           52.126907,
           -106.665293
          ],
          [
           "The Rook & Raven Pub",
           52.127713,
           -106.664077
          ],
          [
           "Red Zone Sports Bar",
           52.1588691,
           -106.6722458
          ],
          [
           "Shark Club Sports Bar & Grill",
           52.1583653,
           -106.6741767
          ],
          [
           "Outlaws Country Rock Bar",
           52.1367803,
           -106.6699082
          ],
          [
           "Fox & Hounds Pub & Brewery",
           52.1597333,
           -106.6456222
          ],
          [
           "Melody Bar",
           52.1260428,
           -106.6634974
          ],
          [
           "Flint",
           52.1261472,
           -106.665375
          ],
          [
           "Dogg House",
           52.1499573,
           -106.6707325
          ],
          [
           "Bartari",
           52.126025,
           -106.6771944
          ],
          [
           "Louis'",
           52.1299684,
           -106.6352134
          ],
          [
           "The Riv Bar",
           52.1575808,
           -106.6722375
          ],
          [
           "Birmingham's Vodka and Ale House Saskatoon",
           52.15898499999999,
           -106.6507974
          ],
          [
           "Manchester Brew Pub",
           52.14404099999999,
           -106.670908
          ],
          [
           "Divas Nightclub",
           52.126377,
           -106.662583
          ],
          [
           "Finns Irish Pub",
           52.13173399999999,
           -106.6525952
          ],
          [
           "Taverna Italian Kitchen + Bar",
           52.1268818,
           -106.663954
          ]
         ],
         "index": [
          0,
          1,
          2,
          3,
          4,
          5,
          6,
          7,
          8,
          9,
          10,
          11,
          12,
          13,
          14,
          15,
          16,
          17,
          18,
          19
         ]
        },
        "schools": {
         "columns": [
          "place",
          "latitude",
          "longitude"
         ],
         "data": [
          [
           "E. D. Feehan Catholic High School",
           52.13405299999999,
           -106.6890684
          ],
          [
           "Westmount Community School",
           52.1338815,
           -106.6848947
          ],
          [
           "Caswell Community School",
           52.1388107,
           -106.6722033
          ],
          [
           "City Park Collegiate",
           52.139676,
           -106.648072
          ],
          [
           "Mayfair Community School",
           52.146272,
           -106.676687
          ],
          [
           "North Park Wilson School",
           52.1479045,
           -106.6498186
          ],
          [
           "École St. Paul Elementary School",
           52.147756,
           -106.6454079
          ],
          [
           "Princess Alexandra Community School",
           52.12807979999999,
           -106.6810388
          ],
          [
           "École Henry Kelsey School",
           52.14479979999999,
           -106.6882793
          ],
          [
           "Bedford Road Collegiate",
           52.133737,
           -106.6810117
          ],
          [
           "Brunskill School",
           52.1248623,
           -106.6385865
          ],
          [
           "École River Heights School",
           52.1636139,
           -106.6344305
          ],
          [
           "Flex ED School",
           52.1494159,
           -106.6675388
          ],
          [
           "St. Maria Goretti Community School",
           52.1325916,
           -106.6963512
          ],
          [
           "St. Edward School",
           52.1405373,
           -106.693808
          ],
          [
           "St. Mary's Wellness & Education Centre",
           52.1249032,
           -106.6908406
          ],
          [
           "Newcomer Student Centre - Saskatoon Public Schools",
           52.1270164,
           -106.6623526
          ],
          [
           "Post-Secondary Education & Skills Training",
           52.12864039999999,
           -106.6651608
          ]
         ],
         "index": [
          0,
          1,
          2,
          3,
          4,
          5,
          6,
          7,
          8,
          9,
          10,
          11,
          12,
          13,
          14,
          15,
          16,
          17
         ]
        },
        "starbucks": {
         "columns": [
          "place",
          "latitude",
          "longitude"
         ],
         "data": [
          [
           "Starbucks",
           52.1315654,
           -106.6409981
          ],
          [
           "Starbucks",
           52.1285414,
           -106.6636211
          ],
          [
           "Starbucks",
           52.1311913,
           -106.6369734
          ],
          [
           "Starbucks",
           52.1276455,
           -106.6664984
          ],
          [
           "Starbucks",
           52.1475915,
           -106.670829
          ],
          [
           "Starbucks",
           52.1584278,
           -106.6636507
          ]
         ],
         "index": [
          0,
          1,
          2,
          3,
          4,
          5
         ]
        },
        "stations": "no",
        "vegan": {
         "columns": [
          "place",
          "latitude",
          "longitude"
         ],
         "data": [
          [
           "The Karma - Conscious Café & Eatery",
           52.130243,
           -106.6633351
          ],
          [
           "Yay! Thai",
           52.1277832,
           -106.664059
          ],
          [
           "The Griffin Takeaway",
           52.1393225,
           -106.6526751
          ],
          [
           "Seasoned Fusion Tastes",
           52.127114,
           -106.6633115
          ],
          [
           "Leyda's Cafe",
           52.12624,
           -106.6707697
          ],
          [
           "Odd Couple Restaurant",
           52.126256,
           -106.6728275
          ],
          [
           "Pizza Pirates",
           52.1295711,
           -106.6930952
          ],
          [
           "Hometown Diner",
           52.1262749,
           -106.6723029
          ],
          [
           "Poached Breakfast Bistro",
           52.1261444,
           -106.665375
          ],
          [
           "Cactus Club Cafe Idylwyld Drive",
           52.1276583,
           -106.669775
          ],
          [
           "Spicy Bite",
           52.1278988,
           -106.6629386
          ],
          [
           "Picaro Cocktails & Tacos",
           52.125685,
           -106.6704665
          ],
          [
           "Freshii",
           52.1277167,
           -106.6645874
          ],
          [
           "Flanagan's Steakhouse",
           52.1267045,
           -106.6635229
          ],
          [
           "Genesis Family Restaurant",
           52.128916,
           -106.6834179
          ],
          [
           "Season's Cafe & Eatery",
           52.15499579999999,
           -106.6848518
          ],
          [
           "Saba's African Cuisine",
           52.1290207,
           -106.6830997
          ],
          [
           "Earls Kitchen + Bar - Takeout & Delivery",
           52.136891,
           -106.659574
          ],
          [
           "Taverna Italian Kitchen + Bar",
           52.1268818,
           -106.663954
          ],
          [
           "The Rook & Raven Pub",
           52.127713,
           -106.664077
          ]
         ],
         "index": [
          0,
          1,
          2,
          3,
          4,
          5,
          6,
          7,
          8,
          9,
          10,
          11,
          12,
          13,
          14,
          15,
          16,
          17,
          18,
          19
         ]
        }
       },
       "height": 500,
       "layout": "IPY_MODEL_f85e1795e5174323aa58a30afb228da6",
       "value": "Hello World!"
      }
     },
     "0e9f288d606a4fd6bdc77bcbe8f232d6": {
      "model_module": "keplergl-jupyter",
      "model_module_version": "^0.1.0",
      "model_name": "KeplerGlModal",
      "state": {
       "_model_module_version": "^0.1.0",
       "_view_module_version": "^0.1.0",
       "config": {
        "config": {
         "mapState": {
          "bearing": 0,
          "dragRotate": false,
          "isSplit": false,
          "latitude": -12.049999999999999,
          "longitude": -60.995,
          "pitch": 0,
          "zoom": 3
         },
         "mapStyle": {
          "mapStyles": {},
          "styleType": "dark",
          "threeDBuildingColor": [
           9.665468314072013,
           17.18305478057247,
           31.1442867897876
          ],
          "topLayerGroups": {},
          "visibleLayerGroups": {
           "3d building": false,
           "border": false,
           "building": true,
           "label": true,
           "land": true,
           "road": true,
           "water": true
          }
         },
         "visState": {
          "animationConfig": {
           "currentTime": null,
           "speed": 1
          },
          "filters": [],
          "interactionConfig": {
           "brush": {
            "enabled": false,
            "size": 0.5
           },
           "tooltip": {
            "enabled": true,
            "fieldsToShow": {
             "cities": [
              "City",
              "Latitude",
              "Longitude"
             ]
            }
           }
          },
          "layerBlending": "normal",
          "layers": [
           {
            "config": {
             "color": [
              18,
              147,
              154
             ],
             "columns": {
              "altitude": null,
              "lat": "Latitude",
              "lng": "Longitude"
             },
             "dataId": "cities",
             "isVisible": true,
             "label": "Point",
             "textLabel": [
              {
               "alignment": "center",
               "anchor": "start",
               "color": [
                255,
                255,
                255
               ],
               "field": null,
               "offset": [
                0,
                0
               ],
               "size": 18
              }
             ],
             "visConfig": {
              "colorRange": {
               "category": "Uber",
               "colors": [
                "#5A1846",
                "#900C3F",
                "#C70039",
                "#E3611C",
                "#F1920E",
                "#FFC300"
               ],
               "name": "Global Warming",
               "type": "sequential"
              },
              "filled": true,
              "fixedRadius": false,
              "opacity": 0.8,
              "outline": false,
              "radius": 10,
              "radiusRange": [
               0,
               50
              ],
              "strokeColor": null,
              "strokeColorRange": {
               "category": "Uber",
               "colors": [
                "#5A1846",
                "#900C3F",
                "#C70039",
                "#E3611C",
                "#F1920E",
                "#FFC300"
               ],
               "name": "Global Warming",
               "type": "sequential"
              },
              "thickness": 2
             }
            },
            "id": "vjm3vle",
            "type": "point",
            "visualChannels": {
             "colorField": null,
             "colorScale": "quantile",
             "sizeField": null,
             "sizeScale": "linear",
             "strokeColorField": null,
             "strokeColorScale": "quantile"
            }
           }
          ],
          "splitMaps": []
         }
        },
        "version": "v1"
       },
       "data": {
        "cities": {
         "columns": [
          "City",
          "Latitude",
          "Longitude"
         ],
         "data": [
          [
           "Buenos Aires",
           -34.58,
           -58.66
          ],
          [
           "Brasilia",
           -15.78,
           -47.91
          ],
          [
           "Santiago",
           -33.45,
           -70.66
          ],
          [
           "Bogota",
           4.6,
           -74.08
          ],
          [
           "Caracas",
           10.48,
           -66.86
          ]
         ],
         "index": [
          0,
          1,
          2,
          3,
          4
         ]
        }
       },
       "height": 500,
       "layout": "IPY_MODEL_9ee4eedd656e448aaf4c92a635e3c20c",
       "value": "Hello World!"
      }
     },
     "0f422ac8a54e4fa2b5b36d9f0f9fbc79": {
      "model_module": "keplergl-jupyter",
      "model_module_version": "^0.1.0",
      "model_name": "KeplerGlModal",
      "state": {
       "_model_module_version": "^0.1.0",
       "_view_module_version": "^0.1.0",
       "config": {
        "config": {
         "mapState": {
          "bearing": 24,
          "dragRotate": true,
          "isSplit": false,
          "latitude": 52.13501682368041,
          "longitude": -106.66306730389218,
          "pitch": 50,
          "zoom": 12.255695336000688
         },
         "mapStyle": {
          "mapStyles": {},
          "styleType": "dark",
          "threeDBuildingColor": [
           9.665468314072013,
           17.18305478057247,
           31.1442867897876
          ],
          "topLayerGroups": {},
          "visibleLayerGroups": {
           "3d building": true,
           "border": false,
           "building": true,
           "label": true,
           "land": true,
           "road": true,
           "water": true
          }
         },
         "visState": {
          "animationConfig": {
           "currentTime": null,
           "speed": 1
          },
          "filters": [],
          "interactionConfig": {
           "brush": {
            "enabled": false,
            "size": 0.5
           },
           "tooltip": {
            "enabled": true,
            "fieldsToShow": {
             "Final Location": [
              "city"
             ],
             "bars": [
              "place"
             ],
             "schools": [
              "place"
             ],
             "starbucks": [
              "place"
             ],
             "vegan": [
              "place"
             ]
            }
           }
          },
          "layerBlending": "normal",
          "layers": [
           {
            "config": {
             "color": [
              136,
              87,
              44
             ],
             "columns": {
              "altitude": null,
              "lat": "latitude",
              "lng": "longitude"
             },
             "dataId": "Final Location",
             "isVisible": true,
             "label": "City",
             "textLabel": [
              {
               "alignment": "center",
               "anchor": "start",
               "color": [
                255,
                255,
                255
               ],
               "field": {
                "name": "city",
                "type": "string"
               },
               "offset": [
                0,
                0
               ],
               "size": 18
              }
             ],
             "visConfig": {
              "colorRange": {
               "category": "Uber",
               "colors": [
                "#5A1846",
                "#900C3F",
                "#C70039",
                "#E3611C",
                "#F1920E",
                "#FFC300"
               ],
               "name": "Global Warming",
               "type": "sequential"
              },
              "filled": true,
              "fixedRadius": false,
              "opacity": 0.8,
              "outline": false,
              "radius": 34.7,
              "radiusRange": [
               0,
               50
              ],
              "strokeColor": null,
              "strokeColorRange": {
               "category": "Uber",
               "colors": [
                "#5A1846",
                "#900C3F",
                "#C70039",
                "#E3611C",
                "#F1920E",
                "#FFC300"
               ],
               "name": "Global Warming",
               "type": "sequential"
              },
              "thickness": 2
             }
            },
            "id": "d35u2nb",
            "type": "point",
            "visualChannels": {
             "colorField": null,
             "colorScale": "quantile",
             "sizeField": null,
             "sizeScale": "linear",
             "strokeColorField": null,
             "strokeColorScale": "quantile"
            }
           },
           {
            "config": {
             "color": [
              255,
              153,
              31
             ],
             "columns": {
              "altitude": null,
              "lat": "latitude",
              "lng": "longitude"
             },
             "dataId": "starbucks",
             "isVisible": true,
             "label": "Starbucks",
             "textLabel": [
              {
               "alignment": "center",
               "anchor": "start",
               "color": [
                255,
                255,
                255
               ],
               "field": null,
               "offset": [
                0,
                0
               ],
               "size": 18
              }
             ],
             "visConfig": {
              "colorRange": {
               "category": "Uber",
               "colors": [
                "#5A1846",
                "#900C3F",
                "#C70039",
                "#E3611C",
                "#F1920E",
                "#FFC300"
               ],
               "name": "Global Warming",
               "type": "sequential"
              },
              "filled": true,
              "fixedRadius": false,
              "opacity": 0.8,
              "outline": false,
              "radius": 10,
              "radiusRange": [
               0,
               50
              ],
              "strokeColor": null,
              "strokeColorRange": {
               "category": "Uber",
               "colors": [
                "#5A1846",
                "#900C3F",
                "#C70039",
                "#E3611C",
                "#F1920E",
                "#FFC300"
               ],
               "name": "Global Warming",
               "type": "sequential"
              },
              "thickness": 2
             }
            },
            "id": "s11vhl",
            "type": "point",
            "visualChannels": {
             "colorField": null,
             "colorScale": "quantile",
             "sizeField": null,
             "sizeScale": "linear",
             "strokeColorField": null,
             "strokeColorScale": "quantile"
            }
           },
           {
            "config": {
             "color": [
              241,
              92,
              23
             ],
             "columns": {
              "altitude": null,
              "lat": "latitude",
              "lng": "longitude"
             },
             "dataId": "schools",
             "isVisible": true,
             "label": "Schools",
             "textLabel": [
              {
               "alignment": "center",
               "anchor": "start",
               "color": [
                255,
                255,
                255
               ],
               "field": null,
               "offset": [
                0,
                0
               ],
               "size": 18
              }
             ],
             "visConfig": {
              "colorRange": {
               "category": "Uber",
               "colors": [
                "#5A1846",
                "#900C3F",
                "#C70039",
                "#E3611C",
                "#F1920E",
                "#FFC300"
               ],
               "name": "Global Warming",
               "type": "sequential"
              },
              "filled": true,
              "fixedRadius": false,
              "opacity": 0.8,
              "outline": false,
              "radius": 10,
              "radiusRange": [
               0,
               50
              ],
              "strokeColor": null,
              "strokeColorRange": {
               "category": "Uber",
               "colors": [
                "#5A1846",
                "#900C3F",
                "#C70039",
                "#E3611C",
                "#F1920E",
                "#FFC300"
               ],
               "name": "Global Warming",
               "type": "sequential"
              },
              "thickness": 2
             }
            },
            "id": "nqnauv4",
            "type": "point",
            "visualChannels": {
             "colorField": null,
             "colorScale": "quantile",
             "sizeField": null,
             "sizeScale": "linear",
             "strokeColorField": null,
             "strokeColorScale": "quantile"
            }
           },
           {
            "config": {
             "color": [
              34,
              63,
              154
             ],
             "columns": {
              "altitude": null,
              "lat": "latitude",
              "lng": "longitude"
             },
             "dataId": "bars",
             "isVisible": true,
             "label": "Bars",
             "textLabel": [
              {
               "alignment": "center",
               "anchor": "start",
               "color": [
                255,
                255,
                255
               ],
               "field": null,
               "offset": [
                0,
                0
               ],
               "size": 18
              }
             ],
             "visConfig": {
              "colorRange": {
               "category": "Uber",
               "colors": [
                "#5A1846",
                "#900C3F",
                "#C70039",
                "#E3611C",
                "#F1920E",
                "#FFC300"
               ],
               "name": "Global Warming",
               "type": "sequential"
              },
              "filled": true,
              "fixedRadius": false,
              "opacity": 0.8,
              "outline": false,
              "radius": 10,
              "radiusRange": [
               0,
               50
              ],
              "strokeColor": null,
              "strokeColorRange": {
               "category": "Uber",
               "colors": [
                "#5A1846",
                "#900C3F",
                "#C70039",
                "#E3611C",
                "#F1920E",
                "#FFC300"
               ],
               "name": "Global Warming",
               "type": "sequential"
              },
              "thickness": 2
             }
            },
            "id": "7feug5p",
            "type": "point",
            "visualChannels": {
             "colorField": null,
             "colorScale": "quantile",
             "sizeField": null,
             "sizeScale": "linear",
             "strokeColorField": null,
             "strokeColorScale": "quantile"
            }
           },
           {
            "config": {
             "color": [
              218,
              112,
              191
             ],
             "columns": {
              "altitude": null,
              "lat": "latitude",
              "lng": "longitude"
             },
             "dataId": "vegan",
             "isVisible": true,
             "label": "Vegan Restaurants",
             "textLabel": [
              {
               "alignment": "center",
               "anchor": "start",
               "color": [
                255,
                255,
                255
               ],
               "field": null,
               "offset": [
                0,
                0
               ],
               "size": 18
              }
             ],
             "visConfig": {
              "colorRange": {
               "category": "Uber",
               "colors": [
                "#5A1846",
                "#900C3F",
                "#C70039",
                "#E3611C",
                "#F1920E",
                "#FFC300"
               ],
               "name": "Global Warming",
               "type": "sequential"
              },
              "filled": true,
              "fixedRadius": false,
              "opacity": 0.8,
              "outline": false,
              "radius": 10,
              "radiusRange": [
               0,
               50
              ],
              "strokeColor": null,
              "strokeColorRange": {
               "category": "Uber",
               "colors": [
                "#5A1846",
                "#900C3F",
                "#C70039",
                "#E3611C",
                "#F1920E",
                "#FFC300"
               ],
               "name": "Global Warming",
               "type": "sequential"
              },
              "thickness": 2
             }
            },
            "id": "dnt6b8",
            "type": "point",
            "visualChannels": {
             "colorField": null,
             "colorScale": "quantile",
             "sizeField": null,
             "sizeScale": "linear",
             "strokeColorField": null,
             "strokeColorScale": "quantile"
            }
           }
          ],
          "splitMaps": []
         }
        },
        "version": "v1"
       },
       "data": {
        "Final Location": {
         "columns": [
          "city",
          "latitude",
          "longitude"
         ],
         "data": [
          [
           "Saskatoon",
           52.143886,
           -106.6634565
          ]
         ],
         "index": [
          1247
         ]
        },
        "bars": {
         "columns": [
          "place",
          "latitude",
          "longitude"
         ],
         "data": [
          [
           "Hudsons Saskatoon",
           52.1263771,
           -106.6609726
          ],
          [
           "Winston's English Pub & Grill",
           52.1268,
           -106.6634549
          ],
          [
           "Cathedral Social Hall",
           52.1267709,
           -106.6594192
          ],
          [
           "Congress Beer House",
           52.126907,
           -106.665293
          ],
          [
           "The Rook & Raven Pub",
           52.127713,
           -106.664077
          ],
          [
           "Red Zone Sports Bar",
           52.1588691,
           -106.6722458
          ],
          [
           "Shark Club Sports Bar & Grill",
           52.1583653,
           -106.6741767
          ],
          [
           "Outlaws Country Rock Bar",
           52.1367803,
           -106.6699082
          ],
          [
           "Fox & Hounds Pub & Brewery",
           52.1597333,
           -106.6456222
          ],
          [
           "Melody Bar",
           52.1260428,
           -106.6634974
          ],
          [
           "Flint",
           52.1261472,
           -106.665375
          ],
          [
           "Dogg House",
           52.1499573,
           -106.6707325
          ],
          [
           "Bartari",
           52.126025,
           -106.6771944
          ],
          [
           "Louis'",
           52.1299684,
           -106.6352134
          ],
          [
           "The Riv Bar",
           52.1575808,
           -106.6722375
          ],
          [
           "Birmingham's Vodka and Ale House Saskatoon",
           52.15898499999999,
           -106.6507974
          ],
          [
           "Manchester Brew Pub",
           52.14404099999999,
           -106.670908
          ],
          [
           "Divas Nightclub",
           52.126377,
           -106.662583
          ],
          [
           "Finns Irish Pub",
           52.13173399999999,
           -106.6525952
          ],
          [
           "Taverna Italian Kitchen + Bar",
           52.1268818,
           -106.663954
          ]
         ],
         "index": [
          0,
          1,
          2,
          3,
          4,
          5,
          6,
          7,
          8,
          9,
          10,
          11,
          12,
          13,
          14,
          15,
          16,
          17,
          18,
          19
         ]
        },
        "schools": {
         "columns": [
          "place",
          "latitude",
          "longitude"
         ],
         "data": [
          [
           "E. D. Feehan Catholic High School",
           52.13405299999999,
           -106.6890684
          ],
          [
           "Westmount Community School",
           52.1338815,
           -106.6848947
          ],
          [
           "Caswell Community School",
           52.1388107,
           -106.6722033
          ],
          [
           "City Park Collegiate",
           52.139676,
           -106.648072
          ],
          [
           "Mayfair Community School",
           52.146272,
           -106.676687
          ],
          [
           "North Park Wilson School",
           52.1479045,
           -106.6498186
          ],
          [
           "École St. Paul Elementary School",
           52.147756,
           -106.6454079
          ],
          [
           "Princess Alexandra Community School",
           52.12807979999999,
           -106.6810388
          ],
          [
           "École Henry Kelsey School",
           52.14479979999999,
           -106.6882793
          ],
          [
           "Bedford Road Collegiate",
           52.133737,
           -106.6810117
          ],
          [
           "Brunskill School",
           52.1248623,
           -106.6385865
          ],
          [
           "École River Heights School",
           52.1636139,
           -106.6344305
          ],
          [
           "Flex ED School",
           52.1494159,
           -106.6675388
          ],
          [
           "St. Maria Goretti Community School",
           52.1325916,
           -106.6963512
          ],
          [
           "St. Edward School",
           52.1405373,
           -106.693808
          ],
          [
           "St. Mary's Wellness & Education Centre",
           52.1249032,
           -106.6908406
          ],
          [
           "Newcomer Student Centre - Saskatoon Public Schools",
           52.1270164,
           -106.6623526
          ],
          [
           "Post-Secondary Education & Skills Training",
           52.12864039999999,
           -106.6651608
          ]
         ],
         "index": [
          0,
          1,
          2,
          3,
          4,
          5,
          6,
          7,
          8,
          9,
          10,
          11,
          12,
          13,
          14,
          15,
          16,
          17
         ]
        },
        "starbucks": {
         "columns": [
          "place",
          "latitude",
          "longitude"
         ],
         "data": [
          [
           "Starbucks",
           52.1315654,
           -106.6409981
          ],
          [
           "Starbucks",
           52.1285414,
           -106.6636211
          ],
          [
           "Starbucks",
           52.1311913,
           -106.6369734
          ],
          [
           "Starbucks",
           52.1276455,
           -106.6664984
          ],
          [
           "Starbucks",
           52.1475915,
           -106.670829
          ],
          [
           "Starbucks",
           52.1584278,
           -106.6636507
          ]
         ],
         "index": [
          0,
          1,
          2,
          3,
          4,
          5
         ]
        },
        "stations": "no",
        "vegan": {
         "columns": [
          "place",
          "latitude",
          "longitude"
         ],
         "data": [
          [
           "The Karma - Conscious Café & Eatery",
           52.130243,
           -106.6633351
          ],
          [
           "Yay! Thai",
           52.1277832,
           -106.664059
          ],
          [
           "The Griffin Takeaway",
           52.1393225,
           -106.6526751
          ],
          [
           "Seasoned Fusion Tastes",
           52.127114,
           -106.6633115
          ],
          [
           "Leyda's Cafe",
           52.12624,
           -106.6707697
          ],
          [
           "Odd Couple Restaurant",
           52.126256,
           -106.6728275
          ],
          [
           "Pizza Pirates",
           52.1295711,
           -106.6930952
          ],
          [
           "Hometown Diner",
           52.1262749,
           -106.6723029
          ],
          [
           "Poached Breakfast Bistro",
           52.1261444,
           -106.665375
          ],
          [
           "Cactus Club Cafe Idylwyld Drive",
           52.1276583,
           -106.669775
          ],
          [
           "Spicy Bite",
           52.1278988,
           -106.6629386
          ],
          [
           "Picaro Cocktails & Tacos",
           52.125685,
           -106.6704665
          ],
          [
           "Freshii",
           52.1277167,
           -106.6645874
          ],
          [
           "Flanagan's Steakhouse",
           52.1267045,
           -106.6635229
          ],
          [
           "Genesis Family Restaurant",
           52.128916,
           -106.6834179
          ],
          [
           "Season's Cafe & Eatery",
           52.15499579999999,
           -106.6848518
          ],
          [
           "Saba's African Cuisine",
           52.1290207,
           -106.6830997
          ],
          [
           "Earls Kitchen + Bar - Takeout & Delivery",
           52.136891,
           -106.659574
          ],
          [
           "Taverna Italian Kitchen + Bar",
           52.1268818,
           -106.663954
          ],
          [
           "The Rook & Raven Pub",
           52.127713,
           -106.664077
          ]
         ],
         "index": [
          0,
          1,
          2,
          3,
          4,
          5,
          6,
          7,
          8,
          9,
          10,
          11,
          12,
          13,
          14,
          15,
          16,
          17,
          18,
          19
         ]
        }
       },
       "height": 500,
       "layout": "IPY_MODEL_deb9da776c9344c1a52e033c2ae13e0d",
       "value": "Hello World!"
      }
     },
     "12b67c3478fa40749b6ea85df9d48041": {
      "model_module": "keplergl-jupyter",
      "model_module_version": "^0.1.0",
      "model_name": "KeplerGlModal",
      "state": {
       "_model_module_version": "^0.1.0",
       "_view_module_version": "^0.1.0",
       "height": 500,
       "layout": "IPY_MODEL_d67a323f81834ceb8ef987e76d095309",
       "value": "Hello World!"
      }
     },
     "14606cf1ff104e299307e842eec02eba": {
      "model_module": "@jupyter-widgets/base",
      "model_module_version": "1.2.0",
      "model_name": "LayoutModel",
      "state": {}
     },
     "15cfb73fda4b4ad28e3357faf9bd39df": {
      "model_module": "keplergl-jupyter",
      "model_module_version": "^0.1.0",
      "model_name": "KeplerGlModal",
      "state": {
       "_model_module_version": "^0.1.0",
       "_view_module_version": "^0.1.0",
       "config": {
        "config": {
         "mapState": {
          "bearing": 0,
          "dragRotate": false,
          "isSplit": false,
          "latitude": 17.077128593424877,
          "longitude": -96.76236851129416,
          "pitch": 0,
          "zoom": 15.465334911276186
         },
         "mapStyle": {
          "mapStyles": {},
          "styleType": "dark",
          "threeDBuildingColor": [
           9.665468314072013,
           17.18305478057247,
           31.1442867897876
          ],
          "topLayerGroups": {},
          "visibleLayerGroups": {
           "3d building": false,
           "border": false,
           "building": true,
           "label": true,
           "land": true,
           "road": true,
           "water": true
          }
         },
         "visState": {
          "animationConfig": {
           "currentTime": null,
           "speed": 1
          },
          "filters": [],
          "interactionConfig": {
           "brush": {
            "enabled": false,
            "size": 0.5
           },
           "tooltip": {
            "enabled": true,
            "fieldsToShow": {
             "cities": [
              "name"
             ]
            }
           }
          },
          "layerBlending": "normal",
          "layers": [
           {
            "config": {
             "color": [
              23,
              184,
              190
             ],
             "columns": {
              "geojson": "_geojson"
             },
             "dataId": "cities",
             "isVisible": true,
             "label": "cities",
             "textLabel": [
              {
               "alignment": "center",
               "anchor": "start",
               "color": [
                255,
                255,
                255
               ],
               "field": null,
               "offset": [
                0,
                0
               ],
               "size": 18
              }
             ],
             "visConfig": {
              "colorRange": {
               "category": "Uber",
               "colors": [
                "#5A1846",
                "#900C3F",
                "#C70039",
                "#E3611C",
                "#F1920E",
                "#FFC300"
               ],
               "name": "Global Warming",
               "type": "sequential"
              },
              "elevationScale": 5,
              "enable3d": false,
              "filled": true,
              "heightRange": [
               0,
               500
              ],
              "opacity": 0.8,
              "radius": 10,
              "radiusRange": [
               0,
               50
              ],
              "sizeRange": [
               0,
               10
              ],
              "strokeColor": null,
              "strokeColorRange": {
               "category": "Uber",
               "colors": [
                "#5A1846",
                "#900C3F",
                "#C70039",
                "#E3611C",
                "#F1920E",
                "#FFC300"
               ],
               "name": "Global Warming",
               "type": "sequential"
              },
              "stroked": false,
              "thickness": 0.5,
              "wireframe": false
             }
            },
            "id": "19b8cnc",
            "type": "geojson",
            "visualChannels": {
             "colorField": null,
             "colorScale": "quantile",
             "heightField": null,
             "heightScale": "linear",
             "radiusField": null,
             "radiusScale": "linear",
             "sizeField": null,
             "sizeScale": "linear",
             "strokeColorField": null,
             "strokeColorScale": "quantile"
            }
           }
          ],
          "splitMaps": []
         }
        },
        "version": "v1"
       },
       "data": {
        "cities": {
         "geometry": {
          "coordinates": [
           -96.757968,
           17.075518
          ],
          "type": "Point"
         },
         "properties": {
          "index": 0,
          "name": "Coors Field"
         },
         "type": "Feature"
        }
       },
       "height": 500,
       "layout": "IPY_MODEL_a7fc07d8cc624e5c9809571243d8f98c",
       "value": "Hello World!"
      }
     },
     "15f30a32cb834ce4804c22e31e06a8a5": {
      "model_module": "@jupyter-widgets/base",
      "model_module_version": "1.2.0",
      "model_name": "LayoutModel",
      "state": {}
     },
     "171172b544c74f4ab22c49c872ebcbba": {
      "model_module": "@jupyter-widgets/base",
      "model_module_version": "1.2.0",
      "model_name": "LayoutModel",
      "state": {}
     },
     "17bce483df8f4baebc1225b5ab3d90e3": {
      "model_module": "keplergl-jupyter",
      "model_module_version": "^0.1.0",
      "model_name": "KeplerGlModal",
      "state": {
       "_model_module_version": "^0.1.0",
       "_view_module_version": "^0.1.0",
       "config": {
        "config": {
         "mapState": {
          "bearing": 0,
          "dragRotate": false,
          "isSplit": false,
          "latitude": 23.74405475,
          "longitude": 90.3791014,
          "pitch": 0,
          "zoom": 13
         },
         "mapStyle": {
          "mapStyles": {},
          "styleType": "dark",
          "threeDBuildingColor": [
           9.665468314072013,
           17.18305478057247,
           31.1442867897876
          ],
          "topLayerGroups": {},
          "visibleLayerGroups": {
           "3d building": false,
           "border": false,
           "building": true,
           "label": true,
           "land": true,
           "road": true,
           "water": true
          }
         },
         "visState": {
          "animationConfig": {
           "currentTime": null,
           "speed": 1
          },
          "filters": [],
          "interactionConfig": {
           "brush": {
            "enabled": false,
            "size": 0.5
           },
           "tooltip": {
            "enabled": true,
            "fieldsToShow": {
             "bars": [
              "place"
             ],
             "schools": [
              "place"
             ],
             "stations": [
              "place"
             ],
             "vegan": [
              "place"
             ]
            }
           }
          },
          "layerBlending": "normal",
          "layers": [
           {
            "config": {
             "color": [
              241,
              92,
              23
             ],
             "columns": {
              "altitude": null,
              "lat": "latitude",
              "lng": "longitude"
             },
             "dataId": "schools",
             "isVisible": true,
             "label": "Point",
             "textLabel": [
              {
               "alignment": "center",
               "anchor": "start",
               "color": [
                255,
                255,
                255
               ],
               "field": null,
               "offset": [
                0,
                0
               ],
               "size": 18
              }
             ],
             "visConfig": {
              "colorRange": {
               "category": "Uber",
               "colors": [
                "#5A1846",
                "#900C3F",
                "#C70039",
                "#E3611C",
                "#F1920E",
                "#FFC300"
               ],
               "name": "Global Warming",
               "type": "sequential"
              },
              "filled": true,
              "fixedRadius": false,
              "opacity": 0.8,
              "outline": false,
              "radius": 10,
              "radiusRange": [
               0,
               50
              ],
              "strokeColor": null,
              "strokeColorRange": {
               "category": "Uber",
               "colors": [
                "#5A1846",
                "#900C3F",
                "#C70039",
                "#E3611C",
                "#F1920E",
                "#FFC300"
               ],
               "name": "Global Warming",
               "type": "sequential"
              },
              "thickness": 2
             }
            },
            "id": "qbb72z",
            "type": "point",
            "visualChannels": {
             "colorField": null,
             "colorScale": "quantile",
             "sizeField": null,
             "sizeScale": "linear",
             "strokeColorField": null,
             "strokeColorScale": "quantile"
            }
           },
           {
            "config": {
             "color": [
              34,
              63,
              154
             ],
             "columns": {
              "altitude": null,
              "lat": "latitude",
              "lng": "longitude"
             },
             "dataId": "bars",
             "isVisible": true,
             "label": "Point",
             "textLabel": [
              {
               "alignment": "center",
               "anchor": "start",
               "color": [
                255,
                255,
                255
               ],
               "field": null,
               "offset": [
                0,
                0
               ],
               "size": 18
              }
             ],
             "visConfig": {
              "colorRange": {
               "category": "Uber",
               "colors": [
                "#5A1846",
                "#900C3F",
                "#C70039",
                "#E3611C",
                "#F1920E",
                "#FFC300"
               ],
               "name": "Global Warming",
               "type": "sequential"
              },
              "filled": true,
              "fixedRadius": false,
              "opacity": 0.8,
              "outline": false,
              "radius": 10,
              "radiusRange": [
               0,
               50
              ],
              "strokeColor": null,
              "strokeColorRange": {
               "category": "Uber",
               "colors": [
                "#5A1846",
                "#900C3F",
                "#C70039",
                "#E3611C",
                "#F1920E",
                "#FFC300"
               ],
               "name": "Global Warming",
               "type": "sequential"
              },
              "thickness": 2
             }
            },
            "id": "lcyupd7",
            "type": "point",
            "visualChannels": {
             "colorField": null,
             "colorScale": "quantile",
             "sizeField": null,
             "sizeScale": "linear",
             "strokeColorField": null,
             "strokeColorScale": "quantile"
            }
           },
           {
            "config": {
             "color": [
              218,
              112,
              191
             ],
             "columns": {
              "altitude": null,
              "lat": "latitude",
              "lng": "longitude"
             },
             "dataId": "stations",
             "isVisible": true,
             "label": "Point",
             "textLabel": [
              {
               "alignment": "center",
               "anchor": "start",
               "color": [
                255,
                255,
                255
               ],
               "field": null,
               "offset": [
                0,
                0
               ],
               "size": 18
              }
             ],
             "visConfig": {
              "colorRange": {
               "category": "Uber",
               "colors": [
                "#5A1846",
                "#900C3F",
                "#C70039",
                "#E3611C",
                "#F1920E",
                "#FFC300"
               ],
               "name": "Global Warming",
               "type": "sequential"
              },
              "filled": true,
              "fixedRadius": false,
              "opacity": 0.8,
              "outline": false,
              "radius": 10,
              "radiusRange": [
               0,
               50
              ],
              "strokeColor": null,
              "strokeColorRange": {
               "category": "Uber",
               "colors": [
                "#5A1846",
                "#900C3F",
                "#C70039",
                "#E3611C",
                "#F1920E",
                "#FFC300"
               ],
               "name": "Global Warming",
               "type": "sequential"
              },
              "thickness": 2
             }
            },
            "id": "inh8kxb",
            "type": "point",
            "visualChannels": {
             "colorField": null,
             "colorScale": "quantile",
             "sizeField": null,
             "sizeScale": "linear",
             "strokeColorField": null,
             "strokeColorScale": "quantile"
            }
           },
           {
            "config": {
             "color": [
              18,
              92,
              119
             ],
             "columns": {
              "altitude": null,
              "lat": "latitude",
              "lng": "longitude"
             },
             "dataId": "vegan",
             "isVisible": true,
             "label": "Point",
             "textLabel": [
              {
               "alignment": "center",
               "anchor": "start",
               "color": [
                255,
                255,
                255
               ],
               "field": null,
               "offset": [
                0,
                0
               ],
               "size": 18
              }
             ],
             "visConfig": {
              "colorRange": {
               "category": "Uber",
               "colors": [
                "#5A1846",
                "#900C3F",
                "#C70039",
                "#E3611C",
                "#F1920E",
                "#FFC300"
               ],
               "name": "Global Warming",
               "type": "sequential"
              },
              "filled": true,
              "fixedRadius": false,
              "opacity": 0.8,
              "outline": false,
              "radius": 10,
              "radiusRange": [
               0,
               50
              ],
              "strokeColor": null,
              "strokeColorRange": {
               "category": "Uber",
               "colors": [
                "#5A1846",
                "#900C3F",
                "#C70039",
                "#E3611C",
                "#F1920E",
                "#FFC300"
               ],
               "name": "Global Warming",
               "type": "sequential"
              },
              "thickness": 2
             }
            },
            "id": "xlvgg8e",
            "type": "point",
            "visualChannels": {
             "colorField": null,
             "colorScale": "quantile",
             "sizeField": null,
             "sizeScale": "linear",
             "strokeColorField": null,
             "strokeColorScale": "quantile"
            }
           }
          ],
          "splitMaps": []
         }
        },
        "version": "v1"
       },
       "data": {
        "bars": {
         "columns": [
          "place",
          "latitude",
          "longitude"
         ],
         "data": [
          [
           "Chalet Bar & Restaurant",
           23.7444123,
           90.3948329
          ],
          [
           "Sakura Restaurant & Bar",
           23.7413191,
           90.3957767
          ],
          [
           "Hotel Eram International",
           23.7522014,
           90.3779323
          ],
          [
           "Golden Dragon Bar",
           23.7470307,
           90.39638719999999
          ],
          [
           "Hotel Grand Galaxy",
           23.7371685,
           90.38402529999999
          ],
          [
           "DPL Restaurant & Bar Green Road",
           23.7524469,
           90.3875745
          ],
          [
           "Aram international",
           23.7536607,
           90.3819967
          ],
          [
           "Chell A Bar / Shell A Bar",
           23.745798,
           90.39458820000002
          ],
          [
           "হোটেল পিকক লিঃ",
           23.7412356,
           90.39474
          ],
          [
           "Golden",
           23.7325295,
           90.38377849999999
          ],
          [
           "Ayan's Akhra",
           23.7572985,
           90.36993969999999
          ],
          [
           "Rahat the manga bhai",
           23.746167,
           90.3742601
          ],
          [
           "ডন গ্রিল হাউস",
           23.7476675,
           90.38011999999999
          ],
          [
           "Room of Good Music (RGM)",
           23.7539933,
           90.3879906
          ],
          [
           "Dhanmondi Club Limited-DCL, Royal tower 8th floor, 4 Panthapath",
           23.7501999,
           90.3923441
          ],
          [
           "Football Limited",
           23.745837,
           90.3921147
          ],
          [
           "Cafè Tit-As",
           23.7524695,
           90.3708161
          ],
          [
           "Kusum Billa",
           23.757575,
           90.3868014
          ],
          [
           "World Sports",
           23.7420449,
           90.3922372
          ],
          [
           "FBS Boys Common Room and Ice Cream Parlar.",
           23.7355043,
           90.3928323
          ]
         ],
         "index": [
          0,
          1,
          2,
          3,
          4,
          5,
          6,
          7,
          8,
          9,
          10,
          11,
          12,
          13,
          14,
          15,
          16,
          17,
          18,
          19
         ]
        },
        "schools": {
         "columns": [
          "place",
          "latitude",
          "longitude"
         ],
         "data": [
          [
           "Oxford International School",
           23.753838,
           90.370846
          ],
          [
           "Maple Leaf International School",
           23.7504306,
           90.3701644
          ],
          [
           "William Carey International School",
           23.7562079,
           90.3835572
          ],
          [
           "European Standard School",
           23.7525699,
           90.375626
          ],
          [
           "Mastermind School",
           23.752132,
           90.3754194
          ],
          [
           "St. Joseph Higher Secondary School",
           23.759697,
           90.3703249
          ],
          [
           "YWCA Higher Secondary Girls' School",
           23.7430029,
           90.38520930000001
          ],
          [
           "Green Gems Int. School.",
           23.7459879,
           90.3740833
          ],
          [
           "Marie Curie School",
           23.7397956,
           90.37861529999999
          ],
          [
           "Scholastica",
           23.7446087,
           90.3731241
          ],
          [
           "Daffodil International School",
           23.7540912,
           90.3748935
          ],
          [
           "Lakehead Grammar School",
           23.7485488,
           90.3739616
          ],
          [
           "Tejgaon Government Girl's High School",
           23.7571251,
           90.39112279999999
          ],
          [
           "Dhanmondi Government Boys' High School",
           23.757718,
           90.3752303
          ],
          [
           "JAAGO Foundation, Rayer Bazar School",
           23.746983,
           90.3622973
          ],
          [
           "Engineering University School & College",
           23.7277447,
           90.3936011
          ],
          [
           "New Model Multilateral High School",
           23.7518734,
           90.3784993
          ],
          [
           "Averroes International School",
           23.7572518,
           90.36902660000001
          ],
          [
           "Little Angles School",
           23.7250335,
           90.38496599999999
          ],
          [
           "Azimpur Govt. Girls' School and College",
           23.7252269,
           90.38802919999999
          ]
         ],
         "index": [
          0,
          1,
          2,
          3,
          4,
          5,
          6,
          7,
          8,
          9,
          10,
          11,
          12,
          13,
          14,
          15,
          16,
          17,
          18,
          19
         ]
        },
        "starbucks": "no",
        "stations": {
         "columns": [
          "place",
          "latitude",
          "longitude"
         ],
         "data": [
          [
           "Helipad",
           23.7541347,
           90.4000743
          ],
          [
           "Square Hospital Helipad",
           23.7530355,
           90.38156
          ],
          [
           "Helipad",
           23.7492277,
           90.39427359999999
          ],
          [
           "Sikder Heliport",
           23.7405641,
           90.35812849999999
          ]
         ],
         "index": [
          0,
          1,
          2,
          3
         ]
        },
        "vegan": {
         "columns": [
          "place",
          "latitude",
          "longitude"
         ],
         "data": [
          [
           "Santoor Restaurant",
           23.7518678,
           90.3775333
          ],
          [
           "Adda",
           23.763076,
           90.37006
          ],
          [
           "Star Hotel & Kabab (Restaurant)",
           23.7392193,
           90.3810687
          ],
          [
           "Melting Pot",
           23.7374929,
           90.37730069999999
          ],
          [
           "Burger King",
           23.738343,
           90.3757526
          ],
          [
           "Cafe Bazar",
           23.7496731,
           90.394629
          ],
          [
           "Four Seasons Restaurant",
           23.751502,
           90.3681945
          ],
          [
           "Pizza Roma",
           23.7384199,
           90.37821439999999
          ],
          [
           "Bella Italia",
           23.7473956,
           90.3709002
          ],
          [
           "Burger Xpress",
           23.7433381,
           90.3880697
          ],
          [
           "Homemade Bistro",
           23.752041,
           90.3873892
          ],
          [
           "Shake Shack",
           23.7538177,
           90.37027289999999
          ],
          [
           "Gloria Jean's Coffees, Dhanmondi",
           23.7498102,
           90.3686804
          ],
          [
           "Cafe Seven17teen Dhanmondi Branch",
           23.7527093,
           90.37807680000002
          ]
         ],
         "index": [
          0,
          1,
          2,
          3,
          4,
          5,
          6,
          7,
          8,
          9,
          10,
          11,
          12,
          13
         ]
        }
       },
       "height": 500,
       "layout": "IPY_MODEL_05ae9b417423479baac36147ed512eb4",
       "value": "Hello World!"
      }
     },
     "1ace8c37d7294803a69a078bc4d57044": {
      "model_module": "@jupyter-widgets/base",
      "model_module_version": "1.2.0",
      "model_name": "LayoutModel",
      "state": {}
     },
     "1bd0a99c97454092bab1265eb88017cc": {
      "model_module": "@jupyter-widgets/base",
      "model_module_version": "1.2.0",
      "model_name": "LayoutModel",
      "state": {}
     },
     "1ff654296c9c4ef392ab774caa4e6f8d": {
      "model_module": "keplergl-jupyter",
      "model_module_version": "^0.1.0",
      "model_name": "KeplerGlModal",
      "state": {
       "_model_module_version": "^0.1.0",
       "_view_module_version": "^0.1.0",
       "config": {
        "config": {
         "mapState": {
          "bearing": 0,
          "dragRotate": false,
          "isSplit": false,
          "latitude": 23.748585045988875,
          "longitude": 90.37905968701787,
          "pitch": 0,
          "zoom": 14.926123836049298
         },
         "mapStyle": {
          "mapStyles": {},
          "styleType": "dark",
          "threeDBuildingColor": [
           9.665468314072013,
           17.18305478057247,
           31.1442867897876
          ],
          "topLayerGroups": {},
          "visibleLayerGroups": {
           "3d building": false,
           "border": false,
           "building": true,
           "label": true,
           "land": true,
           "road": true,
           "water": true
          }
         },
         "visState": {
          "animationConfig": {
           "currentTime": null,
           "speed": 1
          },
          "filters": [],
          "interactionConfig": {
           "brush": {
            "enabled": false,
            "size": 0.5
           },
           "tooltip": {
            "enabled": true,
            "fieldsToShow": {
             "schools": [
              "place"
             ],
             "stations": [
              "place"
             ]
            }
           }
          },
          "layerBlending": "normal",
          "layers": [
           {
            "config": {
             "color": [
              30,
              150,
              190
             ],
             "columns": {
              "altitude": null,
              "lat": "latitude",
              "lng": "longitude"
             },
             "dataId": "stations",
             "isVisible": true,
             "label": "Point",
             "textLabel": [
              {
               "alignment": "center",
               "anchor": "start",
               "color": [
                255,
                255,
                255
               ],
               "field": {
                "name": "place",
                "type": "string"
               },
               "offset": [
                0,
                0
               ],
               "size": 18
              }
             ],
             "visConfig": {
              "colorRange": {
               "category": "Uber",
               "colors": [
                "#5A1846",
                "#900C3F",
                "#C70039",
                "#E3611C",
                "#F1920E",
                "#FFC300"
               ],
               "name": "Global Warming",
               "type": "sequential"
              },
              "filled": true,
              "fixedRadius": false,
              "opacity": 0.8,
              "outline": false,
              "radius": 35.9,
              "radiusRange": [
               0,
               50
              ],
              "strokeColor": null,
              "strokeColorRange": {
               "category": "Uber",
               "colors": [
                "#5A1846",
                "#900C3F",
                "#C70039",
                "#E3611C",
                "#F1920E",
                "#FFC300"
               ],
               "name": "Global Warming",
               "type": "sequential"
              },
              "thickness": 2
             }
            },
            "id": "s2hgzwt",
            "type": "point",
            "visualChannels": {
             "colorField": null,
             "colorScale": "quantile",
             "sizeField": null,
             "sizeScale": "linear",
             "strokeColorField": null,
             "strokeColorScale": "quantile"
            }
           },
           {
            "config": {
             "color": [
              137,
              218,
              193
             ],
             "columns": {
              "altitude": null,
              "lat": "latitude",
              "lng": "longitude"
             },
             "dataId": "schools",
             "isVisible": true,
             "label": "Point",
             "textLabel": [
              {
               "alignment": "center",
               "anchor": "start",
               "color": [
                255,
                255,
                255
               ],
               "field": {
                "name": "place",
                "type": "string"
               },
               "offset": [
                0,
                0
               ],
               "size": 18
              }
             ],
             "visConfig": {
              "colorRange": {
               "category": "Uber",
               "colors": [
                "#5A1846",
                "#900C3F",
                "#C70039",
                "#E3611C",
                "#F1920E",
                "#FFC300"
               ],
               "name": "Global Warming",
               "type": "sequential"
              },
              "filled": true,
              "fixedRadius": false,
              "opacity": 0.8,
              "outline": false,
              "radius": 20.7,
              "radiusRange": [
               0,
               50
              ],
              "strokeColor": null,
              "strokeColorRange": {
               "category": "Uber",
               "colors": [
                "#5A1846",
                "#900C3F",
                "#C70039",
                "#E3611C",
                "#F1920E",
                "#FFC300"
               ],
               "name": "Global Warming",
               "type": "sequential"
              },
              "thickness": 2
             }
            },
            "id": "qsicyse",
            "type": "point",
            "visualChannels": {
             "colorField": null,
             "colorScale": "quantile",
             "sizeField": null,
             "sizeScale": "linear",
             "strokeColorField": null,
             "strokeColorScale": "quantile"
            }
           }
          ],
          "splitMaps": []
         }
        },
        "version": "v1"
       },
       "data": {
        "schools": {
         "columns": [
          "place",
          "latitude",
          "longitude"
         ],
         "data": [
          [
           "Mohammadpur Preparatory School & College",
           23.7586284,
           90.3638426
          ],
          [
           "Oxford International School",
           23.753838,
           90.370846
          ],
          [
           "Lakehead Grammar School",
           23.7485488,
           90.3739616
          ],
          [
           "European Standard School",
           23.7525699,
           90.375626
          ],
          [
           "Mastermind School",
           23.752132,
           90.3754194
          ],
          [
           "St. Joseph Higher Secondary School",
           23.759697,
           90.3703249
          ],
          [
           "YWCA Higher Secondary Girls' School",
           23.7430029,
           90.38520930000001
          ],
          [
           "Green Gems Int. School.",
           23.7459879,
           90.3740833
          ],
          [
           "BCSIR High School",
           23.7407569,
           90.38635780000001
          ],
          [
           "Daffodil International School",
           23.7540912,
           90.3748935
          ],
          [
           "Cardiff International School Dhaka",
           23.7544959,
           90.3741661
          ],
          [
           "Government Laboratory High School",
           23.736412,
           90.38150879999999
          ],
          [
           "Averroes International School",
           23.7572518,
           90.36902660000001
          ],
          [
           "Holy Cross Girl's School and College",
           23.7582418,
           90.3911304
          ],
          [
           "JAAGO Foundation, Rayer Bazar School",
           23.746983,
           90.3622973
          ],
          [
           "University Laboratory School & College",
           23.7332983,
           90.3901581
          ],
          [
           "Engineering University School & College",
           23.7277447,
           90.3936011
          ],
          [
           "New Model Multilateral High School",
           23.7518734,
           90.3784993
          ],
          [
           "Scholastica",
           23.7446087,
           90.3731241
          ],
          [
           "Little Angles School",
           23.7250335,
           90.38496599999999
          ]
         ],
         "index": [
          0,
          1,
          2,
          3,
          4,
          5,
          6,
          7,
          8,
          9,
          10,
          11,
          12,
          13,
          14,
          15,
          16,
          17,
          18,
          19
         ]
        },
        "stations": {
         "columns": [
          "place",
          "latitude",
          "longitude"
         ],
         "data": [
          [
           "Helipad",
           23.7541347,
           90.4000743
          ],
          [
           "Square Hospital Helipad",
           23.7530355,
           90.38156
          ],
          [
           "Helipad",
           23.7492277,
           90.39427359999999
          ],
          [
           "Sikder Heliport",
           23.7405641,
           90.35812849999999
          ]
         ],
         "index": [
          0,
          1,
          2,
          3
         ]
        }
       },
       "height": 500,
       "layout": "IPY_MODEL_2695821f466945079444c886e89352bb",
       "value": "Hello World!"
      }
     },
     "236d638699ca44f881b76bf03c4882f8": {
      "model_module": "keplergl-jupyter",
      "model_module_version": "^0.1.0",
      "model_name": "KeplerGlModal",
      "state": {
       "_model_module_version": "^0.1.0",
       "_view_module_version": "^0.1.0",
       "config": {
        "config": {
         "mapState": {
          "bearing": 0,
          "dragRotate": false,
          "isSplit": false,
          "latitude": 52.144238099999995,
          "longitude": -106.66539085,
          "pitch": 0,
          "zoom": 13
         },
         "mapStyle": {
          "mapStyles": {},
          "styleType": "dark",
          "threeDBuildingColor": [
           9.665468314072013,
           17.18305478057247,
           31.1442867897876
          ],
          "topLayerGroups": {},
          "visibleLayerGroups": {
           "3d building": false,
           "border": false,
           "building": true,
           "label": true,
           "land": true,
           "road": true,
           "water": true
          }
         },
         "visState": {
          "animationConfig": {
           "currentTime": null,
           "speed": 1
          },
          "filters": [],
          "interactionConfig": {
           "brush": {
            "enabled": false,
            "size": 0.5
           },
           "tooltip": {
            "enabled": true,
            "fieldsToShow": {
             "Final Location": [
              "city"
             ],
             "bars": [
              "place"
             ],
             "schools": [
              "place"
             ],
             "starbucks": [
              "place"
             ],
             "vegan": [
              "place"
             ]
            }
           }
          },
          "layerBlending": "normal",
          "layers": [
           {
            "config": {
             "color": [
              18,
              147,
              154
             ],
             "columns": {
              "altitude": null,
              "lat": "latitude",
              "lng": "longitude"
             },
             "dataId": "Final Location",
             "isVisible": true,
             "label": "Point",
             "textLabel": [
              {
               "alignment": "center",
               "anchor": "start",
               "color": [
                255,
                255,
                255
               ],
               "field": null,
               "offset": [
                0,
                0
               ],
               "size": 18
              }
             ],
             "visConfig": {
              "colorRange": {
               "category": "Uber",
               "colors": [
                "#5A1846",
                "#900C3F",
                "#C70039",
                "#E3611C",
                "#F1920E",
                "#FFC300"
               ],
               "name": "Global Warming",
               "type": "sequential"
              },
              "filled": true,
              "fixedRadius": false,
              "opacity": 0.8,
              "outline": false,
              "radius": 10,
              "radiusRange": [
               0,
               50
              ],
              "strokeColor": null,
              "strokeColorRange": {
               "category": "Uber",
               "colors": [
                "#5A1846",
                "#900C3F",
                "#C70039",
                "#E3611C",
                "#F1920E",
                "#FFC300"
               ],
               "name": "Global Warming",
               "type": "sequential"
              },
              "thickness": 2
             }
            },
            "id": "jnpehic",
            "type": "point",
            "visualChannels": {
             "colorField": null,
             "colorScale": "quantile",
             "sizeField": null,
             "sizeScale": "linear",
             "strokeColorField": null,
             "strokeColorScale": "quantile"
            }
           },
           {
            "config": {
             "color": [
              221,
              178,
              124
             ],
             "columns": {
              "altitude": null,
              "lat": "latitude",
              "lng": "longitude"
             },
             "dataId": "starbucks",
             "isVisible": true,
             "label": "Point",
             "textLabel": [
              {
               "alignment": "center",
               "anchor": "start",
               "color": [
                255,
                255,
                255
               ],
               "field": null,
               "offset": [
                0,
                0
               ],
               "size": 18
              }
             ],
             "visConfig": {
              "colorRange": {
               "category": "Uber",
               "colors": [
                "#5A1846",
                "#900C3F",
                "#C70039",
                "#E3611C",
                "#F1920E",
                "#FFC300"
               ],
               "name": "Global Warming",
               "type": "sequential"
              },
              "filled": true,
              "fixedRadius": false,
              "opacity": 0.8,
              "outline": false,
              "radius": 10,
              "radiusRange": [
               0,
               50
              ],
              "strokeColor": null,
              "strokeColorRange": {
               "category": "Uber",
               "colors": [
                "#5A1846",
                "#900C3F",
                "#C70039",
                "#E3611C",
                "#F1920E",
                "#FFC300"
               ],
               "name": "Global Warming",
               "type": "sequential"
              },
              "thickness": 2
             }
            },
            "id": "yljuct",
            "type": "point",
            "visualChannels": {
             "colorField": null,
             "colorScale": "quantile",
             "sizeField": null,
             "sizeScale": "linear",
             "strokeColorField": null,
             "strokeColorScale": "quantile"
            }
           },
           {
            "config": {
             "color": [
              136,
              87,
              44
             ],
             "columns": {
              "altitude": null,
              "lat": "latitude",
              "lng": "longitude"
             },
             "dataId": "schools",
             "isVisible": true,
             "label": "Point",
             "textLabel": [
              {
               "alignment": "center",
               "anchor": "start",
               "color": [
                255,
                255,
                255
               ],
               "field": null,
               "offset": [
                0,
                0
               ],
               "size": 18
              }
             ],
             "visConfig": {
              "colorRange": {
               "category": "Uber",
               "colors": [
                "#5A1846",
                "#900C3F",
                "#C70039",
                "#E3611C",
                "#F1920E",
                "#FFC300"
               ],
               "name": "Global Warming",
               "type": "sequential"
              },
              "filled": true,
              "fixedRadius": false,
              "opacity": 0.8,
              "outline": false,
              "radius": 10,
              "radiusRange": [
               0,
               50
              ],
              "strokeColor": null,
              "strokeColorRange": {
               "category": "Uber",
               "colors": [
                "#5A1846",
                "#900C3F",
                "#C70039",
                "#E3611C",
                "#F1920E",
                "#FFC300"
               ],
               "name": "Global Warming",
               "type": "sequential"
              },
              "thickness": 2
             }
            },
            "id": "161sp6l",
            "type": "point",
            "visualChannels": {
             "colorField": null,
             "colorScale": "quantile",
             "sizeField": null,
             "sizeScale": "linear",
             "strokeColorField": null,
             "strokeColorScale": "quantile"
            }
           },
           {
            "config": {
             "color": [
              255,
              153,
              31
             ],
             "columns": {
              "altitude": null,
              "lat": "latitude",
              "lng": "longitude"
             },
             "dataId": "bars",
             "isVisible": true,
             "label": "Point",
             "textLabel": [
              {
               "alignment": "center",
               "anchor": "start",
               "color": [
                255,
                255,
                255
               ],
               "field": null,
               "offset": [
                0,
                0
               ],
               "size": 18
              }
             ],
             "visConfig": {
              "colorRange": {
               "category": "Uber",
               "colors": [
                "#5A1846",
                "#900C3F",
                "#C70039",
                "#E3611C",
                "#F1920E",
                "#FFC300"
               ],
               "name": "Global Warming",
               "type": "sequential"
              },
              "filled": true,
              "fixedRadius": false,
              "opacity": 0.8,
              "outline": false,
              "radius": 10,
              "radiusRange": [
               0,
               50
              ],
              "strokeColor": null,
              "strokeColorRange": {
               "category": "Uber",
               "colors": [
                "#5A1846",
                "#900C3F",
                "#C70039",
                "#E3611C",
                "#F1920E",
                "#FFC300"
               ],
               "name": "Global Warming",
               "type": "sequential"
              },
              "thickness": 2
             }
            },
            "id": "zlfsro",
            "type": "point",
            "visualChannels": {
             "colorField": null,
             "colorScale": "quantile",
             "sizeField": null,
             "sizeScale": "linear",
             "strokeColorField": null,
             "strokeColorScale": "quantile"
            }
           },
           {
            "config": {
             "color": [
              241,
              92,
              23
             ],
             "columns": {
              "altitude": null,
              "lat": "latitude",
              "lng": "longitude"
             },
             "dataId": "vegan",
             "isVisible": true,
             "label": "Point",
             "textLabel": [
              {
               "alignment": "center",
               "anchor": "start",
               "color": [
                255,
                255,
                255
               ],
               "field": null,
               "offset": [
                0,
                0
               ],
               "size": 18
              }
             ],
             "visConfig": {
              "colorRange": {
               "category": "Uber",
               "colors": [
                "#5A1846",
                "#900C3F",
                "#C70039",
                "#E3611C",
                "#F1920E",
                "#FFC300"
               ],
               "name": "Global Warming",
               "type": "sequential"
              },
              "filled": true,
              "fixedRadius": false,
              "opacity": 0.8,
              "outline": false,
              "radius": 10,
              "radiusRange": [
               0,
               50
              ],
              "strokeColor": null,
              "strokeColorRange": {
               "category": "Uber",
               "colors": [
                "#5A1846",
                "#900C3F",
                "#C70039",
                "#E3611C",
                "#F1920E",
                "#FFC300"
               ],
               "name": "Global Warming",
               "type": "sequential"
              },
              "thickness": 2
             }
            },
            "id": "2jadwyj",
            "type": "point",
            "visualChannels": {
             "colorField": null,
             "colorScale": "quantile",
             "sizeField": null,
             "sizeScale": "linear",
             "strokeColorField": null,
             "strokeColorScale": "quantile"
            }
           }
          ],
          "splitMaps": []
         }
        },
        "version": "v1"
       },
       "data": {
        "Final Location": {
         "columns": [
          "city",
          "latitude",
          "longitude"
         ],
         "data": [
          [
           "Saskatoon",
           52.143886,
           -106.6634565
          ]
         ],
         "index": [
          1247
         ]
        },
        "bars": {
         "columns": [
          "place",
          "latitude",
          "longitude"
         ],
         "data": [
          [
           "Hudsons Saskatoon",
           52.1263771,
           -106.6609726
          ],
          [
           "Winston's English Pub & Grill",
           52.1268,
           -106.6634549
          ],
          [
           "Cathedral Social Hall",
           52.1267709,
           -106.6594192
          ],
          [
           "Congress Beer House",
           52.126907,
           -106.665293
          ],
          [
           "The Rook & Raven Pub",
           52.127713,
           -106.664077
          ],
          [
           "Red Zone Sports Bar",
           52.1588691,
           -106.6722458
          ],
          [
           "Shark Club Sports Bar & Grill",
           52.1583653,
           -106.6741767
          ],
          [
           "Outlaws Country Rock Bar",
           52.1367803,
           -106.6699082
          ],
          [
           "Fox & Hounds Pub & Brewery",
           52.1597333,
           -106.6456222
          ],
          [
           "Melody Bar",
           52.1260428,
           -106.6634974
          ],
          [
           "Flint",
           52.1261472,
           -106.665375
          ],
          [
           "Finns Irish Pub",
           52.13173399999999,
           -106.6525952
          ],
          [
           "O'Shea's Irish Pub",
           52.1264986,
           -106.6643816
          ],
          [
           "Bartari",
           52.126025,
           -106.6771944
          ],
          [
           "Louis'",
           52.1299684,
           -106.6352134
          ],
          [
           "The Riv Bar",
           52.1575808,
           -106.6722375
          ],
          [
           "Birmingham's Vodka and Ale House Saskatoon",
           52.15898499999999,
           -106.6507974
          ],
          [
           "Manchester Brew Pub",
           52.14404099999999,
           -106.670908
          ],
          [
           "Divas Nightclub",
           52.126377,
           -106.662583
          ],
          [
           "Taverna Italian Kitchen + Bar",
           52.1268818,
           -106.663954
          ]
         ],
         "index": [
          0,
          1,
          2,
          3,
          4,
          5,
          6,
          7,
          8,
          9,
          10,
          11,
          12,
          13,
          14,
          15,
          16,
          17,
          18,
          19
         ]
        },
        "schools": {
         "columns": [
          "place",
          "latitude",
          "longitude"
         ],
         "data": [
          [
           "E. D. Feehan Catholic High School",
           52.13405299999999,
           -106.6890684
          ],
          [
           "Westmount Community School",
           52.1338815,
           -106.6848947
          ],
          [
           "Caswell Community School",
           52.1388107,
           -106.6722033
          ],
          [
           "City Park Collegiate",
           52.139676,
           -106.648072
          ],
          [
           "Mayfair Community School",
           52.146272,
           -106.676687
          ],
          [
           "North Park Wilson School",
           52.1479045,
           -106.6498186
          ],
          [
           "École St. Paul Elementary School",
           52.147756,
           -106.6454079
          ],
          [
           "Princess Alexandra Community School",
           52.12807979999999,
           -106.6810388
          ],
          [
           "École Henry Kelsey School",
           52.14479979999999,
           -106.6882793
          ],
          [
           "Bedford Road Collegiate",
           52.133737,
           -106.6810117
          ],
          [
           "Brunskill School",
           52.1248623,
           -106.6385865
          ],
          [
           "Flex ED School",
           52.1494159,
           -106.6675388
          ],
          [
           "St. Maria Goretti Community School",
           52.1325916,
           -106.6963512
          ],
          [
           "École River Heights School",
           52.1636139,
           -106.6344305
          ],
          [
           "St. Mary's Wellness & Education Centre",
           52.1249032,
           -106.6908406
          ],
          [
           "St. Edward School",
           52.1405373,
           -106.693808
          ],
          [
           "Newcomer Student Centre - Saskatoon Public Schools",
           52.1270164,
           -106.6623526
          ],
          [
           "Post-Secondary Education & Skills Training",
           52.12864039999999,
           -106.6651608
          ]
         ],
         "index": [
          0,
          1,
          2,
          3,
          4,
          5,
          6,
          7,
          8,
          9,
          10,
          11,
          12,
          13,
          14,
          15,
          16,
          17
         ]
        },
        "starbucks": {
         "columns": [
          "place",
          "latitude",
          "longitude"
         ],
         "data": [
          [
           "Starbucks",
           52.1315654,
           -106.6409981
          ],
          [
           "Starbucks",
           52.1285414,
           -106.6636211
          ],
          [
           "Starbucks",
           52.1311913,
           -106.6369734
          ],
          [
           "Starbucks",
           52.1276455,
           -106.6664984
          ],
          [
           "Starbucks",
           52.1475915,
           -106.670829
          ],
          [
           "Starbucks",
           52.1584278,
           -106.6636507
          ]
         ],
         "index": [
          0,
          1,
          2,
          3,
          4,
          5
         ]
        },
        "stations": "no",
        "vegan": {
         "columns": [
          "place",
          "latitude",
          "longitude"
         ],
         "data": [
          [
           "The Karma - Conscious Café & Eatery",
           52.130243,
           -106.6633351
          ],
          [
           "Yay! Thai",
           52.1277832,
           -106.664059
          ],
          [
           "The Griffin Takeaway",
           52.1393225,
           -106.6526751
          ],
          [
           "Seasoned Fusion Tastes",
           52.127114,
           -106.6633115
          ],
          [
           "Leyda's Cafe",
           52.12624,
           -106.6707697
          ],
          [
           "Odd Couple Restaurant",
           52.126256,
           -106.6728275
          ],
          [
           "Pizza Pirates",
           52.1295711,
           -106.6930952
          ],
          [
           "Hometown Diner",
           52.1262749,
           -106.6723029
          ],
          [
           "Poached Breakfast Bistro",
           52.1261444,
           -106.665375
          ],
          [
           "Cactus Club Cafe Idylwyld Drive",
           52.1276583,
           -106.669775
          ],
          [
           "Spicy Bite",
           52.1278988,
           -106.6629386
          ],
          [
           "Picaro Cocktails & Tacos",
           52.125685,
           -106.6704665
          ],
          [
           "Freshii",
           52.1277167,
           -106.6645874
          ],
          [
           "Flanagan's Steakhouse",
           52.1267045,
           -106.6635229
          ],
          [
           "Genesis Family Restaurant",
           52.128916,
           -106.6834179
          ],
          [
           "Season's Cafe & Eatery",
           52.15499579999999,
           -106.6848518
          ],
          [
           "Saba's African Cuisine",
           52.1290207,
           -106.6830997
          ],
          [
           "Earls Kitchen + Bar - Takeout & Delivery",
           52.136891,
           -106.659574
          ],
          [
           "Taverna Italian Kitchen + Bar",
           52.1268818,
           -106.663954
          ],
          [
           "The Rook & Raven Pub",
           52.127713,
           -106.664077
          ]
         ],
         "index": [
          0,
          1,
          2,
          3,
          4,
          5,
          6,
          7,
          8,
          9,
          10,
          11,
          12,
          13,
          14,
          15,
          16,
          17,
          18,
          19
         ]
        }
       },
       "height": 500,
       "layout": "IPY_MODEL_7f146575f25c40618a8f3d0c09dab026",
       "value": "Hello World!"
      }
     },
     "237e1bb6a8ed4d3fb5f08b111c7b4d1d": {
      "model_module": "@jupyter-widgets/base",
      "model_module_version": "1.2.0",
      "model_name": "LayoutModel",
      "state": {}
     },
     "243b2555d111431f88cd3abd6327ea05": {
      "model_module": "keplergl-jupyter",
      "model_module_version": "^0.1.0",
      "model_name": "KeplerGlModal",
      "state": {
       "_model_module_version": "^0.1.0",
       "_view_module_version": "^0.1.0",
       "config": {
        "config": {
         "mapState": {
          "bearing": 0,
          "dragRotate": false,
          "isSplit": false,
          "latitude": -12.049999999999999,
          "longitude": -60.995,
          "pitch": 0,
          "zoom": 3
         },
         "mapStyle": {
          "mapStyles": {},
          "styleType": "dark",
          "threeDBuildingColor": [
           9.665468314072013,
           17.18305478057247,
           31.1442867897876
          ],
          "topLayerGroups": {},
          "visibleLayerGroups": {
           "3d building": false,
           "border": false,
           "building": true,
           "label": true,
           "land": true,
           "road": true,
           "water": true
          }
         },
         "visState": {
          "animationConfig": {
           "currentTime": null,
           "speed": 1
          },
          "filters": [],
          "interactionConfig": {
           "brush": {
            "enabled": false,
            "size": 0.5
           },
           "tooltip": {
            "enabled": true,
            "fieldsToShow": {
             "cities": [
              "City",
              "Latitude",
              "Longitude"
             ]
            }
           }
          },
          "layerBlending": "normal",
          "layers": [
           {
            "config": {
             "color": [
              18,
              92,
              119
             ],
             "columns": {
              "altitude": null,
              "lat": "Latitude",
              "lng": "Longitude"
             },
             "dataId": "cities",
             "isVisible": true,
             "label": "Point",
             "textLabel": [
              {
               "alignment": "center",
               "anchor": "start",
               "color": [
                255,
                255,
                255
               ],
               "field": null,
               "offset": [
                0,
                0
               ],
               "size": 18
              }
             ],
             "visConfig": {
              "colorRange": {
               "category": "Uber",
               "colors": [
                "#5A1846",
                "#900C3F",
                "#C70039",
                "#E3611C",
                "#F1920E",
                "#FFC300"
               ],
               "name": "Global Warming",
               "type": "sequential"
              },
              "filled": true,
              "fixedRadius": false,
              "opacity": 0.8,
              "outline": false,
              "radius": 10,
              "radiusRange": [
               0,
               50
              ],
              "strokeColor": null,
              "strokeColorRange": {
               "category": "Uber",
               "colors": [
                "#5A1846",
                "#900C3F",
                "#C70039",
                "#E3611C",
                "#F1920E",
                "#FFC300"
               ],
               "name": "Global Warming",
               "type": "sequential"
              },
              "thickness": 2
             }
            },
            "id": "4ynfkz",
            "type": "point",
            "visualChannels": {
             "colorField": null,
             "colorScale": "quantile",
             "sizeField": null,
             "sizeScale": "linear",
             "strokeColorField": null,
             "strokeColorScale": "quantile"
            }
           }
          ],
          "splitMaps": []
         }
        },
        "version": "v1"
       },
       "data": {
        "cities": {
         "columns": [
          "City",
          "Latitude",
          "Longitude"
         ],
         "data": [
          [
           "Buenos Aires",
           -34.58,
           -58.66
          ],
          [
           "Brasilia",
           -15.78,
           -47.91
          ],
          [
           "Santiago",
           -33.45,
           -70.66
          ],
          [
           "Bogota",
           4.6,
           -74.08
          ],
          [
           "Caracas",
           10.48,
           -66.86
          ]
         ],
         "index": [
          0,
          1,
          2,
          3,
          4
         ]
        }
       },
       "height": 500,
       "layout": "IPY_MODEL_171172b544c74f4ab22c49c872ebcbba",
       "value": "Hello World!"
      }
     },
     "2695821f466945079444c886e89352bb": {
      "model_module": "@jupyter-widgets/base",
      "model_module_version": "1.2.0",
      "model_name": "LayoutModel",
      "state": {}
     },
     "276c89ae93064c51a609519a703d231b": {
      "model_module": "@jupyter-widgets/base",
      "model_module_version": "1.2.0",
      "model_name": "LayoutModel",
      "state": {}
     },
     "27f0b70250344e05a0dbc0755560d201": {
      "model_module": "@jupyter-widgets/base",
      "model_module_version": "1.2.0",
      "model_name": "LayoutModel",
      "state": {}
     },
     "2d2a83f4129040be8bcacee3cedd479d": {
      "model_module": "@jupyter-widgets/base",
      "model_module_version": "1.2.0",
      "model_name": "LayoutModel",
      "state": {}
     },
     "344ab843e44844f1a24c2e47afdd9c5d": {
      "model_module": "@jupyter-widgets/base",
      "model_module_version": "1.2.0",
      "model_name": "LayoutModel",
      "state": {}
     },
     "34577ec2951e43eaae8c3d44c7f03b21": {
      "model_module": "@jupyter-widgets/base",
      "model_module_version": "1.2.0",
      "model_name": "LayoutModel",
      "state": {}
     },
     "36f00ecfbf064046ad2fa2efef0dcf83": {
      "model_module": "@jupyter-widgets/base",
      "model_module_version": "1.2.0",
      "model_name": "LayoutModel",
      "state": {}
     },
     "3c9cfd75607348afb16c11a2d1e26c0b": {
      "model_module": "keplergl-jupyter",
      "model_module_version": "^0.1.0",
      "model_name": "KeplerGlModal",
      "state": {
       "_model_module_version": "^0.1.0",
       "_view_module_version": "^0.1.0",
       "config": {
        "config": {
         "mapState": {
          "bearing": 0,
          "dragRotate": false,
          "isSplit": false,
          "latitude": -12.049999999999999,
          "longitude": -60.995,
          "pitch": 0,
          "zoom": 3
         },
         "mapStyle": {
          "mapStyles": {},
          "styleType": "dark",
          "threeDBuildingColor": [
           9.665468314072013,
           17.18305478057247,
           31.1442867897876
          ],
          "topLayerGroups": {},
          "visibleLayerGroups": {
           "3d building": false,
           "border": false,
           "building": true,
           "label": true,
           "land": true,
           "road": true,
           "water": true
          }
         },
         "visState": {
          "animationConfig": {
           "currentTime": null,
           "speed": 1
          },
          "filters": [],
          "interactionConfig": {
           "brush": {
            "enabled": false,
            "size": 0.5
           },
           "tooltip": {
            "enabled": true,
            "fieldsToShow": {
             "cities": [
              "City",
              "Latitude",
              "Longitude"
             ]
            }
           }
          },
          "layerBlending": "normal",
          "layers": [
           {
            "config": {
             "color": [
              255,
              203,
              153
             ],
             "columns": {
              "altitude": null,
              "lat": "Latitude",
              "lng": "Longitude"
             },
             "dataId": "cities",
             "isVisible": true,
             "label": "Point",
             "textLabel": [
              {
               "alignment": "center",
               "anchor": "start",
               "color": [
                255,
                255,
                255
               ],
               "field": null,
               "offset": [
                0,
                0
               ],
               "size": 18
              }
             ],
             "visConfig": {
              "colorRange": {
               "category": "Uber",
               "colors": [
                "#5A1846",
                "#900C3F",
                "#C70039",
                "#E3611C",
                "#F1920E",
                "#FFC300"
               ],
               "name": "Global Warming",
               "type": "sequential"
              },
              "filled": true,
              "fixedRadius": false,
              "opacity": 0.8,
              "outline": false,
              "radius": 10,
              "radiusRange": [
               0,
               50
              ],
              "strokeColor": null,
              "strokeColorRange": {
               "category": "Uber",
               "colors": [
                "#5A1846",
                "#900C3F",
                "#C70039",
                "#E3611C",
                "#F1920E",
                "#FFC300"
               ],
               "name": "Global Warming",
               "type": "sequential"
              },
              "thickness": 2
             }
            },
            "id": "n0tnhgp",
            "type": "point",
            "visualChannels": {
             "colorField": null,
             "colorScale": "quantile",
             "sizeField": null,
             "sizeScale": "linear",
             "strokeColorField": null,
             "strokeColorScale": "quantile"
            }
           }
          ],
          "splitMaps": []
         }
        },
        "version": "v1"
       },
       "data": {
        "cities": {
         "columns": [
          "City",
          "Latitude",
          "Longitude"
         ],
         "data": [
          [
           "Buenos Aires",
           -34.58,
           -58.66
          ],
          [
           "Brasilia",
           -15.78,
           -47.91
          ],
          [
           "Santiago",
           -33.45,
           -70.66
          ],
          [
           "Bogota",
           4.6,
           -74.08
          ],
          [
           "Caracas",
           10.48,
           -66.86
          ]
         ],
         "index": [
          0,
          1,
          2,
          3,
          4
         ]
        }
       },
       "height": 500,
       "layout": "IPY_MODEL_237e1bb6a8ed4d3fb5f08b111c7b4d1d",
       "value": "Hello World!"
      }
     },
     "40e112aade1d4890a654eaf07013981a": {
      "model_module": "keplergl-jupyter",
      "model_module_version": "^0.1.0",
      "model_name": "KeplerGlModal",
      "state": {
       "_model_module_version": "^0.1.0",
       "_view_module_version": "^0.1.0",
       "config": {
        "config": {
         "mapState": {
          "bearing": 24,
          "dragRotate": true,
          "isSplit": false,
          "latitude": 52.136511023675574,
          "longitude": -106.67198425759962,
          "pitch": 50,
          "zoom": 13.04262880832321
         },
         "mapStyle": {
          "mapStyles": {},
          "styleType": "dark",
          "threeDBuildingColor": [
           9.665468314072013,
           17.18305478057247,
           31.1442867897876
          ],
          "topLayerGroups": {},
          "visibleLayerGroups": {
           "3d building": true,
           "border": false,
           "building": true,
           "label": true,
           "land": true,
           "road": true,
           "water": true
          }
         },
         "visState": {
          "animationConfig": {
           "currentTime": null,
           "speed": 1
          },
          "filters": [],
          "interactionConfig": {
           "brush": {
            "enabled": false,
            "size": 0.5
           },
           "tooltip": {
            "enabled": true,
            "fieldsToShow": {
             "Final Location": [
              "city"
             ],
             "bars": [
              "place"
             ],
             "schools": [
              "place"
             ],
             "starbucks": [
              "place"
             ],
             "vegan": [
              "place"
             ]
            }
           }
          },
          "layerBlending": "normal",
          "layers": [
           {
            "config": {
             "color": [
              136,
              87,
              44
             ],
             "columns": {
              "altitude": null,
              "lat": "latitude",
              "lng": "longitude"
             },
             "dataId": "Final Location",
             "isVisible": true,
             "label": "City",
             "textLabel": [
              {
               "alignment": "center",
               "anchor": "start",
               "color": [
                255,
                255,
                255
               ],
               "field": {
                "name": "city",
                "type": "string"
               },
               "offset": [
                0,
                0
               ],
               "size": 18
              }
             ],
             "visConfig": {
              "colorRange": {
               "category": "Uber",
               "colors": [
                "#5A1846",
                "#900C3F",
                "#C70039",
                "#E3611C",
                "#F1920E",
                "#FFC300"
               ],
               "name": "Global Warming",
               "type": "sequential"
              },
              "filled": true,
              "fixedRadius": false,
              "opacity": 0.8,
              "outline": false,
              "radius": 34.7,
              "radiusRange": [
               0,
               50
              ],
              "strokeColor": null,
              "strokeColorRange": {
               "category": "Uber",
               "colors": [
                "#5A1846",
                "#900C3F",
                "#C70039",
                "#E3611C",
                "#F1920E",
                "#FFC300"
               ],
               "name": "Global Warming",
               "type": "sequential"
              },
              "thickness": 2
             }
            },
            "id": "d35u2nb",
            "type": "point",
            "visualChannels": {
             "colorField": null,
             "colorScale": "quantile",
             "sizeField": null,
             "sizeScale": "linear",
             "strokeColorField": null,
             "strokeColorScale": "quantile"
            }
           },
           {
            "config": {
             "color": [
              255,
              153,
              31
             ],
             "columns": {
              "altitude": null,
              "lat": "latitude",
              "lng": "longitude"
             },
             "dataId": "starbucks",
             "isVisible": true,
             "label": "Starbucks",
             "textLabel": [
              {
               "alignment": "center",
               "anchor": "start",
               "color": [
                255,
                255,
                255
               ],
               "field": null,
               "offset": [
                0,
                0
               ],
               "size": 18
              }
             ],
             "visConfig": {
              "colorRange": {
               "category": "Uber",
               "colors": [
                "#5A1846",
                "#900C3F",
                "#C70039",
                "#E3611C",
                "#F1920E",
                "#FFC300"
               ],
               "name": "Global Warming",
               "type": "sequential"
              },
              "filled": true,
              "fixedRadius": false,
              "opacity": 0.8,
              "outline": false,
              "radius": 10,
              "radiusRange": [
               0,
               50
              ],
              "strokeColor": null,
              "strokeColorRange": {
               "category": "Uber",
               "colors": [
                "#5A1846",
                "#900C3F",
                "#C70039",
                "#E3611C",
                "#F1920E",
                "#FFC300"
               ],
               "name": "Global Warming",
               "type": "sequential"
              },
              "thickness": 2
             }
            },
            "id": "s11vhl",
            "type": "point",
            "visualChannels": {
             "colorField": null,
             "colorScale": "quantile",
             "sizeField": null,
             "sizeScale": "linear",
             "strokeColorField": null,
             "strokeColorScale": "quantile"
            }
           },
           {
            "config": {
             "color": [
              241,
              92,
              23
             ],
             "columns": {
              "altitude": null,
              "lat": "latitude",
              "lng": "longitude"
             },
             "dataId": "schools",
             "isVisible": true,
             "label": "Schools",
             "textLabel": [
              {
               "alignment": "center",
               "anchor": "start",
               "color": [
                255,
                255,
                255
               ],
               "field": null,
               "offset": [
                0,
                0
               ],
               "size": 18
              }
             ],
             "visConfig": {
              "colorRange": {
               "category": "Uber",
               "colors": [
                "#5A1846",
                "#900C3F",
                "#C70039",
                "#E3611C",
                "#F1920E",
                "#FFC300"
               ],
               "name": "Global Warming",
               "type": "sequential"
              },
              "filled": true,
              "fixedRadius": false,
              "opacity": 0.8,
              "outline": false,
              "radius": 10,
              "radiusRange": [
               0,
               50
              ],
              "strokeColor": null,
              "strokeColorRange": {
               "category": "Uber",
               "colors": [
                "#5A1846",
                "#900C3F",
                "#C70039",
                "#E3611C",
                "#F1920E",
                "#FFC300"
               ],
               "name": "Global Warming",
               "type": "sequential"
              },
              "thickness": 2
             }
            },
            "id": "nqnauv4",
            "type": "point",
            "visualChannels": {
             "colorField": null,
             "colorScale": "quantile",
             "sizeField": null,
             "sizeScale": "linear",
             "strokeColorField": null,
             "strokeColorScale": "quantile"
            }
           },
           {
            "config": {
             "color": [
              34,
              63,
              154
             ],
             "columns": {
              "altitude": null,
              "lat": "latitude",
              "lng": "longitude"
             },
             "dataId": "bars",
             "isVisible": true,
             "label": "Bars",
             "textLabel": [
              {
               "alignment": "center",
               "anchor": "start",
               "color": [
                255,
                255,
                255
               ],
               "field": null,
               "offset": [
                0,
                0
               ],
               "size": 18
              }
             ],
             "visConfig": {
              "colorRange": {
               "category": "Uber",
               "colors": [
                "#5A1846",
                "#900C3F",
                "#C70039",
                "#E3611C",
                "#F1920E",
                "#FFC300"
               ],
               "name": "Global Warming",
               "type": "sequential"
              },
              "filled": true,
              "fixedRadius": false,
              "opacity": 0.8,
              "outline": false,
              "radius": 10,
              "radiusRange": [
               0,
               50
              ],
              "strokeColor": null,
              "strokeColorRange": {
               "category": "Uber",
               "colors": [
                "#5A1846",
                "#900C3F",
                "#C70039",
                "#E3611C",
                "#F1920E",
                "#FFC300"
               ],
               "name": "Global Warming",
               "type": "sequential"
              },
              "thickness": 2
             }
            },
            "id": "7feug5p",
            "type": "point",
            "visualChannels": {
             "colorField": null,
             "colorScale": "quantile",
             "sizeField": null,
             "sizeScale": "linear",
             "strokeColorField": null,
             "strokeColorScale": "quantile"
            }
           },
           {
            "config": {
             "color": [
              218,
              112,
              191
             ],
             "columns": {
              "altitude": null,
              "lat": "latitude",
              "lng": "longitude"
             },
             "dataId": "vegan",
             "isVisible": true,
             "label": "Vegan Restaurants",
             "textLabel": [
              {
               "alignment": "center",
               "anchor": "start",
               "color": [
                255,
                255,
                255
               ],
               "field": null,
               "offset": [
                0,
                0
               ],
               "size": 18
              }
             ],
             "visConfig": {
              "colorRange": {
               "category": "Uber",
               "colors": [
                "#5A1846",
                "#900C3F",
                "#C70039",
                "#E3611C",
                "#F1920E",
                "#FFC300"
               ],
               "name": "Global Warming",
               "type": "sequential"
              },
              "filled": true,
              "fixedRadius": false,
              "opacity": 0.8,
              "outline": false,
              "radius": 10,
              "radiusRange": [
               0,
               50
              ],
              "strokeColor": null,
              "strokeColorRange": {
               "category": "Uber",
               "colors": [
                "#5A1846",
                "#900C3F",
                "#C70039",
                "#E3611C",
                "#F1920E",
                "#FFC300"
               ],
               "name": "Global Warming",
               "type": "sequential"
              },
              "thickness": 2
             }
            },
            "id": "dnt6b8",
            "type": "point",
            "visualChannels": {
             "colorField": null,
             "colorScale": "quantile",
             "sizeField": null,
             "sizeScale": "linear",
             "strokeColorField": null,
             "strokeColorScale": "quantile"
            }
           }
          ],
          "splitMaps": []
         }
        },
        "version": "v1"
       },
       "data": {
        "Final Location": {
         "columns": [
          "city",
          "latitude",
          "longitude"
         ],
         "data": [
          [
           "Saskatoon",
           52.143886,
           -106.6634565
          ]
         ],
         "index": [
          1247
         ]
        },
        "bars": {
         "columns": [
          "place",
          "latitude",
          "longitude"
         ],
         "data": [
          [
           "Hudsons Saskatoon",
           52.1263771,
           -106.6609726
          ],
          [
           "Winston's English Pub & Grill",
           52.1268,
           -106.6634549
          ],
          [
           "Cathedral Social Hall",
           52.1267709,
           -106.6594192
          ],
          [
           "Congress Beer House",
           52.126907,
           -106.665293
          ],
          [
           "The Rook & Raven Pub",
           52.127713,
           -106.664077
          ],
          [
           "Red Zone Sports Bar",
           52.1588691,
           -106.6722458
          ],
          [
           "Shark Club Sports Bar & Grill",
           52.1583653,
           -106.6741767
          ],
          [
           "Outlaws Country Rock Bar",
           52.1367803,
           -106.6699082
          ],
          [
           "Fox & Hounds Pub & Brewery",
           52.1597333,
           -106.6456222
          ],
          [
           "Melody Bar",
           52.1260428,
           -106.6634974
          ],
          [
           "Flint",
           52.1261472,
           -106.665375
          ],
          [
           "Dogg House",
           52.1499573,
           -106.6707325
          ],
          [
           "Bartari",
           52.126025,
           -106.6771944
          ],
          [
           "Louis'",
           52.1299684,
           -106.6352134
          ],
          [
           "The Riv Bar",
           52.1575808,
           -106.6722375
          ],
          [
           "Birmingham's Vodka and Ale House Saskatoon",
           52.15898499999999,
           -106.6507974
          ],
          [
           "Manchester Brew Pub",
           52.14404099999999,
           -106.670908
          ],
          [
           "Divas Nightclub",
           52.126377,
           -106.662583
          ],
          [
           "Finns Irish Pub",
           52.13173399999999,
           -106.6525952
          ],
          [
           "Taverna Italian Kitchen + Bar",
           52.1268818,
           -106.663954
          ]
         ],
         "index": [
          0,
          1,
          2,
          3,
          4,
          5,
          6,
          7,
          8,
          9,
          10,
          11,
          12,
          13,
          14,
          15,
          16,
          17,
          18,
          19
         ]
        },
        "schools": {
         "columns": [
          "place",
          "latitude",
          "longitude"
         ],
         "data": [
          [
           "E. D. Feehan Catholic High School",
           52.13405299999999,
           -106.6890684
          ],
          [
           "Westmount Community School",
           52.1338815,
           -106.6848947
          ],
          [
           "Caswell Community School",
           52.1388107,
           -106.6722033
          ],
          [
           "City Park Collegiate",
           52.139676,
           -106.648072
          ],
          [
           "Mayfair Community School",
           52.146272,
           -106.676687
          ],
          [
           "North Park Wilson School",
           52.1479045,
           -106.6498186
          ],
          [
           "École St. Paul Elementary School",
           52.147756,
           -106.6454079
          ],
          [
           "Princess Alexandra Community School",
           52.12807979999999,
           -106.6810388
          ],
          [
           "École Henry Kelsey School",
           52.14479979999999,
           -106.6882793
          ],
          [
           "Bedford Road Collegiate",
           52.133737,
           -106.6810117
          ],
          [
           "Brunskill School",
           52.1248623,
           -106.6385865
          ],
          [
           "École River Heights School",
           52.1636139,
           -106.6344305
          ],
          [
           "Flex ED School",
           52.1494159,
           -106.6675388
          ],
          [
           "St. Maria Goretti Community School",
           52.1325916,
           -106.6963512
          ],
          [
           "St. Edward School",
           52.1405373,
           -106.693808
          ],
          [
           "St. Mary's Wellness & Education Centre",
           52.1249032,
           -106.6908406
          ],
          [
           "Newcomer Student Centre - Saskatoon Public Schools",
           52.1270164,
           -106.6623526
          ],
          [
           "Post-Secondary Education & Skills Training",
           52.12864039999999,
           -106.6651608
          ]
         ],
         "index": [
          0,
          1,
          2,
          3,
          4,
          5,
          6,
          7,
          8,
          9,
          10,
          11,
          12,
          13,
          14,
          15,
          16,
          17
         ]
        },
        "starbucks": {
         "columns": [
          "place",
          "latitude",
          "longitude"
         ],
         "data": [
          [
           "Starbucks",
           52.1315654,
           -106.6409981
          ],
          [
           "Starbucks",
           52.1285414,
           -106.6636211
          ],
          [
           "Starbucks",
           52.1311913,
           -106.6369734
          ],
          [
           "Starbucks",
           52.1276455,
           -106.6664984
          ],
          [
           "Starbucks",
           52.1475915,
           -106.670829
          ],
          [
           "Starbucks",
           52.1584278,
           -106.6636507
          ]
         ],
         "index": [
          0,
          1,
          2,
          3,
          4,
          5
         ]
        },
        "stations": "no",
        "vegan": {
         "columns": [
          "place",
          "latitude",
          "longitude"
         ],
         "data": [
          [
           "The Karma - Conscious Café & Eatery",
           52.130243,
           -106.6633351
          ],
          [
           "Yay! Thai",
           52.1277832,
           -106.664059
          ],
          [
           "The Griffin Takeaway",
           52.1393225,
           -106.6526751
          ],
          [
           "Seasoned Fusion Tastes",
           52.127114,
           -106.6633115
          ],
          [
           "Leyda's Cafe",
           52.12624,
           -106.6707697
          ],
          [
           "Odd Couple Restaurant",
           52.126256,
           -106.6728275
          ],
          [
           "Pizza Pirates",
           52.1295711,
           -106.6930952
          ],
          [
           "Hometown Diner",
           52.1262749,
           -106.6723029
          ],
          [
           "Poached Breakfast Bistro",
           52.1261444,
           -106.665375
          ],
          [
           "Cactus Club Cafe Idylwyld Drive",
           52.1276583,
           -106.669775
          ],
          [
           "Spicy Bite",
           52.1278988,
           -106.6629386
          ],
          [
           "Picaro Cocktails & Tacos",
           52.125685,
           -106.6704665
          ],
          [
           "Freshii",
           52.1277167,
           -106.6645874
          ],
          [
           "Flanagan's Steakhouse",
           52.1267045,
           -106.6635229
          ],
          [
           "Genesis Family Restaurant",
           52.128916,
           -106.6834179
          ],
          [
           "Season's Cafe & Eatery",
           52.15499579999999,
           -106.6848518
          ],
          [
           "Saba's African Cuisine",
           52.1290207,
           -106.6830997
          ],
          [
           "Earls Kitchen + Bar - Takeout & Delivery",
           52.136891,
           -106.659574
          ],
          [
           "Taverna Italian Kitchen + Bar",
           52.1268818,
           -106.663954
          ],
          [
           "The Rook & Raven Pub",
           52.127713,
           -106.664077
          ]
         ],
         "index": [
          0,
          1,
          2,
          3,
          4,
          5,
          6,
          7,
          8,
          9,
          10,
          11,
          12,
          13,
          14,
          15,
          16,
          17,
          18,
          19
         ]
        }
       },
       "height": 500,
       "layout": "IPY_MODEL_44e4a3fdbecc445583ba3e128657a345",
       "value": "Hello World!"
      }
     },
     "444473abb4ec4b989e54431a038ec1c1": {
      "model_module": "keplergl-jupyter",
      "model_module_version": "^0.1.0",
      "model_name": "KeplerGlModal",
      "state": {
       "_model_module_version": "^0.1.0",
       "_view_module_version": "^0.1.0",
       "config": {
        "config": {
         "mapState": {
          "bearing": 0,
          "dragRotate": false,
          "isSplit": false,
          "latitude": 69.64828115960944,
          "longitude": 18.955465578206113,
          "pitch": 0,
          "zoom": 12.020112593783319
         },
         "mapStyle": {
          "mapStyles": {},
          "styleType": "dark",
          "threeDBuildingColor": [
           9.665468314072013,
           17.18305478057247,
           31.1442867897876
          ],
          "topLayerGroups": {},
          "visibleLayerGroups": {
           "3d building": false,
           "border": false,
           "building": true,
           "label": true,
           "land": true,
           "road": true,
           "water": true
          }
         },
         "visState": {
          "animationConfig": {
           "currentTime": null,
           "speed": 1
          },
          "filters": [],
          "interactionConfig": {
           "brush": {
            "enabled": false,
            "size": 0.5
           },
           "tooltip": {
            "enabled": true,
            "fieldsToShow": {
             "Final Location": [
              "city"
             ],
             "bars": [
              "place"
             ],
             "schools": [
              "place"
             ],
             "stations": [
              "place"
             ],
             "vegan": [
              "place"
             ]
            }
           }
          },
          "layerBlending": "normal",
          "layers": [
           {
            "config": {
             "color": [
              221,
              178,
              124
             ],
             "columns": {
              "altitude": null,
              "lat": "latitude",
              "lng": "longitude"
             },
             "dataId": "Final Location",
             "isVisible": true,
             "label": "City",
             "textLabel": [
              {
               "alignment": "center",
               "anchor": "start",
               "color": [
                255,
                255,
                255
               ],
               "field": {
                "name": "city",
                "type": "string"
               },
               "offset": [
                0,
                0
               ],
               "size": 18
              }
             ],
             "visConfig": {
              "colorRange": {
               "category": "Uber",
               "colors": [
                "#5A1846",
                "#900C3F",
                "#C70039",
                "#E3611C",
                "#F1920E",
                "#FFC300"
               ],
               "name": "Global Warming",
               "type": "sequential"
              },
              "filled": true,
              "fixedRadius": false,
              "opacity": 0.8,
              "outline": false,
              "radius": 29,
              "radiusRange": [
               0,
               50
              ],
              "strokeColor": null,
              "strokeColorRange": {
               "category": "Uber",
               "colors": [
                "#5A1846",
                "#900C3F",
                "#C70039",
                "#E3611C",
                "#F1920E",
                "#FFC300"
               ],
               "name": "Global Warming",
               "type": "sequential"
              },
              "thickness": 2
             }
            },
            "id": "xaxi0xi",
            "type": "point",
            "visualChannels": {
             "colorField": null,
             "colorScale": "quantile",
             "sizeField": null,
             "sizeScale": "linear",
             "strokeColorField": null,
             "strokeColorScale": "quantile"
            }
           },
           {
            "config": {
             "color": [
              136,
              87,
              44
             ],
             "columns": {
              "altitude": null,
              "lat": "latitude",
              "lng": "longitude"
             },
             "dataId": "schools",
             "isVisible": true,
             "label": "Schools",
             "textLabel": [],
             "visConfig": {
              "colorRange": {
               "category": "Uber",
               "colors": [
                "#5A1846",
                "#900C3F",
                "#C70039",
                "#E3611C",
                "#F1920E",
                "#FFC300"
               ],
               "name": "Global Warming",
               "type": "sequential"
              },
              "filled": true,
              "fixedRadius": false,
              "opacity": 0.8,
              "outline": false,
              "radius": 10,
              "radiusRange": [
               0,
               50
              ],
              "strokeColor": null,
              "strokeColorRange": {
               "category": "Uber",
               "colors": [
                "#5A1846",
                "#900C3F",
                "#C70039",
                "#E3611C",
                "#F1920E",
                "#FFC300"
               ],
               "name": "Global Warming",
               "type": "sequential"
              },
              "thickness": 2
             }
            },
            "id": "26m94j6",
            "type": "point",
            "visualChannels": {
             "colorField": null,
             "colorScale": "quantile",
             "sizeField": null,
             "sizeScale": "linear",
             "strokeColorField": null,
             "strokeColorScale": "quantile"
            }
           },
           {
            "config": {
             "color": [
              255,
              153,
              31
             ],
             "columns": {
              "altitude": null,
              "lat": "latitude",
              "lng": "longitude"
             },
             "dataId": "bars",
             "isVisible": true,
             "label": "Point",
             "textLabel": [
              {
               "alignment": "center",
               "anchor": "start",
               "color": [
                255,
                255,
                255
               ],
               "field": null,
               "offset": [
                0,
                0
               ],
               "size": 18
              }
             ],
             "visConfig": {
              "colorRange": {
               "category": "Uber",
               "colors": [
                "#5A1846",
                "#900C3F",
                "#C70039",
                "#E3611C",
                "#F1920E",
                "#FFC300"
               ],
               "name": "Global Warming",
               "type": "sequential"
              },
              "filled": true,
              "fixedRadius": false,
              "opacity": 0.8,
              "outline": false,
              "radius": 10,
              "radiusRange": [
               0,
               50
              ],
              "strokeColor": null,
              "strokeColorRange": {
               "category": "Uber",
               "colors": [
                "#5A1846",
                "#900C3F",
                "#C70039",
                "#E3611C",
                "#F1920E",
                "#FFC300"
               ],
               "name": "Global Warming",
               "type": "sequential"
              },
              "thickness": 2
             }
            },
            "id": "utd2x3k",
            "type": "point",
            "visualChannels": {
             "colorField": null,
             "colorScale": "quantile",
             "sizeField": null,
             "sizeScale": "linear",
             "strokeColorField": null,
             "strokeColorScale": "quantile"
            }
           },
           {
            "config": {
             "color": [
              241,
              92,
              23
             ],
             "columns": {
              "altitude": null,
              "lat": "latitude",
              "lng": "longitude"
             },
             "dataId": "stations",
             "isVisible": true,
             "label": "Point",
             "textLabel": [
              {
               "alignment": "center",
               "anchor": "start",
               "color": [
                255,
                255,
                255
               ],
               "field": null,
               "offset": [
                0,
                0
               ],
               "size": 18
              }
             ],
             "visConfig": {
              "colorRange": {
               "category": "Uber",
               "colors": [
                "#5A1846",
                "#900C3F",
                "#C70039",
                "#E3611C",
                "#F1920E",
                "#FFC300"
               ],
               "name": "Global Warming",
               "type": "sequential"
              },
              "filled": true,
              "fixedRadius": false,
              "opacity": 0.8,
              "outline": false,
              "radius": 10,
              "radiusRange": [
               0,
               50
              ],
              "strokeColor": null,
              "strokeColorRange": {
               "category": "Uber",
               "colors": [
                "#5A1846",
                "#900C3F",
                "#C70039",
                "#E3611C",
                "#F1920E",
                "#FFC300"
               ],
               "name": "Global Warming",
               "type": "sequential"
              },
              "thickness": 2
             }
            },
            "id": "81l9qnx",
            "type": "point",
            "visualChannels": {
             "colorField": null,
             "colorScale": "quantile",
             "sizeField": null,
             "sizeScale": "linear",
             "strokeColorField": null,
             "strokeColorScale": "quantile"
            }
           },
           {
            "config": {
             "color": [
              34,
              63,
              154
             ],
             "columns": {
              "altitude": null,
              "lat": "latitude",
              "lng": "longitude"
             },
             "dataId": "vegan",
             "isVisible": true,
             "label": "Point",
             "textLabel": [
              {
               "alignment": "center",
               "anchor": "start",
               "color": [
                255,
                255,
                255
               ],
               "field": null,
               "offset": [
                0,
                0
               ],
               "size": 18
              }
             ],
             "visConfig": {
              "colorRange": {
               "category": "Uber",
               "colors": [
                "#5A1846",
                "#900C3F",
                "#C70039",
                "#E3611C",
                "#F1920E",
                "#FFC300"
               ],
               "name": "Global Warming",
               "type": "sequential"
              },
              "filled": true,
              "fixedRadius": false,
              "opacity": 0.8,
              "outline": false,
              "radius": 10,
              "radiusRange": [
               0,
               50
              ],
              "strokeColor": null,
              "strokeColorRange": {
               "category": "Uber",
               "colors": [
                "#5A1846",
                "#900C3F",
                "#C70039",
                "#E3611C",
                "#F1920E",
                "#FFC300"
               ],
               "name": "Global Warming",
               "type": "sequential"
              },
              "thickness": 2
             }
            },
            "id": "uf98ra",
            "type": "point",
            "visualChannels": {
             "colorField": null,
             "colorScale": "quantile",
             "sizeField": null,
             "sizeScale": "linear",
             "strokeColorField": null,
             "strokeColorScale": "quantile"
            }
           }
          ],
          "splitMaps": []
         }
        },
        "version": "v1"
       },
       "data": {
        "Final Location": {
         "columns": [
          "city",
          "latitude",
          "longitude"
         ],
         "data": [
          [
           "TromsÃ¸",
           69.636216,
           18.931062
          ]
         ],
         "index": [
          738
         ]
        },
        "bars": {
         "columns": [
          "place",
          "latitude",
          "longitude"
         ],
         "data": [
          [
           "Rorbua Pub",
           69.6489929,
           18.9614106
          ],
          [
           "Bastard Bar",
           69.64732819999999,
           18.9542642
          ],
          [
           "Ølhallen",
           69.6458507,
           18.9503876
          ],
          [
           "Bardus Bar",
           69.6504793,
           18.9560605
          ],
          [
           "Magic Ice Bar Tromsø",
           69.6476326,
           18.959281
          ],
          [
           "Gründer Tromsø",
           69.6479717,
           18.9537995
          ],
          [
           "Blårock Cafe",
           69.64689539999999,
           18.9536623
          ],
          [
           "No. 24",
           69.6475789,
           18.954344
          ],
          [
           "Flyt",
           69.650071,
           18.958094
          ],
          [
           "G Tromsø AS",
           69.64768269999999,
           18.9539665
          ],
          [
           "Hildr Gastro Bar",
           69.6529963,
           18.9619502
          ],
          [
           "Agenturet Øl og Vinbar",
           69.6500763,
           18.9575077
          ],
          [
           "Skybar",
           69.6473903,
           18.9567957
          ],
          [
           "Tromsø Railstation",
           69.6477089,
           18.9553615
          ],
          [
           "O'learys Sportsbar & Restaurant",
           69.647758,
           18.9544113
          ],
          [
           "Heidi's Bier Bar - Tromsø",
           69.65109,
           18.9581476
          ],
          [
           "Raketten Bar & Pølse",
           69.6513812,
           18.9576878
          ],
          [
           "Lola Club - Tromsø",
           69.6511431,
           18.9581639
          ],
          [
           "Nyt",
           69.6499757,
           18.9566946
          ],
          [
           "Sivertsens Kafe",
           69.651778,
           18.9544847
          ]
         ],
         "index": [
          0,
          1,
          2,
          3,
          4,
          5,
          6,
          7,
          8,
          9,
          10,
          11,
          12,
          13,
          14,
          15,
          16,
          17,
          18,
          19
         ]
        },
        "schools": {
         "columns": [
          "place",
          "latitude",
          "longitude"
         ],
         "data": [
          [
           "Kongsbakken Upper Secondary School",
           69.6498714,
           18.9489929
          ],
          [
           "Bjerkaker primary school",
           69.6346071,
           18.923845
          ],
          [
           "Gyllenborg school",
           69.6515929,
           18.9506534
          ],
          [
           "Tromsö",
           69.6538908,
           18.9519932
          ],
          [
           "Xelliy",
           69.6492047,
           18.9553239
          ],
          [
           "Fagereng school",
           69.6429751,
           18.9047479
          ],
          [
           "Tromso library",
           69.6506531,
           18.9549675
          ],
          [
           "Steinerskolen i Tromsø",
           69.6409592,
           18.9347364
          ],
          [
           "Ishavsbyen high school Rambergan",
           69.65511500000001,
           18.9543319
          ],
          [
           "Norges Toppidrettsgymnas i Tromsø",
           69.6496736,
           18.9350175
          ],
          [
           "Sonans Utdanning Tromsø - privatist",
           69.650117,
           18.9534884
          ],
          [
           "Reinen School",
           69.6357955,
           18.9671196
          ],
          [
           "Tromsø Academy of Landscape and Territorial Studies",
           69.6461868,
           18.9491291
          ],
          [
           "Kulturskolen / Musikkonservatoriet",
           69.6360837,
           18.9144517
          ],
          [
           "Sommerlyst skole",
           69.6520319,
           18.935709
          ]
         ],
         "index": [
          0,
          1,
          2,
          3,
          4,
          5,
          6,
          7,
          8,
          9,
          10,
          11,
          12,
          13,
          14
         ]
        },
        "starbucks": "no",
        "stations": {
         "columns": [
          "place",
          "latitude",
          "longitude"
         ],
         "data": [
          [
           "The Arctic Route",
           69.6486448,
           18.9621701
          ],
          [
           "Tromsø Bridge",
           69.65103359999999,
           18.9791294
          ],
          [
           "Hertz Tromsø",
           69.6472527,
           18.9599608
          ],
          [
           "Parkering Havnegata 10 - TROMSØ | APCOA",
           69.652221,
           18.9596659
          ],
          [
           "Tromsø Maxitaxi",
           69.6480018,
           18.9506325
          ],
          [
           "Skippergata 16 | APCOA PARKING",
           69.65389700000001,
           18.9631988
          ],
          [
           "Tromsø Cable Car",
           69.64107969999999,
           18.9861989
          ],
          [
           "Tromso Airport Transfer",
           69.6394877,
           18.9361495
          ],
          [
           "Stein Sørensen Persontransport Din Taxi AS",
           69.639258,
           18.935194
          ],
          [
           "Tromsø",
           69.6492047,
           18.9553239
          ],
          [
           "Scandic Grand Tromsø",
           69.6480194,
           18.9535629
          ],
          [
           "Thon Hotel Tromsø",
           69.6485187,
           18.9527795
          ],
          [
           "Budget Bilutleie Tromsø",
           69.648522,
           18.9501931
          ]
         ],
         "index": [
          0,
          1,
          2,
          3,
          4,
          5,
          6,
          7,
          8,
          9,
          10,
          11,
          12
         ]
        },
        "vegan": {
         "columns": [
          "place",
          "latitude",
          "longitude"
         ],
         "data": [
          [
           "Tromso Kaffebrenneri - Veita",
           69.651957,
           18.9577628
          ],
          [
           "Suvi",
           69.6482138,
           18.9525667
          ],
          [
           "Pastafabrikken",
           69.6497408,
           18.9587621
          ],
          [
           "Rå Sushi & Bar",
           69.6515794,
           18.9608719
          ],
          [
           "CASA INFERNO - Pizza Restaurant",
           69.6485551,
           18.9511032
          ],
          [
           "Kala Restaurant & Bar",
           69.6478198,
           18.9522039
          ],
          [
           "Presis Tapas",
           69.6473902,
           18.953183
          ],
          [
           "Kitchen & Table Tromsø",
           69.6474072,
           18.956835
          ],
          [
           "Indie",
           69.6501222,
           18.9568558
          ],
          [
           "Burgr",
           69.65287099999999,
           18.960757
          ],
          [
           "Lotus Mat og vinhus",
           69.6506917,
           18.9600208
          ],
          [
           "Huken Pub",
           69.64733609999999,
           18.954267
          ],
          [
           "Peppes Pizza - Tromsø",
           69.6509564,
           18.9590858
          ],
          [
           "Sivertsens Kafe",
           69.651778,
           18.9544847
          ],
          [
           "Restaurant Smak AS",
           69.6535815,
           18.9624465
          ],
          [
           "Shanghai Wok",
           69.6549667,
           18.9633713
          ],
          [
           "Egon",
           69.6484353,
           18.9543533
          ],
          [
           "Kafé Globus",
           69.647097,
           18.952712
          ],
          [
           "Art Café",
           69.6480132,
           18.9579837
          ],
          [
           "Flyt",
           69.650071,
           18.958094
          ]
         ],
         "index": [
          0,
          1,
          2,
          3,
          4,
          5,
          6,
          7,
          8,
          9,
          10,
          11,
          12,
          13,
          14,
          15,
          16,
          17,
          18,
          19
         ]
        }
       },
       "height": 500,
       "layout": "IPY_MODEL_a474e73e771546ba8f5f9c8c3897f6f4",
       "value": "Hello World!"
      }
     },
     "44e4a3fdbecc445583ba3e128657a345": {
      "model_module": "@jupyter-widgets/base",
      "model_module_version": "1.2.0",
      "model_name": "LayoutModel",
      "state": {}
     },
     "4624898b7c8849fe9205c1836a4d3c0c": {
      "model_module": "keplergl-jupyter",
      "model_module_version": "^0.1.0",
      "model_name": "KeplerGlModal",
      "state": {
       "_model_module_version": "^0.1.0",
       "_view_module_version": "^0.1.0",
       "config": {
        "config": {
         "mapState": {
          "bearing": 24,
          "dragRotate": true,
          "isSplit": false,
          "latitude": 52.136511023675574,
          "longitude": -106.67198425759962,
          "pitch": 50,
          "zoom": 13.04262880832321
         },
         "mapStyle": {
          "mapStyles": {},
          "styleType": "dark",
          "threeDBuildingColor": [
           9.665468314072013,
           17.18305478057247,
           31.1442867897876
          ],
          "topLayerGroups": {},
          "visibleLayerGroups": {
           "3d building": true,
           "border": false,
           "building": true,
           "label": true,
           "land": true,
           "road": true,
           "water": true
          }
         },
         "visState": {
          "animationConfig": {
           "currentTime": null,
           "speed": 1
          },
          "filters": [],
          "interactionConfig": {
           "brush": {
            "enabled": false,
            "size": 0.5
           },
           "tooltip": {
            "enabled": true,
            "fieldsToShow": {
             "Final Location": [
              "city"
             ],
             "bars": [
              "place"
             ],
             "schools": [
              "place"
             ],
             "starbucks": [
              "place"
             ],
             "vegan": [
              "place"
             ]
            }
           }
          },
          "layerBlending": "normal",
          "layers": [
           {
            "config": {
             "color": [
              136,
              87,
              44
             ],
             "columns": {
              "altitude": null,
              "lat": "latitude",
              "lng": "longitude"
             },
             "dataId": "Final Location",
             "isVisible": true,
             "label": "City",
             "textLabel": [
              {
               "alignment": "center",
               "anchor": "start",
               "color": [
                255,
                255,
                255
               ],
               "field": {
                "name": "city",
                "type": "string"
               },
               "offset": [
                0,
                0
               ],
               "size": 18
              }
             ],
             "visConfig": {
              "colorRange": {
               "category": "Uber",
               "colors": [
                "#5A1846",
                "#900C3F",
                "#C70039",
                "#E3611C",
                "#F1920E",
                "#FFC300"
               ],
               "name": "Global Warming",
               "type": "sequential"
              },
              "filled": true,
              "fixedRadius": false,
              "opacity": 0.8,
              "outline": false,
              "radius": 34.7,
              "radiusRange": [
               0,
               50
              ],
              "strokeColor": null,
              "strokeColorRange": {
               "category": "Uber",
               "colors": [
                "#5A1846",
                "#900C3F",
                "#C70039",
                "#E3611C",
                "#F1920E",
                "#FFC300"
               ],
               "name": "Global Warming",
               "type": "sequential"
              },
              "thickness": 2
             }
            },
            "id": "d35u2nb",
            "type": "point",
            "visualChannels": {
             "colorField": null,
             "colorScale": "quantile",
             "sizeField": null,
             "sizeScale": "linear",
             "strokeColorField": null,
             "strokeColorScale": "quantile"
            }
           },
           {
            "config": {
             "color": [
              255,
              153,
              31
             ],
             "columns": {
              "altitude": null,
              "lat": "latitude",
              "lng": "longitude"
             },
             "dataId": "starbucks",
             "isVisible": true,
             "label": "Starbucks",
             "textLabel": [
              {
               "alignment": "center",
               "anchor": "start",
               "color": [
                255,
                255,
                255
               ],
               "field": null,
               "offset": [
                0,
                0
               ],
               "size": 18
              }
             ],
             "visConfig": {
              "colorRange": {
               "category": "Uber",
               "colors": [
                "#5A1846",
                "#900C3F",
                "#C70039",
                "#E3611C",
                "#F1920E",
                "#FFC300"
               ],
               "name": "Global Warming",
               "type": "sequential"
              },
              "filled": true,
              "fixedRadius": false,
              "opacity": 0.8,
              "outline": false,
              "radius": 10,
              "radiusRange": [
               0,
               50
              ],
              "strokeColor": null,
              "strokeColorRange": {
               "category": "Uber",
               "colors": [
                "#5A1846",
                "#900C3F",
                "#C70039",
                "#E3611C",
                "#F1920E",
                "#FFC300"
               ],
               "name": "Global Warming",
               "type": "sequential"
              },
              "thickness": 2
             }
            },
            "id": "s11vhl",
            "type": "point",
            "visualChannels": {
             "colorField": null,
             "colorScale": "quantile",
             "sizeField": null,
             "sizeScale": "linear",
             "strokeColorField": null,
             "strokeColorScale": "quantile"
            }
           },
           {
            "config": {
             "color": [
              241,
              92,
              23
             ],
             "columns": {
              "altitude": null,
              "lat": "latitude",
              "lng": "longitude"
             },
             "dataId": "schools",
             "isVisible": true,
             "label": "Schools",
             "textLabel": [
              {
               "alignment": "center",
               "anchor": "start",
               "color": [
                255,
                255,
                255
               ],
               "field": null,
               "offset": [
                0,
                0
               ],
               "size": 18
              }
             ],
             "visConfig": {
              "colorRange": {
               "category": "Uber",
               "colors": [
                "#5A1846",
                "#900C3F",
                "#C70039",
                "#E3611C",
                "#F1920E",
                "#FFC300"
               ],
               "name": "Global Warming",
               "type": "sequential"
              },
              "filled": true,
              "fixedRadius": false,
              "opacity": 0.8,
              "outline": false,
              "radius": 10,
              "radiusRange": [
               0,
               50
              ],
              "strokeColor": null,
              "strokeColorRange": {
               "category": "Uber",
               "colors": [
                "#5A1846",
                "#900C3F",
                "#C70039",
                "#E3611C",
                "#F1920E",
                "#FFC300"
               ],
               "name": "Global Warming",
               "type": "sequential"
              },
              "thickness": 2
             }
            },
            "id": "nqnauv4",
            "type": "point",
            "visualChannels": {
             "colorField": null,
             "colorScale": "quantile",
             "sizeField": null,
             "sizeScale": "linear",
             "strokeColorField": null,
             "strokeColorScale": "quantile"
            }
           },
           {
            "config": {
             "color": [
              34,
              63,
              154
             ],
             "columns": {
              "altitude": null,
              "lat": "latitude",
              "lng": "longitude"
             },
             "dataId": "bars",
             "isVisible": true,
             "label": "Bars",
             "textLabel": [
              {
               "alignment": "center",
               "anchor": "start",
               "color": [
                255,
                255,
                255
               ],
               "field": null,
               "offset": [
                0,
                0
               ],
               "size": 18
              }
             ],
             "visConfig": {
              "colorRange": {
               "category": "Uber",
               "colors": [
                "#5A1846",
                "#900C3F",
                "#C70039",
                "#E3611C",
                "#F1920E",
                "#FFC300"
               ],
               "name": "Global Warming",
               "type": "sequential"
              },
              "filled": true,
              "fixedRadius": false,
              "opacity": 0.8,
              "outline": false,
              "radius": 10,
              "radiusRange": [
               0,
               50
              ],
              "strokeColor": null,
              "strokeColorRange": {
               "category": "Uber",
               "colors": [
                "#5A1846",
                "#900C3F",
                "#C70039",
                "#E3611C",
                "#F1920E",
                "#FFC300"
               ],
               "name": "Global Warming",
               "type": "sequential"
              },
              "thickness": 2
             }
            },
            "id": "7feug5p",
            "type": "point",
            "visualChannels": {
             "colorField": null,
             "colorScale": "quantile",
             "sizeField": null,
             "sizeScale": "linear",
             "strokeColorField": null,
             "strokeColorScale": "quantile"
            }
           },
           {
            "config": {
             "color": [
              218,
              112,
              191
             ],
             "columns": {
              "altitude": null,
              "lat": "latitude",
              "lng": "longitude"
             },
             "dataId": "vegan",
             "isVisible": true,
             "label": "Vegan Restaurants",
             "textLabel": [
              {
               "alignment": "center",
               "anchor": "start",
               "color": [
                255,
                255,
                255
               ],
               "field": null,
               "offset": [
                0,
                0
               ],
               "size": 18
              }
             ],
             "visConfig": {
              "colorRange": {
               "category": "Uber",
               "colors": [
                "#5A1846",
                "#900C3F",
                "#C70039",
                "#E3611C",
                "#F1920E",
                "#FFC300"
               ],
               "name": "Global Warming",
               "type": "sequential"
              },
              "filled": true,
              "fixedRadius": false,
              "opacity": 0.8,
              "outline": false,
              "radius": 10,
              "radiusRange": [
               0,
               50
              ],
              "strokeColor": null,
              "strokeColorRange": {
               "category": "Uber",
               "colors": [
                "#5A1846",
                "#900C3F",
                "#C70039",
                "#E3611C",
                "#F1920E",
                "#FFC300"
               ],
               "name": "Global Warming",
               "type": "sequential"
              },
              "thickness": 2
             }
            },
            "id": "dnt6b8",
            "type": "point",
            "visualChannels": {
             "colorField": null,
             "colorScale": "quantile",
             "sizeField": null,
             "sizeScale": "linear",
             "strokeColorField": null,
             "strokeColorScale": "quantile"
            }
           }
          ],
          "splitMaps": []
         }
        },
        "version": "v1"
       },
       "data": {
        "Final Location": {
         "columns": [
          "city",
          "latitude",
          "longitude"
         ],
         "data": [
          [
           "Saskatoon",
           52.143886,
           -106.6634565
          ]
         ],
         "index": [
          1247
         ]
        },
        "bars": {
         "columns": [
          "place",
          "latitude",
          "longitude"
         ],
         "data": [
          [
           "Hudsons Saskatoon",
           52.1263771,
           -106.6609726
          ],
          [
           "Winston's English Pub & Grill",
           52.1268,
           -106.6634549
          ],
          [
           "Cathedral Social Hall",
           52.1267709,
           -106.6594192
          ],
          [
           "Congress Beer House",
           52.126907,
           -106.665293
          ],
          [
           "The Rook & Raven Pub",
           52.127713,
           -106.664077
          ],
          [
           "Red Zone Sports Bar",
           52.1588691,
           -106.6722458
          ],
          [
           "Shark Club Sports Bar & Grill",
           52.1583653,
           -106.6741767
          ],
          [
           "Outlaws Country Rock Bar",
           52.1367803,
           -106.6699082
          ],
          [
           "Fox & Hounds Pub & Brewery",
           52.1597333,
           -106.6456222
          ],
          [
           "Melody Bar",
           52.1260428,
           -106.6634974
          ],
          [
           "Flint",
           52.1261472,
           -106.665375
          ],
          [
           "Dogg House",
           52.1499573,
           -106.6707325
          ],
          [
           "Bartari",
           52.126025,
           -106.6771944
          ],
          [
           "Louis'",
           52.1299684,
           -106.6352134
          ],
          [
           "The Riv Bar",
           52.1575808,
           -106.6722375
          ],
          [
           "Birmingham's Vodka and Ale House Saskatoon",
           52.15898499999999,
           -106.6507974
          ],
          [
           "Manchester Brew Pub",
           52.14404099999999,
           -106.670908
          ],
          [
           "Divas Nightclub",
           52.126377,
           -106.662583
          ],
          [
           "Finns Irish Pub",
           52.13173399999999,
           -106.6525952
          ],
          [
           "Taverna Italian Kitchen + Bar",
           52.1268818,
           -106.663954
          ]
         ],
         "index": [
          0,
          1,
          2,
          3,
          4,
          5,
          6,
          7,
          8,
          9,
          10,
          11,
          12,
          13,
          14,
          15,
          16,
          17,
          18,
          19
         ]
        },
        "schools": {
         "columns": [
          "place",
          "latitude",
          "longitude"
         ],
         "data": [
          [
           "E. D. Feehan Catholic High School",
           52.13405299999999,
           -106.6890684
          ],
          [
           "Westmount Community School",
           52.1338815,
           -106.6848947
          ],
          [
           "Caswell Community School",
           52.1388107,
           -106.6722033
          ],
          [
           "City Park Collegiate",
           52.139676,
           -106.648072
          ],
          [
           "Mayfair Community School",
           52.146272,
           -106.676687
          ],
          [
           "North Park Wilson School",
           52.1479045,
           -106.6498186
          ],
          [
           "École St. Paul Elementary School",
           52.147756,
           -106.6454079
          ],
          [
           "Princess Alexandra Community School",
           52.12807979999999,
           -106.6810388
          ],
          [
           "École Henry Kelsey School",
           52.14479979999999,
           -106.6882793
          ],
          [
           "Bedford Road Collegiate",
           52.133737,
           -106.6810117
          ],
          [
           "Brunskill School",
           52.1248623,
           -106.6385865
          ],
          [
           "École River Heights School",
           52.1636139,
           -106.6344305
          ],
          [
           "Flex ED School",
           52.1494159,
           -106.6675388
          ],
          [
           "St. Maria Goretti Community School",
           52.1325916,
           -106.6963512
          ],
          [
           "St. Edward School",
           52.1405373,
           -106.693808
          ],
          [
           "St. Mary's Wellness & Education Centre",
           52.1249032,
           -106.6908406
          ],
          [
           "Newcomer Student Centre - Saskatoon Public Schools",
           52.1270164,
           -106.6623526
          ],
          [
           "Post-Secondary Education & Skills Training",
           52.12864039999999,
           -106.6651608
          ]
         ],
         "index": [
          0,
          1,
          2,
          3,
          4,
          5,
          6,
          7,
          8,
          9,
          10,
          11,
          12,
          13,
          14,
          15,
          16,
          17
         ]
        },
        "starbucks": {
         "columns": [
          "place",
          "latitude",
          "longitude"
         ],
         "data": [
          [
           "Starbucks",
           52.1315654,
           -106.6409981
          ],
          [
           "Starbucks",
           52.1285414,
           -106.6636211
          ],
          [
           "Starbucks",
           52.1311913,
           -106.6369734
          ],
          [
           "Starbucks",
           52.1276455,
           -106.6664984
          ],
          [
           "Starbucks",
           52.1475915,
           -106.670829
          ],
          [
           "Starbucks",
           52.1584278,
           -106.6636507
          ]
         ],
         "index": [
          0,
          1,
          2,
          3,
          4,
          5
         ]
        },
        "stations": "no",
        "vegan": {
         "columns": [
          "place",
          "latitude",
          "longitude"
         ],
         "data": [
          [
           "The Karma - Conscious Café & Eatery",
           52.130243,
           -106.6633351
          ],
          [
           "Yay! Thai",
           52.1277832,
           -106.664059
          ],
          [
           "The Griffin Takeaway",
           52.1393225,
           -106.6526751
          ],
          [
           "Seasoned Fusion Tastes",
           52.127114,
           -106.6633115
          ],
          [
           "Leyda's Cafe",
           52.12624,
           -106.6707697
          ],
          [
           "Odd Couple Restaurant",
           52.126256,
           -106.6728275
          ],
          [
           "Pizza Pirates",
           52.1295711,
           -106.6930952
          ],
          [
           "Hometown Diner",
           52.1262749,
           -106.6723029
          ],
          [
           "Poached Breakfast Bistro",
           52.1261444,
           -106.665375
          ],
          [
           "Cactus Club Cafe Idylwyld Drive",
           52.1276583,
           -106.669775
          ],
          [
           "Spicy Bite",
           52.1278988,
           -106.6629386
          ],
          [
           "Picaro Cocktails & Tacos",
           52.125685,
           -106.6704665
          ],
          [
           "Freshii",
           52.1277167,
           -106.6645874
          ],
          [
           "Flanagan's Steakhouse",
           52.1267045,
           -106.6635229
          ],
          [
           "Genesis Family Restaurant",
           52.128916,
           -106.6834179
          ],
          [
           "Season's Cafe & Eatery",
           52.15499579999999,
           -106.6848518
          ],
          [
           "Saba's African Cuisine",
           52.1290207,
           -106.6830997
          ],
          [
           "Earls Kitchen + Bar - Takeout & Delivery",
           52.136891,
           -106.659574
          ],
          [
           "Taverna Italian Kitchen + Bar",
           52.1268818,
           -106.663954
          ],
          [
           "The Rook & Raven Pub",
           52.127713,
           -106.664077
          ]
         ],
         "index": [
          0,
          1,
          2,
          3,
          4,
          5,
          6,
          7,
          8,
          9,
          10,
          11,
          12,
          13,
          14,
          15,
          16,
          17,
          18,
          19
         ]
        }
       },
       "height": 500,
       "layout": "IPY_MODEL_88106375d9204abe8c4373fe93d78f7d",
       "value": "Hello World!"
      }
     },
     "4cdb6b44f705487393c4c544791efcbf": {
      "model_module": "keplergl-jupyter",
      "model_module_version": "^0.1.0",
      "model_name": "KeplerGlModal",
      "state": {
       "_model_module_version": "^0.1.0",
       "_view_module_version": "^0.1.0",
       "config": {
        "config": {
         "mapState": {
          "bearing": 0,
          "dragRotate": false,
          "isSplit": false,
          "latitude": -7.417974220354249,
          "longitude": 31.230487399396765,
          "pitch": 0,
          "zoom": 2.4164394586859235
         },
         "mapStyle": {
          "mapStyles": {},
          "styleType": "dark",
          "threeDBuildingColor": [
           9.665468314072013,
           17.18305478057247,
           31.1442867897876
          ],
          "topLayerGroups": {},
          "visibleLayerGroups": {
           "3d building": false,
           "border": false,
           "building": true,
           "label": true,
           "land": true,
           "road": true,
           "water": true
          }
         },
         "visState": {
          "animationConfig": {
           "currentTime": null,
           "speed": 1
          },
          "filters": [],
          "interactionConfig": {
           "brush": {
            "enabled": false,
            "size": 0.5
           },
           "tooltip": {
            "enabled": true,
            "fieldsToShow": {
             "cities": [
              "name"
             ]
            }
           }
          },
          "layerBlending": "normal",
          "layers": [
           {
            "config": {
             "color": [
              248,
              149,
              112
             ],
             "columns": {
              "geojson": "_geojson"
             },
             "dataId": "cities",
             "isVisible": true,
             "label": "cities",
             "textLabel": [
              {
               "alignment": "center",
               "anchor": "start",
               "color": [
                255,
                255,
                255
               ],
               "field": null,
               "offset": [
                0,
                0
               ],
               "size": 18
              }
             ],
             "visConfig": {
              "colorRange": {
               "category": "Uber",
               "colors": [
                "#5A1846",
                "#900C3F",
                "#C70039",
                "#E3611C",
                "#F1920E",
                "#FFC300"
               ],
               "name": "Global Warming",
               "type": "sequential"
              },
              "elevationScale": 5,
              "enable3d": false,
              "filled": true,
              "heightRange": [
               0,
               500
              ],
              "opacity": 0.8,
              "radius": 10,
              "radiusRange": [
               0,
               50
              ],
              "sizeRange": [
               0,
               10
              ],
              "strokeColor": null,
              "strokeColorRange": {
               "category": "Uber",
               "colors": [
                "#5A1846",
                "#900C3F",
                "#C70039",
                "#E3611C",
                "#F1920E",
                "#FFC300"
               ],
               "name": "Global Warming",
               "type": "sequential"
              },
              "stroked": false,
              "thickness": 0.5,
              "wireframe": false
             }
            },
            "id": "zcfygd",
            "type": "geojson",
            "visualChannels": {
             "colorField": null,
             "colorScale": "quantile",
             "heightField": null,
             "heightScale": "linear",
             "radiusField": null,
             "radiusScale": "linear",
             "sizeField": null,
             "sizeScale": "linear",
             "strokeColorField": null,
             "strokeColorScale": "quantile"
            }
           }
          ],
          "splitMaps": []
         }
        },
        "version": "v1"
       },
       "data": {
        "cities": {
         "geometry": {
          "coordinates": [
           0,
           0
          ],
          "type": "Point"
         },
         "properties": {
          "index": 0,
          "name": "Coors Field"
         },
         "type": "Feature"
        }
       },
       "height": 500,
       "layout": "IPY_MODEL_dd59a0be6a5745f0ba03577ffc1e53e3",
       "value": "Hello World!"
      }
     },
     "512b18c6969a4bde83bd5d648b116d4e": {
      "model_module": "keplergl-jupyter",
      "model_module_version": "^0.1.0",
      "model_name": "KeplerGlModal",
      "state": {
       "_model_module_version": "^0.1.0",
       "_view_module_version": "^0.1.0",
       "config": {
        "config": {
         "mapState": {
          "bearing": 0,
          "dragRotate": false,
          "isSplit": false,
          "latitude": 23.74236525,
          "longitude": 90.3791014,
          "pitch": 0,
          "zoom": 13
         },
         "mapStyle": {
          "mapStyles": {},
          "styleType": "dark",
          "threeDBuildingColor": [
           9.665468314072013,
           17.18305478057247,
           31.1442867897876
          ],
          "topLayerGroups": {},
          "visibleLayerGroups": {
           "3d building": false,
           "border": false,
           "building": true,
           "label": true,
           "land": true,
           "road": true,
           "water": true
          }
         },
         "visState": {
          "animationConfig": {
           "currentTime": null,
           "speed": 1
          },
          "filters": [],
          "interactionConfig": {
           "brush": {
            "enabled": false,
            "size": 0.5
           },
           "tooltip": {
            "enabled": true,
            "fieldsToShow": {
             "schools": [
              "place"
             ],
             "stations": [
              "place"
             ]
            }
           }
          },
          "layerBlending": "normal",
          "layers": [
           {
            "config": {
             "color": [
              246,
              209,
              138
             ],
             "columns": {
              "altitude": null,
              "lat": "latitude",
              "lng": "longitude"
             },
             "dataId": "stations",
             "isVisible": true,
             "label": "Point",
             "textLabel": [
              {
               "alignment": "center",
               "anchor": "start",
               "color": [
                255,
                255,
                255
               ],
               "field": null,
               "offset": [
                0,
                0
               ],
               "size": 18
              }
             ],
             "visConfig": {
              "colorRange": {
               "category": "Uber",
               "colors": [
                "#5A1846",
                "#900C3F",
                "#C70039",
                "#E3611C",
                "#F1920E",
                "#FFC300"
               ],
               "name": "Global Warming",
               "type": "sequential"
              },
              "filled": true,
              "fixedRadius": false,
              "opacity": 0.8,
              "outline": false,
              "radius": 10,
              "radiusRange": [
               0,
               50
              ],
              "strokeColor": null,
              "strokeColorRange": {
               "category": "Uber",
               "colors": [
                "#5A1846",
                "#900C3F",
                "#C70039",
                "#E3611C",
                "#F1920E",
                "#FFC300"
               ],
               "name": "Global Warming",
               "type": "sequential"
              },
              "thickness": 2
             }
            },
            "id": "0gf791f",
            "type": "point",
            "visualChannels": {
             "colorField": null,
             "colorScale": "quantile",
             "sizeField": null,
             "sizeScale": "linear",
             "strokeColorField": null,
             "strokeColorScale": "quantile"
            }
           },
           {
            "config": {
             "color": [
              183,
              136,
              94
             ],
             "columns": {
              "altitude": null,
              "lat": "latitude",
              "lng": "longitude"
             },
             "dataId": "schools",
             "isVisible": true,
             "label": "Point",
             "textLabel": [
              {
               "alignment": "center",
               "anchor": "start",
               "color": [
                255,
                255,
                255
               ],
               "field": null,
               "offset": [
                0,
                0
               ],
               "size": 18
              }
             ],
             "visConfig": {
              "colorRange": {
               "category": "Uber",
               "colors": [
                "#5A1846",
                "#900C3F",
                "#C70039",
                "#E3611C",
                "#F1920E",
                "#FFC300"
               ],
               "name": "Global Warming",
               "type": "sequential"
              },
              "filled": true,
              "fixedRadius": false,
              "opacity": 0.8,
              "outline": false,
              "radius": 10,
              "radiusRange": [
               0,
               50
              ],
              "strokeColor": null,
              "strokeColorRange": {
               "category": "Uber",
               "colors": [
                "#5A1846",
                "#900C3F",
                "#C70039",
                "#E3611C",
                "#F1920E",
                "#FFC300"
               ],
               "name": "Global Warming",
               "type": "sequential"
              },
              "thickness": 2
             }
            },
            "id": "fyaenag",
            "type": "point",
            "visualChannels": {
             "colorField": null,
             "colorScale": "quantile",
             "sizeField": null,
             "sizeScale": "linear",
             "strokeColorField": null,
             "strokeColorScale": "quantile"
            }
           }
          ],
          "splitMaps": []
         }
        },
        "version": "v1"
       },
       "data": {
        "schools": {
         "columns": [
          "place",
          "latitude",
          "longitude"
         ],
         "data": [
          [
           "Mohammadpur Preparatory School & College",
           23.7586284,
           90.3638426
          ],
          [
           "Oxford International School",
           23.753838,
           90.370846
          ],
          [
           "Lakehead Grammar School",
           23.7485488,
           90.3739616
          ],
          [
           "European Standard School",
           23.7525699,
           90.375626
          ],
          [
           "Mastermind School",
           23.752132,
           90.3754194
          ],
          [
           "St. Joseph Higher Secondary School",
           23.759697,
           90.3703249
          ],
          [
           "YWCA Higher Secondary Girls' School",
           23.7430029,
           90.38520930000001
          ],
          [
           "Green Gems Int. School.",
           23.7459879,
           90.3740833
          ],
          [
           "BCSIR High School",
           23.7407569,
           90.38635780000001
          ],
          [
           "Daffodil International School",
           23.7540912,
           90.3748935
          ],
          [
           "Cardiff International School Dhaka",
           23.7544959,
           90.3741661
          ],
          [
           "Government Laboratory High School",
           23.736412,
           90.38150879999999
          ],
          [
           "Averroes International School",
           23.7572518,
           90.36902660000001
          ],
          [
           "Holy Cross Girl's School and College",
           23.7582418,
           90.3911304
          ],
          [
           "JAAGO Foundation, Rayer Bazar School",
           23.746983,
           90.3622973
          ],
          [
           "University Laboratory School & College",
           23.7332983,
           90.3901581
          ],
          [
           "Engineering University School & College",
           23.7277447,
           90.3936011
          ],
          [
           "New Model Multilateral High School",
           23.7518734,
           90.3784993
          ],
          [
           "Scholastica",
           23.7446087,
           90.3731241
          ],
          [
           "Little Angles School",
           23.7250335,
           90.38496599999999
          ]
         ],
         "index": [
          0,
          1,
          2,
          3,
          4,
          5,
          6,
          7,
          8,
          9,
          10,
          11,
          12,
          13,
          14,
          15,
          16,
          17,
          18,
          19
         ]
        },
        "starb": "no",
        "stations": {
         "columns": [
          "place",
          "latitude",
          "longitude"
         ],
         "data": [
          [
           "Helipad",
           23.7541347,
           90.4000743
          ],
          [
           "Square Hospital Helipad",
           23.7530355,
           90.38156
          ],
          [
           "Helipad",
           23.7492277,
           90.39427359999999
          ],
          [
           "Sikder Heliport",
           23.7405641,
           90.35812849999999
          ]
         ],
         "index": [
          0,
          1,
          2,
          3
         ]
        }
       },
       "height": 500,
       "layout": "IPY_MODEL_f09aac15165b4a73bf09d48b45fb9c7a",
       "value": "Hello World!"
      }
     },
     "55054f22555a490bb7cc3cd2444424a2": {
      "model_module": "keplergl-jupyter",
      "model_module_version": "^0.1.0",
      "model_name": "KeplerGlModal",
      "state": {
       "_model_module_version": "^0.1.0",
       "_view_module_version": "^0.1.0",
       "config": {
        "config": {
         "mapState": {
          "bearing": 24,
          "dragRotate": true,
          "isSplit": false,
          "latitude": 52.133005007979264,
          "longitude": -106.65949993686712,
          "pitch": 50,
          "zoom": 12.824144606332641
         },
         "mapStyle": {
          "mapStyles": {},
          "styleType": "dark",
          "threeDBuildingColor": [
           9.665468314072013,
           17.18305478057247,
           31.1442867897876
          ],
          "topLayerGroups": {},
          "visibleLayerGroups": {
           "3d building": true,
           "border": false,
           "building": true,
           "label": true,
           "land": true,
           "road": true,
           "water": true
          }
         },
         "visState": {
          "animationConfig": {
           "currentTime": null,
           "speed": 1
          },
          "filters": [],
          "interactionConfig": {
           "brush": {
            "enabled": false,
            "size": 0.5
           },
           "tooltip": {
            "enabled": true,
            "fieldsToShow": {
             "Final Location": [
              "city"
             ],
             "bars": [
              "place"
             ],
             "schools": [
              "place"
             ],
             "starbucks": [
              "place"
             ],
             "vegan": [
              "place"
             ]
            }
           }
          },
          "layerBlending": "normal",
          "layers": [
           {
            "config": {
             "color": [
              34,
              63,
              154
             ],
             "columns": {
              "altitude": null,
              "lat": "latitude",
              "lng": "longitude"
             },
             "dataId": "Final Location",
             "isVisible": true,
             "label": "City",
             "textLabel": [
              {
               "alignment": "center",
               "anchor": "start",
               "color": [
                255,
                255,
                255
               ],
               "field": null,
               "offset": [
                0,
                0
               ],
               "size": 18
              }
             ],
             "visConfig": {
              "colorRange": {
               "category": "Uber",
               "colors": [
                "#5A1846",
                "#900C3F",
                "#C70039",
                "#E3611C",
                "#F1920E",
                "#FFC300"
               ],
               "name": "Global Warming",
               "type": "sequential"
              },
              "filled": true,
              "fixedRadius": false,
              "opacity": 0.8,
              "outline": false,
              "radius": 42.2,
              "radiusRange": [
               0,
               50
              ],
              "strokeColor": null,
              "strokeColorRange": {
               "category": "Uber",
               "colors": [
                "#5A1846",
                "#900C3F",
                "#C70039",
                "#E3611C",
                "#F1920E",
                "#FFC300"
               ],
               "name": "Global Warming",
               "type": "sequential"
              },
              "thickness": 2
             }
            },
            "id": "3kjv467",
            "type": "point",
            "visualChannels": {
             "colorField": null,
             "colorScale": "quantile",
             "sizeField": null,
             "sizeScale": "linear",
             "strokeColorField": null,
             "strokeColorScale": "quantile"
            }
           },
           {
            "config": {
             "color": [
              218,
              112,
              191
             ],
             "columns": {
              "altitude": null,
              "lat": "latitude",
              "lng": "longitude"
             },
             "dataId": "starbucks",
             "isVisible": true,
             "label": "Starbucks",
             "textLabel": [
              {
               "alignment": "center",
               "anchor": "start",
               "color": [
                255,
                255,
                255
               ],
               "field": null,
               "offset": [
                0,
                0
               ],
               "size": 18
              }
             ],
             "visConfig": {
              "colorRange": {
               "category": "Uber",
               "colors": [
                "#5A1846",
                "#900C3F",
                "#C70039",
                "#E3611C",
                "#F1920E",
                "#FFC300"
               ],
               "name": "Global Warming",
               "type": "sequential"
              },
              "filled": true,
              "fixedRadius": false,
              "opacity": 0.8,
              "outline": false,
              "radius": 10,
              "radiusRange": [
               0,
               50
              ],
              "strokeColor": null,
              "strokeColorRange": {
               "category": "Uber",
               "colors": [
                "#5A1846",
                "#900C3F",
                "#C70039",
                "#E3611C",
                "#F1920E",
                "#FFC300"
               ],
               "name": "Global Warming",
               "type": "sequential"
              },
              "thickness": 2
             }
            },
            "id": "kmf7ykn",
            "type": "point",
            "visualChannels": {
             "colorField": null,
             "colorScale": "quantile",
             "sizeField": null,
             "sizeScale": "linear",
             "strokeColorField": null,
             "strokeColorScale": "quantile"
            }
           },
           {
            "config": {
             "color": [
              18,
              92,
              119
             ],
             "columns": {
              "altitude": null,
              "lat": "latitude",
              "lng": "longitude"
             },
             "dataId": "schools",
             "isVisible": true,
             "label": "Schools",
             "textLabel": [
              {
               "alignment": "center",
               "anchor": "start",
               "color": [
                255,
                255,
                255
               ],
               "field": null,
               "offset": [
                0,
                0
               ],
               "size": 18
              }
             ],
             "visConfig": {
              "colorRange": {
               "category": "Uber",
               "colors": [
                "#5A1846",
                "#900C3F",
                "#C70039",
                "#E3611C",
                "#F1920E",
                "#FFC300"
               ],
               "name": "Global Warming",
               "type": "sequential"
              },
              "filled": true,
              "fixedRadius": false,
              "opacity": 0.8,
              "outline": false,
              "radius": 10,
              "radiusRange": [
               0,
               50
              ],
              "strokeColor": null,
              "strokeColorRange": {
               "category": "Uber",
               "colors": [
                "#5A1846",
                "#900C3F",
                "#C70039",
                "#E3611C",
                "#F1920E",
                "#FFC300"
               ],
               "name": "Global Warming",
               "type": "sequential"
              },
              "thickness": 2
             }
            },
            "id": "7xbmbzg",
            "type": "point",
            "visualChannels": {
             "colorField": null,
             "colorScale": "quantile",
             "sizeField": null,
             "sizeScale": "linear",
             "strokeColorField": null,
             "strokeColorScale": "quantile"
            }
           },
           {
            "config": {
             "color": [
              77,
              193,
              156
             ],
             "columns": {
              "altitude": null,
              "lat": "latitude",
              "lng": "longitude"
             },
             "dataId": "bars",
             "isVisible": true,
             "label": "Bars",
             "textLabel": [
              {
               "alignment": "center",
               "anchor": "start",
               "color": [
                255,
                255,
                255
               ],
               "field": null,
               "offset": [
                0,
                0
               ],
               "size": 18
              }
             ],
             "visConfig": {
              "colorRange": {
               "category": "Uber",
               "colors": [
                "#5A1846",
                "#900C3F",
                "#C70039",
                "#E3611C",
                "#F1920E",
                "#FFC300"
               ],
               "name": "Global Warming",
               "type": "sequential"
              },
              "filled": true,
              "fixedRadius": false,
              "opacity": 0.8,
              "outline": false,
              "radius": 10,
              "radiusRange": [
               0,
               50
              ],
              "strokeColor": null,
              "strokeColorRange": {
               "category": "Uber",
               "colors": [
                "#5A1846",
                "#900C3F",
                "#C70039",
                "#E3611C",
                "#F1920E",
                "#FFC300"
               ],
               "name": "Global Warming",
               "type": "sequential"
              },
              "thickness": 2
             }
            },
            "id": "yjmwmu",
            "type": "point",
            "visualChannels": {
             "colorField": null,
             "colorScale": "quantile",
             "sizeField": null,
             "sizeScale": "linear",
             "strokeColorField": null,
             "strokeColorScale": "quantile"
            }
           },
           {
            "config": {
             "color": [
              119,
              110,
              87
             ],
             "columns": {
              "altitude": null,
              "lat": "latitude",
              "lng": "longitude"
             },
             "dataId": "vegan",
             "isVisible": true,
             "label": "Vegan",
             "textLabel": [
              {
               "alignment": "center",
               "anchor": "start",
               "color": [
                255,
                255,
                255
               ],
               "field": null,
               "offset": [
                0,
                0
               ],
               "size": 18
              }
             ],
             "visConfig": {
              "colorRange": {
               "category": "Uber",
               "colors": [
                "#5A1846",
                "#900C3F",
                "#C70039",
                "#E3611C",
                "#F1920E",
                "#FFC300"
               ],
               "name": "Global Warming",
               "type": "sequential"
              },
              "filled": true,
              "fixedRadius": false,
              "opacity": 0.8,
              "outline": false,
              "radius": 10,
              "radiusRange": [
               0,
               50
              ],
              "strokeColor": null,
              "strokeColorRange": {
               "category": "Uber",
               "colors": [
                "#5A1846",
                "#900C3F",
                "#C70039",
                "#E3611C",
                "#F1920E",
                "#FFC300"
               ],
               "name": "Global Warming",
               "type": "sequential"
              },
              "thickness": 2
             }
            },
            "id": "mtkfqau",
            "type": "point",
            "visualChannels": {
             "colorField": null,
             "colorScale": "quantile",
             "sizeField": null,
             "sizeScale": "linear",
             "strokeColorField": null,
             "strokeColorScale": "quantile"
            }
           }
          ],
          "splitMaps": []
         }
        },
        "version": "v1"
       },
       "data": {
        "Final Location": {
         "columns": [
          "city",
          "latitude",
          "longitude"
         ],
         "data": [
          [
           "Saskatoon",
           52.143886,
           -106.6634565
          ]
         ],
         "index": [
          1247
         ]
        },
        "bars": {
         "columns": [
          "place",
          "latitude",
          "longitude"
         ],
         "data": [
          [
           "Hudsons Saskatoon",
           52.1263771,
           -106.6609726
          ],
          [
           "Winston's English Pub & Grill",
           52.1268,
           -106.6634549
          ],
          [
           "Cathedral Social Hall",
           52.1267709,
           -106.6594192
          ],
          [
           "Congress Beer House",
           52.126907,
           -106.665293
          ],
          [
           "The Rook & Raven Pub",
           52.127713,
           -106.664077
          ],
          [
           "Red Zone Sports Bar",
           52.1588691,
           -106.6722458
          ],
          [
           "Shark Club Sports Bar & Grill",
           52.1583653,
           -106.6741767
          ],
          [
           "Outlaws Country Rock Bar",
           52.1367803,
           -106.6699082
          ],
          [
           "Fox & Hounds Pub & Brewery",
           52.1597333,
           -106.6456222
          ],
          [
           "Melody Bar",
           52.1260428,
           -106.6634974
          ],
          [
           "Flint",
           52.1261472,
           -106.665375
          ],
          [
           "Finns Irish Pub",
           52.13173399999999,
           -106.6525952
          ],
          [
           "O'Shea's Irish Pub",
           52.1264986,
           -106.6643816
          ],
          [
           "Bartari",
           52.126025,
           -106.6771944
          ],
          [
           "Louis'",
           52.1299684,
           -106.6352134
          ],
          [
           "The Riv Bar",
           52.1575808,
           -106.6722375
          ],
          [
           "Birmingham's Vodka and Ale House Saskatoon",
           52.15898499999999,
           -106.6507974
          ],
          [
           "Manchester Brew Pub",
           52.14404099999999,
           -106.670908
          ],
          [
           "Divas Nightclub",
           52.126377,
           -106.662583
          ],
          [
           "Taverna Italian Kitchen + Bar",
           52.1268818,
           -106.663954
          ]
         ],
         "index": [
          0,
          1,
          2,
          3,
          4,
          5,
          6,
          7,
          8,
          9,
          10,
          11,
          12,
          13,
          14,
          15,
          16,
          17,
          18,
          19
         ]
        },
        "schools": {
         "columns": [
          "place",
          "latitude",
          "longitude"
         ],
         "data": [
          [
           "E. D. Feehan Catholic High School",
           52.13405299999999,
           -106.6890684
          ],
          [
           "Westmount Community School",
           52.1338815,
           -106.6848947
          ],
          [
           "Caswell Community School",
           52.1388107,
           -106.6722033
          ],
          [
           "City Park Collegiate",
           52.139676,
           -106.648072
          ],
          [
           "Mayfair Community School",
           52.146272,
           -106.676687
          ],
          [
           "North Park Wilson School",
           52.1479045,
           -106.6498186
          ],
          [
           "École St. Paul Elementary School",
           52.147756,
           -106.6454079
          ],
          [
           "Princess Alexandra Community School",
           52.12807979999999,
           -106.6810388
          ],
          [
           "École Henry Kelsey School",
           52.14479979999999,
           -106.6882793
          ],
          [
           "Bedford Road Collegiate",
           52.133737,
           -106.6810117
          ],
          [
           "Brunskill School",
           52.1248623,
           -106.6385865
          ],
          [
           "Flex ED School",
           52.1494159,
           -106.6675388
          ],
          [
           "St. Maria Goretti Community School",
           52.1325916,
           -106.6963512
          ],
          [
           "École River Heights School",
           52.1636139,
           -106.6344305
          ],
          [
           "St. Mary's Wellness & Education Centre",
           52.1249032,
           -106.6908406
          ],
          [
           "St. Edward School",
           52.1405373,
           -106.693808
          ],
          [
           "Newcomer Student Centre - Saskatoon Public Schools",
           52.1270164,
           -106.6623526
          ],
          [
           "Post-Secondary Education & Skills Training",
           52.12864039999999,
           -106.6651608
          ]
         ],
         "index": [
          0,
          1,
          2,
          3,
          4,
          5,
          6,
          7,
          8,
          9,
          10,
          11,
          12,
          13,
          14,
          15,
          16,
          17
         ]
        },
        "starbucks": {
         "columns": [
          "place",
          "latitude",
          "longitude"
         ],
         "data": [
          [
           "Starbucks",
           52.1315654,
           -106.6409981
          ],
          [
           "Starbucks",
           52.1285414,
           -106.6636211
          ],
          [
           "Starbucks",
           52.1311913,
           -106.6369734
          ],
          [
           "Starbucks",
           52.1276455,
           -106.6664984
          ],
          [
           "Starbucks",
           52.1475915,
           -106.670829
          ],
          [
           "Starbucks",
           52.1584278,
           -106.6636507
          ]
         ],
         "index": [
          0,
          1,
          2,
          3,
          4,
          5
         ]
        },
        "stations": "no",
        "vegan": {
         "columns": [
          "place",
          "latitude",
          "longitude"
         ],
         "data": [
          [
           "The Karma - Conscious Café & Eatery",
           52.130243,
           -106.6633351
          ],
          [
           "Yay! Thai",
           52.1277832,
           -106.664059
          ],
          [
           "The Griffin Takeaway",
           52.1393225,
           -106.6526751
          ],
          [
           "Seasoned Fusion Tastes",
           52.127114,
           -106.6633115
          ],
          [
           "Leyda's Cafe",
           52.12624,
           -106.6707697
          ],
          [
           "Odd Couple Restaurant",
           52.126256,
           -106.6728275
          ],
          [
           "Pizza Pirates",
           52.1295711,
           -106.6930952
          ],
          [
           "Hometown Diner",
           52.1262749,
           -106.6723029
          ],
          [
           "Poached Breakfast Bistro",
           52.1261444,
           -106.665375
          ],
          [
           "Cactus Club Cafe Idylwyld Drive",
           52.1276583,
           -106.669775
          ],
          [
           "Spicy Bite",
           52.1278988,
           -106.6629386
          ],
          [
           "Picaro Cocktails & Tacos",
           52.125685,
           -106.6704665
          ],
          [
           "Freshii",
           52.1277167,
           -106.6645874
          ],
          [
           "Flanagan's Steakhouse",
           52.1267045,
           -106.6635229
          ],
          [
           "Genesis Family Restaurant",
           52.128916,
           -106.6834179
          ],
          [
           "Season's Cafe & Eatery",
           52.15499579999999,
           -106.6848518
          ],
          [
           "Saba's African Cuisine",
           52.1290207,
           -106.6830997
          ],
          [
           "Earls Kitchen + Bar - Takeout & Delivery",
           52.136891,
           -106.659574
          ],
          [
           "Taverna Italian Kitchen + Bar",
           52.1268818,
           -106.663954
          ],
          [
           "The Rook & Raven Pub",
           52.127713,
           -106.664077
          ]
         ],
         "index": [
          0,
          1,
          2,
          3,
          4,
          5,
          6,
          7,
          8,
          9,
          10,
          11,
          12,
          13,
          14,
          15,
          16,
          17,
          18,
          19
         ]
        }
       },
       "height": 500,
       "layout": "IPY_MODEL_cab76ede83a14ecfaf0a4b523f31bcf4",
       "value": "Hello World!"
      }
     },
     "57d31f73cdc84fbe81cef7b8574d8743": {
      "model_module": "keplergl-jupyter",
      "model_module_version": "^0.1.0",
      "model_name": "KeplerGlModal",
      "state": {
       "_model_module_version": "^0.1.0",
       "_view_module_version": "^0.1.0",
       "config": {
        "config": {
         "mapState": {
          "bearing": 24,
          "dragRotate": true,
          "isSplit": false,
          "latitude": 52.136511023675574,
          "longitude": -106.67198425759962,
          "pitch": 50,
          "zoom": 13.04262880832321
         },
         "mapStyle": {
          "mapStyles": {},
          "styleType": "dark",
          "threeDBuildingColor": [
           9.665468314072013,
           17.18305478057247,
           31.1442867897876
          ],
          "topLayerGroups": {},
          "visibleLayerGroups": {
           "3d building": true,
           "border": false,
           "building": true,
           "label": true,
           "land": true,
           "road": true,
           "water": true
          }
         },
         "visState": {
          "animationConfig": {
           "currentTime": null,
           "speed": 1
          },
          "filters": [],
          "interactionConfig": {
           "brush": {
            "enabled": false,
            "size": 0.5
           },
           "tooltip": {
            "enabled": true,
            "fieldsToShow": {
             "Final Location": [
              "city"
             ],
             "bars": [
              "place"
             ],
             "schools": [
              "place"
             ],
             "starbucks": [
              "place"
             ],
             "vegan": [
              "place"
             ]
            }
           }
          },
          "layerBlending": "normal",
          "layers": [
           {
            "config": {
             "color": [
              136,
              87,
              44
             ],
             "columns": {
              "altitude": null,
              "lat": "latitude",
              "lng": "longitude"
             },
             "dataId": "Final Location",
             "isVisible": true,
             "label": "City",
             "textLabel": [
              {
               "alignment": "center",
               "anchor": "start",
               "color": [
                255,
                255,
                255
               ],
               "field": {
                "name": "city",
                "type": "string"
               },
               "offset": [
                0,
                0
               ],
               "size": 18
              }
             ],
             "visConfig": {
              "colorRange": {
               "category": "Uber",
               "colors": [
                "#5A1846",
                "#900C3F",
                "#C70039",
                "#E3611C",
                "#F1920E",
                "#FFC300"
               ],
               "name": "Global Warming",
               "type": "sequential"
              },
              "filled": true,
              "fixedRadius": false,
              "opacity": 0.8,
              "outline": false,
              "radius": 34.7,
              "radiusRange": [
               0,
               50
              ],
              "strokeColor": null,
              "strokeColorRange": {
               "category": "Uber",
               "colors": [
                "#5A1846",
                "#900C3F",
                "#C70039",
                "#E3611C",
                "#F1920E",
                "#FFC300"
               ],
               "name": "Global Warming",
               "type": "sequential"
              },
              "thickness": 2
             }
            },
            "id": "d35u2nb",
            "type": "point",
            "visualChannels": {
             "colorField": null,
             "colorScale": "quantile",
             "sizeField": null,
             "sizeScale": "linear",
             "strokeColorField": null,
             "strokeColorScale": "quantile"
            }
           },
           {
            "config": {
             "color": [
              255,
              153,
              31
             ],
             "columns": {
              "altitude": null,
              "lat": "latitude",
              "lng": "longitude"
             },
             "dataId": "starbucks",
             "isVisible": true,
             "label": "Starbucks",
             "textLabel": [
              {
               "alignment": "center",
               "anchor": "start",
               "color": [
                255,
                255,
                255
               ],
               "field": null,
               "offset": [
                0,
                0
               ],
               "size": 18
              }
             ],
             "visConfig": {
              "colorRange": {
               "category": "Uber",
               "colors": [
                "#5A1846",
                "#900C3F",
                "#C70039",
                "#E3611C",
                "#F1920E",
                "#FFC300"
               ],
               "name": "Global Warming",
               "type": "sequential"
              },
              "filled": true,
              "fixedRadius": false,
              "opacity": 0.8,
              "outline": false,
              "radius": 10,
              "radiusRange": [
               0,
               50
              ],
              "strokeColor": null,
              "strokeColorRange": {
               "category": "Uber",
               "colors": [
                "#5A1846",
                "#900C3F",
                "#C70039",
                "#E3611C",
                "#F1920E",
                "#FFC300"
               ],
               "name": "Global Warming",
               "type": "sequential"
              },
              "thickness": 2
             }
            },
            "id": "s11vhl",
            "type": "point",
            "visualChannels": {
             "colorField": null,
             "colorScale": "quantile",
             "sizeField": null,
             "sizeScale": "linear",
             "strokeColorField": null,
             "strokeColorScale": "quantile"
            }
           },
           {
            "config": {
             "color": [
              241,
              92,
              23
             ],
             "columns": {
              "altitude": null,
              "lat": "latitude",
              "lng": "longitude"
             },
             "dataId": "schools",
             "isVisible": true,
             "label": "Schools",
             "textLabel": [
              {
               "alignment": "center",
               "anchor": "start",
               "color": [
                255,
                255,
                255
               ],
               "field": null,
               "offset": [
                0,
                0
               ],
               "size": 18
              }
             ],
             "visConfig": {
              "colorRange": {
               "category": "Uber",
               "colors": [
                "#5A1846",
                "#900C3F",
                "#C70039",
                "#E3611C",
                "#F1920E",
                "#FFC300"
               ],
               "name": "Global Warming",
               "type": "sequential"
              },
              "filled": true,
              "fixedRadius": false,
              "opacity": 0.8,
              "outline": false,
              "radius": 10,
              "radiusRange": [
               0,
               50
              ],
              "strokeColor": null,
              "strokeColorRange": {
               "category": "Uber",
               "colors": [
                "#5A1846",
                "#900C3F",
                "#C70039",
                "#E3611C",
                "#F1920E",
                "#FFC300"
               ],
               "name": "Global Warming",
               "type": "sequential"
              },
              "thickness": 2
             }
            },
            "id": "nqnauv4",
            "type": "point",
            "visualChannels": {
             "colorField": null,
             "colorScale": "quantile",
             "sizeField": null,
             "sizeScale": "linear",
             "strokeColorField": null,
             "strokeColorScale": "quantile"
            }
           },
           {
            "config": {
             "color": [
              34,
              63,
              154
             ],
             "columns": {
              "altitude": null,
              "lat": "latitude",
              "lng": "longitude"
             },
             "dataId": "bars",
             "isVisible": true,
             "label": "Bars",
             "textLabel": [
              {
               "alignment": "center",
               "anchor": "start",
               "color": [
                255,
                255,
                255
               ],
               "field": null,
               "offset": [
                0,
                0
               ],
               "size": 18
              }
             ],
             "visConfig": {
              "colorRange": {
               "category": "Uber",
               "colors": [
                "#5A1846",
                "#900C3F",
                "#C70039",
                "#E3611C",
                "#F1920E",
                "#FFC300"
               ],
               "name": "Global Warming",
               "type": "sequential"
              },
              "filled": true,
              "fixedRadius": false,
              "opacity": 0.8,
              "outline": false,
              "radius": 10,
              "radiusRange": [
               0,
               50
              ],
              "strokeColor": null,
              "strokeColorRange": {
               "category": "Uber",
               "colors": [
                "#5A1846",
                "#900C3F",
                "#C70039",
                "#E3611C",
                "#F1920E",
                "#FFC300"
               ],
               "name": "Global Warming",
               "type": "sequential"
              },
              "thickness": 2
             }
            },
            "id": "7feug5p",
            "type": "point",
            "visualChannels": {
             "colorField": null,
             "colorScale": "quantile",
             "sizeField": null,
             "sizeScale": "linear",
             "strokeColorField": null,
             "strokeColorScale": "quantile"
            }
           },
           {
            "config": {
             "color": [
              218,
              112,
              191
             ],
             "columns": {
              "altitude": null,
              "lat": "latitude",
              "lng": "longitude"
             },
             "dataId": "vegan",
             "isVisible": true,
             "label": "Vegan Restaurants",
             "textLabel": [
              {
               "alignment": "center",
               "anchor": "start",
               "color": [
                255,
                255,
                255
               ],
               "field": null,
               "offset": [
                0,
                0
               ],
               "size": 18
              }
             ],
             "visConfig": {
              "colorRange": {
               "category": "Uber",
               "colors": [
                "#5A1846",
                "#900C3F",
                "#C70039",
                "#E3611C",
                "#F1920E",
                "#FFC300"
               ],
               "name": "Global Warming",
               "type": "sequential"
              },
              "filled": true,
              "fixedRadius": false,
              "opacity": 0.8,
              "outline": false,
              "radius": 10,
              "radiusRange": [
               0,
               50
              ],
              "strokeColor": null,
              "strokeColorRange": {
               "category": "Uber",
               "colors": [
                "#5A1846",
                "#900C3F",
                "#C70039",
                "#E3611C",
                "#F1920E",
                "#FFC300"
               ],
               "name": "Global Warming",
               "type": "sequential"
              },
              "thickness": 2
             }
            },
            "id": "dnt6b8",
            "type": "point",
            "visualChannels": {
             "colorField": null,
             "colorScale": "quantile",
             "sizeField": null,
             "sizeScale": "linear",
             "strokeColorField": null,
             "strokeColorScale": "quantile"
            }
           }
          ],
          "splitMaps": []
         }
        },
        "version": "v1"
       },
       "data": {
        "Final Location": {
         "columns": [
          "city",
          "latitude",
          "longitude"
         ],
         "data": [
          [
           "Saskatoon",
           52.143886,
           -106.6634565
          ]
         ],
         "index": [
          1247
         ]
        },
        "bars": {
         "columns": [
          "place",
          "latitude",
          "longitude"
         ],
         "data": [
          [
           "Hudsons Saskatoon",
           52.1263771,
           -106.6609726
          ],
          [
           "Winston's English Pub & Grill",
           52.1268,
           -106.6634549
          ],
          [
           "Cathedral Social Hall",
           52.1267709,
           -106.6594192
          ],
          [
           "Congress Beer House",
           52.126907,
           -106.665293
          ],
          [
           "The Rook & Raven Pub",
           52.127713,
           -106.664077
          ],
          [
           "Red Zone Sports Bar",
           52.1588691,
           -106.6722458
          ],
          [
           "Shark Club Sports Bar & Grill",
           52.1583653,
           -106.6741767
          ],
          [
           "Outlaws Country Rock Bar",
           52.1367803,
           -106.6699082
          ],
          [
           "Fox & Hounds Pub & Brewery",
           52.1597333,
           -106.6456222
          ],
          [
           "Melody Bar",
           52.1260428,
           -106.6634974
          ],
          [
           "Flint",
           52.1261472,
           -106.665375
          ],
          [
           "Dogg House",
           52.1499573,
           -106.6707325
          ],
          [
           "Bartari",
           52.126025,
           -106.6771944
          ],
          [
           "Louis'",
           52.1299684,
           -106.6352134
          ],
          [
           "The Riv Bar",
           52.1575808,
           -106.6722375
          ],
          [
           "Birmingham's Vodka and Ale House Saskatoon",
           52.15898499999999,
           -106.6507974
          ],
          [
           "Manchester Brew Pub",
           52.14404099999999,
           -106.670908
          ],
          [
           "Divas Nightclub",
           52.126377,
           -106.662583
          ],
          [
           "Finns Irish Pub",
           52.13173399999999,
           -106.6525952
          ],
          [
           "Taverna Italian Kitchen + Bar",
           52.1268818,
           -106.663954
          ]
         ],
         "index": [
          0,
          1,
          2,
          3,
          4,
          5,
          6,
          7,
          8,
          9,
          10,
          11,
          12,
          13,
          14,
          15,
          16,
          17,
          18,
          19
         ]
        },
        "schools": {
         "columns": [
          "place",
          "latitude",
          "longitude"
         ],
         "data": [
          [
           "E. D. Feehan Catholic High School",
           52.13405299999999,
           -106.6890684
          ],
          [
           "Westmount Community School",
           52.1338815,
           -106.6848947
          ],
          [
           "Caswell Community School",
           52.1388107,
           -106.6722033
          ],
          [
           "City Park Collegiate",
           52.139676,
           -106.648072
          ],
          [
           "Mayfair Community School",
           52.146272,
           -106.676687
          ],
          [
           "North Park Wilson School",
           52.1479045,
           -106.6498186
          ],
          [
           "École St. Paul Elementary School",
           52.147756,
           -106.6454079
          ],
          [
           "Princess Alexandra Community School",
           52.12807979999999,
           -106.6810388
          ],
          [
           "École Henry Kelsey School",
           52.14479979999999,
           -106.6882793
          ],
          [
           "Bedford Road Collegiate",
           52.133737,
           -106.6810117
          ],
          [
           "Brunskill School",
           52.1248623,
           -106.6385865
          ],
          [
           "École River Heights School",
           52.1636139,
           -106.6344305
          ],
          [
           "Flex ED School",
           52.1494159,
           -106.6675388
          ],
          [
           "St. Maria Goretti Community School",
           52.1325916,
           -106.6963512
          ],
          [
           "St. Edward School",
           52.1405373,
           -106.693808
          ],
          [
           "St. Mary's Wellness & Education Centre",
           52.1249032,
           -106.6908406
          ],
          [
           "Newcomer Student Centre - Saskatoon Public Schools",
           52.1270164,
           -106.6623526
          ],
          [
           "Post-Secondary Education & Skills Training",
           52.12864039999999,
           -106.6651608
          ]
         ],
         "index": [
          0,
          1,
          2,
          3,
          4,
          5,
          6,
          7,
          8,
          9,
          10,
          11,
          12,
          13,
          14,
          15,
          16,
          17
         ]
        },
        "starbucks": {
         "columns": [
          "place",
          "latitude",
          "longitude"
         ],
         "data": [
          [
           "Starbucks",
           52.1315654,
           -106.6409981
          ],
          [
           "Starbucks",
           52.1285414,
           -106.6636211
          ],
          [
           "Starbucks",
           52.1311913,
           -106.6369734
          ],
          [
           "Starbucks",
           52.1276455,
           -106.6664984
          ],
          [
           "Starbucks",
           52.1475915,
           -106.670829
          ],
          [
           "Starbucks",
           52.1584278,
           -106.6636507
          ]
         ],
         "index": [
          0,
          1,
          2,
          3,
          4,
          5
         ]
        },
        "stations": "no",
        "vegan": {
         "columns": [
          "place",
          "latitude",
          "longitude"
         ],
         "data": [
          [
           "The Karma - Conscious Café & Eatery",
           52.130243,
           -106.6633351
          ],
          [
           "Yay! Thai",
           52.1277832,
           -106.664059
          ],
          [
           "The Griffin Takeaway",
           52.1393225,
           -106.6526751
          ],
          [
           "Seasoned Fusion Tastes",
           52.127114,
           -106.6633115
          ],
          [
           "Leyda's Cafe",
           52.12624,
           -106.6707697
          ],
          [
           "Odd Couple Restaurant",
           52.126256,
           -106.6728275
          ],
          [
           "Pizza Pirates",
           52.1295711,
           -106.6930952
          ],
          [
           "Hometown Diner",
           52.1262749,
           -106.6723029
          ],
          [
           "Poached Breakfast Bistro",
           52.1261444,
           -106.665375
          ],
          [
           "Cactus Club Cafe Idylwyld Drive",
           52.1276583,
           -106.669775
          ],
          [
           "Spicy Bite",
           52.1278988,
           -106.6629386
          ],
          [
           "Picaro Cocktails & Tacos",
           52.125685,
           -106.6704665
          ],
          [
           "Freshii",
           52.1277167,
           -106.6645874
          ],
          [
           "Flanagan's Steakhouse",
           52.1267045,
           -106.6635229
          ],
          [
           "Genesis Family Restaurant",
           52.128916,
           -106.6834179
          ],
          [
           "Season's Cafe & Eatery",
           52.15499579999999,
           -106.6848518
          ],
          [
           "Saba's African Cuisine",
           52.1290207,
           -106.6830997
          ],
          [
           "Earls Kitchen + Bar - Takeout & Delivery",
           52.136891,
           -106.659574
          ],
          [
           "Taverna Italian Kitchen + Bar",
           52.1268818,
           -106.663954
          ],
          [
           "The Rook & Raven Pub",
           52.127713,
           -106.664077
          ]
         ],
         "index": [
          0,
          1,
          2,
          3,
          4,
          5,
          6,
          7,
          8,
          9,
          10,
          11,
          12,
          13,
          14,
          15,
          16,
          17,
          18,
          19
         ]
        }
       },
       "height": 500,
       "layout": "IPY_MODEL_75ef2581e32a4f208b3fe5738dc2b75b",
       "value": "Hello World!"
      }
     },
     "5eabff569d804effaca7bd0f24fbe162": {
      "model_module": "keplergl-jupyter",
      "model_module_version": "^0.1.0",
      "model_name": "KeplerGlModal",
      "state": {
       "_model_module_version": "^0.1.0",
       "_view_module_version": "^0.1.0",
       "config": {
        "config": {
         "mapState": {
          "bearing": 0,
          "dragRotate": false,
          "isSplit": false,
          "latitude": 23.74405475,
          "longitude": 90.3791014,
          "pitch": 0,
          "zoom": 13
         },
         "mapStyle": {
          "mapStyles": {},
          "styleType": "dark",
          "threeDBuildingColor": [
           9.665468314072013,
           17.18305478057247,
           31.1442867897876
          ],
          "topLayerGroups": {},
          "visibleLayerGroups": {
           "3d building": false,
           "border": false,
           "building": true,
           "label": true,
           "land": true,
           "road": true,
           "water": true
          }
         },
         "visState": {
          "animationConfig": {
           "currentTime": null,
           "speed": 1
          },
          "filters": [],
          "interactionConfig": {
           "brush": {
            "enabled": false,
            "size": 0.5
           },
           "tooltip": {
            "enabled": true,
            "fieldsToShow": {
             "bars": [
              "place"
             ],
             "schools": [
              "place"
             ],
             "stations": [
              "place"
             ],
             "vegan": [
              "place"
             ]
            }
           }
          },
          "layerBlending": "normal",
          "layers": [
           {
            "config": {
             "color": [
              18,
              147,
              154
             ],
             "columns": {
              "altitude": null,
              "lat": "latitude",
              "lng": "longitude"
             },
             "dataId": "schools",
             "isVisible": true,
             "label": "Point",
             "textLabel": [
              {
               "alignment": "center",
               "anchor": "start",
               "color": [
                255,
                255,
                255
               ],
               "field": null,
               "offset": [
                0,
                0
               ],
               "size": 18
              }
             ],
             "visConfig": {
              "colorRange": {
               "category": "Uber",
               "colors": [
                "#5A1846",
                "#900C3F",
                "#C70039",
                "#E3611C",
                "#F1920E",
                "#FFC300"
               ],
               "name": "Global Warming",
               "type": "sequential"
              },
              "filled": true,
              "fixedRadius": false,
              "opacity": 0.8,
              "outline": false,
              "radius": 10,
              "radiusRange": [
               0,
               50
              ],
              "strokeColor": null,
              "strokeColorRange": {
               "category": "Uber",
               "colors": [
                "#5A1846",
                "#900C3F",
                "#C70039",
                "#E3611C",
                "#F1920E",
                "#FFC300"
               ],
               "name": "Global Warming",
               "type": "sequential"
              },
              "thickness": 2
             }
            },
            "id": "i2ojf4e",
            "type": "point",
            "visualChannels": {
             "colorField": null,
             "colorScale": "quantile",
             "sizeField": null,
             "sizeScale": "linear",
             "strokeColorField": null,
             "strokeColorScale": "quantile"
            }
           },
           {
            "config": {
             "color": [
              221,
              178,
              124
             ],
             "columns": {
              "altitude": null,
              "lat": "latitude",
              "lng": "longitude"
             },
             "dataId": "bars",
             "isVisible": true,
             "label": "Point",
             "textLabel": [
              {
               "alignment": "center",
               "anchor": "start",
               "color": [
                255,
                255,
                255
               ],
               "field": null,
               "offset": [
                0,
                0
               ],
               "size": 18
              }
             ],
             "visConfig": {
              "colorRange": {
               "category": "Uber",
               "colors": [
                "#5A1846",
                "#900C3F",
                "#C70039",
                "#E3611C",
                "#F1920E",
                "#FFC300"
               ],
               "name": "Global Warming",
               "type": "sequential"
              },
              "filled": true,
              "fixedRadius": false,
              "opacity": 0.8,
              "outline": false,
              "radius": 10,
              "radiusRange": [
               0,
               50
              ],
              "strokeColor": null,
              "strokeColorRange": {
               "category": "Uber",
               "colors": [
                "#5A1846",
                "#900C3F",
                "#C70039",
                "#E3611C",
                "#F1920E",
                "#FFC300"
               ],
               "name": "Global Warming",
               "type": "sequential"
              },
              "thickness": 2
             }
            },
            "id": "jx7w8y8",
            "type": "point",
            "visualChannels": {
             "colorField": null,
             "colorScale": "quantile",
             "sizeField": null,
             "sizeScale": "linear",
             "strokeColorField": null,
             "strokeColorScale": "quantile"
            }
           },
           {
            "config": {
             "color": [
              136,
              87,
              44
             ],
             "columns": {
              "altitude": null,
              "lat": "latitude",
              "lng": "longitude"
             },
             "dataId": "stations",
             "isVisible": true,
             "label": "Point",
             "textLabel": [
              {
               "alignment": "center",
               "anchor": "start",
               "color": [
                255,
                255,
                255
               ],
               "field": null,
               "offset": [
                0,
                0
               ],
               "size": 18
              }
             ],
             "visConfig": {
              "colorRange": {
               "category": "Uber",
               "colors": [
                "#5A1846",
                "#900C3F",
                "#C70039",
                "#E3611C",
                "#F1920E",
                "#FFC300"
               ],
               "name": "Global Warming",
               "type": "sequential"
              },
              "filled": true,
              "fixedRadius": false,
              "opacity": 0.8,
              "outline": false,
              "radius": 10,
              "radiusRange": [
               0,
               50
              ],
              "strokeColor": null,
              "strokeColorRange": {
               "category": "Uber",
               "colors": [
                "#5A1846",
                "#900C3F",
                "#C70039",
                "#E3611C",
                "#F1920E",
                "#FFC300"
               ],
               "name": "Global Warming",
               "type": "sequential"
              },
              "thickness": 2
             }
            },
            "id": "1z4rvw",
            "type": "point",
            "visualChannels": {
             "colorField": null,
             "colorScale": "quantile",
             "sizeField": null,
             "sizeScale": "linear",
             "strokeColorField": null,
             "strokeColorScale": "quantile"
            }
           },
           {
            "config": {
             "color": [
              255,
              153,
              31
             ],
             "columns": {
              "altitude": null,
              "lat": "latitude",
              "lng": "longitude"
             },
             "dataId": "vegan",
             "isVisible": true,
             "label": "Point",
             "textLabel": [
              {
               "alignment": "center",
               "anchor": "start",
               "color": [
                255,
                255,
                255
               ],
               "field": null,
               "offset": [
                0,
                0
               ],
               "size": 18
              }
             ],
             "visConfig": {
              "colorRange": {
               "category": "Uber",
               "colors": [
                "#5A1846",
                "#900C3F",
                "#C70039",
                "#E3611C",
                "#F1920E",
                "#FFC300"
               ],
               "name": "Global Warming",
               "type": "sequential"
              },
              "filled": true,
              "fixedRadius": false,
              "opacity": 0.8,
              "outline": false,
              "radius": 10,
              "radiusRange": [
               0,
               50
              ],
              "strokeColor": null,
              "strokeColorRange": {
               "category": "Uber",
               "colors": [
                "#5A1846",
                "#900C3F",
                "#C70039",
                "#E3611C",
                "#F1920E",
                "#FFC300"
               ],
               "name": "Global Warming",
               "type": "sequential"
              },
              "thickness": 2
             }
            },
            "id": "bt2plsn",
            "type": "point",
            "visualChannels": {
             "colorField": null,
             "colorScale": "quantile",
             "sizeField": null,
             "sizeScale": "linear",
             "strokeColorField": null,
             "strokeColorScale": "quantile"
            }
           }
          ],
          "splitMaps": []
         }
        },
        "version": "v1"
       },
       "data": {
        "bars": {
         "columns": [
          "place",
          "latitude",
          "longitude"
         ],
         "data": [
          [
           "Chalet Bar & Restaurant",
           23.7444123,
           90.3948329
          ],
          [
           "Sakura Restaurant & Bar",
           23.7413191,
           90.3957767
          ],
          [
           "Hotel Eram International",
           23.7522014,
           90.3779323
          ],
          [
           "Golden Dragon Bar",
           23.7470307,
           90.39638719999999
          ],
          [
           "Hotel Grand Galaxy",
           23.7371685,
           90.38402529999999
          ],
          [
           "DPL Restaurant & Bar Green Road",
           23.7524469,
           90.3875745
          ],
          [
           "Aram international",
           23.7536607,
           90.3819967
          ],
          [
           "Chell A Bar / Shell A Bar",
           23.745798,
           90.39458820000002
          ],
          [
           "হোটেল পিকক লিঃ",
           23.7412356,
           90.39474
          ],
          [
           "Golden",
           23.7325295,
           90.38377849999999
          ],
          [
           "Ayan's Akhra",
           23.7572985,
           90.36993969999999
          ],
          [
           "Rahat the manga bhai",
           23.746167,
           90.3742601
          ],
          [
           "ডন গ্রিল হাউস",
           23.7476675,
           90.38011999999999
          ],
          [
           "Room of Good Music (RGM)",
           23.7539933,
           90.3879906
          ],
          [
           "Dhanmondi Club Limited-DCL, Royal tower 8th floor, 4 Panthapath",
           23.7501999,
           90.3923441
          ],
          [
           "Football Limited",
           23.745837,
           90.3921147
          ],
          [
           "Cafè Tit-As",
           23.7524695,
           90.3708161
          ],
          [
           "Kusum Billa",
           23.757575,
           90.3868014
          ],
          [
           "World Sports",
           23.7420449,
           90.3922372
          ],
          [
           "FBS Boys Common Room and Ice Cream Parlar.",
           23.7355043,
           90.3928323
          ]
         ],
         "index": [
          0,
          1,
          2,
          3,
          4,
          5,
          6,
          7,
          8,
          9,
          10,
          11,
          12,
          13,
          14,
          15,
          16,
          17,
          18,
          19
         ]
        },
        "schools": {
         "columns": [
          "place",
          "latitude",
          "longitude"
         ],
         "data": [
          [
           "Oxford International School",
           23.753838,
           90.370846
          ],
          [
           "Maple Leaf International School",
           23.7504306,
           90.3701644
          ],
          [
           "William Carey International School",
           23.7562079,
           90.3835572
          ],
          [
           "European Standard School",
           23.7525699,
           90.375626
          ],
          [
           "Mastermind School",
           23.752132,
           90.3754194
          ],
          [
           "St. Joseph Higher Secondary School",
           23.759697,
           90.3703249
          ],
          [
           "YWCA Higher Secondary Girls' School",
           23.7430029,
           90.38520930000001
          ],
          [
           "Green Gems Int. School.",
           23.7459879,
           90.3740833
          ],
          [
           "Marie Curie School",
           23.7397956,
           90.37861529999999
          ],
          [
           "Scholastica",
           23.7446087,
           90.3731241
          ],
          [
           "Daffodil International School",
           23.7540912,
           90.3748935
          ],
          [
           "Lakehead Grammar School",
           23.7485488,
           90.3739616
          ],
          [
           "Tejgaon Government Girl's High School",
           23.7571251,
           90.39112279999999
          ],
          [
           "Dhanmondi Government Boys' High School",
           23.757718,
           90.3752303
          ],
          [
           "JAAGO Foundation, Rayer Bazar School",
           23.746983,
           90.3622973
          ],
          [
           "Engineering University School & College",
           23.7277447,
           90.3936011
          ],
          [
           "New Model Multilateral High School",
           23.7518734,
           90.3784993
          ],
          [
           "Averroes International School",
           23.7572518,
           90.36902660000001
          ],
          [
           "Little Angles School",
           23.7250335,
           90.38496599999999
          ],
          [
           "Azimpur Govt. Girls' School and College",
           23.7252269,
           90.38802919999999
          ]
         ],
         "index": [
          0,
          1,
          2,
          3,
          4,
          5,
          6,
          7,
          8,
          9,
          10,
          11,
          12,
          13,
          14,
          15,
          16,
          17,
          18,
          19
         ]
        },
        "starbucks": "no",
        "stations": {
         "columns": [
          "place",
          "latitude",
          "longitude"
         ],
         "data": [
          [
           "Helipad",
           23.7541347,
           90.4000743
          ],
          [
           "Square Hospital Helipad",
           23.7530355,
           90.38156
          ],
          [
           "Helipad",
           23.7492277,
           90.39427359999999
          ],
          [
           "Sikder Heliport",
           23.7405641,
           90.35812849999999
          ]
         ],
         "index": [
          0,
          1,
          2,
          3
         ]
        },
        "vegan": {
         "columns": [
          "place",
          "latitude",
          "longitude"
         ],
         "data": [
          [
           "Santoor Restaurant",
           23.7518678,
           90.3775333
          ],
          [
           "Adda",
           23.763076,
           90.37006
          ],
          [
           "Star Hotel & Kabab (Restaurant)",
           23.7392193,
           90.3810687
          ],
          [
           "Melting Pot",
           23.7374929,
           90.37730069999999
          ],
          [
           "Burger King",
           23.738343,
           90.3757526
          ],
          [
           "Cafe Bazar",
           23.7496731,
           90.394629
          ],
          [
           "Four Seasons Restaurant",
           23.751502,
           90.3681945
          ],
          [
           "Pizza Roma",
           23.7384199,
           90.37821439999999
          ],
          [
           "Bella Italia",
           23.7473956,
           90.3709002
          ],
          [
           "Burger Xpress",
           23.7433381,
           90.3880697
          ],
          [
           "Homemade Bistro",
           23.752041,
           90.3873892
          ],
          [
           "Shake Shack",
           23.7538177,
           90.37027289999999
          ],
          [
           "Gloria Jean's Coffees, Dhanmondi",
           23.7498102,
           90.3686804
          ],
          [
           "Cafe Seven17teen Dhanmondi Branch",
           23.7527093,
           90.37807680000002
          ]
         ],
         "index": [
          0,
          1,
          2,
          3,
          4,
          5,
          6,
          7,
          8,
          9,
          10,
          11,
          12,
          13
         ]
        }
       },
       "height": 500,
       "layout": "IPY_MODEL_1ace8c37d7294803a69a078bc4d57044",
       "value": "Hello World!"
      }
     },
     "681f711d8bcb4b9bb4247f40ff0d2ded": {
      "model_module": "@jupyter-widgets/base",
      "model_module_version": "1.2.0",
      "model_name": "LayoutModel",
      "state": {}
     },
     "6870ab29351242d4b73576406b045e99": {
      "model_module": "@jupyter-widgets/base",
      "model_module_version": "1.2.0",
      "model_name": "LayoutModel",
      "state": {}
     },
     "69df282121444564a7ac7ce0e438e726": {
      "model_module": "keplergl-jupyter",
      "model_module_version": "^0.1.0",
      "model_name": "KeplerGlModal",
      "state": {
       "_model_module_version": "^0.1.0",
       "_view_module_version": "^0.1.0",
       "config": {
        "config": {
         "mapState": {
          "bearing": 0,
          "dragRotate": false,
          "isSplit": false,
          "latitude": 20.705437202347024,
          "longitude": -97.72980066404737,
          "pitch": 0,
          "zoom": 3.8731952105305747
         },
         "mapStyle": {
          "mapStyles": {},
          "styleType": "dark",
          "threeDBuildingColor": [
           9.665468314072013,
           17.18305478057247,
           31.1442867897876
          ],
          "topLayerGroups": {},
          "visibleLayerGroups": {
           "3d building": false,
           "border": false,
           "building": true,
           "label": true,
           "land": true,
           "road": true,
           "water": true
          }
         },
         "visState": {
          "animationConfig": {
           "currentTime": null,
           "speed": 1
          },
          "filters": [],
          "interactionConfig": {
           "brush": {
            "enabled": false,
            "size": 0.5
           },
           "tooltip": {
            "enabled": true,
            "fieldsToShow": {
             "Final Location": [
              "city"
             ],
             "bars": [
              "place"
             ],
             "schools": [
              "place"
             ],
             "stations": [
              "place"
             ],
             "vegan": [
              "place"
             ]
            }
           }
          },
          "layerBlending": "normal",
          "layers": [
           {
            "config": {
             "color": [
              231,
              159,
              213
             ],
             "columns": {
              "altitude": null,
              "lat": "latitude",
              "lng": "longitude"
             },
             "dataId": "Final Location",
             "isVisible": true,
             "label": "Point",
             "textLabel": [
              {
               "alignment": "center",
               "anchor": "start",
               "color": [
                255,
                255,
                255
               ],
               "field": null,
               "offset": [
                0,
                0
               ],
               "size": 18
              }
             ],
             "visConfig": {
              "colorRange": {
               "category": "Uber",
               "colors": [
                "#5A1846",
                "#900C3F",
                "#C70039",
                "#E3611C",
                "#F1920E",
                "#FFC300"
               ],
               "name": "Global Warming",
               "type": "sequential"
              },
              "filled": true,
              "fixedRadius": false,
              "opacity": 0.8,
              "outline": false,
              "radius": 10,
              "radiusRange": [
               0,
               50
              ],
              "strokeColor": null,
              "strokeColorRange": {
               "category": "Uber",
               "colors": [
                "#5A1846",
                "#900C3F",
                "#C70039",
                "#E3611C",
                "#F1920E",
                "#FFC300"
               ],
               "name": "Global Warming",
               "type": "sequential"
              },
              "thickness": 2
             }
            },
            "id": "r3l8pqi",
            "type": "point",
            "visualChannels": {
             "colorField": null,
             "colorScale": "quantile",
             "sizeField": null,
             "sizeScale": "linear",
             "strokeColorField": null,
             "strokeColorScale": "quantile"
            }
           },
           {
            "config": {
             "color": [
              30,
              150,
              190
             ],
             "columns": {
              "altitude": null,
              "lat": "latitude",
              "lng": "longitude"
             },
             "dataId": "schools",
             "isVisible": true,
             "label": "Point",
             "textLabel": [
              {
               "alignment": "center",
               "anchor": "start",
               "color": [
                255,
                255,
                255
               ],
               "field": null,
               "offset": [
                0,
                0
               ],
               "size": 18
              }
             ],
             "visConfig": {
              "colorRange": {
               "category": "Uber",
               "colors": [
                "#5A1846",
                "#900C3F",
                "#C70039",
                "#E3611C",
                "#F1920E",
                "#FFC300"
               ],
               "name": "Global Warming",
               "type": "sequential"
              },
              "filled": true,
              "fixedRadius": false,
              "opacity": 0.8,
              "outline": false,
              "radius": 10,
              "radiusRange": [
               0,
               50
              ],
              "strokeColor": null,
              "strokeColorRange": {
               "category": "Uber",
               "colors": [
                "#5A1846",
                "#900C3F",
                "#C70039",
                "#E3611C",
                "#F1920E",
                "#FFC300"
               ],
               "name": "Global Warming",
               "type": "sequential"
              },
              "thickness": 2
             }
            },
            "id": "1wjx7sm",
            "type": "point",
            "visualChannels": {
             "colorField": null,
             "colorScale": "quantile",
             "sizeField": null,
             "sizeScale": "linear",
             "strokeColorField": null,
             "strokeColorScale": "quantile"
            }
           },
           {
            "config": {
             "color": [
              137,
              218,
              193
             ],
             "columns": {
              "altitude": null,
              "lat": "latitude",
              "lng": "longitude"
             },
             "dataId": "bars",
             "isVisible": true,
             "label": "Point",
             "textLabel": [
              {
               "alignment": "center",
               "anchor": "start",
               "color": [
                255,
                255,
                255
               ],
               "field": null,
               "offset": [
                0,
                0
               ],
               "size": 18
              }
             ],
             "visConfig": {
              "colorRange": {
               "category": "Uber",
               "colors": [
                "#5A1846",
                "#900C3F",
                "#C70039",
                "#E3611C",
                "#F1920E",
                "#FFC300"
               ],
               "name": "Global Warming",
               "type": "sequential"
              },
              "filled": true,
              "fixedRadius": false,
              "opacity": 0.8,
              "outline": false,
              "radius": 10,
              "radiusRange": [
               0,
               50
              ],
              "strokeColor": null,
              "strokeColorRange": {
               "category": "Uber",
               "colors": [
                "#5A1846",
                "#900C3F",
                "#C70039",
                "#E3611C",
                "#F1920E",
                "#FFC300"
               ],
               "name": "Global Warming",
               "type": "sequential"
              },
              "thickness": 2
             }
            },
            "id": "yanhmna",
            "type": "point",
            "visualChannels": {
             "colorField": null,
             "colorScale": "quantile",
             "sizeField": null,
             "sizeScale": "linear",
             "strokeColorField": null,
             "strokeColorScale": "quantile"
            }
           },
           {
            "config": {
             "color": [
              179,
              173,
              158
             ],
             "columns": {
              "altitude": null,
              "lat": "latitude",
              "lng": "longitude"
             },
             "dataId": "stations",
             "isVisible": true,
             "label": "Point",
             "textLabel": [
              {
               "alignment": "center",
               "anchor": "start",
               "color": [
                255,
                255,
                255
               ],
               "field": null,
               "offset": [
                0,
                0
               ],
               "size": 18
              }
             ],
             "visConfig": {
              "colorRange": {
               "category": "Uber",
               "colors": [
                "#5A1846",
                "#900C3F",
                "#C70039",
                "#E3611C",
                "#F1920E",
                "#FFC300"
               ],
               "name": "Global Warming",
               "type": "sequential"
              },
              "filled": true,
              "fixedRadius": false,
              "opacity": 0.8,
              "outline": false,
              "radius": 10,
              "radiusRange": [
               0,
               50
              ],
              "strokeColor": null,
              "strokeColorRange": {
               "category": "Uber",
               "colors": [
                "#5A1846",
                "#900C3F",
                "#C70039",
                "#E3611C",
                "#F1920E",
                "#FFC300"
               ],
               "name": "Global Warming",
               "type": "sequential"
              },
              "thickness": 2
             }
            },
            "id": "0xz4nd",
            "type": "point",
            "visualChannels": {
             "colorField": null,
             "colorScale": "quantile",
             "sizeField": null,
             "sizeScale": "linear",
             "strokeColorField": null,
             "strokeColorScale": "quantile"
            }
           },
           {
            "config": {
             "color": [
              18,
              147,
              154
             ],
             "columns": {
              "altitude": null,
              "lat": "latitude",
              "lng": "longitude"
             },
             "dataId": "vegan",
             "isVisible": true,
             "label": "Point",
             "textLabel": [
              {
               "alignment": "center",
               "anchor": "start",
               "color": [
                255,
                255,
                255
               ],
               "field": null,
               "offset": [
                0,
                0
               ],
               "size": 18
              }
             ],
             "visConfig": {
              "colorRange": {
               "category": "Uber",
               "colors": [
                "#5A1846",
                "#900C3F",
                "#C70039",
                "#E3611C",
                "#F1920E",
                "#FFC300"
               ],
               "name": "Global Warming",
               "type": "sequential"
              },
              "filled": true,
              "fixedRadius": false,
              "opacity": 0.8,
              "outline": false,
              "radius": 10,
              "radiusRange": [
               0,
               50
              ],
              "strokeColor": null,
              "strokeColorRange": {
               "category": "Uber",
               "colors": [
                "#5A1846",
                "#900C3F",
                "#C70039",
                "#E3611C",
                "#F1920E",
                "#FFC300"
               ],
               "name": "Global Warming",
               "type": "sequential"
              },
              "thickness": 2
             }
            },
            "id": "yfi23bw",
            "type": "point",
            "visualChannels": {
             "colorField": null,
             "colorScale": "quantile",
             "sizeField": null,
             "sizeScale": "linear",
             "strokeColorField": null,
             "strokeColorScale": "quantile"
            }
           }
          ],
          "splitMaps": []
         }
        },
        "version": "v1"
       },
       "data": {
        "Final Location": {
         "columns": [
          "city",
          "latitude",
          "longitude"
         ],
         "data": [
          [
           null,
           17.08881,
           -96.76492
          ]
         ],
         "index": [
          173
         ]
        },
        "bars": {
         "columns": [
          "place",
          "latitude",
          "longitude"
         ],
         "data": [
          [
           "Chalet Bar & Restaurant",
           23.7444123,
           90.3948329
          ],
          [
           "Sakura Restaurant & Bar",
           23.7413191,
           90.3957767
          ],
          [
           "Hotel Eram International",
           23.7522014,
           90.3779323
          ],
          [
           "Golden Dragon Bar",
           23.7470307,
           90.39638719999999
          ],
          [
           "Hotel Grand Galaxy",
           23.7371685,
           90.38402529999999
          ],
          [
           "DPL Restaurant & Bar Green Road",
           23.7524469,
           90.3875745
          ],
          [
           "Aram international",
           23.7536607,
           90.3819967
          ],
          [
           "Chell A Bar / Shell A Bar",
           23.745798,
           90.39458820000002
          ],
          [
           "হোটেল পিকক লিঃ",
           23.7412356,
           90.39474
          ],
          [
           "Golden",
           23.7325295,
           90.38377849999999
          ],
          [
           "Ayan's Akhra",
           23.7572985,
           90.36993969999999
          ],
          [
           "Rahat the manga bhai",
           23.746167,
           90.3742601
          ],
          [
           "ডন গ্রিল হাউস",
           23.7476675,
           90.38011999999999
          ],
          [
           "Room of Good Music (RGM)",
           23.7539933,
           90.3879906
          ],
          [
           "Dhanmondi Club Limited-DCL, Royal tower 8th floor, 4 Panthapath",
           23.7501999,
           90.3923441
          ],
          [
           "Football Limited",
           23.745837,
           90.3921147
          ],
          [
           "Cafè Tit-As",
           23.7524695,
           90.3708161
          ],
          [
           "Kusum Billa",
           23.757575,
           90.3868014
          ],
          [
           "World Sports",
           23.7420449,
           90.3922372
          ],
          [
           "FBS Boys Common Room and Ice Cream Parlar.",
           23.7355043,
           90.3928323
          ]
         ],
         "index": [
          0,
          1,
          2,
          3,
          4,
          5,
          6,
          7,
          8,
          9,
          10,
          11,
          12,
          13,
          14,
          15,
          16,
          17,
          18,
          19
         ]
        },
        "schools": {
         "columns": [
          "place",
          "latitude",
          "longitude"
         ],
         "data": [
          [
           "Mohammadpur Preparatory School & College",
           23.7586284,
           90.3638426
          ],
          [
           "Oxford International School",
           23.753838,
           90.370846
          ],
          [
           "Lakehead Grammar School",
           23.7485488,
           90.3739616
          ],
          [
           "European Standard School",
           23.7525699,
           90.375626
          ],
          [
           "Mastermind School",
           23.752132,
           90.3754194
          ],
          [
           "St. Joseph Higher Secondary School",
           23.759697,
           90.3703249
          ],
          [
           "YWCA Higher Secondary Girls' School",
           23.7430029,
           90.38520930000001
          ],
          [
           "Green Gems Int. School.",
           23.7459879,
           90.3740833
          ],
          [
           "BCSIR High School",
           23.7407569,
           90.38635780000001
          ],
          [
           "Daffodil International School",
           23.7540912,
           90.3748935
          ],
          [
           "Cardiff International School Dhaka",
           23.7544959,
           90.3741661
          ],
          [
           "Government Laboratory High School",
           23.736412,
           90.38150879999999
          ],
          [
           "Averroes International School",
           23.7572518,
           90.36902660000001
          ],
          [
           "Holy Cross Girl's School and College",
           23.7582418,
           90.3911304
          ],
          [
           "JAAGO Foundation, Rayer Bazar School",
           23.746983,
           90.3622973
          ],
          [
           "University Laboratory School & College",
           23.7332983,
           90.3901581
          ],
          [
           "Engineering University School & College",
           23.7277447,
           90.3936011
          ],
          [
           "New Model Multilateral High School",
           23.7518734,
           90.3784993
          ],
          [
           "Scholastica",
           23.7446087,
           90.3731241
          ],
          [
           "Little Angles School",
           23.7250335,
           90.38496599999999
          ]
         ],
         "index": [
          0,
          1,
          2,
          3,
          4,
          5,
          6,
          7,
          8,
          9,
          10,
          11,
          12,
          13,
          14,
          15,
          16,
          17,
          18,
          19
         ]
        },
        "starbucks": "no",
        "stations": {
         "columns": [
          "place",
          "latitude",
          "longitude"
         ],
         "data": [
          [
           "Helipad",
           23.7541347,
           90.4000743
          ],
          [
           "Square Hospital Helipad",
           23.7530355,
           90.38156
          ],
          [
           "Helipad",
           23.7492277,
           90.39427359999999
          ],
          [
           "Sikder Heliport",
           23.7405641,
           90.35812849999999
          ]
         ],
         "index": [
          0,
          1,
          2,
          3
         ]
        },
        "vegan": {
         "columns": [
          "place",
          "latitude",
          "longitude"
         ],
         "data": [
          [
           "Adda",
           23.763076,
           90.37006
          ],
          [
           "Santoor Restaurant",
           23.7518678,
           90.3775333
          ],
          [
           "Melting Pot",
           23.7374929,
           90.37730069999999
          ],
          [
           "WestGeria",
           23.7496622,
           90.3801731
          ],
          [
           "Burger King",
           23.738343,
           90.3757526
          ],
          [
           "Cafe Bazar",
           23.7496731,
           90.394629
          ],
          [
           "Xindian Restaurant",
           23.7518866,
           90.36848119999999
          ],
          [
           "Pizza Roma",
           23.7384199,
           90.37821439999999
          ],
          [
           "Bhooter Bari",
           23.7539119,
           90.3695587
          ],
          [
           "Bella Italia",
           23.7473956,
           90.3709002
          ],
          [
           "Burger Xpress",
           23.7433381,
           90.3880697
          ],
          [
           "Homemade Bistro",
           23.752041,
           90.3873892
          ],
          [
           "Shake Shack",
           23.7538177,
           90.37027289999999
          ],
          [
           "Gloria Jean's Coffees, Dhanmondi",
           23.7498102,
           90.3686804
          ],
          [
           "Crimson Cup Coffee",
           23.7529947,
           90.3693972
          ]
         ],
         "index": [
          0,
          1,
          2,
          3,
          4,
          5,
          6,
          7,
          8,
          9,
          10,
          11,
          12,
          13,
          14
         ]
        }
       },
       "height": 500,
       "layout": "IPY_MODEL_9f01cad3734f471cbffc206cf538d79f",
       "value": "Hello World!"
      }
     },
     "720e151da589422e9cff9c71a902f007": {
      "model_module": "keplergl-jupyter",
      "model_module_version": "^0.1.0",
      "model_name": "KeplerGlModal",
      "state": {
       "_model_module_version": "^0.1.0",
       "_view_module_version": "^0.1.0",
       "config": {
        "config": {
         "mapState": {
          "bearing": 0,
          "dragRotate": false,
          "isSplit": false,
          "latitude": 52.144238099999995,
          "longitude": -106.66539085,
          "pitch": 0,
          "zoom": 13
         },
         "mapStyle": {
          "mapStyles": {},
          "styleType": "dark",
          "threeDBuildingColor": [
           9.665468314072013,
           17.18305478057247,
           31.1442867897876
          ],
          "topLayerGroups": {},
          "visibleLayerGroups": {
           "3d building": false,
           "border": false,
           "building": true,
           "label": true,
           "land": true,
           "road": true,
           "water": true
          }
         },
         "visState": {
          "animationConfig": {
           "currentTime": null,
           "speed": 1
          },
          "filters": [],
          "interactionConfig": {
           "brush": {
            "enabled": false,
            "size": 0.5
           },
           "tooltip": {
            "enabled": true,
            "fieldsToShow": {
             "Final Location": [
              "city"
             ],
             "bars": [
              "place"
             ],
             "schools": [
              "place"
             ],
             "starbucks": [
              "place"
             ],
             "vegan": [
              "place"
             ]
            }
           }
          },
          "layerBlending": "normal",
          "layers": [
           {
            "config": {
             "color": [
              119,
              110,
              87
             ],
             "columns": {
              "altitude": null,
              "lat": "latitude",
              "lng": "longitude"
             },
             "dataId": "Final Location",
             "isVisible": true,
             "label": "Point",
             "textLabel": [
              {
               "alignment": "center",
               "anchor": "start",
               "color": [
                255,
                255,
                255
               ],
               "field": null,
               "offset": [
                0,
                0
               ],
               "size": 18
              }
             ],
             "visConfig": {
              "colorRange": {
               "category": "Uber",
               "colors": [
                "#5A1846",
                "#900C3F",
                "#C70039",
                "#E3611C",
                "#F1920E",
                "#FFC300"
               ],
               "name": "Global Warming",
               "type": "sequential"
              },
              "filled": true,
              "fixedRadius": false,
              "opacity": 0.8,
              "outline": false,
              "radius": 10,
              "radiusRange": [
               0,
               50
              ],
              "strokeColor": null,
              "strokeColorRange": {
               "category": "Uber",
               "colors": [
                "#5A1846",
                "#900C3F",
                "#C70039",
                "#E3611C",
                "#F1920E",
                "#FFC300"
               ],
               "name": "Global Warming",
               "type": "sequential"
              },
              "thickness": 2
             }
            },
            "id": "q8nj8cn",
            "type": "point",
            "visualChannels": {
             "colorField": null,
             "colorScale": "quantile",
             "sizeField": null,
             "sizeScale": "linear",
             "strokeColorField": null,
             "strokeColorScale": "quantile"
            }
           },
           {
            "config": {
             "color": [
              23,
              184,
              190
             ],
             "columns": {
              "altitude": null,
              "lat": "latitude",
              "lng": "longitude"
             },
             "dataId": "starbucks",
             "isVisible": true,
             "label": "Point",
             "textLabel": [
              {
               "alignment": "center",
               "anchor": "start",
               "color": [
                255,
                255,
                255
               ],
               "field": null,
               "offset": [
                0,
                0
               ],
               "size": 18
              }
             ],
             "visConfig": {
              "colorRange": {
               "category": "Uber",
               "colors": [
                "#5A1846",
                "#900C3F",
                "#C70039",
                "#E3611C",
                "#F1920E",
                "#FFC300"
               ],
               "name": "Global Warming",
               "type": "sequential"
              },
              "filled": true,
              "fixedRadius": false,
              "opacity": 0.8,
              "outline": false,
              "radius": 10,
              "radiusRange": [
               0,
               50
              ],
              "strokeColor": null,
              "strokeColorRange": {
               "category": "Uber",
               "colors": [
                "#5A1846",
                "#900C3F",
                "#C70039",
                "#E3611C",
                "#F1920E",
                "#FFC300"
               ],
               "name": "Global Warming",
               "type": "sequential"
              },
              "thickness": 2
             }
            },
            "id": "dcpr4tfu",
            "type": "point",
            "visualChannels": {
             "colorField": null,
             "colorScale": "quantile",
             "sizeField": null,
             "sizeScale": "linear",
             "strokeColorField": null,
             "strokeColorScale": "quantile"
            }
           },
           {
            "config": {
             "color": [
              246,
              209,
              138
             ],
             "columns": {
              "altitude": null,
              "lat": "latitude",
              "lng": "longitude"
             },
             "dataId": "schools",
             "isVisible": true,
             "label": "Point",
             "textLabel": [
              {
               "alignment": "center",
               "anchor": "start",
               "color": [
                255,
                255,
                255
               ],
               "field": null,
               "offset": [
                0,
                0
               ],
               "size": 18
              }
             ],
             "visConfig": {
              "colorRange": {
               "category": "Uber",
               "colors": [
                "#5A1846",
                "#900C3F",
                "#C70039",
                "#E3611C",
                "#F1920E",
                "#FFC300"
               ],
               "name": "Global Warming",
               "type": "sequential"
              },
              "filled": true,
              "fixedRadius": false,
              "opacity": 0.8,
              "outline": false,
              "radius": 10,
              "radiusRange": [
               0,
               50
              ],
              "strokeColor": null,
              "strokeColorRange": {
               "category": "Uber",
               "colors": [
                "#5A1846",
                "#900C3F",
                "#C70039",
                "#E3611C",
                "#F1920E",
                "#FFC300"
               ],
               "name": "Global Warming",
               "type": "sequential"
              },
              "thickness": 2
             }
            },
            "id": "8klsl0v",
            "type": "point",
            "visualChannels": {
             "colorField": null,
             "colorScale": "quantile",
             "sizeField": null,
             "sizeScale": "linear",
             "strokeColorField": null,
             "strokeColorScale": "quantile"
            }
           },
           {
            "config": {
             "color": [
              183,
              136,
              94
             ],
             "columns": {
              "altitude": null,
              "lat": "latitude",
              "lng": "longitude"
             },
             "dataId": "bars",
             "isVisible": true,
             "label": "Point",
             "textLabel": [
              {
               "alignment": "center",
               "anchor": "start",
               "color": [
                255,
                255,
                255
               ],
               "field": null,
               "offset": [
                0,
                0
               ],
               "size": 18
              }
             ],
             "visConfig": {
              "colorRange": {
               "category": "Uber",
               "colors": [
                "#5A1846",
                "#900C3F",
                "#C70039",
                "#E3611C",
                "#F1920E",
                "#FFC300"
               ],
               "name": "Global Warming",
               "type": "sequential"
              },
              "filled": true,
              "fixedRadius": false,
              "opacity": 0.8,
              "outline": false,
              "radius": 10,
              "radiusRange": [
               0,
               50
              ],
              "strokeColor": null,
              "strokeColorRange": {
               "category": "Uber",
               "colors": [
                "#5A1846",
                "#900C3F",
                "#C70039",
                "#E3611C",
                "#F1920E",
                "#FFC300"
               ],
               "name": "Global Warming",
               "type": "sequential"
              },
              "thickness": 2
             }
            },
            "id": "t6obfxe",
            "type": "point",
            "visualChannels": {
             "colorField": null,
             "colorScale": "quantile",
             "sizeField": null,
             "sizeScale": "linear",
             "strokeColorField": null,
             "strokeColorScale": "quantile"
            }
           },
           {
            "config": {
             "color": [
              255,
              203,
              153
             ],
             "columns": {
              "altitude": null,
              "lat": "latitude",
              "lng": "longitude"
             },
             "dataId": "vegan",
             "isVisible": true,
             "label": "Point",
             "textLabel": [
              {
               "alignment": "center",
               "anchor": "start",
               "color": [
                255,
                255,
                255
               ],
               "field": null,
               "offset": [
                0,
                0
               ],
               "size": 18
              }
             ],
             "visConfig": {
              "colorRange": {
               "category": "Uber",
               "colors": [
                "#5A1846",
                "#900C3F",
                "#C70039",
                "#E3611C",
                "#F1920E",
                "#FFC300"
               ],
               "name": "Global Warming",
               "type": "sequential"
              },
              "filled": true,
              "fixedRadius": false,
              "opacity": 0.8,
              "outline": false,
              "radius": 10,
              "radiusRange": [
               0,
               50
              ],
              "strokeColor": null,
              "strokeColorRange": {
               "category": "Uber",
               "colors": [
                "#5A1846",
                "#900C3F",
                "#C70039",
                "#E3611C",
                "#F1920E",
                "#FFC300"
               ],
               "name": "Global Warming",
               "type": "sequential"
              },
              "thickness": 2
             }
            },
            "id": "dxapw7",
            "type": "point",
            "visualChannels": {
             "colorField": null,
             "colorScale": "quantile",
             "sizeField": null,
             "sizeScale": "linear",
             "strokeColorField": null,
             "strokeColorScale": "quantile"
            }
           }
          ],
          "splitMaps": []
         }
        },
        "version": "v1"
       },
       "data": {
        "Final Location": {
         "columns": [
          "city",
          "latitude",
          "longitude"
         ],
         "data": [
          [
           "Saskatoon",
           52.143886,
           -106.6634565
          ]
         ],
         "index": [
          1247
         ]
        },
        "bars": {
         "columns": [
          "place",
          "latitude",
          "longitude"
         ],
         "data": [
          [
           "Hudsons Saskatoon",
           52.1263771,
           -106.6609726
          ],
          [
           "Winston's English Pub & Grill",
           52.1268,
           -106.6634549
          ],
          [
           "Cathedral Social Hall",
           52.1267709,
           -106.6594192
          ],
          [
           "Congress Beer House",
           52.126907,
           -106.665293
          ],
          [
           "The Rook & Raven Pub",
           52.127713,
           -106.664077
          ],
          [
           "Red Zone Sports Bar",
           52.1588691,
           -106.6722458
          ],
          [
           "Shark Club Sports Bar & Grill",
           52.1583653,
           -106.6741767
          ],
          [
           "Outlaws Country Rock Bar",
           52.1367803,
           -106.6699082
          ],
          [
           "Fox & Hounds Pub & Brewery",
           52.1597333,
           -106.6456222
          ],
          [
           "Melody Bar",
           52.1260428,
           -106.6634974
          ],
          [
           "Flint",
           52.1261472,
           -106.665375
          ],
          [
           "Finns Irish Pub",
           52.13173399999999,
           -106.6525952
          ],
          [
           "O'Shea's Irish Pub",
           52.1264986,
           -106.6643816
          ],
          [
           "Bartari",
           52.126025,
           -106.6771944
          ],
          [
           "Louis'",
           52.1299684,
           -106.6352134
          ],
          [
           "The Riv Bar",
           52.1575808,
           -106.6722375
          ],
          [
           "Birmingham's Vodka and Ale House Saskatoon",
           52.15898499999999,
           -106.6507974
          ],
          [
           "Manchester Brew Pub",
           52.14404099999999,
           -106.670908
          ],
          [
           "Divas Nightclub",
           52.126377,
           -106.662583
          ],
          [
           "Taverna Italian Kitchen + Bar",
           52.1268818,
           -106.663954
          ]
         ],
         "index": [
          0,
          1,
          2,
          3,
          4,
          5,
          6,
          7,
          8,
          9,
          10,
          11,
          12,
          13,
          14,
          15,
          16,
          17,
          18,
          19
         ]
        },
        "schools": {
         "columns": [
          "place",
          "latitude",
          "longitude"
         ],
         "data": [
          [
           "E. D. Feehan Catholic High School",
           52.13405299999999,
           -106.6890684
          ],
          [
           "Westmount Community School",
           52.1338815,
           -106.6848947
          ],
          [
           "Caswell Community School",
           52.1388107,
           -106.6722033
          ],
          [
           "City Park Collegiate",
           52.139676,
           -106.648072
          ],
          [
           "Mayfair Community School",
           52.146272,
           -106.676687
          ],
          [
           "North Park Wilson School",
           52.1479045,
           -106.6498186
          ],
          [
           "École St. Paul Elementary School",
           52.147756,
           -106.6454079
          ],
          [
           "Princess Alexandra Community School",
           52.12807979999999,
           -106.6810388
          ],
          [
           "École Henry Kelsey School",
           52.14479979999999,
           -106.6882793
          ],
          [
           "Bedford Road Collegiate",
           52.133737,
           -106.6810117
          ],
          [
           "Brunskill School",
           52.1248623,
           -106.6385865
          ],
          [
           "Flex ED School",
           52.1494159,
           -106.6675388
          ],
          [
           "St. Maria Goretti Community School",
           52.1325916,
           -106.6963512
          ],
          [
           "École River Heights School",
           52.1636139,
           -106.6344305
          ],
          [
           "St. Mary's Wellness & Education Centre",
           52.1249032,
           -106.6908406
          ],
          [
           "St. Edward School",
           52.1405373,
           -106.693808
          ],
          [
           "Newcomer Student Centre - Saskatoon Public Schools",
           52.1270164,
           -106.6623526
          ],
          [
           "Post-Secondary Education & Skills Training",
           52.12864039999999,
           -106.6651608
          ]
         ],
         "index": [
          0,
          1,
          2,
          3,
          4,
          5,
          6,
          7,
          8,
          9,
          10,
          11,
          12,
          13,
          14,
          15,
          16,
          17
         ]
        },
        "starbucks": {
         "columns": [
          "place",
          "latitude",
          "longitude"
         ],
         "data": [
          [
           "Starbucks",
           52.1315654,
           -106.6409981
          ],
          [
           "Starbucks",
           52.1285414,
           -106.6636211
          ],
          [
           "Starbucks",
           52.1311913,
           -106.6369734
          ],
          [
           "Starbucks",
           52.1276455,
           -106.6664984
          ],
          [
           "Starbucks",
           52.1475915,
           -106.670829
          ],
          [
           "Starbucks",
           52.1584278,
           -106.6636507
          ]
         ],
         "index": [
          0,
          1,
          2,
          3,
          4,
          5
         ]
        },
        "stations": "no",
        "vegan": {
         "columns": [
          "place",
          "latitude",
          "longitude"
         ],
         "data": [
          [
           "The Karma - Conscious Café & Eatery",
           52.130243,
           -106.6633351
          ],
          [
           "Yay! Thai",
           52.1277832,
           -106.664059
          ],
          [
           "The Griffin Takeaway",
           52.1393225,
           -106.6526751
          ],
          [
           "Seasoned Fusion Tastes",
           52.127114,
           -106.6633115
          ],
          [
           "Leyda's Cafe",
           52.12624,
           -106.6707697
          ],
          [
           "Odd Couple Restaurant",
           52.126256,
           -106.6728275
          ],
          [
           "Pizza Pirates",
           52.1295711,
           -106.6930952
          ],
          [
           "Hometown Diner",
           52.1262749,
           -106.6723029
          ],
          [
           "Poached Breakfast Bistro",
           52.1261444,
           -106.665375
          ],
          [
           "Cactus Club Cafe Idylwyld Drive",
           52.1276583,
           -106.669775
          ],
          [
           "Spicy Bite",
           52.1278988,
           -106.6629386
          ],
          [
           "Picaro Cocktails & Tacos",
           52.125685,
           -106.6704665
          ],
          [
           "Freshii",
           52.1277167,
           -106.6645874
          ],
          [
           "Flanagan's Steakhouse",
           52.1267045,
           -106.6635229
          ],
          [
           "Genesis Family Restaurant",
           52.128916,
           -106.6834179
          ],
          [
           "Season's Cafe & Eatery",
           52.15499579999999,
           -106.6848518
          ],
          [
           "Saba's African Cuisine",
           52.1290207,
           -106.6830997
          ],
          [
           "Earls Kitchen + Bar - Takeout & Delivery",
           52.136891,
           -106.659574
          ],
          [
           "Taverna Italian Kitchen + Bar",
           52.1268818,
           -106.663954
          ],
          [
           "The Rook & Raven Pub",
           52.127713,
           -106.664077
          ]
         ],
         "index": [
          0,
          1,
          2,
          3,
          4,
          5,
          6,
          7,
          8,
          9,
          10,
          11,
          12,
          13,
          14,
          15,
          16,
          17,
          18,
          19
         ]
        }
       },
       "height": 500,
       "layout": "IPY_MODEL_cf6648a5ff7743058b8a3340352ea532",
       "value": "Hello World!"
      }
     },
     "75ef2581e32a4f208b3fe5738dc2b75b": {
      "model_module": "@jupyter-widgets/base",
      "model_module_version": "1.2.0",
      "model_name": "LayoutModel",
      "state": {}
     },
     "7707a3ee2035491aad42855e152da307": {
      "model_module": "keplergl-jupyter",
      "model_module_version": "^0.1.0",
      "model_name": "KeplerGlModal",
      "state": {
       "_model_module_version": "^0.1.0",
       "_view_module_version": "^0.1.0",
       "config": {
        "config": {
         "mapState": {
          "bearing": 0,
          "dragRotate": false,
          "isSplit": false,
          "latitude": 69.64519576303766,
          "longitude": 18.955317393459524,
          "pitch": 0,
          "zoom": 12.316052999041899
         },
         "mapStyle": {
          "mapStyles": {},
          "styleType": "dark",
          "threeDBuildingColor": [
           9.665468314072013,
           17.18305478057247,
           31.1442867897876
          ],
          "topLayerGroups": {},
          "visibleLayerGroups": {
           "3d building": false,
           "border": false,
           "building": true,
           "label": true,
           "land": true,
           "road": true,
           "water": true
          }
         },
         "visState": {
          "animationConfig": {
           "currentTime": null,
           "speed": 1
          },
          "filters": [],
          "interactionConfig": {
           "brush": {
            "enabled": false,
            "size": 0.5
           },
           "tooltip": {
            "enabled": true,
            "fieldsToShow": {
             "Final Location": [
              "city"
             ],
             "bars": [
              "place"
             ],
             "schools": [
              "place"
             ],
             "stations": [
              "place"
             ],
             "vegan": [
              "place"
             ]
            }
           }
          },
          "layerBlending": "normal",
          "layers": [
           {
            "config": {
             "color": [
              30,
              150,
              190
             ],
             "columns": {
              "altitude": null,
              "lat": "latitude",
              "lng": "longitude"
             },
             "dataId": "Final Location",
             "isVisible": true,
             "label": "Point",
             "textLabel": [
              {
               "alignment": "center",
               "anchor": "start",
               "color": [
                255,
                255,
                255
               ],
               "field": null,
               "offset": [
                0,
                0
               ],
               "size": 18
              }
             ],
             "visConfig": {
              "colorRange": {
               "category": "Uber",
               "colors": [
                "#5A1846",
                "#900C3F",
                "#C70039",
                "#E3611C",
                "#F1920E",
                "#FFC300"
               ],
               "name": "Global Warming",
               "type": "sequential"
              },
              "filled": true,
              "fixedRadius": false,
              "opacity": 0.8,
              "outline": false,
              "radius": 10,
              "radiusRange": [
               0,
               50
              ],
              "strokeColor": null,
              "strokeColorRange": {
               "category": "Uber",
               "colors": [
                "#5A1846",
                "#900C3F",
                "#C70039",
                "#E3611C",
                "#F1920E",
                "#FFC300"
               ],
               "name": "Global Warming",
               "type": "sequential"
              },
              "thickness": 2
             }
            },
            "id": "1ix60b",
            "type": "point",
            "visualChannels": {
             "colorField": null,
             "colorScale": "quantile",
             "sizeField": null,
             "sizeScale": "linear",
             "strokeColorField": null,
             "strokeColorScale": "quantile"
            }
           },
           {
            "config": {
             "color": [
              137,
              218,
              193
             ],
             "columns": {
              "altitude": null,
              "lat": "latitude",
              "lng": "longitude"
             },
             "dataId": "schools",
             "isVisible": true,
             "label": "Point",
             "textLabel": [
              {
               "alignment": "center",
               "anchor": "start",
               "color": [
                255,
                255,
                255
               ],
               "field": null,
               "offset": [
                0,
                0
               ],
               "size": 18
              }
             ],
             "visConfig": {
              "colorRange": {
               "category": "Uber",
               "colors": [
                "#5A1846",
                "#900C3F",
                "#C70039",
                "#E3611C",
                "#F1920E",
                "#FFC300"
               ],
               "name": "Global Warming",
               "type": "sequential"
              },
              "filled": true,
              "fixedRadius": false,
              "opacity": 0.8,
              "outline": false,
              "radius": 10,
              "radiusRange": [
               0,
               50
              ],
              "strokeColor": null,
              "strokeColorRange": {
               "category": "Uber",
               "colors": [
                "#5A1846",
                "#900C3F",
                "#C70039",
                "#E3611C",
                "#F1920E",
                "#FFC300"
               ],
               "name": "Global Warming",
               "type": "sequential"
              },
              "thickness": 2
             }
            },
            "id": "nb1cfy",
            "type": "point",
            "visualChannels": {
             "colorField": null,
             "colorScale": "quantile",
             "sizeField": null,
             "sizeScale": "linear",
             "strokeColorField": null,
             "strokeColorScale": "quantile"
            }
           },
           {
            "config": {
             "color": [
              179,
              173,
              158
             ],
             "columns": {
              "altitude": null,
              "lat": "latitude",
              "lng": "longitude"
             },
             "dataId": "bars",
             "isVisible": true,
             "label": "Point",
             "textLabel": [
              {
               "alignment": "center",
               "anchor": "start",
               "color": [
                255,
                255,
                255
               ],
               "field": null,
               "offset": [
                0,
                0
               ],
               "size": 18
              }
             ],
             "visConfig": {
              "colorRange": {
               "category": "Uber",
               "colors": [
                "#5A1846",
                "#900C3F",
                "#C70039",
                "#E3611C",
                "#F1920E",
                "#FFC300"
               ],
               "name": "Global Warming",
               "type": "sequential"
              },
              "filled": true,
              "fixedRadius": false,
              "opacity": 0.8,
              "outline": false,
              "radius": 10,
              "radiusRange": [
               0,
               50
              ],
              "strokeColor": null,
              "strokeColorRange": {
               "category": "Uber",
               "colors": [
                "#5A1846",
                "#900C3F",
                "#C70039",
                "#E3611C",
                "#F1920E",
                "#FFC300"
               ],
               "name": "Global Warming",
               "type": "sequential"
              },
              "thickness": 2
             }
            },
            "id": "use7l6b",
            "type": "point",
            "visualChannels": {
             "colorField": null,
             "colorScale": "quantile",
             "sizeField": null,
             "sizeScale": "linear",
             "strokeColorField": null,
             "strokeColorScale": "quantile"
            }
           },
           {
            "config": {
             "color": [
              18,
              147,
              154
             ],
             "columns": {
              "altitude": null,
              "lat": "latitude",
              "lng": "longitude"
             },
             "dataId": "stations",
             "isVisible": true,
             "label": "Point",
             "textLabel": [
              {
               "alignment": "center",
               "anchor": "start",
               "color": [
                255,
                255,
                255
               ],
               "field": null,
               "offset": [
                0,
                0
               ],
               "size": 18
              }
             ],
             "visConfig": {
              "colorRange": {
               "category": "Uber",
               "colors": [
                "#5A1846",
                "#900C3F",
                "#C70039",
                "#E3611C",
                "#F1920E",
                "#FFC300"
               ],
               "name": "Global Warming",
               "type": "sequential"
              },
              "filled": true,
              "fixedRadius": false,
              "opacity": 0.8,
              "outline": false,
              "radius": 10,
              "radiusRange": [
               0,
               50
              ],
              "strokeColor": null,
              "strokeColorRange": {
               "category": "Uber",
               "colors": [
                "#5A1846",
                "#900C3F",
                "#C70039",
                "#E3611C",
                "#F1920E",
                "#FFC300"
               ],
               "name": "Global Warming",
               "type": "sequential"
              },
              "thickness": 2
             }
            },
            "id": "mor2qbb",
            "type": "point",
            "visualChannels": {
             "colorField": null,
             "colorScale": "quantile",
             "sizeField": null,
             "sizeScale": "linear",
             "strokeColorField": null,
             "strokeColorScale": "quantile"
            }
           },
           {
            "config": {
             "color": [
              221,
              178,
              124
             ],
             "columns": {
              "altitude": null,
              "lat": "latitude",
              "lng": "longitude"
             },
             "dataId": "vegan",
             "isVisible": true,
             "label": "Point",
             "textLabel": [
              {
               "alignment": "center",
               "anchor": "start",
               "color": [
                255,
                255,
                255
               ],
               "field": null,
               "offset": [
                0,
                0
               ],
               "size": 18
              }
             ],
             "visConfig": {
              "colorRange": {
               "category": "Uber",
               "colors": [
                "#5A1846",
                "#900C3F",
                "#C70039",
                "#E3611C",
                "#F1920E",
                "#FFC300"
               ],
               "name": "Global Warming",
               "type": "sequential"
              },
              "filled": true,
              "fixedRadius": false,
              "opacity": 0.8,
              "outline": false,
              "radius": 10,
              "radiusRange": [
               0,
               50
              ],
              "strokeColor": null,
              "strokeColorRange": {
               "category": "Uber",
               "colors": [
                "#5A1846",
                "#900C3F",
                "#C70039",
                "#E3611C",
                "#F1920E",
                "#FFC300"
               ],
               "name": "Global Warming",
               "type": "sequential"
              },
              "thickness": 2
             }
            },
            "id": "4tjj5w4",
            "type": "point",
            "visualChannels": {
             "colorField": null,
             "colorScale": "quantile",
             "sizeField": null,
             "sizeScale": "linear",
             "strokeColorField": null,
             "strokeColorScale": "quantile"
            }
           }
          ],
          "splitMaps": []
         }
        },
        "version": "v1"
       },
       "data": {
        "Final Location": {
         "columns": [
          "city",
          "latitude",
          "longitude"
         ],
         "data": [
          [
           "TromsÃ¸",
           69.636216,
           18.931062
          ]
         ],
         "index": [
          738
         ]
        },
        "bars": {
         "columns": [
          "place",
          "latitude",
          "longitude"
         ],
         "data": [
          [
           "Rorbua Pub",
           69.6489929,
           18.9614106
          ],
          [
           "Bastard Bar",
           69.64732819999999,
           18.9542642
          ],
          [
           "Ølhallen",
           69.6458507,
           18.9503876
          ],
          [
           "Bardus Bar",
           69.6504793,
           18.9560605
          ],
          [
           "Magic Ice Bar Tromsø",
           69.6476326,
           18.959281
          ],
          [
           "Gründer Tromsø",
           69.6479717,
           18.9537995
          ],
          [
           "Blårock Cafe",
           69.64689539999999,
           18.9536623
          ],
          [
           "No. 24",
           69.6475789,
           18.954344
          ],
          [
           "Flyt",
           69.650071,
           18.958094
          ],
          [
           "G Tromsø AS",
           69.64768269999999,
           18.9539665
          ],
          [
           "Hildr Gastro Bar",
           69.6529963,
           18.9619502
          ],
          [
           "Agenturet Øl og Vinbar",
           69.6500763,
           18.9575077
          ],
          [
           "Skybar",
           69.6473903,
           18.9567957
          ],
          [
           "Tromsø Railstation",
           69.6477089,
           18.9553615
          ],
          [
           "O'learys Sportsbar & Restaurant",
           69.647758,
           18.9544113
          ],
          [
           "Heidi's Bier Bar - Tromsø",
           69.65109,
           18.9581476
          ],
          [
           "Raketten Bar & Pølse",
           69.6513812,
           18.9576878
          ],
          [
           "Lola Club - Tromsø",
           69.6511431,
           18.9581639
          ],
          [
           "Nyt",
           69.6499757,
           18.9566946
          ],
          [
           "Sivertsens Kafe",
           69.651778,
           18.9544847
          ]
         ],
         "index": [
          0,
          1,
          2,
          3,
          4,
          5,
          6,
          7,
          8,
          9,
          10,
          11,
          12,
          13,
          14,
          15,
          16,
          17,
          18,
          19
         ]
        },
        "schools": {
         "columns": [
          "place",
          "latitude",
          "longitude"
         ],
         "data": [
          [
           "Kongsbakken Upper Secondary School",
           69.6498714,
           18.9489929
          ],
          [
           "Bjerkaker primary school",
           69.6346071,
           18.923845
          ],
          [
           "Gyllenborg school",
           69.6515929,
           18.9506534
          ],
          [
           "Tromsö",
           69.6538908,
           18.9519932
          ],
          [
           "Xelliy",
           69.6492047,
           18.9553239
          ],
          [
           "Fagereng school",
           69.6429751,
           18.9047479
          ],
          [
           "Tromso library",
           69.6506531,
           18.9549675
          ],
          [
           "Steinerskolen i Tromsø",
           69.6409592,
           18.9347364
          ],
          [
           "Ishavsbyen high school Rambergan",
           69.65511500000001,
           18.9543319
          ],
          [
           "Norges Toppidrettsgymnas i Tromsø",
           69.6496736,
           18.9350175
          ],
          [
           "Sonans Utdanning Tromsø - privatist",
           69.650117,
           18.9534884
          ],
          [
           "Reinen School",
           69.6357955,
           18.9671196
          ],
          [
           "Tromsø Academy of Landscape and Territorial Studies",
           69.6461868,
           18.9491291
          ],
          [
           "Kulturskolen / Musikkonservatoriet",
           69.6360837,
           18.9144517
          ],
          [
           "Sommerlyst skole",
           69.6520319,
           18.935709
          ]
         ],
         "index": [
          0,
          1,
          2,
          3,
          4,
          5,
          6,
          7,
          8,
          9,
          10,
          11,
          12,
          13,
          14
         ]
        },
        "starbucks": "no",
        "stations": {
         "columns": [
          "place",
          "latitude",
          "longitude"
         ],
         "data": [
          [
           "The Arctic Route",
           69.6486448,
           18.9621701
          ],
          [
           "Tromsø Bridge",
           69.65103359999999,
           18.9791294
          ],
          [
           "Hertz Tromsø",
           69.6472527,
           18.9599608
          ],
          [
           "Parkering Havnegata 10 - TROMSØ | APCOA",
           69.652221,
           18.9596659
          ],
          [
           "Tromsø Maxitaxi",
           69.6480018,
           18.9506325
          ],
          [
           "Skippergata 16 | APCOA PARKING",
           69.65389700000001,
           18.9631988
          ],
          [
           "Tromsø Cable Car",
           69.64107969999999,
           18.9861989
          ],
          [
           "Tromso Airport Transfer",
           69.6394877,
           18.9361495
          ],
          [
           "Stein Sørensen Persontransport Din Taxi AS",
           69.639258,
           18.935194
          ],
          [
           "Tromsø",
           69.6492047,
           18.9553239
          ],
          [
           "Scandic Grand Tromsø",
           69.6480194,
           18.9535629
          ],
          [
           "Thon Hotel Tromsø",
           69.6485187,
           18.9527795
          ],
          [
           "Budget Bilutleie Tromsø",
           69.648522,
           18.9501931
          ]
         ],
         "index": [
          0,
          1,
          2,
          3,
          4,
          5,
          6,
          7,
          8,
          9,
          10,
          11,
          12
         ]
        },
        "vegan": {
         "columns": [
          "place",
          "latitude",
          "longitude"
         ],
         "data": [
          [
           "Tromso Kaffebrenneri - Veita",
           69.651957,
           18.9577628
          ],
          [
           "Suvi",
           69.6482138,
           18.9525667
          ],
          [
           "Pastafabrikken",
           69.6497408,
           18.9587621
          ],
          [
           "Rå Sushi & Bar",
           69.6515794,
           18.9608719
          ],
          [
           "CASA INFERNO - Pizza Restaurant",
           69.6485551,
           18.9511032
          ],
          [
           "Kala Restaurant & Bar",
           69.6478198,
           18.9522039
          ],
          [
           "Presis Tapas",
           69.6473902,
           18.953183
          ],
          [
           "Kitchen & Table Tromsø",
           69.6474072,
           18.956835
          ],
          [
           "Indie",
           69.6501222,
           18.9568558
          ],
          [
           "Burgr",
           69.65287099999999,
           18.960757
          ],
          [
           "Lotus Mat og vinhus",
           69.6506917,
           18.9600208
          ],
          [
           "Huken Pub",
           69.64733609999999,
           18.954267
          ],
          [
           "Peppes Pizza - Tromsø",
           69.6509564,
           18.9590858
          ],
          [
           "Sivertsens Kafe",
           69.651778,
           18.9544847
          ],
          [
           "Restaurant Smak AS",
           69.6535815,
           18.9624465
          ],
          [
           "Shanghai Wok",
           69.6549667,
           18.9633713
          ],
          [
           "Egon",
           69.6484353,
           18.9543533
          ],
          [
           "Kafé Globus",
           69.647097,
           18.952712
          ],
          [
           "Art Café",
           69.6480132,
           18.9579837
          ],
          [
           "Flyt",
           69.650071,
           18.958094
          ]
         ],
         "index": [
          0,
          1,
          2,
          3,
          4,
          5,
          6,
          7,
          8,
          9,
          10,
          11,
          12,
          13,
          14,
          15,
          16,
          17,
          18,
          19
         ]
        }
       },
       "height": 500,
       "layout": "IPY_MODEL_14606cf1ff104e299307e842eec02eba",
       "value": "Hello World!"
      }
     },
     "7bb72fbe94034b2aa0ba4cea694679d4": {
      "model_module": "keplergl-jupyter",
      "model_module_version": "^0.1.0",
      "model_name": "KeplerGlModal",
      "state": {
       "_model_module_version": "^0.1.0",
       "_view_module_version": "^0.1.0",
       "config": {
        "config": {
         "mapState": {
          "bearing": 0,
          "dragRotate": false,
          "isSplit": false,
          "latitude": 23.74405475,
          "longitude": 90.3791014,
          "pitch": 0,
          "zoom": 13
         },
         "mapStyle": {
          "mapStyles": {},
          "styleType": "dark",
          "threeDBuildingColor": [
           9.665468314072013,
           17.18305478057247,
           31.1442867897876
          ],
          "topLayerGroups": {},
          "visibleLayerGroups": {
           "3d building": false,
           "border": false,
           "building": true,
           "label": true,
           "land": true,
           "road": true,
           "water": true
          }
         },
         "visState": {
          "animationConfig": {
           "currentTime": null,
           "speed": 1
          },
          "filters": [],
          "interactionConfig": {
           "brush": {
            "enabled": false,
            "size": 0.5
           },
           "tooltip": {
            "enabled": true,
            "fieldsToShow": {
             "bars": [
              "place"
             ],
             "schools": [
              "place"
             ],
             "stations": [
              "place"
             ],
             "vegan": [
              "place"
             ]
            }
           }
          },
          "layerBlending": "normal",
          "layers": [
           {
            "config": {
             "color": [
              183,
              136,
              94
             ],
             "columns": {
              "altitude": null,
              "lat": "latitude",
              "lng": "longitude"
             },
             "dataId": "schools",
             "isVisible": true,
             "label": "Point",
             "textLabel": [
              {
               "alignment": "center",
               "anchor": "start",
               "color": [
                255,
                255,
                255
               ],
               "field": null,
               "offset": [
                0,
                0
               ],
               "size": 18
              }
             ],
             "visConfig": {
              "colorRange": {
               "category": "Uber",
               "colors": [
                "#5A1846",
                "#900C3F",
                "#C70039",
                "#E3611C",
                "#F1920E",
                "#FFC300"
               ],
               "name": "Global Warming",
               "type": "sequential"
              },
              "filled": true,
              "fixedRadius": false,
              "opacity": 0.8,
              "outline": false,
              "radius": 10,
              "radiusRange": [
               0,
               50
              ],
              "strokeColor": null,
              "strokeColorRange": {
               "category": "Uber",
               "colors": [
                "#5A1846",
                "#900C3F",
                "#C70039",
                "#E3611C",
                "#F1920E",
                "#FFC300"
               ],
               "name": "Global Warming",
               "type": "sequential"
              },
              "thickness": 2
             }
            },
            "id": "27vco5a",
            "type": "point",
            "visualChannels": {
             "colorField": null,
             "colorScale": "quantile",
             "sizeField": null,
             "sizeScale": "linear",
             "strokeColorField": null,
             "strokeColorScale": "quantile"
            }
           },
           {
            "config": {
             "color": [
              255,
              203,
              153
             ],
             "columns": {
              "altitude": null,
              "lat": "latitude",
              "lng": "longitude"
             },
             "dataId": "bars",
             "isVisible": true,
             "label": "Point",
             "textLabel": [
              {
               "alignment": "center",
               "anchor": "start",
               "color": [
                255,
                255,
                255
               ],
               "field": null,
               "offset": [
                0,
                0
               ],
               "size": 18
              }
             ],
             "visConfig": {
              "colorRange": {
               "category": "Uber",
               "colors": [
                "#5A1846",
                "#900C3F",
                "#C70039",
                "#E3611C",
                "#F1920E",
                "#FFC300"
               ],
               "name": "Global Warming",
               "type": "sequential"
              },
              "filled": true,
              "fixedRadius": false,
              "opacity": 0.8,
              "outline": false,
              "radius": 10,
              "radiusRange": [
               0,
               50
              ],
              "strokeColor": null,
              "strokeColorRange": {
               "category": "Uber",
               "colors": [
                "#5A1846",
                "#900C3F",
                "#C70039",
                "#E3611C",
                "#F1920E",
                "#FFC300"
               ],
               "name": "Global Warming",
               "type": "sequential"
              },
              "thickness": 2
             }
            },
            "id": "grza6kr",
            "type": "point",
            "visualChannels": {
             "colorField": null,
             "colorScale": "quantile",
             "sizeField": null,
             "sizeScale": "linear",
             "strokeColorField": null,
             "strokeColorScale": "quantile"
            }
           },
           {
            "config": {
             "color": [
              248,
              149,
              112
             ],
             "columns": {
              "altitude": null,
              "lat": "latitude",
              "lng": "longitude"
             },
             "dataId": "stations",
             "isVisible": true,
             "label": "Point",
             "textLabel": [
              {
               "alignment": "center",
               "anchor": "start",
               "color": [
                255,
                255,
                255
               ],
               "field": null,
               "offset": [
                0,
                0
               ],
               "size": 18
              }
             ],
             "visConfig": {
              "colorRange": {
               "category": "Uber",
               "colors": [
                "#5A1846",
                "#900C3F",
                "#C70039",
                "#E3611C",
                "#F1920E",
                "#FFC300"
               ],
               "name": "Global Warming",
               "type": "sequential"
              },
              "filled": true,
              "fixedRadius": false,
              "opacity": 0.8,
              "outline": false,
              "radius": 10,
              "radiusRange": [
               0,
               50
              ],
              "strokeColor": null,
              "strokeColorRange": {
               "category": "Uber",
               "colors": [
                "#5A1846",
                "#900C3F",
                "#C70039",
                "#E3611C",
                "#F1920E",
                "#FFC300"
               ],
               "name": "Global Warming",
               "type": "sequential"
              },
              "thickness": 2
             }
            },
            "id": "ty8z3in",
            "type": "point",
            "visualChannels": {
             "colorField": null,
             "colorScale": "quantile",
             "sizeField": null,
             "sizeScale": "linear",
             "strokeColorField": null,
             "strokeColorScale": "quantile"
            }
           },
           {
            "config": {
             "color": [
              130,
              154,
              227
             ],
             "columns": {
              "altitude": null,
              "lat": "latitude",
              "lng": "longitude"
             },
             "dataId": "vegan",
             "isVisible": true,
             "label": "Point",
             "textLabel": [
              {
               "alignment": "center",
               "anchor": "start",
               "color": [
                255,
                255,
                255
               ],
               "field": null,
               "offset": [
                0,
                0
               ],
               "size": 18
              }
             ],
             "visConfig": {
              "colorRange": {
               "category": "Uber",
               "colors": [
                "#5A1846",
                "#900C3F",
                "#C70039",
                "#E3611C",
                "#F1920E",
                "#FFC300"
               ],
               "name": "Global Warming",
               "type": "sequential"
              },
              "filled": true,
              "fixedRadius": false,
              "opacity": 0.8,
              "outline": false,
              "radius": 10,
              "radiusRange": [
               0,
               50
              ],
              "strokeColor": null,
              "strokeColorRange": {
               "category": "Uber",
               "colors": [
                "#5A1846",
                "#900C3F",
                "#C70039",
                "#E3611C",
                "#F1920E",
                "#FFC300"
               ],
               "name": "Global Warming",
               "type": "sequential"
              },
              "thickness": 2
             }
            },
            "id": "dqcfgbe",
            "type": "point",
            "visualChannels": {
             "colorField": null,
             "colorScale": "quantile",
             "sizeField": null,
             "sizeScale": "linear",
             "strokeColorField": null,
             "strokeColorScale": "quantile"
            }
           }
          ],
          "splitMaps": []
         }
        },
        "version": "v1"
       },
       "data": {
        "bars": {
         "columns": [
          "place",
          "latitude",
          "longitude"
         ],
         "data": [
          [
           "Chalet Bar & Restaurant",
           23.7444123,
           90.3948329
          ],
          [
           "Sakura Restaurant & Bar",
           23.7413191,
           90.3957767
          ],
          [
           "Hotel Eram International",
           23.7522014,
           90.3779323
          ],
          [
           "Golden Dragon Bar",
           23.7470307,
           90.39638719999999
          ],
          [
           "Hotel Grand Galaxy",
           23.7371685,
           90.38402529999999
          ],
          [
           "DPL Restaurant & Bar Green Road",
           23.7524469,
           90.3875745
          ],
          [
           "Aram international",
           23.7536607,
           90.3819967
          ],
          [
           "Chell A Bar / Shell A Bar",
           23.745798,
           90.39458820000002
          ],
          [
           "হোটেল পিকক লিঃ",
           23.7412356,
           90.39474
          ],
          [
           "Golden",
           23.7325295,
           90.38377849999999
          ],
          [
           "Ayan's Akhra",
           23.7572985,
           90.36993969999999
          ],
          [
           "Rahat the manga bhai",
           23.746167,
           90.3742601
          ],
          [
           "ডন গ্রিল হাউস",
           23.7476675,
           90.38011999999999
          ],
          [
           "Room of Good Music (RGM)",
           23.7539933,
           90.3879906
          ],
          [
           "Dhanmondi Club Limited-DCL, Royal tower 8th floor, 4 Panthapath",
           23.7501999,
           90.3923441
          ],
          [
           "Football Limited",
           23.745837,
           90.3921147
          ],
          [
           "Cafè Tit-As",
           23.7524695,
           90.3708161
          ],
          [
           "Kusum Billa",
           23.757575,
           90.3868014
          ],
          [
           "World Sports",
           23.7420449,
           90.3922372
          ],
          [
           "FBS Boys Common Room and Ice Cream Parlar.",
           23.7355043,
           90.3928323
          ]
         ],
         "index": [
          0,
          1,
          2,
          3,
          4,
          5,
          6,
          7,
          8,
          9,
          10,
          11,
          12,
          13,
          14,
          15,
          16,
          17,
          18,
          19
         ]
        },
        "schools": {
         "columns": [
          "place",
          "latitude",
          "longitude"
         ],
         "data": [
          [
           "Mohammadpur Preparatory School & College",
           23.7586284,
           90.3638426
          ],
          [
           "Oxford International School",
           23.753838,
           90.370846
          ],
          [
           "Lakehead Grammar School",
           23.7485488,
           90.3739616
          ],
          [
           "European Standard School",
           23.7525699,
           90.375626
          ],
          [
           "Mastermind School",
           23.752132,
           90.3754194
          ],
          [
           "St. Joseph Higher Secondary School",
           23.759697,
           90.3703249
          ],
          [
           "YWCA Higher Secondary Girls' School",
           23.7430029,
           90.38520930000001
          ],
          [
           "Green Gems Int. School.",
           23.7459879,
           90.3740833
          ],
          [
           "BCSIR High School",
           23.7407569,
           90.38635780000001
          ],
          [
           "Daffodil International School",
           23.7540912,
           90.3748935
          ],
          [
           "Cardiff International School Dhaka",
           23.7544959,
           90.3741661
          ],
          [
           "Government Laboratory High School",
           23.736412,
           90.38150879999999
          ],
          [
           "Averroes International School",
           23.7572518,
           90.36902660000001
          ],
          [
           "Holy Cross Girl's School and College",
           23.7582418,
           90.3911304
          ],
          [
           "JAAGO Foundation, Rayer Bazar School",
           23.746983,
           90.3622973
          ],
          [
           "University Laboratory School & College",
           23.7332983,
           90.3901581
          ],
          [
           "Engineering University School & College",
           23.7277447,
           90.3936011
          ],
          [
           "New Model Multilateral High School",
           23.7518734,
           90.3784993
          ],
          [
           "Scholastica",
           23.7446087,
           90.3731241
          ],
          [
           "Little Angles School",
           23.7250335,
           90.38496599999999
          ]
         ],
         "index": [
          0,
          1,
          2,
          3,
          4,
          5,
          6,
          7,
          8,
          9,
          10,
          11,
          12,
          13,
          14,
          15,
          16,
          17,
          18,
          19
         ]
        },
        "starbucks": "no",
        "stations": {
         "columns": [
          "place",
          "latitude",
          "longitude"
         ],
         "data": [
          [
           "Helipad",
           23.7541347,
           90.4000743
          ],
          [
           "Square Hospital Helipad",
           23.7530355,
           90.38156
          ],
          [
           "Helipad",
           23.7492277,
           90.39427359999999
          ],
          [
           "Sikder Heliport",
           23.7405641,
           90.35812849999999
          ]
         ],
         "index": [
          0,
          1,
          2,
          3
         ]
        },
        "vegan": {
         "columns": [
          "place",
          "latitude",
          "longitude"
         ],
         "data": [
          [
           "Adda",
           23.763076,
           90.37006
          ],
          [
           "Santoor Restaurant",
           23.7518678,
           90.3775333
          ],
          [
           "Melting Pot",
           23.7374929,
           90.37730069999999
          ],
          [
           "WestGeria",
           23.7496622,
           90.3801731
          ],
          [
           "Burger King",
           23.738343,
           90.3757526
          ],
          [
           "Cafe Bazar",
           23.7496731,
           90.394629
          ],
          [
           "Xindian Restaurant",
           23.7518866,
           90.36848119999999
          ],
          [
           "Pizza Roma",
           23.7384199,
           90.37821439999999
          ],
          [
           "Bhooter Bari",
           23.7539119,
           90.3695587
          ],
          [
           "Bella Italia",
           23.7473956,
           90.3709002
          ],
          [
           "Burger Xpress",
           23.7433381,
           90.3880697
          ],
          [
           "Homemade Bistro",
           23.752041,
           90.3873892
          ],
          [
           "Shake Shack",
           23.7538177,
           90.37027289999999
          ],
          [
           "Gloria Jean's Coffees, Dhanmondi",
           23.7498102,
           90.3686804
          ],
          [
           "Crimson Cup Coffee",
           23.7529947,
           90.3693972
          ]
         ],
         "index": [
          0,
          1,
          2,
          3,
          4,
          5,
          6,
          7,
          8,
          9,
          10,
          11,
          12,
          13,
          14
         ]
        }
       },
       "height": 500,
       "layout": "IPY_MODEL_90c9fd9e5fdf41f28f4ad229d89f1c3b",
       "value": "Hello World!"
      }
     },
     "7f146575f25c40618a8f3d0c09dab026": {
      "model_module": "@jupyter-widgets/base",
      "model_module_version": "1.2.0",
      "model_name": "LayoutModel",
      "state": {}
     },
     "81daa4c4b65d429d91888a5d5a9ac7a6": {
      "model_module": "@jupyter-widgets/base",
      "model_module_version": "1.2.0",
      "model_name": "LayoutModel",
      "state": {}
     },
     "8409352fb8664ad29a3e6b3191c48a08": {
      "model_module": "keplergl-jupyter",
      "model_module_version": "^0.1.0",
      "model_name": "KeplerGlModal",
      "state": {
       "_model_module_version": "^0.1.0",
       "_view_module_version": "^0.1.0",
       "config": {
        "config": {
         "mapState": {
          "bearing": 0,
          "dragRotate": false,
          "isSplit": false,
          "latitude": 17.08644745,
          "longitude": -96.7616832,
          "pitch": 0,
          "zoom": 13
         },
         "mapStyle": {
          "mapStyles": {},
          "styleType": "dark",
          "threeDBuildingColor": [
           9.665468314072013,
           17.18305478057247,
           31.1442867897876
          ],
          "topLayerGroups": {},
          "visibleLayerGroups": {
           "3d building": false,
           "border": false,
           "building": true,
           "label": true,
           "land": true,
           "road": true,
           "water": true
          }
         },
         "visState": {
          "animationConfig": {
           "currentTime": null,
           "speed": 1
          },
          "filters": [],
          "interactionConfig": {
           "brush": {
            "enabled": false,
            "size": 0.5
           },
           "tooltip": {
            "enabled": true,
            "fieldsToShow": {
             "cities": [
              "place"
             ]
            }
           }
          },
          "layerBlending": "normal",
          "layers": [
           {
            "config": {
             "color": [
              183,
              136,
              94
             ],
             "columns": {
              "altitude": null,
              "lat": "latitude",
              "lng": "longitude"
             },
             "dataId": "cities",
             "isVisible": true,
             "label": "Point",
             "textLabel": [
              {
               "alignment": "center",
               "anchor": "start",
               "color": [
                255,
                255,
                255
               ],
               "field": null,
               "offset": [
                0,
                0
               ],
               "size": 18
              }
             ],
             "visConfig": {
              "colorRange": {
               "category": "Uber",
               "colors": [
                "#5A1846",
                "#900C3F",
                "#C70039",
                "#E3611C",
                "#F1920E",
                "#FFC300"
               ],
               "name": "Global Warming",
               "type": "sequential"
              },
              "filled": true,
              "fixedRadius": false,
              "opacity": 0.8,
              "outline": false,
              "radius": 10,
              "radiusRange": [
               0,
               50
              ],
              "strokeColor": null,
              "strokeColorRange": {
               "category": "Uber",
               "colors": [
                "#5A1846",
                "#900C3F",
                "#C70039",
                "#E3611C",
                "#F1920E",
                "#FFC300"
               ],
               "name": "Global Warming",
               "type": "sequential"
              },
              "thickness": 2
             }
            },
            "id": "90wg9fk",
            "type": "point",
            "visualChannels": {
             "colorField": null,
             "colorScale": "quantile",
             "sizeField": null,
             "sizeScale": "linear",
             "strokeColorField": null,
             "strokeColorScale": "quantile"
            }
           }
          ],
          "splitMaps": []
         }
        },
        "version": "v1"
       },
       "data": {
        "cities": {
         "columns": [
          "place",
          "latitude",
          "longitude"
         ],
         "data": [
          [
           "La Rinconada",
           17.0957441,
           -96.768439
          ],
          [
           "Liverpool bar musica retro",
           17.1008725,
           -96.7610098
          ],
          [
           "Cuate's BAR",
           17.0745031,
           -96.746774
          ],
          [
           "bar bar",
           17.08083,
           -96.760437
          ],
          [
           "Bar el mariachi",
           17.0789519,
           -96.7613708
          ],
          [
           "BAR LOS CAUDILLOS \"DE YU\"",
           17.090005,
           -96.75306200000001
          ],
          [
           "El Establo Bar & Grill",
           17.071215,
           -96.75215500000002
          ],
          [
           "Deposito De Cerveza Juquilita",
           17.1032739,
           -96.7765924
          ],
          [
           "Botanero Santa Elena",
           17.0785046,
           -96.76731559999999
          ],
          [
           "Barola 35 restaurante Coffee bar",
           17.076232,
           -96.75109309999999
          ],
          [
           "Bar magaly",
           17.0966273,
           -96.75861309999999
          ],
          [
           "Viña Tulps",
           17.1028985,
           -96.75276339999999
          ],
          [
           "PAPALOPEZ",
           17.0754626,
           -96.7533129
          ],
          [
           "Los Tarros Micheladas",
           17.069621,
           -96.75377119999999
          ],
          [
           "Restaurante bar la cocina de Ana",
           17.0818268,
           -96.7610397
          ]
         ],
         "index": [
          0,
          1,
          2,
          3,
          4,
          5,
          6,
          7,
          8,
          9,
          10,
          11,
          12,
          13,
          14
         ]
        }
       },
       "height": 500,
       "layout": "IPY_MODEL_36f00ecfbf064046ad2fa2efef0dcf83",
       "value": "Hello World!"
      }
     },
     "88106375d9204abe8c4373fe93d78f7d": {
      "model_module": "@jupyter-widgets/base",
      "model_module_version": "1.2.0",
      "model_name": "LayoutModel",
      "state": {}
     },
     "8d8b6dba975849fb8ca0cd71cbaf3509": {
      "model_module": "keplergl-jupyter",
      "model_module_version": "^0.1.0",
      "model_name": "KeplerGlModal",
      "state": {
       "_model_module_version": "^0.1.0",
       "_view_module_version": "^0.1.0",
       "config": {
        "config": {
         "mapState": {
          "bearing": 0,
          "dragRotate": false,
          "isSplit": false,
          "latitude": 23.74236525,
          "longitude": 90.3791014,
          "pitch": 0,
          "zoom": 13
         },
         "mapStyle": {
          "mapStyles": {},
          "styleType": "dark",
          "threeDBuildingColor": [
           9.665468314072013,
           17.18305478057247,
           31.1442867897876
          ],
          "topLayerGroups": {},
          "visibleLayerGroups": {
           "3d building": false,
           "border": false,
           "building": true,
           "label": true,
           "land": true,
           "road": true,
           "water": true
          }
         },
         "visState": {
          "animationConfig": {
           "currentTime": null,
           "speed": 1
          },
          "filters": [],
          "interactionConfig": {
           "brush": {
            "enabled": false,
            "size": 0.5
           },
           "tooltip": {
            "enabled": true,
            "fieldsToShow": {
             "pp": [
              "place"
             ],
             "schools": [
              "place"
             ],
             "stations": [
              "place"
             ]
            }
           }
          },
          "layerBlending": "normal",
          "layers": [
           {
            "config": {
             "color": [
              34,
              63,
              154
             ],
             "columns": {
              "altitude": null,
              "lat": "latitude",
              "lng": "longitude"
             },
             "dataId": "stations",
             "isVisible": true,
             "label": "Point",
             "textLabel": [
              {
               "alignment": "center",
               "anchor": "start",
               "color": [
                255,
                255,
                255
               ],
               "field": null,
               "offset": [
                0,
                0
               ],
               "size": 18
              }
             ],
             "visConfig": {
              "colorRange": {
               "category": "Uber",
               "colors": [
                "#5A1846",
                "#900C3F",
                "#C70039",
                "#E3611C",
                "#F1920E",
                "#FFC300"
               ],
               "name": "Global Warming",
               "type": "sequential"
              },
              "filled": true,
              "fixedRadius": false,
              "opacity": 0.8,
              "outline": false,
              "radius": 10,
              "radiusRange": [
               0,
               50
              ],
              "strokeColor": null,
              "strokeColorRange": {
               "category": "Uber",
               "colors": [
                "#5A1846",
                "#900C3F",
                "#C70039",
                "#E3611C",
                "#F1920E",
                "#FFC300"
               ],
               "name": "Global Warming",
               "type": "sequential"
              },
              "thickness": 2
             }
            },
            "id": "j3ginxn",
            "type": "point",
            "visualChannels": {
             "colorField": null,
             "colorScale": "quantile",
             "sizeField": null,
             "sizeScale": "linear",
             "strokeColorField": null,
             "strokeColorScale": "quantile"
            }
           },
           {
            "config": {
             "color": [
              218,
              112,
              191
             ],
             "columns": {
              "altitude": null,
              "lat": "latitude",
              "lng": "longitude"
             },
             "dataId": "schools",
             "isVisible": true,
             "label": "Point",
             "textLabel": [
              {
               "alignment": "center",
               "anchor": "start",
               "color": [
                255,
                255,
                255
               ],
               "field": null,
               "offset": [
                0,
                0
               ],
               "size": 18
              }
             ],
             "visConfig": {
              "colorRange": {
               "category": "Uber",
               "colors": [
                "#5A1846",
                "#900C3F",
                "#C70039",
                "#E3611C",
                "#F1920E",
                "#FFC300"
               ],
               "name": "Global Warming",
               "type": "sequential"
              },
              "filled": true,
              "fixedRadius": false,
              "opacity": 0.8,
              "outline": false,
              "radius": 10,
              "radiusRange": [
               0,
               50
              ],
              "strokeColor": null,
              "strokeColorRange": {
               "category": "Uber",
               "colors": [
                "#5A1846",
                "#900C3F",
                "#C70039",
                "#E3611C",
                "#F1920E",
                "#FFC300"
               ],
               "name": "Global Warming",
               "type": "sequential"
              },
              "thickness": 2
             }
            },
            "id": "k954yue",
            "type": "point",
            "visualChannels": {
             "colorField": null,
             "colorScale": "quantile",
             "sizeField": null,
             "sizeScale": "linear",
             "strokeColorField": null,
             "strokeColorScale": "quantile"
            }
           },
           {
            "config": {
             "color": [
              18,
              92,
              119
             ],
             "columns": {
              "altitude": null,
              "lat": "latitude",
              "lng": "longitude"
             },
             "dataId": "pp",
             "isVisible": true,
             "label": "Point",
             "textLabel": [
              {
               "alignment": "center",
               "anchor": "start",
               "color": [
                255,
                255,
                255
               ],
               "field": null,
               "offset": [
                0,
                0
               ],
               "size": 18
              }
             ],
             "visConfig": {
              "colorRange": {
               "category": "Uber",
               "colors": [
                "#5A1846",
                "#900C3F",
                "#C70039",
                "#E3611C",
                "#F1920E",
                "#FFC300"
               ],
               "name": "Global Warming",
               "type": "sequential"
              },
              "filled": true,
              "fixedRadius": false,
              "opacity": 0.8,
              "outline": false,
              "radius": 10,
              "radiusRange": [
               0,
               50
              ],
              "strokeColor": null,
              "strokeColorRange": {
               "category": "Uber",
               "colors": [
                "#5A1846",
                "#900C3F",
                "#C70039",
                "#E3611C",
                "#F1920E",
                "#FFC300"
               ],
               "name": "Global Warming",
               "type": "sequential"
              },
              "thickness": 2
             }
            },
            "id": "xdochpa",
            "type": "point",
            "visualChannels": {
             "colorField": null,
             "colorScale": "quantile",
             "sizeField": null,
             "sizeScale": "linear",
             "strokeColorField": null,
             "strokeColorScale": "quantile"
            }
           }
          ],
          "splitMaps": []
         }
        },
        "version": "v1"
       },
       "data": {
        "pp": {
         "columns": [
          "place",
          "latitude",
          "longitude"
         ],
         "data": [
          [
           "Chalet Bar & Restaurant",
           23.7444123,
           90.3948329
          ],
          [
           "Sakura Restaurant & Bar",
           23.7413191,
           90.3957767
          ],
          [
           "Hotel Eram International",
           23.7522014,
           90.3779323
          ],
          [
           "Golden Dragon Bar",
           23.7470307,
           90.39638719999999
          ],
          [
           "Hotel Grand Galaxy",
           23.7371685,
           90.38402529999999
          ],
          [
           "DPL Restaurant & Bar Green Road",
           23.7524469,
           90.3875745
          ],
          [
           "Aram international",
           23.7536607,
           90.3819967
          ],
          [
           "Chell A Bar / Shell A Bar",
           23.745798,
           90.39458820000002
          ],
          [
           "হোটেল পিকক লিঃ",
           23.7412356,
           90.39474
          ],
          [
           "Golden",
           23.7325295,
           90.38377849999999
          ],
          [
           "Ayan's Akhra",
           23.7572985,
           90.36993969999999
          ],
          [
           "Rahat the manga bhai",
           23.746167,
           90.3742601
          ],
          [
           "ডন গ্রিল হাউস",
           23.7476675,
           90.38011999999999
          ],
          [
           "Room of Good Music (RGM)",
           23.7539933,
           90.3879906
          ],
          [
           "Dhanmondi Club Limited-DCL, Royal tower 8th floor, 4 Panthapath",
           23.7501999,
           90.3923441
          ],
          [
           "Football Limited",
           23.745837,
           90.3921147
          ],
          [
           "Cafè Tit-As",
           23.7524695,
           90.3708161
          ],
          [
           "Kusum Billa",
           23.757575,
           90.3868014
          ],
          [
           "World Sports",
           23.7420449,
           90.3922372
          ],
          [
           "FBS Boys Common Room and Ice Cream Parlar.",
           23.7355043,
           90.3928323
          ]
         ],
         "index": [
          0,
          1,
          2,
          3,
          4,
          5,
          6,
          7,
          8,
          9,
          10,
          11,
          12,
          13,
          14,
          15,
          16,
          17,
          18,
          19
         ]
        },
        "schools": {
         "columns": [
          "place",
          "latitude",
          "longitude"
         ],
         "data": [
          [
           "Mohammadpur Preparatory School & College",
           23.7586284,
           90.3638426
          ],
          [
           "Oxford International School",
           23.753838,
           90.370846
          ],
          [
           "Lakehead Grammar School",
           23.7485488,
           90.3739616
          ],
          [
           "European Standard School",
           23.7525699,
           90.375626
          ],
          [
           "Mastermind School",
           23.752132,
           90.3754194
          ],
          [
           "St. Joseph Higher Secondary School",
           23.759697,
           90.3703249
          ],
          [
           "YWCA Higher Secondary Girls' School",
           23.7430029,
           90.38520930000001
          ],
          [
           "Green Gems Int. School.",
           23.7459879,
           90.3740833
          ],
          [
           "BCSIR High School",
           23.7407569,
           90.38635780000001
          ],
          [
           "Daffodil International School",
           23.7540912,
           90.3748935
          ],
          [
           "Cardiff International School Dhaka",
           23.7544959,
           90.3741661
          ],
          [
           "Government Laboratory High School",
           23.736412,
           90.38150879999999
          ],
          [
           "Averroes International School",
           23.7572518,
           90.36902660000001
          ],
          [
           "Holy Cross Girl's School and College",
           23.7582418,
           90.3911304
          ],
          [
           "JAAGO Foundation, Rayer Bazar School",
           23.746983,
           90.3622973
          ],
          [
           "University Laboratory School & College",
           23.7332983,
           90.3901581
          ],
          [
           "Engineering University School & College",
           23.7277447,
           90.3936011
          ],
          [
           "New Model Multilateral High School",
           23.7518734,
           90.3784993
          ],
          [
           "Scholastica",
           23.7446087,
           90.3731241
          ],
          [
           "Little Angles School",
           23.7250335,
           90.38496599999999
          ]
         ],
         "index": [
          0,
          1,
          2,
          3,
          4,
          5,
          6,
          7,
          8,
          9,
          10,
          11,
          12,
          13,
          14,
          15,
          16,
          17,
          18,
          19
         ]
        },
        "starb": "no",
        "stations": {
         "columns": [
          "place",
          "latitude",
          "longitude"
         ],
         "data": [
          [
           "Helipad",
           23.7541347,
           90.4000743
          ],
          [
           "Square Hospital Helipad",
           23.7530355,
           90.38156
          ],
          [
           "Helipad",
           23.7492277,
           90.39427359999999
          ],
          [
           "Sikder Heliport",
           23.7405641,
           90.35812849999999
          ]
         ],
         "index": [
          0,
          1,
          2,
          3
         ]
        }
       },
       "height": 500,
       "layout": "IPY_MODEL_d9e2534fe4ba421d95f4bf553c073051",
       "value": "Hello World!"
      }
     },
     "90c9fd9e5fdf41f28f4ad229d89f1c3b": {
      "model_module": "@jupyter-widgets/base",
      "model_module_version": "1.2.0",
      "model_name": "LayoutModel",
      "state": {}
     },
     "947aad4ea8eb4f758a2767a16563c0c8": {
      "model_module": "keplergl-jupyter",
      "model_module_version": "^0.1.0",
      "model_name": "KeplerGlModal",
      "state": {
       "_model_module_version": "^0.1.0",
       "_view_module_version": "^0.1.0",
       "config": {
        "config": {
         "mapState": {
          "bearing": 24,
          "dragRotate": true,
          "isSplit": false,
          "latitude": 52.133005007979264,
          "longitude": -106.65949993686712,
          "pitch": 50,
          "zoom": 12.824144606332641
         },
         "mapStyle": {
          "mapStyles": {},
          "styleType": "dark",
          "threeDBuildingColor": [
           9.665468314072013,
           17.18305478057247,
           31.1442867897876
          ],
          "topLayerGroups": {},
          "visibleLayerGroups": {
           "3d building": true,
           "border": false,
           "building": true,
           "label": true,
           "land": true,
           "road": true,
           "water": true
          }
         },
         "visState": {
          "animationConfig": {
           "currentTime": null,
           "speed": 1
          },
          "filters": [],
          "interactionConfig": {
           "brush": {
            "enabled": false,
            "size": 0.5
           },
           "tooltip": {
            "enabled": true,
            "fieldsToShow": {
             "Final Location": [
              "city"
             ],
             "bars": [
              "place"
             ],
             "schools": [
              "place"
             ],
             "starbucks": [
              "place"
             ],
             "vegan": [
              "place"
             ]
            }
           }
          },
          "layerBlending": "normal",
          "layers": [
           {
            "config": {
             "color": [
              34,
              63,
              154
             ],
             "columns": {
              "altitude": null,
              "lat": "latitude",
              "lng": "longitude"
             },
             "dataId": "Final Location",
             "isVisible": true,
             "label": "City",
             "textLabel": [
              {
               "alignment": "center",
               "anchor": "start",
               "color": [
                255,
                255,
                255
               ],
               "field": null,
               "offset": [
                0,
                0
               ],
               "size": 18
              }
             ],
             "visConfig": {
              "colorRange": {
               "category": "Uber",
               "colors": [
                "#5A1846",
                "#900C3F",
                "#C70039",
                "#E3611C",
                "#F1920E",
                "#FFC300"
               ],
               "name": "Global Warming",
               "type": "sequential"
              },
              "filled": true,
              "fixedRadius": false,
              "opacity": 0.8,
              "outline": false,
              "radius": 42.2,
              "radiusRange": [
               0,
               50
              ],
              "strokeColor": null,
              "strokeColorRange": {
               "category": "Uber",
               "colors": [
                "#5A1846",
                "#900C3F",
                "#C70039",
                "#E3611C",
                "#F1920E",
                "#FFC300"
               ],
               "name": "Global Warming",
               "type": "sequential"
              },
              "thickness": 2
             }
            },
            "id": "3kjv467",
            "type": "point",
            "visualChannels": {
             "colorField": null,
             "colorScale": "quantile",
             "sizeField": null,
             "sizeScale": "linear",
             "strokeColorField": null,
             "strokeColorScale": "quantile"
            }
           },
           {
            "config": {
             "color": [
              218,
              112,
              191
             ],
             "columns": {
              "altitude": null,
              "lat": "latitude",
              "lng": "longitude"
             },
             "dataId": "starbucks",
             "isVisible": true,
             "label": "Starbucks",
             "textLabel": [
              {
               "alignment": "center",
               "anchor": "start",
               "color": [
                255,
                255,
                255
               ],
               "field": null,
               "offset": [
                0,
                0
               ],
               "size": 18
              }
             ],
             "visConfig": {
              "colorRange": {
               "category": "Uber",
               "colors": [
                "#5A1846",
                "#900C3F",
                "#C70039",
                "#E3611C",
                "#F1920E",
                "#FFC300"
               ],
               "name": "Global Warming",
               "type": "sequential"
              },
              "filled": true,
              "fixedRadius": false,
              "opacity": 0.8,
              "outline": false,
              "radius": 10,
              "radiusRange": [
               0,
               50
              ],
              "strokeColor": null,
              "strokeColorRange": {
               "category": "Uber",
               "colors": [
                "#5A1846",
                "#900C3F",
                "#C70039",
                "#E3611C",
                "#F1920E",
                "#FFC300"
               ],
               "name": "Global Warming",
               "type": "sequential"
              },
              "thickness": 2
             }
            },
            "id": "kmf7ykn",
            "type": "point",
            "visualChannels": {
             "colorField": null,
             "colorScale": "quantile",
             "sizeField": null,
             "sizeScale": "linear",
             "strokeColorField": null,
             "strokeColorScale": "quantile"
            }
           },
           {
            "config": {
             "color": [
              18,
              92,
              119
             ],
             "columns": {
              "altitude": null,
              "lat": "latitude",
              "lng": "longitude"
             },
             "dataId": "schools",
             "isVisible": true,
             "label": "Schools",
             "textLabel": [
              {
               "alignment": "center",
               "anchor": "start",
               "color": [
                255,
                255,
                255
               ],
               "field": null,
               "offset": [
                0,
                0
               ],
               "size": 18
              }
             ],
             "visConfig": {
              "colorRange": {
               "category": "Uber",
               "colors": [
                "#5A1846",
                "#900C3F",
                "#C70039",
                "#E3611C",
                "#F1920E",
                "#FFC300"
               ],
               "name": "Global Warming",
               "type": "sequential"
              },
              "filled": true,
              "fixedRadius": false,
              "opacity": 0.8,
              "outline": false,
              "radius": 10,
              "radiusRange": [
               0,
               50
              ],
              "strokeColor": null,
              "strokeColorRange": {
               "category": "Uber",
               "colors": [
                "#5A1846",
                "#900C3F",
                "#C70039",
                "#E3611C",
                "#F1920E",
                "#FFC300"
               ],
               "name": "Global Warming",
               "type": "sequential"
              },
              "thickness": 2
             }
            },
            "id": "7xbmbzg",
            "type": "point",
            "visualChannels": {
             "colorField": null,
             "colorScale": "quantile",
             "sizeField": null,
             "sizeScale": "linear",
             "strokeColorField": null,
             "strokeColorScale": "quantile"
            }
           },
           {
            "config": {
             "color": [
              77,
              193,
              156
             ],
             "columns": {
              "altitude": null,
              "lat": "latitude",
              "lng": "longitude"
             },
             "dataId": "bars",
             "isVisible": true,
             "label": "Bars",
             "textLabel": [
              {
               "alignment": "center",
               "anchor": "start",
               "color": [
                255,
                255,
                255
               ],
               "field": null,
               "offset": [
                0,
                0
               ],
               "size": 18
              }
             ],
             "visConfig": {
              "colorRange": {
               "category": "Uber",
               "colors": [
                "#5A1846",
                "#900C3F",
                "#C70039",
                "#E3611C",
                "#F1920E",
                "#FFC300"
               ],
               "name": "Global Warming",
               "type": "sequential"
              },
              "filled": true,
              "fixedRadius": false,
              "opacity": 0.8,
              "outline": false,
              "radius": 10,
              "radiusRange": [
               0,
               50
              ],
              "strokeColor": null,
              "strokeColorRange": {
               "category": "Uber",
               "colors": [
                "#5A1846",
                "#900C3F",
                "#C70039",
                "#E3611C",
                "#F1920E",
                "#FFC300"
               ],
               "name": "Global Warming",
               "type": "sequential"
              },
              "thickness": 2
             }
            },
            "id": "yjmwmu",
            "type": "point",
            "visualChannels": {
             "colorField": null,
             "colorScale": "quantile",
             "sizeField": null,
             "sizeScale": "linear",
             "strokeColorField": null,
             "strokeColorScale": "quantile"
            }
           },
           {
            "config": {
             "color": [
              119,
              110,
              87
             ],
             "columns": {
              "altitude": null,
              "lat": "latitude",
              "lng": "longitude"
             },
             "dataId": "vegan",
             "isVisible": true,
             "label": "Vegan",
             "textLabel": [
              {
               "alignment": "center",
               "anchor": "start",
               "color": [
                255,
                255,
                255
               ],
               "field": null,
               "offset": [
                0,
                0
               ],
               "size": 18
              }
             ],
             "visConfig": {
              "colorRange": {
               "category": "Uber",
               "colors": [
                "#5A1846",
                "#900C3F",
                "#C70039",
                "#E3611C",
                "#F1920E",
                "#FFC300"
               ],
               "name": "Global Warming",
               "type": "sequential"
              },
              "filled": true,
              "fixedRadius": false,
              "opacity": 0.8,
              "outline": false,
              "radius": 10,
              "radiusRange": [
               0,
               50
              ],
              "strokeColor": null,
              "strokeColorRange": {
               "category": "Uber",
               "colors": [
                "#5A1846",
                "#900C3F",
                "#C70039",
                "#E3611C",
                "#F1920E",
                "#FFC300"
               ],
               "name": "Global Warming",
               "type": "sequential"
              },
              "thickness": 2
             }
            },
            "id": "mtkfqau",
            "type": "point",
            "visualChannels": {
             "colorField": null,
             "colorScale": "quantile",
             "sizeField": null,
             "sizeScale": "linear",
             "strokeColorField": null,
             "strokeColorScale": "quantile"
            }
           }
          ],
          "splitMaps": []
         }
        },
        "version": "v1"
       },
       "data": {
        "Final Location": {
         "columns": [
          "city",
          "latitude",
          "longitude"
         ],
         "data": [
          [
           "Saskatoon",
           52.143886,
           -106.6634565
          ]
         ],
         "index": [
          1247
         ]
        },
        "bars": {
         "columns": [
          "place",
          "latitude",
          "longitude"
         ],
         "data": [
          [
           "Hudsons Saskatoon",
           52.1263771,
           -106.6609726
          ],
          [
           "Winston's English Pub & Grill",
           52.1268,
           -106.6634549
          ],
          [
           "Cathedral Social Hall",
           52.1267709,
           -106.6594192
          ],
          [
           "Congress Beer House",
           52.126907,
           -106.665293
          ],
          [
           "The Rook & Raven Pub",
           52.127713,
           -106.664077
          ],
          [
           "Red Zone Sports Bar",
           52.1588691,
           -106.6722458
          ],
          [
           "Shark Club Sports Bar & Grill",
           52.1583653,
           -106.6741767
          ],
          [
           "Outlaws Country Rock Bar",
           52.1367803,
           -106.6699082
          ],
          [
           "Fox & Hounds Pub & Brewery",
           52.1597333,
           -106.6456222
          ],
          [
           "Melody Bar",
           52.1260428,
           -106.6634974
          ],
          [
           "Flint",
           52.1261472,
           -106.665375
          ],
          [
           "Finns Irish Pub",
           52.13173399999999,
           -106.6525952
          ],
          [
           "O'Shea's Irish Pub",
           52.1264986,
           -106.6643816
          ],
          [
           "Bartari",
           52.126025,
           -106.6771944
          ],
          [
           "Louis'",
           52.1299684,
           -106.6352134
          ],
          [
           "The Riv Bar",
           52.1575808,
           -106.6722375
          ],
          [
           "Birmingham's Vodka and Ale House Saskatoon",
           52.15898499999999,
           -106.6507974
          ],
          [
           "Manchester Brew Pub",
           52.14404099999999,
           -106.670908
          ],
          [
           "Divas Nightclub",
           52.126377,
           -106.662583
          ],
          [
           "Taverna Italian Kitchen + Bar",
           52.1268818,
           -106.663954
          ]
         ],
         "index": [
          0,
          1,
          2,
          3,
          4,
          5,
          6,
          7,
          8,
          9,
          10,
          11,
          12,
          13,
          14,
          15,
          16,
          17,
          18,
          19
         ]
        },
        "schools": {
         "columns": [
          "place",
          "latitude",
          "longitude"
         ],
         "data": [
          [
           "E. D. Feehan Catholic High School",
           52.13405299999999,
           -106.6890684
          ],
          [
           "Westmount Community School",
           52.1338815,
           -106.6848947
          ],
          [
           "Caswell Community School",
           52.1388107,
           -106.6722033
          ],
          [
           "City Park Collegiate",
           52.139676,
           -106.648072
          ],
          [
           "Mayfair Community School",
           52.146272,
           -106.676687
          ],
          [
           "North Park Wilson School",
           52.1479045,
           -106.6498186
          ],
          [
           "École St. Paul Elementary School",
           52.147756,
           -106.6454079
          ],
          [
           "Princess Alexandra Community School",
           52.12807979999999,
           -106.6810388
          ],
          [
           "École Henry Kelsey School",
           52.14479979999999,
           -106.6882793
          ],
          [
           "Bedford Road Collegiate",
           52.133737,
           -106.6810117
          ],
          [
           "Brunskill School",
           52.1248623,
           -106.6385865
          ],
          [
           "Flex ED School",
           52.1494159,
           -106.6675388
          ],
          [
           "St. Maria Goretti Community School",
           52.1325916,
           -106.6963512
          ],
          [
           "École River Heights School",
           52.1636139,
           -106.6344305
          ],
          [
           "St. Mary's Wellness & Education Centre",
           52.1249032,
           -106.6908406
          ],
          [
           "St. Edward School",
           52.1405373,
           -106.693808
          ],
          [
           "Newcomer Student Centre - Saskatoon Public Schools",
           52.1270164,
           -106.6623526
          ],
          [
           "Post-Secondary Education & Skills Training",
           52.12864039999999,
           -106.6651608
          ]
         ],
         "index": [
          0,
          1,
          2,
          3,
          4,
          5,
          6,
          7,
          8,
          9,
          10,
          11,
          12,
          13,
          14,
          15,
          16,
          17
         ]
        },
        "starbucks": {
         "columns": [
          "place",
          "latitude",
          "longitude"
         ],
         "data": [
          [
           "Starbucks",
           52.1315654,
           -106.6409981
          ],
          [
           "Starbucks",
           52.1285414,
           -106.6636211
          ],
          [
           "Starbucks",
           52.1311913,
           -106.6369734
          ],
          [
           "Starbucks",
           52.1276455,
           -106.6664984
          ],
          [
           "Starbucks",
           52.1475915,
           -106.670829
          ],
          [
           "Starbucks",
           52.1584278,
           -106.6636507
          ]
         ],
         "index": [
          0,
          1,
          2,
          3,
          4,
          5
         ]
        },
        "stations": "no",
        "vegan": {
         "columns": [
          "place",
          "latitude",
          "longitude"
         ],
         "data": [
          [
           "The Karma - Conscious Café & Eatery",
           52.130243,
           -106.6633351
          ],
          [
           "Yay! Thai",
           52.1277832,
           -106.664059
          ],
          [
           "The Griffin Takeaway",
           52.1393225,
           -106.6526751
          ],
          [
           "Seasoned Fusion Tastes",
           52.127114,
           -106.6633115
          ],
          [
           "Leyda's Cafe",
           52.12624,
           -106.6707697
          ],
          [
           "Odd Couple Restaurant",
           52.126256,
           -106.6728275
          ],
          [
           "Pizza Pirates",
           52.1295711,
           -106.6930952
          ],
          [
           "Hometown Diner",
           52.1262749,
           -106.6723029
          ],
          [
           "Poached Breakfast Bistro",
           52.1261444,
           -106.665375
          ],
          [
           "Cactus Club Cafe Idylwyld Drive",
           52.1276583,
           -106.669775
          ],
          [
           "Spicy Bite",
           52.1278988,
           -106.6629386
          ],
          [
           "Picaro Cocktails & Tacos",
           52.125685,
           -106.6704665
          ],
          [
           "Freshii",
           52.1277167,
           -106.6645874
          ],
          [
           "Flanagan's Steakhouse",
           52.1267045,
           -106.6635229
          ],
          [
           "Genesis Family Restaurant",
           52.128916,
           -106.6834179
          ],
          [
           "Season's Cafe & Eatery",
           52.15499579999999,
           -106.6848518
          ],
          [
           "Saba's African Cuisine",
           52.1290207,
           -106.6830997
          ],
          [
           "Earls Kitchen + Bar - Takeout & Delivery",
           52.136891,
           -106.659574
          ],
          [
           "Taverna Italian Kitchen + Bar",
           52.1268818,
           -106.663954
          ],
          [
           "The Rook & Raven Pub",
           52.127713,
           -106.664077
          ]
         ],
         "index": [
          0,
          1,
          2,
          3,
          4,
          5,
          6,
          7,
          8,
          9,
          10,
          11,
          12,
          13,
          14,
          15,
          16,
          17,
          18,
          19
         ]
        }
       },
       "height": 500,
       "layout": "IPY_MODEL_e22c24299aec46a3857848a475de1df5",
       "value": "Hello World!"
      }
     },
     "95d5f13b63f24bb7a3048c4c900f1c6c": {
      "model_module": "@jupyter-widgets/base",
      "model_module_version": "1.2.0",
      "model_name": "LayoutModel",
      "state": {}
     },
     "96e6319ed77e4160b88afd515a9729b5": {
      "model_module": "@jupyter-widgets/base",
      "model_module_version": "1.2.0",
      "model_name": "LayoutModel",
      "state": {}
     },
     "98f22700a4d74ddd9b3793e28b55a10d": {
      "model_module": "keplergl-jupyter",
      "model_module_version": "^0.1.0",
      "model_name": "KeplerGlModal",
      "state": {
       "_model_module_version": "^0.1.0",
       "_view_module_version": "^0.1.0",
       "config": {
        "config": {
         "mapState": {
          "bearing": 24,
          "dragRotate": true,
          "isSplit": false,
          "latitude": 52.136511023675574,
          "longitude": -106.67198425759962,
          "pitch": 50,
          "zoom": 13.04262880832321
         },
         "mapStyle": {
          "mapStyles": {},
          "styleType": "dark",
          "threeDBuildingColor": [
           9.665468314072013,
           17.18305478057247,
           31.1442867897876
          ],
          "topLayerGroups": {},
          "visibleLayerGroups": {
           "3d building": true,
           "border": false,
           "building": true,
           "label": true,
           "land": true,
           "road": true,
           "water": true
          }
         },
         "visState": {
          "animationConfig": {
           "currentTime": null,
           "speed": 1
          },
          "filters": [],
          "interactionConfig": {
           "brush": {
            "enabled": false,
            "size": 0.5
           },
           "tooltip": {
            "enabled": true,
            "fieldsToShow": {
             "Final Location": [
              "city"
             ],
             "bars": [
              "place"
             ],
             "schools": [
              "place"
             ],
             "starbucks": [
              "place"
             ],
             "vegan": [
              "place"
             ]
            }
           }
          },
          "layerBlending": "normal",
          "layers": [
           {
            "config": {
             "color": [
              136,
              87,
              44
             ],
             "columns": {
              "altitude": null,
              "lat": "latitude",
              "lng": "longitude"
             },
             "dataId": "Final Location",
             "isVisible": true,
             "label": "City",
             "textLabel": [
              {
               "alignment": "center",
               "anchor": "start",
               "color": [
                255,
                255,
                255
               ],
               "field": {
                "name": "city",
                "type": "string"
               },
               "offset": [
                0,
                0
               ],
               "size": 18
              }
             ],
             "visConfig": {
              "colorRange": {
               "category": "Uber",
               "colors": [
                "#5A1846",
                "#900C3F",
                "#C70039",
                "#E3611C",
                "#F1920E",
                "#FFC300"
               ],
               "name": "Global Warming",
               "type": "sequential"
              },
              "filled": true,
              "fixedRadius": false,
              "opacity": 0.8,
              "outline": false,
              "radius": 34.7,
              "radiusRange": [
               0,
               50
              ],
              "strokeColor": null,
              "strokeColorRange": {
               "category": "Uber",
               "colors": [
                "#5A1846",
                "#900C3F",
                "#C70039",
                "#E3611C",
                "#F1920E",
                "#FFC300"
               ],
               "name": "Global Warming",
               "type": "sequential"
              },
              "thickness": 2
             }
            },
            "id": "d35u2nb",
            "type": "point",
            "visualChannels": {
             "colorField": null,
             "colorScale": "quantile",
             "sizeField": null,
             "sizeScale": "linear",
             "strokeColorField": null,
             "strokeColorScale": "quantile"
            }
           },
           {
            "config": {
             "color": [
              255,
              153,
              31
             ],
             "columns": {
              "altitude": null,
              "lat": "latitude",
              "lng": "longitude"
             },
             "dataId": "starbucks",
             "isVisible": true,
             "label": "Starbucks",
             "textLabel": [
              {
               "alignment": "center",
               "anchor": "start",
               "color": [
                255,
                255,
                255
               ],
               "field": null,
               "offset": [
                0,
                0
               ],
               "size": 18
              }
             ],
             "visConfig": {
              "colorRange": {
               "category": "Uber",
               "colors": [
                "#5A1846",
                "#900C3F",
                "#C70039",
                "#E3611C",
                "#F1920E",
                "#FFC300"
               ],
               "name": "Global Warming",
               "type": "sequential"
              },
              "filled": true,
              "fixedRadius": false,
              "opacity": 0.8,
              "outline": false,
              "radius": 10,
              "radiusRange": [
               0,
               50
              ],
              "strokeColor": null,
              "strokeColorRange": {
               "category": "Uber",
               "colors": [
                "#5A1846",
                "#900C3F",
                "#C70039",
                "#E3611C",
                "#F1920E",
                "#FFC300"
               ],
               "name": "Global Warming",
               "type": "sequential"
              },
              "thickness": 2
             }
            },
            "id": "s11vhl",
            "type": "point",
            "visualChannels": {
             "colorField": null,
             "colorScale": "quantile",
             "sizeField": null,
             "sizeScale": "linear",
             "strokeColorField": null,
             "strokeColorScale": "quantile"
            }
           },
           {
            "config": {
             "color": [
              241,
              92,
              23
             ],
             "columns": {
              "altitude": null,
              "lat": "latitude",
              "lng": "longitude"
             },
             "dataId": "schools",
             "isVisible": true,
             "label": "Schools",
             "textLabel": [
              {
               "alignment": "center",
               "anchor": "start",
               "color": [
                255,
                255,
                255
               ],
               "field": null,
               "offset": [
                0,
                0
               ],
               "size": 18
              }
             ],
             "visConfig": {
              "colorRange": {
               "category": "Uber",
               "colors": [
                "#5A1846",
                "#900C3F",
                "#C70039",
                "#E3611C",
                "#F1920E",
                "#FFC300"
               ],
               "name": "Global Warming",
               "type": "sequential"
              },
              "filled": true,
              "fixedRadius": false,
              "opacity": 0.8,
              "outline": false,
              "radius": 10,
              "radiusRange": [
               0,
               50
              ],
              "strokeColor": null,
              "strokeColorRange": {
               "category": "Uber",
               "colors": [
                "#5A1846",
                "#900C3F",
                "#C70039",
                "#E3611C",
                "#F1920E",
                "#FFC300"
               ],
               "name": "Global Warming",
               "type": "sequential"
              },
              "thickness": 2
             }
            },
            "id": "nqnauv4",
            "type": "point",
            "visualChannels": {
             "colorField": null,
             "colorScale": "quantile",
             "sizeField": null,
             "sizeScale": "linear",
             "strokeColorField": null,
             "strokeColorScale": "quantile"
            }
           },
           {
            "config": {
             "color": [
              34,
              63,
              154
             ],
             "columns": {
              "altitude": null,
              "lat": "latitude",
              "lng": "longitude"
             },
             "dataId": "bars",
             "isVisible": true,
             "label": "Bars",
             "textLabel": [
              {
               "alignment": "center",
               "anchor": "start",
               "color": [
                255,
                255,
                255
               ],
               "field": null,
               "offset": [
                0,
                0
               ],
               "size": 18
              }
             ],
             "visConfig": {
              "colorRange": {
               "category": "Uber",
               "colors": [
                "#5A1846",
                "#900C3F",
                "#C70039",
                "#E3611C",
                "#F1920E",
                "#FFC300"
               ],
               "name": "Global Warming",
               "type": "sequential"
              },
              "filled": true,
              "fixedRadius": false,
              "opacity": 0.8,
              "outline": false,
              "radius": 10,
              "radiusRange": [
               0,
               50
              ],
              "strokeColor": null,
              "strokeColorRange": {
               "category": "Uber",
               "colors": [
                "#5A1846",
                "#900C3F",
                "#C70039",
                "#E3611C",
                "#F1920E",
                "#FFC300"
               ],
               "name": "Global Warming",
               "type": "sequential"
              },
              "thickness": 2
             }
            },
            "id": "7feug5p",
            "type": "point",
            "visualChannels": {
             "colorField": null,
             "colorScale": "quantile",
             "sizeField": null,
             "sizeScale": "linear",
             "strokeColorField": null,
             "strokeColorScale": "quantile"
            }
           },
           {
            "config": {
             "color": [
              218,
              112,
              191
             ],
             "columns": {
              "altitude": null,
              "lat": "latitude",
              "lng": "longitude"
             },
             "dataId": "vegan",
             "isVisible": true,
             "label": "Vegan Restaurants",
             "textLabel": [
              {
               "alignment": "center",
               "anchor": "start",
               "color": [
                255,
                255,
                255
               ],
               "field": null,
               "offset": [
                0,
                0
               ],
               "size": 18
              }
             ],
             "visConfig": {
              "colorRange": {
               "category": "Uber",
               "colors": [
                "#5A1846",
                "#900C3F",
                "#C70039",
                "#E3611C",
                "#F1920E",
                "#FFC300"
               ],
               "name": "Global Warming",
               "type": "sequential"
              },
              "filled": true,
              "fixedRadius": false,
              "opacity": 0.8,
              "outline": false,
              "radius": 10,
              "radiusRange": [
               0,
               50
              ],
              "strokeColor": null,
              "strokeColorRange": {
               "category": "Uber",
               "colors": [
                "#5A1846",
                "#900C3F",
                "#C70039",
                "#E3611C",
                "#F1920E",
                "#FFC300"
               ],
               "name": "Global Warming",
               "type": "sequential"
              },
              "thickness": 2
             }
            },
            "id": "dnt6b8",
            "type": "point",
            "visualChannels": {
             "colorField": null,
             "colorScale": "quantile",
             "sizeField": null,
             "sizeScale": "linear",
             "strokeColorField": null,
             "strokeColorScale": "quantile"
            }
           }
          ],
          "splitMaps": []
         }
        },
        "version": "v1"
       },
       "data": {
        "Final Location": {
         "columns": [
          "city",
          "latitude",
          "longitude"
         ],
         "data": [
          [
           "Saskatoon",
           52.143886,
           -106.6634565
          ]
         ],
         "index": [
          1247
         ]
        },
        "bars": {
         "columns": [
          "place",
          "latitude",
          "longitude"
         ],
         "data": [
          [
           "Hudsons Saskatoon",
           52.1263771,
           -106.6609726
          ],
          [
           "Winston's English Pub & Grill",
           52.1268,
           -106.6634549
          ],
          [
           "Cathedral Social Hall",
           52.1267709,
           -106.6594192
          ],
          [
           "Congress Beer House",
           52.126907,
           -106.665293
          ],
          [
           "The Rook & Raven Pub",
           52.127713,
           -106.664077
          ],
          [
           "Red Zone Sports Bar",
           52.1588691,
           -106.6722458
          ],
          [
           "Shark Club Sports Bar & Grill",
           52.1583653,
           -106.6741767
          ],
          [
           "Outlaws Country Rock Bar",
           52.1367803,
           -106.6699082
          ],
          [
           "Fox & Hounds Pub & Brewery",
           52.1597333,
           -106.6456222
          ],
          [
           "Melody Bar",
           52.1260428,
           -106.6634974
          ],
          [
           "Flint",
           52.1261472,
           -106.665375
          ],
          [
           "Dogg House",
           52.1499573,
           -106.6707325
          ],
          [
           "Bartari",
           52.126025,
           -106.6771944
          ],
          [
           "Louis'",
           52.1299684,
           -106.6352134
          ],
          [
           "The Riv Bar",
           52.1575808,
           -106.6722375
          ],
          [
           "Birmingham's Vodka and Ale House Saskatoon",
           52.15898499999999,
           -106.6507974
          ],
          [
           "Manchester Brew Pub",
           52.14404099999999,
           -106.670908
          ],
          [
           "Divas Nightclub",
           52.126377,
           -106.662583
          ],
          [
           "Finns Irish Pub",
           52.13173399999999,
           -106.6525952
          ],
          [
           "Taverna Italian Kitchen + Bar",
           52.1268818,
           -106.663954
          ]
         ],
         "index": [
          0,
          1,
          2,
          3,
          4,
          5,
          6,
          7,
          8,
          9,
          10,
          11,
          12,
          13,
          14,
          15,
          16,
          17,
          18,
          19
         ]
        },
        "schools": {
         "columns": [
          "place",
          "latitude",
          "longitude"
         ],
         "data": [
          [
           "E. D. Feehan Catholic High School",
           52.13405299999999,
           -106.6890684
          ],
          [
           "Westmount Community School",
           52.1338815,
           -106.6848947
          ],
          [
           "Caswell Community School",
           52.1388107,
           -106.6722033
          ],
          [
           "City Park Collegiate",
           52.139676,
           -106.648072
          ],
          [
           "Mayfair Community School",
           52.146272,
           -106.676687
          ],
          [
           "North Park Wilson School",
           52.1479045,
           -106.6498186
          ],
          [
           "École St. Paul Elementary School",
           52.147756,
           -106.6454079
          ],
          [
           "Princess Alexandra Community School",
           52.12807979999999,
           -106.6810388
          ],
          [
           "École Henry Kelsey School",
           52.14479979999999,
           -106.6882793
          ],
          [
           "Bedford Road Collegiate",
           52.133737,
           -106.6810117
          ],
          [
           "Brunskill School",
           52.1248623,
           -106.6385865
          ],
          [
           "École River Heights School",
           52.1636139,
           -106.6344305
          ],
          [
           "Flex ED School",
           52.1494159,
           -106.6675388
          ],
          [
           "St. Maria Goretti Community School",
           52.1325916,
           -106.6963512
          ],
          [
           "St. Edward School",
           52.1405373,
           -106.693808
          ],
          [
           "St. Mary's Wellness & Education Centre",
           52.1249032,
           -106.6908406
          ],
          [
           "Newcomer Student Centre - Saskatoon Public Schools",
           52.1270164,
           -106.6623526
          ],
          [
           "Post-Secondary Education & Skills Training",
           52.12864039999999,
           -106.6651608
          ]
         ],
         "index": [
          0,
          1,
          2,
          3,
          4,
          5,
          6,
          7,
          8,
          9,
          10,
          11,
          12,
          13,
          14,
          15,
          16,
          17
         ]
        },
        "starbucks": {
         "columns": [
          "place",
          "latitude",
          "longitude"
         ],
         "data": [
          [
           "Starbucks",
           52.1315654,
           -106.6409981
          ],
          [
           "Starbucks",
           52.1285414,
           -106.6636211
          ],
          [
           "Starbucks",
           52.1311913,
           -106.6369734
          ],
          [
           "Starbucks",
           52.1276455,
           -106.6664984
          ],
          [
           "Starbucks",
           52.1475915,
           -106.670829
          ],
          [
           "Starbucks",
           52.1584278,
           -106.6636507
          ]
         ],
         "index": [
          0,
          1,
          2,
          3,
          4,
          5
         ]
        },
        "stations": "no",
        "vegan": {
         "columns": [
          "place",
          "latitude",
          "longitude"
         ],
         "data": [
          [
           "The Karma - Conscious Café & Eatery",
           52.130243,
           -106.6633351
          ],
          [
           "Yay! Thai",
           52.1277832,
           -106.664059
          ],
          [
           "The Griffin Takeaway",
           52.1393225,
           -106.6526751
          ],
          [
           "Seasoned Fusion Tastes",
           52.127114,
           -106.6633115
          ],
          [
           "Leyda's Cafe",
           52.12624,
           -106.6707697
          ],
          [
           "Odd Couple Restaurant",
           52.126256,
           -106.6728275
          ],
          [
           "Pizza Pirates",
           52.1295711,
           -106.6930952
          ],
          [
           "Hometown Diner",
           52.1262749,
           -106.6723029
          ],
          [
           "Poached Breakfast Bistro",
           52.1261444,
           -106.665375
          ],
          [
           "Cactus Club Cafe Idylwyld Drive",
           52.1276583,
           -106.669775
          ],
          [
           "Spicy Bite",
           52.1278988,
           -106.6629386
          ],
          [
           "Picaro Cocktails & Tacos",
           52.125685,
           -106.6704665
          ],
          [
           "Freshii",
           52.1277167,
           -106.6645874
          ],
          [
           "Flanagan's Steakhouse",
           52.1267045,
           -106.6635229
          ],
          [
           "Genesis Family Restaurant",
           52.128916,
           -106.6834179
          ],
          [
           "Season's Cafe & Eatery",
           52.15499579999999,
           -106.6848518
          ],
          [
           "Saba's African Cuisine",
           52.1290207,
           -106.6830997
          ],
          [
           "Earls Kitchen + Bar - Takeout & Delivery",
           52.136891,
           -106.659574
          ],
          [
           "Taverna Italian Kitchen + Bar",
           52.1268818,
           -106.663954
          ],
          [
           "The Rook & Raven Pub",
           52.127713,
           -106.664077
          ]
         ],
         "index": [
          0,
          1,
          2,
          3,
          4,
          5,
          6,
          7,
          8,
          9,
          10,
          11,
          12,
          13,
          14,
          15,
          16,
          17,
          18,
          19
         ]
        }
       },
       "height": 500,
       "layout": "IPY_MODEL_b977e133726f4dc4b61298b36f4b552b",
       "value": "Hello World!"
      }
     },
     "9a534544ee454c0b8091b4ff5c613c0c": {
      "model_module": "keplergl-jupyter",
      "model_module_version": "^0.1.0",
      "model_name": "KeplerGlModal",
      "state": {
       "_model_module_version": "^0.1.0",
       "_view_module_version": "^0.1.0",
       "config": {
        "config": {
         "mapState": {
          "bearing": 0,
          "dragRotate": false,
          "isSplit": false,
          "latitude": 23.738370787179793,
          "longitude": 90.36623773877785,
          "pitch": 0,
          "zoom": 12.383678421659585
         },
         "mapStyle": {
          "mapStyles": {},
          "styleType": "dark",
          "threeDBuildingColor": [
           9.665468314072013,
           17.18305478057247,
           31.1442867897876
          ],
          "topLayerGroups": {},
          "visibleLayerGroups": {
           "3d building": false,
           "border": false,
           "building": true,
           "label": true,
           "land": true,
           "road": true,
           "water": true
          }
         },
         "visState": {
          "animationConfig": {
           "currentTime": null,
           "speed": 1
          },
          "filters": [],
          "interactionConfig": {
           "brush": {
            "enabled": false,
            "size": 0.5
           },
           "tooltip": {
            "enabled": true,
            "fieldsToShow": {
             "cities": [
              "place"
             ]
            }
           }
          },
          "layerBlending": "normal",
          "layers": [
           {
            "config": {
             "color": [
              255,
              203,
              153
             ],
             "columns": {
              "altitude": null,
              "lat": "latitude",
              "lng": "longitude"
             },
             "dataId": "cities",
             "isVisible": true,
             "label": "Point",
             "textLabel": [
              {
               "alignment": "center",
               "anchor": "start",
               "color": [
                255,
                255,
                255
               ],
               "field": null,
               "offset": [
                0,
                0
               ],
               "size": 18
              }
             ],
             "visConfig": {
              "colorRange": {
               "category": "Uber",
               "colors": [
                "#5A1846",
                "#900C3F",
                "#C70039",
                "#E3611C",
                "#F1920E",
                "#FFC300"
               ],
               "name": "Global Warming",
               "type": "sequential"
              },
              "filled": true,
              "fixedRadius": false,
              "opacity": 0.8,
              "outline": false,
              "radius": 10,
              "radiusRange": [
               0,
               50
              ],
              "strokeColor": null,
              "strokeColorRange": {
               "category": "Uber",
               "colors": [
                "#5A1846",
                "#900C3F",
                "#C70039",
                "#E3611C",
                "#F1920E",
                "#FFC300"
               ],
               "name": "Global Warming",
               "type": "sequential"
              },
              "thickness": 2
             }
            },
            "id": "7uacw8o",
            "type": "point",
            "visualChannels": {
             "colorField": null,
             "colorScale": "quantile",
             "sizeField": null,
             "sizeScale": "linear",
             "strokeColorField": null,
             "strokeColorScale": "quantile"
            }
           }
          ],
          "splitMaps": []
         }
        },
        "version": "v1"
       },
       "data": {
        "cities": {
         "columns": [
          "place",
          "latitude",
          "longitude"
         ],
         "data": [
          [
           "Chalet Bar & Restaurant",
           23.7444123,
           90.3948329
          ],
          [
           "Sakura Restaurant & Bar",
           23.7413191,
           90.3957767
          ],
          [
           "Hotel Eram International",
           23.7522014,
           90.3779323
          ],
          [
           "Golden Dragon Bar",
           23.7470307,
           90.39638719999999
          ],
          [
           "Hotel Grand Galaxy",
           23.7371685,
           90.38402529999999
          ],
          [
           "DPL Restaurant & Bar Green Road",
           23.7524469,
           90.3875745
          ],
          [
           "Aram international",
           23.7536607,
           90.3819967
          ],
          [
           "Chell A Bar / Shell A Bar",
           23.745798,
           90.39458820000002
          ],
          [
           "হোটেল পিকক লিঃ",
           23.7412356,
           90.39474
          ],
          [
           "Golden",
           23.7325295,
           90.38377849999999
          ],
          [
           "Ayan's Akhra",
           23.7572985,
           90.36993969999999
          ],
          [
           "Rahat the manga bhai",
           23.746167,
           90.3742601
          ],
          [
           "ডন গ্রিল হাউস",
           23.7476675,
           90.38011999999999
          ],
          [
           "Room of Good Music (RGM)",
           23.7539933,
           90.3879906
          ],
          [
           "Dhanmondi Club Limited-DCL, Royal tower 8th floor, 4 Panthapath",
           23.7501999,
           90.3923441
          ],
          [
           "Football Limited",
           23.745837,
           90.3921147
          ],
          [
           "Cafè Tit-As",
           23.7524695,
           90.3708161
          ],
          [
           "Kusum Billa",
           23.757575,
           90.3868014
          ],
          [
           "World Sports",
           23.7420449,
           90.3922372
          ],
          [
           "FBS Boys Common Room and Ice Cream Parlar.",
           23.7355043,
           90.3928323
          ]
         ],
         "index": [
          0,
          1,
          2,
          3,
          4,
          5,
          6,
          7,
          8,
          9,
          10,
          11,
          12,
          13,
          14,
          15,
          16,
          17,
          18,
          19
         ]
        }
       },
       "height": 500,
       "layout": "IPY_MODEL_95d5f13b63f24bb7a3048c4c900f1c6c",
       "value": "Hello World!"
      }
     },
     "9b9318b1e4c94eb08b0ade9c0f6a6f94": {
      "model_module": "keplergl-jupyter",
      "model_module_version": "^0.1.0",
      "model_name": "KeplerGlModal",
      "state": {
       "_model_module_version": "^0.1.0",
       "_view_module_version": "^0.1.0",
       "config": {
        "config": {
         "mapState": {
          "bearing": 24,
          "dragRotate": true,
          "isSplit": false,
          "latitude": 52.136511023675574,
          "longitude": -106.67198425759962,
          "pitch": 50,
          "zoom": 13.04262880832321
         },
         "mapStyle": {
          "mapStyles": {},
          "styleType": "dark",
          "threeDBuildingColor": [
           9.665468314072013,
           17.18305478057247,
           31.1442867897876
          ],
          "topLayerGroups": {},
          "visibleLayerGroups": {
           "3d building": true,
           "border": false,
           "building": true,
           "label": true,
           "land": true,
           "road": true,
           "water": true
          }
         },
         "visState": {
          "animationConfig": {
           "currentTime": null,
           "speed": 1
          },
          "filters": [],
          "interactionConfig": {
           "brush": {
            "enabled": false,
            "size": 0.5
           },
           "tooltip": {
            "enabled": true,
            "fieldsToShow": {
             "Final Location": [
              "city"
             ],
             "bars": [
              "place"
             ],
             "schools": [
              "place"
             ],
             "starbucks": [
              "place"
             ],
             "vegan": [
              "place"
             ]
            }
           }
          },
          "layerBlending": "normal",
          "layers": [
           {
            "config": {
             "color": [
              136,
              87,
              44
             ],
             "columns": {
              "altitude": null,
              "lat": "latitude",
              "lng": "longitude"
             },
             "dataId": "Final Location",
             "isVisible": true,
             "label": "City",
             "textLabel": [
              {
               "alignment": "center",
               "anchor": "start",
               "color": [
                255,
                255,
                255
               ],
               "field": {
                "name": "city",
                "type": "string"
               },
               "offset": [
                0,
                0
               ],
               "size": 18
              }
             ],
             "visConfig": {
              "colorRange": {
               "category": "Uber",
               "colors": [
                "#5A1846",
                "#900C3F",
                "#C70039",
                "#E3611C",
                "#F1920E",
                "#FFC300"
               ],
               "name": "Global Warming",
               "type": "sequential"
              },
              "filled": true,
              "fixedRadius": false,
              "opacity": 0.8,
              "outline": false,
              "radius": 34.7,
              "radiusRange": [
               0,
               50
              ],
              "strokeColor": null,
              "strokeColorRange": {
               "category": "Uber",
               "colors": [
                "#5A1846",
                "#900C3F",
                "#C70039",
                "#E3611C",
                "#F1920E",
                "#FFC300"
               ],
               "name": "Global Warming",
               "type": "sequential"
              },
              "thickness": 2
             }
            },
            "id": "d35u2nb",
            "type": "point",
            "visualChannels": {
             "colorField": null,
             "colorScale": "quantile",
             "sizeField": null,
             "sizeScale": "linear",
             "strokeColorField": null,
             "strokeColorScale": "quantile"
            }
           },
           {
            "config": {
             "color": [
              255,
              153,
              31
             ],
             "columns": {
              "altitude": null,
              "lat": "latitude",
              "lng": "longitude"
             },
             "dataId": "starbucks",
             "isVisible": true,
             "label": "Starbucks",
             "textLabel": [
              {
               "alignment": "center",
               "anchor": "start",
               "color": [
                255,
                255,
                255
               ],
               "field": null,
               "offset": [
                0,
                0
               ],
               "size": 18
              }
             ],
             "visConfig": {
              "colorRange": {
               "category": "Uber",
               "colors": [
                "#5A1846",
                "#900C3F",
                "#C70039",
                "#E3611C",
                "#F1920E",
                "#FFC300"
               ],
               "name": "Global Warming",
               "type": "sequential"
              },
              "filled": true,
              "fixedRadius": false,
              "opacity": 0.8,
              "outline": false,
              "radius": 10,
              "radiusRange": [
               0,
               50
              ],
              "strokeColor": null,
              "strokeColorRange": {
               "category": "Uber",
               "colors": [
                "#5A1846",
                "#900C3F",
                "#C70039",
                "#E3611C",
                "#F1920E",
                "#FFC300"
               ],
               "name": "Global Warming",
               "type": "sequential"
              },
              "thickness": 2
             }
            },
            "id": "s11vhl",
            "type": "point",
            "visualChannels": {
             "colorField": null,
             "colorScale": "quantile",
             "sizeField": null,
             "sizeScale": "linear",
             "strokeColorField": null,
             "strokeColorScale": "quantile"
            }
           },
           {
            "config": {
             "color": [
              241,
              92,
              23
             ],
             "columns": {
              "altitude": null,
              "lat": "latitude",
              "lng": "longitude"
             },
             "dataId": "schools",
             "isVisible": true,
             "label": "Schools",
             "textLabel": [
              {
               "alignment": "center",
               "anchor": "start",
               "color": [
                255,
                255,
                255
               ],
               "field": null,
               "offset": [
                0,
                0
               ],
               "size": 18
              }
             ],
             "visConfig": {
              "colorRange": {
               "category": "Uber",
               "colors": [
                "#5A1846",
                "#900C3F",
                "#C70039",
                "#E3611C",
                "#F1920E",
                "#FFC300"
               ],
               "name": "Global Warming",
               "type": "sequential"
              },
              "filled": true,
              "fixedRadius": false,
              "opacity": 0.8,
              "outline": false,
              "radius": 10,
              "radiusRange": [
               0,
               50
              ],
              "strokeColor": null,
              "strokeColorRange": {
               "category": "Uber",
               "colors": [
                "#5A1846",
                "#900C3F",
                "#C70039",
                "#E3611C",
                "#F1920E",
                "#FFC300"
               ],
               "name": "Global Warming",
               "type": "sequential"
              },
              "thickness": 2
             }
            },
            "id": "nqnauv4",
            "type": "point",
            "visualChannels": {
             "colorField": null,
             "colorScale": "quantile",
             "sizeField": null,
             "sizeScale": "linear",
             "strokeColorField": null,
             "strokeColorScale": "quantile"
            }
           },
           {
            "config": {
             "color": [
              34,
              63,
              154
             ],
             "columns": {
              "altitude": null,
              "lat": "latitude",
              "lng": "longitude"
             },
             "dataId": "bars",
             "isVisible": true,
             "label": "Bars",
             "textLabel": [
              {
               "alignment": "center",
               "anchor": "start",
               "color": [
                255,
                255,
                255
               ],
               "field": null,
               "offset": [
                0,
                0
               ],
               "size": 18
              }
             ],
             "visConfig": {
              "colorRange": {
               "category": "Uber",
               "colors": [
                "#5A1846",
                "#900C3F",
                "#C70039",
                "#E3611C",
                "#F1920E",
                "#FFC300"
               ],
               "name": "Global Warming",
               "type": "sequential"
              },
              "filled": true,
              "fixedRadius": false,
              "opacity": 0.8,
              "outline": false,
              "radius": 10,
              "radiusRange": [
               0,
               50
              ],
              "strokeColor": null,
              "strokeColorRange": {
               "category": "Uber",
               "colors": [
                "#5A1846",
                "#900C3F",
                "#C70039",
                "#E3611C",
                "#F1920E",
                "#FFC300"
               ],
               "name": "Global Warming",
               "type": "sequential"
              },
              "thickness": 2
             }
            },
            "id": "7feug5p",
            "type": "point",
            "visualChannels": {
             "colorField": null,
             "colorScale": "quantile",
             "sizeField": null,
             "sizeScale": "linear",
             "strokeColorField": null,
             "strokeColorScale": "quantile"
            }
           },
           {
            "config": {
             "color": [
              218,
              112,
              191
             ],
             "columns": {
              "altitude": null,
              "lat": "latitude",
              "lng": "longitude"
             },
             "dataId": "vegan",
             "isVisible": true,
             "label": "Vegan Restaurants",
             "textLabel": [
              {
               "alignment": "center",
               "anchor": "start",
               "color": [
                255,
                255,
                255
               ],
               "field": null,
               "offset": [
                0,
                0
               ],
               "size": 18
              }
             ],
             "visConfig": {
              "colorRange": {
               "category": "Uber",
               "colors": [
                "#5A1846",
                "#900C3F",
                "#C70039",
                "#E3611C",
                "#F1920E",
                "#FFC300"
               ],
               "name": "Global Warming",
               "type": "sequential"
              },
              "filled": true,
              "fixedRadius": false,
              "opacity": 0.8,
              "outline": false,
              "radius": 10,
              "radiusRange": [
               0,
               50
              ],
              "strokeColor": null,
              "strokeColorRange": {
               "category": "Uber",
               "colors": [
                "#5A1846",
                "#900C3F",
                "#C70039",
                "#E3611C",
                "#F1920E",
                "#FFC300"
               ],
               "name": "Global Warming",
               "type": "sequential"
              },
              "thickness": 2
             }
            },
            "id": "dnt6b8",
            "type": "point",
            "visualChannels": {
             "colorField": null,
             "colorScale": "quantile",
             "sizeField": null,
             "sizeScale": "linear",
             "strokeColorField": null,
             "strokeColorScale": "quantile"
            }
           }
          ],
          "splitMaps": []
         }
        },
        "version": "v1"
       },
       "data": {
        "Final Location": {
         "columns": [
          "city",
          "latitude",
          "longitude"
         ],
         "data": [
          [
           "Saskatoon",
           52.143886,
           -106.6634565
          ]
         ],
         "index": [
          1247
         ]
        },
        "bars": {
         "columns": [
          "place",
          "latitude",
          "longitude"
         ],
         "data": [
          [
           "Hudsons Saskatoon",
           52.1263771,
           -106.6609726
          ],
          [
           "Winston's English Pub & Grill",
           52.1268,
           -106.6634549
          ],
          [
           "Cathedral Social Hall",
           52.1267709,
           -106.6594192
          ],
          [
           "Congress Beer House",
           52.126907,
           -106.665293
          ],
          [
           "The Rook & Raven Pub",
           52.127713,
           -106.664077
          ],
          [
           "Red Zone Sports Bar",
           52.1588691,
           -106.6722458
          ],
          [
           "Shark Club Sports Bar & Grill",
           52.1583653,
           -106.6741767
          ],
          [
           "Outlaws Country Rock Bar",
           52.1367803,
           -106.6699082
          ],
          [
           "Fox & Hounds Pub & Brewery",
           52.1597333,
           -106.6456222
          ],
          [
           "Melody Bar",
           52.1260428,
           -106.6634974
          ],
          [
           "Flint",
           52.1261472,
           -106.665375
          ],
          [
           "Dogg House",
           52.1499573,
           -106.6707325
          ],
          [
           "Bartari",
           52.126025,
           -106.6771944
          ],
          [
           "Louis'",
           52.1299684,
           -106.6352134
          ],
          [
           "The Riv Bar",
           52.1575808,
           -106.6722375
          ],
          [
           "Birmingham's Vodka and Ale House Saskatoon",
           52.15898499999999,
           -106.6507974
          ],
          [
           "Manchester Brew Pub",
           52.14404099999999,
           -106.670908
          ],
          [
           "Divas Nightclub",
           52.126377,
           -106.662583
          ],
          [
           "Finns Irish Pub",
           52.13173399999999,
           -106.6525952
          ],
          [
           "Taverna Italian Kitchen + Bar",
           52.1268818,
           -106.663954
          ]
         ],
         "index": [
          0,
          1,
          2,
          3,
          4,
          5,
          6,
          7,
          8,
          9,
          10,
          11,
          12,
          13,
          14,
          15,
          16,
          17,
          18,
          19
         ]
        },
        "schools": {
         "columns": [
          "place",
          "latitude",
          "longitude"
         ],
         "data": [
          [
           "E. D. Feehan Catholic High School",
           52.13405299999999,
           -106.6890684
          ],
          [
           "Westmount Community School",
           52.1338815,
           -106.6848947
          ],
          [
           "Caswell Community School",
           52.1388107,
           -106.6722033
          ],
          [
           "City Park Collegiate",
           52.139676,
           -106.648072
          ],
          [
           "Mayfair Community School",
           52.146272,
           -106.676687
          ],
          [
           "North Park Wilson School",
           52.1479045,
           -106.6498186
          ],
          [
           "École St. Paul Elementary School",
           52.147756,
           -106.6454079
          ],
          [
           "Princess Alexandra Community School",
           52.12807979999999,
           -106.6810388
          ],
          [
           "École Henry Kelsey School",
           52.14479979999999,
           -106.6882793
          ],
          [
           "Bedford Road Collegiate",
           52.133737,
           -106.6810117
          ],
          [
           "Brunskill School",
           52.1248623,
           -106.6385865
          ],
          [
           "École River Heights School",
           52.1636139,
           -106.6344305
          ],
          [
           "Flex ED School",
           52.1494159,
           -106.6675388
          ],
          [
           "St. Maria Goretti Community School",
           52.1325916,
           -106.6963512
          ],
          [
           "St. Edward School",
           52.1405373,
           -106.693808
          ],
          [
           "St. Mary's Wellness & Education Centre",
           52.1249032,
           -106.6908406
          ],
          [
           "Newcomer Student Centre - Saskatoon Public Schools",
           52.1270164,
           -106.6623526
          ],
          [
           "Post-Secondary Education & Skills Training",
           52.12864039999999,
           -106.6651608
          ]
         ],
         "index": [
          0,
          1,
          2,
          3,
          4,
          5,
          6,
          7,
          8,
          9,
          10,
          11,
          12,
          13,
          14,
          15,
          16,
          17
         ]
        },
        "starbucks": {
         "columns": [
          "place",
          "latitude",
          "longitude"
         ],
         "data": [
          [
           "Starbucks",
           52.1315654,
           -106.6409981
          ],
          [
           "Starbucks",
           52.1285414,
           -106.6636211
          ],
          [
           "Starbucks",
           52.1311913,
           -106.6369734
          ],
          [
           "Starbucks",
           52.1276455,
           -106.6664984
          ],
          [
           "Starbucks",
           52.1475915,
           -106.670829
          ],
          [
           "Starbucks",
           52.1584278,
           -106.6636507
          ]
         ],
         "index": [
          0,
          1,
          2,
          3,
          4,
          5
         ]
        },
        "stations": "no",
        "vegan": {
         "columns": [
          "place",
          "latitude",
          "longitude"
         ],
         "data": [
          [
           "The Karma - Conscious Café & Eatery",
           52.130243,
           -106.6633351
          ],
          [
           "Yay! Thai",
           52.1277832,
           -106.664059
          ],
          [
           "The Griffin Takeaway",
           52.1393225,
           -106.6526751
          ],
          [
           "Seasoned Fusion Tastes",
           52.127114,
           -106.6633115
          ],
          [
           "Leyda's Cafe",
           52.12624,
           -106.6707697
          ],
          [
           "Odd Couple Restaurant",
           52.126256,
           -106.6728275
          ],
          [
           "Pizza Pirates",
           52.1295711,
           -106.6930952
          ],
          [
           "Hometown Diner",
           52.1262749,
           -106.6723029
          ],
          [
           "Poached Breakfast Bistro",
           52.1261444,
           -106.665375
          ],
          [
           "Cactus Club Cafe Idylwyld Drive",
           52.1276583,
           -106.669775
          ],
          [
           "Spicy Bite",
           52.1278988,
           -106.6629386
          ],
          [
           "Picaro Cocktails & Tacos",
           52.125685,
           -106.6704665
          ],
          [
           "Freshii",
           52.1277167,
           -106.6645874
          ],
          [
           "Flanagan's Steakhouse",
           52.1267045,
           -106.6635229
          ],
          [
           "Genesis Family Restaurant",
           52.128916,
           -106.6834179
          ],
          [
           "Season's Cafe & Eatery",
           52.15499579999999,
           -106.6848518
          ],
          [
           "Saba's African Cuisine",
           52.1290207,
           -106.6830997
          ],
          [
           "Earls Kitchen + Bar - Takeout & Delivery",
           52.136891,
           -106.659574
          ],
          [
           "Taverna Italian Kitchen + Bar",
           52.1268818,
           -106.663954
          ],
          [
           "The Rook & Raven Pub",
           52.127713,
           -106.664077
          ]
         ],
         "index": [
          0,
          1,
          2,
          3,
          4,
          5,
          6,
          7,
          8,
          9,
          10,
          11,
          12,
          13,
          14,
          15,
          16,
          17,
          18,
          19
         ]
        }
       },
       "height": 500,
       "layout": "IPY_MODEL_e6b7f115680042058969231182b085d7",
       "value": "Hello World!"
      }
     },
     "9ee4eedd656e448aaf4c92a635e3c20c": {
      "model_module": "@jupyter-widgets/base",
      "model_module_version": "1.2.0",
      "model_name": "LayoutModel",
      "state": {}
     },
     "9f01cad3734f471cbffc206cf538d79f": {
      "model_module": "@jupyter-widgets/base",
      "model_module_version": "1.2.0",
      "model_name": "LayoutModel",
      "state": {}
     },
     "a42d4a86cbcd4d5bbd43d541ef28f6bc": {
      "model_module": "keplergl-jupyter",
      "model_module_version": "^0.1.0",
      "model_name": "KeplerGlModal",
      "state": {
       "_model_module_version": "^0.1.0",
       "_view_module_version": "^0.1.0",
       "data": {
        "starbucks": "no"
       },
       "height": 500,
       "layout": "IPY_MODEL_344ab843e44844f1a24c2e47afdd9c5d",
       "value": "Hello World!"
      }
     },
     "a474e73e771546ba8f5f9c8c3897f6f4": {
      "model_module": "@jupyter-widgets/base",
      "model_module_version": "1.2.0",
      "model_name": "LayoutModel",
      "state": {}
     },
     "a7fc07d8cc624e5c9809571243d8f98c": {
      "model_module": "@jupyter-widgets/base",
      "model_module_version": "1.2.0",
      "model_name": "LayoutModel",
      "state": {}
     },
     "af044b2bf75b4b338e3794a042be2092": {
      "model_module": "@jupyter-widgets/base",
      "model_module_version": "1.2.0",
      "model_name": "LayoutModel",
      "state": {}
     },
     "af7ac94b81d84b64a9f923e92e092217": {
      "model_module": "keplergl-jupyter",
      "model_module_version": "^0.1.0",
      "model_name": "KeplerGlModal",
      "state": {
       "_model_module_version": "^0.1.0",
       "_view_module_version": "^0.1.0",
       "config": {
        "config": {
         "mapState": {
          "bearing": 0,
          "dragRotate": false,
          "isSplit": false,
          "latitude": 23.74236525,
          "longitude": 90.37794919999999,
          "pitch": 0,
          "zoom": 13
         },
         "mapStyle": {
          "mapStyles": {},
          "styleType": "dark",
          "threeDBuildingColor": [
           9.665468314072013,
           17.18305478057247,
           31.1442867897876
          ],
          "topLayerGroups": {},
          "visibleLayerGroups": {
           "3d building": false,
           "border": false,
           "building": true,
           "label": true,
           "land": true,
           "road": true,
           "water": true
          }
         },
         "visState": {
          "animationConfig": {
           "currentTime": null,
           "speed": 1
          },
          "filters": [],
          "interactionConfig": {
           "brush": {
            "enabled": false,
            "size": 0.5
           },
           "tooltip": {
            "enabled": true,
            "fieldsToShow": {
             "cities": [
              "place"
             ]
            }
           }
          },
          "layerBlending": "normal",
          "layers": [
           {
            "config": {
             "color": [
              231,
              159,
              213
             ],
             "columns": {
              "altitude": null,
              "lat": "latitude",
              "lng": "longitude"
             },
             "dataId": "cities",
             "isVisible": true,
             "label": "Point",
             "textLabel": [
              {
               "alignment": "center",
               "anchor": "start",
               "color": [
                255,
                255,
                255
               ],
               "field": null,
               "offset": [
                0,
                0
               ],
               "size": 18
              }
             ],
             "visConfig": {
              "colorRange": {
               "category": "Uber",
               "colors": [
                "#5A1846",
                "#900C3F",
                "#C70039",
                "#E3611C",
                "#F1920E",
                "#FFC300"
               ],
               "name": "Global Warming",
               "type": "sequential"
              },
              "filled": true,
              "fixedRadius": false,
              "opacity": 0.8,
              "outline": false,
              "radius": 10,
              "radiusRange": [
               0,
               50
              ],
              "strokeColor": null,
              "strokeColorRange": {
               "category": "Uber",
               "colors": [
                "#5A1846",
                "#900C3F",
                "#C70039",
                "#E3611C",
                "#F1920E",
                "#FFC300"
               ],
               "name": "Global Warming",
               "type": "sequential"
              },
              "thickness": 2
             }
            },
            "id": "w5kjwsn",
            "type": "point",
            "visualChannels": {
             "colorField": null,
             "colorScale": "quantile",
             "sizeField": null,
             "sizeScale": "linear",
             "strokeColorField": null,
             "strokeColorScale": "quantile"
            }
           }
          ],
          "splitMaps": []
         }
        },
        "version": "v1"
       },
       "data": {
        "cities": {
         "columns": [
          "place",
          "latitude",
          "longitude"
         ],
         "data": [
          [
           "Mohammadpur Preparatory School & College",
           23.7586284,
           90.3638426
          ],
          [
           "Oxford International School",
           23.753838,
           90.370846
          ],
          [
           "Lakehead Grammar School",
           23.7485488,
           90.3739616
          ],
          [
           "European Standard School",
           23.7525699,
           90.375626
          ],
          [
           "Mastermind School",
           23.752132,
           90.3754194
          ],
          [
           "St. Joseph Higher Secondary School",
           23.759697,
           90.3703249
          ],
          [
           "YWCA Higher Secondary Girls' School",
           23.7430029,
           90.38520930000001
          ],
          [
           "Green Gems Int. School.",
           23.7459879,
           90.3740833
          ],
          [
           "BCSIR High School",
           23.7407569,
           90.38635780000001
          ],
          [
           "Daffodil International School",
           23.7540912,
           90.3748935
          ],
          [
           "Cardiff International School Dhaka",
           23.7544959,
           90.3741661
          ],
          [
           "Government Laboratory High School",
           23.736412,
           90.38150879999999
          ],
          [
           "Averroes International School",
           23.7572518,
           90.36902660000001
          ],
          [
           "Holy Cross Girl's School and College",
           23.7582418,
           90.3911304
          ],
          [
           "JAAGO Foundation, Rayer Bazar School",
           23.746983,
           90.3622973
          ],
          [
           "University Laboratory School & College",
           23.7332983,
           90.3901581
          ],
          [
           "Engineering University School & College",
           23.7277447,
           90.3936011
          ],
          [
           "New Model Multilateral High School",
           23.7518734,
           90.3784993
          ],
          [
           "Scholastica",
           23.7446087,
           90.3731241
          ],
          [
           "Little Angles School",
           23.7250335,
           90.38496599999999
          ]
         ],
         "index": [
          0,
          1,
          2,
          3,
          4,
          5,
          6,
          7,
          8,
          9,
          10,
          11,
          12,
          13,
          14,
          15,
          16,
          17,
          18,
          19
         ]
        }
       },
       "height": 500,
       "layout": "IPY_MODEL_15f30a32cb834ce4804c22e31e06a8a5",
       "value": "Hello World!"
      }
     },
     "b25d5a91e0b34ffa937e643ddf9727ea": {
      "model_module": "keplergl-jupyter",
      "model_module_version": "^0.1.0",
      "model_name": "KeplerGlModal",
      "state": {
       "_model_module_version": "^0.1.0",
       "_view_module_version": "^0.1.0",
       "config": {
        "config": {
         "mapState": {
          "bearing": 0,
          "dragRotate": false,
          "isSplit": false,
          "latitude": 23.749599179750007,
          "longitude": 90.37344019235897,
          "pitch": 0,
          "zoom": 13.206522821155358
         },
         "mapStyle": {
          "mapStyles": {},
          "styleType": "dark",
          "threeDBuildingColor": [
           9.665468314072013,
           17.18305478057247,
           31.1442867897876
          ],
          "topLayerGroups": {},
          "visibleLayerGroups": {
           "3d building": false,
           "border": false,
           "building": true,
           "label": true,
           "land": true,
           "road": true,
           "water": true
          }
         },
         "visState": {
          "animationConfig": {
           "currentTime": null,
           "speed": 1
          },
          "filters": [],
          "interactionConfig": {
           "brush": {
            "enabled": false,
            "size": 0.5
           },
           "tooltip": {
            "enabled": true,
            "fieldsToShow": {
             "stations": [
              "place"
             ]
            }
           }
          },
          "layerBlending": "normal",
          "layers": [
           {
            "config": {
             "color": [
              137,
              218,
              193
             ],
             "columns": {
              "altitude": null,
              "lat": "latitude",
              "lng": "longitude"
             },
             "dataId": "stations",
             "isVisible": true,
             "label": "Point",
             "textLabel": [
              {
               "alignment": "center",
               "anchor": "start",
               "color": [
                255,
                255,
                255
               ],
               "field": null,
               "offset": [
                0,
                0
               ],
               "size": 18
              }
             ],
             "visConfig": {
              "colorRange": {
               "category": "Uber",
               "colors": [
                "#5A1846",
                "#900C3F",
                "#C70039",
                "#E3611C",
                "#F1920E",
                "#FFC300"
               ],
               "name": "Global Warming",
               "type": "sequential"
              },
              "filled": true,
              "fixedRadius": false,
              "opacity": 0.8,
              "outline": false,
              "radius": 10,
              "radiusRange": [
               0,
               50
              ],
              "strokeColor": null,
              "strokeColorRange": {
               "category": "Uber",
               "colors": [
                "#5A1846",
                "#900C3F",
                "#C70039",
                "#E3611C",
                "#F1920E",
                "#FFC300"
               ],
               "name": "Global Warming",
               "type": "sequential"
              },
              "thickness": 2
             }
            },
            "id": "1txynf",
            "type": "point",
            "visualChannels": {
             "colorField": null,
             "colorScale": "quantile",
             "sizeField": null,
             "sizeScale": "linear",
             "strokeColorField": null,
             "strokeColorScale": "quantile"
            }
           }
          ],
          "splitMaps": []
         }
        },
        "version": "v1"
       },
       "data": {
        "schools": "no",
        "stations": {
         "columns": [
          "place",
          "latitude",
          "longitude"
         ],
         "data": [
          [
           "Helipad",
           23.7541347,
           90.4000743
          ],
          [
           "Square Hospital Helipad",
           23.7530355,
           90.38156
          ],
          [
           "Helipad",
           23.7492277,
           90.39427359999999
          ],
          [
           "Sikder Heliport",
           23.7405641,
           90.35812849999999
          ]
         ],
         "index": [
          0,
          1,
          2,
          3
         ]
        }
       },
       "height": 500,
       "layout": "IPY_MODEL_681f711d8bcb4b9bb4247f40ff0d2ded",
       "value": "Hello World!"
      }
     },
     "b39b561d1c0043ee81f3d6e7dd530c5c": {
      "model_module": "keplergl-jupyter",
      "model_module_version": "^0.1.0",
      "model_name": "KeplerGlModal",
      "state": {
       "_model_module_version": "^0.1.0",
       "_view_module_version": "^0.1.0",
       "data": {
        "cities": {
         "geometry": {
          "coordinates": [
           17.075518,
           -96.757968
          ],
          "type": "Point"
         },
         "properties": {
          "index": 0,
          "name": "Coors Field"
         },
         "type": "Feature"
        }
       },
       "height": 500,
       "layout": "IPY_MODEL_96e6319ed77e4160b88afd515a9729b5",
       "value": "Hello World!"
      }
     },
     "b59b1f56b3054205ab5be386347390bb": {
      "model_module": "keplergl-jupyter",
      "model_module_version": "^0.1.0",
      "model_name": "KeplerGlModal",
      "state": {
       "_model_module_version": "^0.1.0",
       "_view_module_version": "^0.1.0",
       "config": {
        "config": {
         "mapState": {
          "bearing": 0,
          "dragRotate": false,
          "isSplit": false,
          "latitude": 23.7473494,
          "longitude": 90.3791014,
          "pitch": 0,
          "zoom": 14
         },
         "mapStyle": {
          "mapStyles": {},
          "styleType": "dark",
          "threeDBuildingColor": [
           9.665468314072013,
           17.18305478057247,
           31.1442867897876
          ],
          "topLayerGroups": {},
          "visibleLayerGroups": {
           "3d building": false,
           "border": false,
           "building": true,
           "label": true,
           "land": true,
           "road": true,
           "water": true
          }
         },
         "visState": {
          "animationConfig": {
           "currentTime": null,
           "speed": 1
          },
          "filters": [],
          "interactionConfig": {
           "brush": {
            "enabled": false,
            "size": 0.5
           },
           "tooltip": {
            "enabled": true,
            "fieldsToShow": {
             "cities": [
              "place"
             ]
            }
           }
          },
          "layerBlending": "normal",
          "layers": [
           {
            "config": {
             "color": [
              130,
              154,
              227
             ],
             "columns": {
              "altitude": null,
              "lat": "latitude",
              "lng": "longitude"
             },
             "dataId": "cities",
             "isVisible": true,
             "label": "Point",
             "textLabel": [
              {
               "alignment": "center",
               "anchor": "start",
               "color": [
                255,
                255,
                255
               ],
               "field": null,
               "offset": [
                0,
                0
               ],
               "size": 18
              }
             ],
             "visConfig": {
              "colorRange": {
               "category": "Uber",
               "colors": [
                "#5A1846",
                "#900C3F",
                "#C70039",
                "#E3611C",
                "#F1920E",
                "#FFC300"
               ],
               "name": "Global Warming",
               "type": "sequential"
              },
              "filled": true,
              "fixedRadius": false,
              "opacity": 0.8,
              "outline": false,
              "radius": 10,
              "radiusRange": [
               0,
               50
              ],
              "strokeColor": null,
              "strokeColorRange": {
               "category": "Uber",
               "colors": [
                "#5A1846",
                "#900C3F",
                "#C70039",
                "#E3611C",
                "#F1920E",
                "#FFC300"
               ],
               "name": "Global Warming",
               "type": "sequential"
              },
              "thickness": 2
             }
            },
            "id": "jlovcmg",
            "type": "point",
            "visualChannels": {
             "colorField": null,
             "colorScale": "quantile",
             "sizeField": null,
             "sizeScale": "linear",
             "strokeColorField": null,
             "strokeColorScale": "quantile"
            }
           }
          ],
          "splitMaps": []
         }
        },
        "version": "v1"
       },
       "data": {
        "cities": {
         "columns": [
          "place",
          "latitude",
          "longitude"
         ],
         "data": [
          [
           "Helipad",
           23.7541347,
           90.4000743
          ],
          [
           "Square Hospital Helipad",
           23.7530355,
           90.38156
          ],
          [
           "Helipad",
           23.7492277,
           90.39427359999999
          ],
          [
           "Sikder Heliport",
           23.7405641,
           90.35812849999999
          ]
         ],
         "index": [
          0,
          1,
          2,
          3
         ]
        }
       },
       "height": 500,
       "layout": "IPY_MODEL_34577ec2951e43eaae8c3d44c7f03b21",
       "value": "Hello World!"
      }
     },
     "b608cb8d5a044c738602e4e305395de3": {
      "model_module": "@jupyter-widgets/base",
      "model_module_version": "1.2.0",
      "model_name": "LayoutModel",
      "state": {}
     },
     "b96b6f105f89463c976cd322beb25793": {
      "model_module": "keplergl-jupyter",
      "model_module_version": "^0.1.0",
      "model_name": "KeplerGlModal",
      "state": {
       "_model_module_version": "^0.1.0",
       "_view_module_version": "^0.1.0",
       "data": {
        "Final Location": "Saskatoon"
       },
       "height": 500,
       "layout": "IPY_MODEL_276c89ae93064c51a609519a703d231b",
       "value": "Hello World!"
      }
     },
     "b977e133726f4dc4b61298b36f4b552b": {
      "model_module": "@jupyter-widgets/base",
      "model_module_version": "1.2.0",
      "model_name": "LayoutModel",
      "state": {}
     },
     "cab76ede83a14ecfaf0a4b523f31bcf4": {
      "model_module": "@jupyter-widgets/base",
      "model_module_version": "1.2.0",
      "model_name": "LayoutModel",
      "state": {}
     },
     "cb1921fdd4ba48248c0f169187fd948a": {
      "model_module": "keplergl-jupyter",
      "model_module_version": "^0.1.0",
      "model_name": "KeplerGlModal",
      "state": {
       "_model_module_version": "^0.1.0",
       "_view_module_version": "^0.1.0",
       "config": {
        "config": {
         "mapState": {
          "bearing": 0,
          "dragRotate": false,
          "isSplit": false,
          "latitude": 23.74405475,
          "longitude": 90.3791014,
          "pitch": 0,
          "zoom": 13
         },
         "mapStyle": {
          "mapStyles": {},
          "styleType": "dark",
          "threeDBuildingColor": [
           9.665468314072013,
           17.18305478057247,
           31.1442867897876
          ],
          "topLayerGroups": {},
          "visibleLayerGroups": {
           "3d building": false,
           "border": false,
           "building": true,
           "label": true,
           "land": true,
           "road": true,
           "water": true
          }
         },
         "visState": {
          "animationConfig": {
           "currentTime": null,
           "speed": 1
          },
          "filters": [],
          "interactionConfig": {
           "brush": {
            "enabled": false,
            "size": 0.5
           },
           "tooltip": {
            "enabled": true,
            "fieldsToShow": {
             "bars": [
              "place"
             ],
             "schools": [
              "place"
             ],
             "stations": [
              "place"
             ],
             "vegan": [
              "place"
             ]
            }
           }
          },
          "layerBlending": "normal",
          "layers": [
           {
            "config": {
             "color": [
              77,
              193,
              156
             ],
             "columns": {
              "altitude": null,
              "lat": "latitude",
              "lng": "longitude"
             },
             "dataId": "schools",
             "isVisible": true,
             "label": "Point",
             "textLabel": [
              {
               "alignment": "center",
               "anchor": "start",
               "color": [
                255,
                255,
                255
               ],
               "field": null,
               "offset": [
                0,
                0
               ],
               "size": 18
              }
             ],
             "visConfig": {
              "colorRange": {
               "category": "Uber",
               "colors": [
                "#5A1846",
                "#900C3F",
                "#C70039",
                "#E3611C",
                "#F1920E",
                "#FFC300"
               ],
               "name": "Global Warming",
               "type": "sequential"
              },
              "filled": true,
              "fixedRadius": false,
              "opacity": 0.8,
              "outline": false,
              "radius": 10,
              "radiusRange": [
               0,
               50
              ],
              "strokeColor": null,
              "strokeColorRange": {
               "category": "Uber",
               "colors": [
                "#5A1846",
                "#900C3F",
                "#C70039",
                "#E3611C",
                "#F1920E",
                "#FFC300"
               ],
               "name": "Global Warming",
               "type": "sequential"
              },
              "thickness": 2
             }
            },
            "id": "58xfi5",
            "type": "point",
            "visualChannels": {
             "colorField": null,
             "colorScale": "quantile",
             "sizeField": null,
             "sizeScale": "linear",
             "strokeColorField": null,
             "strokeColorScale": "quantile"
            }
           },
           {
            "config": {
             "color": [
              119,
              110,
              87
             ],
             "columns": {
              "altitude": null,
              "lat": "latitude",
              "lng": "longitude"
             },
             "dataId": "bars",
             "isVisible": true,
             "label": "Point",
             "textLabel": [
              {
               "alignment": "center",
               "anchor": "start",
               "color": [
                255,
                255,
                255
               ],
               "field": null,
               "offset": [
                0,
                0
               ],
               "size": 18
              }
             ],
             "visConfig": {
              "colorRange": {
               "category": "Uber",
               "colors": [
                "#5A1846",
                "#900C3F",
                "#C70039",
                "#E3611C",
                "#F1920E",
                "#FFC300"
               ],
               "name": "Global Warming",
               "type": "sequential"
              },
              "filled": true,
              "fixedRadius": false,
              "opacity": 0.8,
              "outline": false,
              "radius": 10,
              "radiusRange": [
               0,
               50
              ],
              "strokeColor": null,
              "strokeColorRange": {
               "category": "Uber",
               "colors": [
                "#5A1846",
                "#900C3F",
                "#C70039",
                "#E3611C",
                "#F1920E",
                "#FFC300"
               ],
               "name": "Global Warming",
               "type": "sequential"
              },
              "thickness": 2
             }
            },
            "id": "og8m3fs",
            "type": "point",
            "visualChannels": {
             "colorField": null,
             "colorScale": "quantile",
             "sizeField": null,
             "sizeScale": "linear",
             "strokeColorField": null,
             "strokeColorScale": "quantile"
            }
           },
           {
            "config": {
             "color": [
              23,
              184,
              190
             ],
             "columns": {
              "altitude": null,
              "lat": "latitude",
              "lng": "longitude"
             },
             "dataId": "stations",
             "isVisible": true,
             "label": "Point",
             "textLabel": [
              {
               "alignment": "center",
               "anchor": "start",
               "color": [
                255,
                255,
                255
               ],
               "field": null,
               "offset": [
                0,
                0
               ],
               "size": 18
              }
             ],
             "visConfig": {
              "colorRange": {
               "category": "Uber",
               "colors": [
                "#5A1846",
                "#900C3F",
                "#C70039",
                "#E3611C",
                "#F1920E",
                "#FFC300"
               ],
               "name": "Global Warming",
               "type": "sequential"
              },
              "filled": true,
              "fixedRadius": false,
              "opacity": 0.8,
              "outline": false,
              "radius": 10,
              "radiusRange": [
               0,
               50
              ],
              "strokeColor": null,
              "strokeColorRange": {
               "category": "Uber",
               "colors": [
                "#5A1846",
                "#900C3F",
                "#C70039",
                "#E3611C",
                "#F1920E",
                "#FFC300"
               ],
               "name": "Global Warming",
               "type": "sequential"
              },
              "thickness": 2
             }
            },
            "id": "te3flgd",
            "type": "point",
            "visualChannels": {
             "colorField": null,
             "colorScale": "quantile",
             "sizeField": null,
             "sizeScale": "linear",
             "strokeColorField": null,
             "strokeColorScale": "quantile"
            }
           },
           {
            "config": {
             "color": [
              246,
              209,
              138
             ],
             "columns": {
              "altitude": null,
              "lat": "latitude",
              "lng": "longitude"
             },
             "dataId": "vegan",
             "isVisible": true,
             "label": "Point",
             "textLabel": [
              {
               "alignment": "center",
               "anchor": "start",
               "color": [
                255,
                255,
                255
               ],
               "field": null,
               "offset": [
                0,
                0
               ],
               "size": 18
              }
             ],
             "visConfig": {
              "colorRange": {
               "category": "Uber",
               "colors": [
                "#5A1846",
                "#900C3F",
                "#C70039",
                "#E3611C",
                "#F1920E",
                "#FFC300"
               ],
               "name": "Global Warming",
               "type": "sequential"
              },
              "filled": true,
              "fixedRadius": false,
              "opacity": 0.8,
              "outline": false,
              "radius": 10,
              "radiusRange": [
               0,
               50
              ],
              "strokeColor": null,
              "strokeColorRange": {
               "category": "Uber",
               "colors": [
                "#5A1846",
                "#900C3F",
                "#C70039",
                "#E3611C",
                "#F1920E",
                "#FFC300"
               ],
               "name": "Global Warming",
               "type": "sequential"
              },
              "thickness": 2
             }
            },
            "id": "fo6ppnj",
            "type": "point",
            "visualChannels": {
             "colorField": null,
             "colorScale": "quantile",
             "sizeField": null,
             "sizeScale": "linear",
             "strokeColorField": null,
             "strokeColorScale": "quantile"
            }
           }
          ],
          "splitMaps": []
         }
        },
        "version": "v1"
       },
       "data": {
        "bars": {
         "columns": [
          "place",
          "latitude",
          "longitude"
         ],
         "data": [
          [
           "Chalet Bar & Restaurant",
           23.7444123,
           90.3948329
          ],
          [
           "Sakura Restaurant & Bar",
           23.7413191,
           90.3957767
          ],
          [
           "Hotel Eram International",
           23.7522014,
           90.3779323
          ],
          [
           "Golden Dragon Bar",
           23.7470307,
           90.39638719999999
          ],
          [
           "Hotel Grand Galaxy",
           23.7371685,
           90.38402529999999
          ],
          [
           "DPL Restaurant & Bar Green Road",
           23.7524469,
           90.3875745
          ],
          [
           "Aram international",
           23.7536607,
           90.3819967
          ],
          [
           "Chell A Bar / Shell A Bar",
           23.745798,
           90.39458820000002
          ],
          [
           "হোটেল পিকক লিঃ",
           23.7412356,
           90.39474
          ],
          [
           "Golden",
           23.7325295,
           90.38377849999999
          ],
          [
           "Ayan's Akhra",
           23.7572985,
           90.36993969999999
          ],
          [
           "Rahat the manga bhai",
           23.746167,
           90.3742601
          ],
          [
           "ডন গ্রিল হাউস",
           23.7476675,
           90.38011999999999
          ],
          [
           "Room of Good Music (RGM)",
           23.7539933,
           90.3879906
          ],
          [
           "Dhanmondi Club Limited-DCL, Royal tower 8th floor, 4 Panthapath",
           23.7501999,
           90.3923441
          ],
          [
           "Football Limited",
           23.745837,
           90.3921147
          ],
          [
           "Cafè Tit-As",
           23.7524695,
           90.3708161
          ],
          [
           "Kusum Billa",
           23.757575,
           90.3868014
          ],
          [
           "World Sports",
           23.7420449,
           90.3922372
          ],
          [
           "FBS Boys Common Room and Ice Cream Parlar.",
           23.7355043,
           90.3928323
          ]
         ],
         "index": [
          0,
          1,
          2,
          3,
          4,
          5,
          6,
          7,
          8,
          9,
          10,
          11,
          12,
          13,
          14,
          15,
          16,
          17,
          18,
          19
         ]
        },
        "schools": {
         "columns": [
          "place",
          "latitude",
          "longitude"
         ],
         "data": [
          [
           "Mohammadpur Preparatory School & College",
           23.7586284,
           90.3638426
          ],
          [
           "Oxford International School",
           23.753838,
           90.370846
          ],
          [
           "Lakehead Grammar School",
           23.7485488,
           90.3739616
          ],
          [
           "European Standard School",
           23.7525699,
           90.375626
          ],
          [
           "Mastermind School",
           23.752132,
           90.3754194
          ],
          [
           "St. Joseph Higher Secondary School",
           23.759697,
           90.3703249
          ],
          [
           "YWCA Higher Secondary Girls' School",
           23.7430029,
           90.38520930000001
          ],
          [
           "Green Gems Int. School.",
           23.7459879,
           90.3740833
          ],
          [
           "BCSIR High School",
           23.7407569,
           90.38635780000001
          ],
          [
           "Daffodil International School",
           23.7540912,
           90.3748935
          ],
          [
           "Cardiff International School Dhaka",
           23.7544959,
           90.3741661
          ],
          [
           "Government Laboratory High School",
           23.736412,
           90.38150879999999
          ],
          [
           "Averroes International School",
           23.7572518,
           90.36902660000001
          ],
          [
           "Holy Cross Girl's School and College",
           23.7582418,
           90.3911304
          ],
          [
           "JAAGO Foundation, Rayer Bazar School",
           23.746983,
           90.3622973
          ],
          [
           "University Laboratory School & College",
           23.7332983,
           90.3901581
          ],
          [
           "Engineering University School & College",
           23.7277447,
           90.3936011
          ],
          [
           "New Model Multilateral High School",
           23.7518734,
           90.3784993
          ],
          [
           "Scholastica",
           23.7446087,
           90.3731241
          ],
          [
           "Little Angles School",
           23.7250335,
           90.38496599999999
          ]
         ],
         "index": [
          0,
          1,
          2,
          3,
          4,
          5,
          6,
          7,
          8,
          9,
          10,
          11,
          12,
          13,
          14,
          15,
          16,
          17,
          18,
          19
         ]
        },
        "starbucks": "no",
        "stations": {
         "columns": [
          "place",
          "latitude",
          "longitude"
         ],
         "data": [
          [
           "Helipad",
           23.7541347,
           90.4000743
          ],
          [
           "Square Hospital Helipad",
           23.7530355,
           90.38156
          ],
          [
           "Helipad",
           23.7492277,
           90.39427359999999
          ],
          [
           "Sikder Heliport",
           23.7405641,
           90.35812849999999
          ]
         ],
         "index": [
          0,
          1,
          2,
          3
         ]
        },
        "vegan": {
         "columns": [
          "place",
          "latitude",
          "longitude"
         ],
         "data": [
          [
           "Adda",
           23.763076,
           90.37006
          ],
          [
           "Santoor Restaurant",
           23.7518678,
           90.3775333
          ],
          [
           "Melting Pot",
           23.7374929,
           90.37730069999999
          ],
          [
           "WestGeria",
           23.7496622,
           90.3801731
          ],
          [
           "Burger King",
           23.738343,
           90.3757526
          ],
          [
           "Cafe Bazar",
           23.7496731,
           90.394629
          ],
          [
           "Xindian Restaurant",
           23.7518866,
           90.36848119999999
          ],
          [
           "Pizza Roma",
           23.7384199,
           90.37821439999999
          ],
          [
           "Bhooter Bari",
           23.7539119,
           90.3695587
          ],
          [
           "Bella Italia",
           23.7473956,
           90.3709002
          ],
          [
           "Burger Xpress",
           23.7433381,
           90.3880697
          ],
          [
           "Homemade Bistro",
           23.752041,
           90.3873892
          ],
          [
           "Shake Shack",
           23.7538177,
           90.37027289999999
          ],
          [
           "Gloria Jean's Coffees, Dhanmondi",
           23.7498102,
           90.3686804
          ],
          [
           "Crimson Cup Coffee",
           23.7529947,
           90.3693972
          ]
         ],
         "index": [
          0,
          1,
          2,
          3,
          4,
          5,
          6,
          7,
          8,
          9,
          10,
          11,
          12,
          13,
          14
         ]
        }
       },
       "height": 500,
       "layout": "IPY_MODEL_6870ab29351242d4b73576406b045e99",
       "value": "Hello World!"
      }
     },
     "cc439bc8de3b40a4978bcc0699c876e7": {
      "model_module": "keplergl-jupyter",
      "model_module_version": "^0.1.0",
      "model_name": "KeplerGlModal",
      "state": {
       "_model_module_version": "^0.1.0",
       "_view_module_version": "^0.1.0",
       "config": {
        "config": {
         "mapState": {
          "bearing": 24,
          "dragRotate": true,
          "isSplit": false,
          "latitude": 52.136511023675574,
          "longitude": -106.67198425759962,
          "pitch": 50,
          "zoom": 13.04262880832321
         },
         "mapStyle": {
          "mapStyles": {},
          "styleType": "dark",
          "threeDBuildingColor": [
           9.665468314072013,
           17.18305478057247,
           31.1442867897876
          ],
          "topLayerGroups": {},
          "visibleLayerGroups": {
           "3d building": true,
           "border": false,
           "building": true,
           "label": true,
           "land": true,
           "road": true,
           "water": true
          }
         },
         "visState": {
          "animationConfig": {
           "currentTime": null,
           "speed": 1
          },
          "filters": [],
          "interactionConfig": {
           "brush": {
            "enabled": false,
            "size": 0.5
           },
           "tooltip": {
            "enabled": true,
            "fieldsToShow": {
             "Final Location": [
              "city"
             ],
             "bars": [
              "place"
             ],
             "schools": [
              "place"
             ],
             "starbucks": [
              "place"
             ],
             "vegan": [
              "place"
             ]
            }
           }
          },
          "layerBlending": "normal",
          "layers": [
           {
            "config": {
             "color": [
              136,
              87,
              44
             ],
             "columns": {
              "altitude": null,
              "lat": "latitude",
              "lng": "longitude"
             },
             "dataId": "Final Location",
             "isVisible": true,
             "label": "City",
             "textLabel": [
              {
               "alignment": "center",
               "anchor": "start",
               "color": [
                255,
                255,
                255
               ],
               "field": {
                "name": "city",
                "type": "string"
               },
               "offset": [
                0,
                0
               ],
               "size": 18
              }
             ],
             "visConfig": {
              "colorRange": {
               "category": "Uber",
               "colors": [
                "#5A1846",
                "#900C3F",
                "#C70039",
                "#E3611C",
                "#F1920E",
                "#FFC300"
               ],
               "name": "Global Warming",
               "type": "sequential"
              },
              "filled": true,
              "fixedRadius": false,
              "opacity": 0.8,
              "outline": false,
              "radius": 34.7,
              "radiusRange": [
               0,
               50
              ],
              "strokeColor": null,
              "strokeColorRange": {
               "category": "Uber",
               "colors": [
                "#5A1846",
                "#900C3F",
                "#C70039",
                "#E3611C",
                "#F1920E",
                "#FFC300"
               ],
               "name": "Global Warming",
               "type": "sequential"
              },
              "thickness": 2
             }
            },
            "id": "d35u2nb",
            "type": "point",
            "visualChannels": {
             "colorField": null,
             "colorScale": "quantile",
             "sizeField": null,
             "sizeScale": "linear",
             "strokeColorField": null,
             "strokeColorScale": "quantile"
            }
           },
           {
            "config": {
             "color": [
              255,
              153,
              31
             ],
             "columns": {
              "altitude": null,
              "lat": "latitude",
              "lng": "longitude"
             },
             "dataId": "starbucks",
             "isVisible": true,
             "label": "Starbucks",
             "textLabel": [
              {
               "alignment": "center",
               "anchor": "start",
               "color": [
                255,
                255,
                255
               ],
               "field": null,
               "offset": [
                0,
                0
               ],
               "size": 18
              }
             ],
             "visConfig": {
              "colorRange": {
               "category": "Uber",
               "colors": [
                "#5A1846",
                "#900C3F",
                "#C70039",
                "#E3611C",
                "#F1920E",
                "#FFC300"
               ],
               "name": "Global Warming",
               "type": "sequential"
              },
              "filled": true,
              "fixedRadius": false,
              "opacity": 0.8,
              "outline": false,
              "radius": 10,
              "radiusRange": [
               0,
               50
              ],
              "strokeColor": null,
              "strokeColorRange": {
               "category": "Uber",
               "colors": [
                "#5A1846",
                "#900C3F",
                "#C70039",
                "#E3611C",
                "#F1920E",
                "#FFC300"
               ],
               "name": "Global Warming",
               "type": "sequential"
              },
              "thickness": 2
             }
            },
            "id": "s11vhl",
            "type": "point",
            "visualChannels": {
             "colorField": null,
             "colorScale": "quantile",
             "sizeField": null,
             "sizeScale": "linear",
             "strokeColorField": null,
             "strokeColorScale": "quantile"
            }
           },
           {
            "config": {
             "color": [
              241,
              92,
              23
             ],
             "columns": {
              "altitude": null,
              "lat": "latitude",
              "lng": "longitude"
             },
             "dataId": "schools",
             "isVisible": true,
             "label": "Schools",
             "textLabel": [
              {
               "alignment": "center",
               "anchor": "start",
               "color": [
                255,
                255,
                255
               ],
               "field": null,
               "offset": [
                0,
                0
               ],
               "size": 18
              }
             ],
             "visConfig": {
              "colorRange": {
               "category": "Uber",
               "colors": [
                "#5A1846",
                "#900C3F",
                "#C70039",
                "#E3611C",
                "#F1920E",
                "#FFC300"
               ],
               "name": "Global Warming",
               "type": "sequential"
              },
              "filled": true,
              "fixedRadius": false,
              "opacity": 0.8,
              "outline": false,
              "radius": 10,
              "radiusRange": [
               0,
               50
              ],
              "strokeColor": null,
              "strokeColorRange": {
               "category": "Uber",
               "colors": [
                "#5A1846",
                "#900C3F",
                "#C70039",
                "#E3611C",
                "#F1920E",
                "#FFC300"
               ],
               "name": "Global Warming",
               "type": "sequential"
              },
              "thickness": 2
             }
            },
            "id": "nqnauv4",
            "type": "point",
            "visualChannels": {
             "colorField": null,
             "colorScale": "quantile",
             "sizeField": null,
             "sizeScale": "linear",
             "strokeColorField": null,
             "strokeColorScale": "quantile"
            }
           },
           {
            "config": {
             "color": [
              34,
              63,
              154
             ],
             "columns": {
              "altitude": null,
              "lat": "latitude",
              "lng": "longitude"
             },
             "dataId": "bars",
             "isVisible": true,
             "label": "Bars",
             "textLabel": [
              {
               "alignment": "center",
               "anchor": "start",
               "color": [
                255,
                255,
                255
               ],
               "field": null,
               "offset": [
                0,
                0
               ],
               "size": 18
              }
             ],
             "visConfig": {
              "colorRange": {
               "category": "Uber",
               "colors": [
                "#5A1846",
                "#900C3F",
                "#C70039",
                "#E3611C",
                "#F1920E",
                "#FFC300"
               ],
               "name": "Global Warming",
               "type": "sequential"
              },
              "filled": true,
              "fixedRadius": false,
              "opacity": 0.8,
              "outline": false,
              "radius": 10,
              "radiusRange": [
               0,
               50
              ],
              "strokeColor": null,
              "strokeColorRange": {
               "category": "Uber",
               "colors": [
                "#5A1846",
                "#900C3F",
                "#C70039",
                "#E3611C",
                "#F1920E",
                "#FFC300"
               ],
               "name": "Global Warming",
               "type": "sequential"
              },
              "thickness": 2
             }
            },
            "id": "7feug5p",
            "type": "point",
            "visualChannels": {
             "colorField": null,
             "colorScale": "quantile",
             "sizeField": null,
             "sizeScale": "linear",
             "strokeColorField": null,
             "strokeColorScale": "quantile"
            }
           },
           {
            "config": {
             "color": [
              218,
              112,
              191
             ],
             "columns": {
              "altitude": null,
              "lat": "latitude",
              "lng": "longitude"
             },
             "dataId": "vegan",
             "isVisible": true,
             "label": "Vegan Restaurants",
             "textLabel": [
              {
               "alignment": "center",
               "anchor": "start",
               "color": [
                255,
                255,
                255
               ],
               "field": null,
               "offset": [
                0,
                0
               ],
               "size": 18
              }
             ],
             "visConfig": {
              "colorRange": {
               "category": "Uber",
               "colors": [
                "#5A1846",
                "#900C3F",
                "#C70039",
                "#E3611C",
                "#F1920E",
                "#FFC300"
               ],
               "name": "Global Warming",
               "type": "sequential"
              },
              "filled": true,
              "fixedRadius": false,
              "opacity": 0.8,
              "outline": false,
              "radius": 10,
              "radiusRange": [
               0,
               50
              ],
              "strokeColor": null,
              "strokeColorRange": {
               "category": "Uber",
               "colors": [
                "#5A1846",
                "#900C3F",
                "#C70039",
                "#E3611C",
                "#F1920E",
                "#FFC300"
               ],
               "name": "Global Warming",
               "type": "sequential"
              },
              "thickness": 2
             }
            },
            "id": "dnt6b8",
            "type": "point",
            "visualChannels": {
             "colorField": null,
             "colorScale": "quantile",
             "sizeField": null,
             "sizeScale": "linear",
             "strokeColorField": null,
             "strokeColorScale": "quantile"
            }
           }
          ],
          "splitMaps": []
         }
        },
        "version": "v1"
       },
       "data": {
        "Final Location": {
         "columns": [
          "city",
          "latitude",
          "longitude"
         ],
         "data": [
          [
           "Saskatoon",
           52.143886,
           -106.6634565
          ]
         ],
         "index": [
          1247
         ]
        },
        "bars": {
         "columns": [
          "place",
          "latitude",
          "longitude"
         ],
         "data": [
          [
           "Hudsons Saskatoon",
           52.1263771,
           -106.6609726
          ],
          [
           "Winston's English Pub & Grill",
           52.1268,
           -106.6634549
          ],
          [
           "Cathedral Social Hall",
           52.1267709,
           -106.6594192
          ],
          [
           "Congress Beer House",
           52.126907,
           -106.665293
          ],
          [
           "The Rook & Raven Pub",
           52.127713,
           -106.664077
          ],
          [
           "Red Zone Sports Bar",
           52.1588691,
           -106.6722458
          ],
          [
           "Shark Club Sports Bar & Grill",
           52.1583653,
           -106.6741767
          ],
          [
           "Outlaws Country Rock Bar",
           52.1367803,
           -106.6699082
          ],
          [
           "Fox & Hounds Pub & Brewery",
           52.1597333,
           -106.6456222
          ],
          [
           "Melody Bar",
           52.1260428,
           -106.6634974
          ],
          [
           "Flint",
           52.1261472,
           -106.665375
          ],
          [
           "Dogg House",
           52.1499573,
           -106.6707325
          ],
          [
           "Bartari",
           52.126025,
           -106.6771944
          ],
          [
           "Louis'",
           52.1299684,
           -106.6352134
          ],
          [
           "The Riv Bar",
           52.1575808,
           -106.6722375
          ],
          [
           "Birmingham's Vodka and Ale House Saskatoon",
           52.15898499999999,
           -106.6507974
          ],
          [
           "Manchester Brew Pub",
           52.14404099999999,
           -106.670908
          ],
          [
           "Divas Nightclub",
           52.126377,
           -106.662583
          ],
          [
           "Finns Irish Pub",
           52.13173399999999,
           -106.6525952
          ],
          [
           "Taverna Italian Kitchen + Bar",
           52.1268818,
           -106.663954
          ]
         ],
         "index": [
          0,
          1,
          2,
          3,
          4,
          5,
          6,
          7,
          8,
          9,
          10,
          11,
          12,
          13,
          14,
          15,
          16,
          17,
          18,
          19
         ]
        },
        "schools": {
         "columns": [
          "place",
          "latitude",
          "longitude"
         ],
         "data": [
          [
           "E. D. Feehan Catholic High School",
           52.13405299999999,
           -106.6890684
          ],
          [
           "Westmount Community School",
           52.1338815,
           -106.6848947
          ],
          [
           "Caswell Community School",
           52.1388107,
           -106.6722033
          ],
          [
           "City Park Collegiate",
           52.139676,
           -106.648072
          ],
          [
           "Mayfair Community School",
           52.146272,
           -106.676687
          ],
          [
           "North Park Wilson School",
           52.1479045,
           -106.6498186
          ],
          [
           "École St. Paul Elementary School",
           52.147756,
           -106.6454079
          ],
          [
           "Princess Alexandra Community School",
           52.12807979999999,
           -106.6810388
          ],
          [
           "École Henry Kelsey School",
           52.14479979999999,
           -106.6882793
          ],
          [
           "Bedford Road Collegiate",
           52.133737,
           -106.6810117
          ],
          [
           "Brunskill School",
           52.1248623,
           -106.6385865
          ],
          [
           "École River Heights School",
           52.1636139,
           -106.6344305
          ],
          [
           "Flex ED School",
           52.1494159,
           -106.6675388
          ],
          [
           "St. Maria Goretti Community School",
           52.1325916,
           -106.6963512
          ],
          [
           "St. Edward School",
           52.1405373,
           -106.693808
          ],
          [
           "St. Mary's Wellness & Education Centre",
           52.1249032,
           -106.6908406
          ],
          [
           "Newcomer Student Centre - Saskatoon Public Schools",
           52.1270164,
           -106.6623526
          ],
          [
           "Post-Secondary Education & Skills Training",
           52.12864039999999,
           -106.6651608
          ]
         ],
         "index": [
          0,
          1,
          2,
          3,
          4,
          5,
          6,
          7,
          8,
          9,
          10,
          11,
          12,
          13,
          14,
          15,
          16,
          17
         ]
        },
        "starbucks": {
         "columns": [
          "place",
          "latitude",
          "longitude"
         ],
         "data": [
          [
           "Starbucks",
           52.1315654,
           -106.6409981
          ],
          [
           "Starbucks",
           52.1285414,
           -106.6636211
          ],
          [
           "Starbucks",
           52.1311913,
           -106.6369734
          ],
          [
           "Starbucks",
           52.1276455,
           -106.6664984
          ],
          [
           "Starbucks",
           52.1475915,
           -106.670829
          ],
          [
           "Starbucks",
           52.1584278,
           -106.6636507
          ]
         ],
         "index": [
          0,
          1,
          2,
          3,
          4,
          5
         ]
        },
        "stations": "no",
        "vegan": {
         "columns": [
          "place",
          "latitude",
          "longitude"
         ],
         "data": [
          [
           "The Karma - Conscious Café & Eatery",
           52.130243,
           -106.6633351
          ],
          [
           "Yay! Thai",
           52.1277832,
           -106.664059
          ],
          [
           "The Griffin Takeaway",
           52.1393225,
           -106.6526751
          ],
          [
           "Seasoned Fusion Tastes",
           52.127114,
           -106.6633115
          ],
          [
           "Leyda's Cafe",
           52.12624,
           -106.6707697
          ],
          [
           "Odd Couple Restaurant",
           52.126256,
           -106.6728275
          ],
          [
           "Pizza Pirates",
           52.1295711,
           -106.6930952
          ],
          [
           "Hometown Diner",
           52.1262749,
           -106.6723029
          ],
          [
           "Poached Breakfast Bistro",
           52.1261444,
           -106.665375
          ],
          [
           "Cactus Club Cafe Idylwyld Drive",
           52.1276583,
           -106.669775
          ],
          [
           "Spicy Bite",
           52.1278988,
           -106.6629386
          ],
          [
           "Picaro Cocktails & Tacos",
           52.125685,
           -106.6704665
          ],
          [
           "Freshii",
           52.1277167,
           -106.6645874
          ],
          [
           "Flanagan's Steakhouse",
           52.1267045,
           -106.6635229
          ],
          [
           "Genesis Family Restaurant",
           52.128916,
           -106.6834179
          ],
          [
           "Season's Cafe & Eatery",
           52.15499579999999,
           -106.6848518
          ],
          [
           "Saba's African Cuisine",
           52.1290207,
           -106.6830997
          ],
          [
           "Earls Kitchen + Bar - Takeout & Delivery",
           52.136891,
           -106.659574
          ],
          [
           "Taverna Italian Kitchen + Bar",
           52.1268818,
           -106.663954
          ],
          [
           "The Rook & Raven Pub",
           52.127713,
           -106.664077
          ]
         ],
         "index": [
          0,
          1,
          2,
          3,
          4,
          5,
          6,
          7,
          8,
          9,
          10,
          11,
          12,
          13,
          14,
          15,
          16,
          17,
          18,
          19
         ]
        }
       },
       "height": 500,
       "layout": "IPY_MODEL_d6715c2d5fff4cc7b8a99510ad6c134c",
       "value": "Hello World!"
      }
     },
     "cf6648a5ff7743058b8a3340352ea532": {
      "model_module": "@jupyter-widgets/base",
      "model_module_version": "1.2.0",
      "model_name": "LayoutModel",
      "state": {}
     },
     "d6715c2d5fff4cc7b8a99510ad6c134c": {
      "model_module": "@jupyter-widgets/base",
      "model_module_version": "1.2.0",
      "model_name": "LayoutModel",
      "state": {}
     },
     "d67a323f81834ceb8ef987e76d095309": {
      "model_module": "@jupyter-widgets/base",
      "model_module_version": "1.2.0",
      "model_name": "LayoutModel",
      "state": {}
     },
     "d78d1a1ce9504008aeae048fa8ced192": {
      "model_module": "keplergl-jupyter",
      "model_module_version": "^0.1.0",
      "model_name": "KeplerGlModal",
      "state": {
       "_model_module_version": "^0.1.0",
       "_view_module_version": "^0.1.0",
       "config": {
        "config": {
         "mapState": {
          "bearing": 0,
          "dragRotate": false,
          "isSplit": false,
          "latitude": 39.75271748468272,
          "longitude": -104.98265494909423,
          "pitch": 0,
          "zoom": 13.03598528540635
         },
         "mapStyle": {
          "mapStyles": {},
          "styleType": "dark",
          "threeDBuildingColor": [
           9.665468314072013,
           17.18305478057247,
           31.1442867897876
          ],
          "topLayerGroups": {},
          "visibleLayerGroups": {
           "3d building": false,
           "border": false,
           "building": true,
           "label": true,
           "land": true,
           "road": true,
           "water": true
          }
         },
         "visState": {
          "animationConfig": {
           "currentTime": null,
           "speed": 1
          },
          "filters": [],
          "interactionConfig": {
           "brush": {
            "enabled": false,
            "size": 0.5
           },
           "tooltip": {
            "enabled": true,
            "fieldsToShow": {
             "cities": [
              "name"
             ]
            }
           }
          },
          "layerBlending": "normal",
          "layers": [
           {
            "config": {
             "color": [
              77,
              193,
              156
             ],
             "columns": {
              "geojson": "_geojson"
             },
             "dataId": "cities",
             "isVisible": true,
             "label": "cities",
             "textLabel": [
              {
               "alignment": "center",
               "anchor": "start",
               "color": [
                255,
                255,
                255
               ],
               "field": null,
               "offset": [
                0,
                0
               ],
               "size": 18
              }
             ],
             "visConfig": {
              "colorRange": {
               "category": "Uber",
               "colors": [
                "#5A1846",
                "#900C3F",
                "#C70039",
                "#E3611C",
                "#F1920E",
                "#FFC300"
               ],
               "name": "Global Warming",
               "type": "sequential"
              },
              "elevationScale": 5,
              "enable3d": false,
              "filled": true,
              "heightRange": [
               0,
               500
              ],
              "opacity": 0.8,
              "radius": 10,
              "radiusRange": [
               0,
               50
              ],
              "sizeRange": [
               0,
               10
              ],
              "strokeColor": null,
              "strokeColorRange": {
               "category": "Uber",
               "colors": [
                "#5A1846",
                "#900C3F",
                "#C70039",
                "#E3611C",
                "#F1920E",
                "#FFC300"
               ],
               "name": "Global Warming",
               "type": "sequential"
              },
              "stroked": false,
              "thickness": 0.5,
              "wireframe": false
             }
            },
            "id": "7tkkk2l",
            "type": "geojson",
            "visualChannels": {
             "colorField": null,
             "colorScale": "quantile",
             "heightField": null,
             "heightScale": "linear",
             "radiusField": null,
             "radiusScale": "linear",
             "sizeField": null,
             "sizeScale": "linear",
             "strokeColorField": null,
             "strokeColorScale": "quantile"
            }
           }
          ],
          "splitMaps": []
         }
        },
        "version": "v1"
       },
       "data": {
        "cities": {
         "geometry": {
          "coordinates": [
           -104.99404,
           39.75621
          ],
          "type": "Point"
         },
         "properties": {
          "index": 0,
          "name": "Coors Field"
         },
         "type": "Feature"
        }
       },
       "height": 500,
       "layout": "IPY_MODEL_b608cb8d5a044c738602e4e305395de3",
       "value": "Hello World!"
      }
     },
     "d8eadd36e52346809899b4fb6808e028": {
      "model_module": "keplergl-jupyter",
      "model_module_version": "^0.1.0",
      "model_name": "KeplerGlModal",
      "state": {
       "_model_module_version": "^0.1.0",
       "_view_module_version": "^0.1.0",
       "config": {
        "config": {
         "mapState": {
          "bearing": 0,
          "dragRotate": false,
          "isSplit": false,
          "latitude": -55.55865142527957,
          "longitude": -132.98942844646965,
          "pitch": 0,
          "zoom": 3.2173950583569964
         },
         "mapStyle": {
          "mapStyles": {},
          "styleType": "dark",
          "threeDBuildingColor": [
           9.665468314072013,
           17.18305478057247,
           31.1442867897876
          ],
          "topLayerGroups": {},
          "visibleLayerGroups": {
           "3d building": false,
           "border": false,
           "building": true,
           "label": true,
           "land": true,
           "road": true,
           "water": true
          }
         },
         "visState": {
          "animationConfig": {
           "currentTime": null,
           "speed": 1
          },
          "filters": [],
          "interactionConfig": {
           "brush": {
            "enabled": false,
            "size": 0.5
           },
           "tooltip": {
            "enabled": true,
            "fieldsToShow": {
             "cities": [
              "place"
             ]
            }
           }
          },
          "layerBlending": "normal",
          "layers": [],
          "splitMaps": []
         }
        },
        "version": "v1"
       },
       "data": {
        "cities": {
         "columns": [
          "place",
          "longitude",
          "lng"
         ],
         "data": [
          [
           "Mccarthy's Irish Pub",
           17.0755179,
           -96.7579678
          ],
          [
           "La Rinconada",
           17.0957441,
           -96.768439
          ],
          [
           "Liverpool bar musica retro",
           17.1008725,
           -96.7610098
          ],
          [
           "Cuate's BAR",
           17.0745031,
           -96.746774
          ],
          [
           "bar bar",
           17.08083,
           -96.760437
          ],
          [
           "Bar el mariachi",
           17.0789519,
           -96.7613708
          ],
          [
           "BAR LOS CAUDILLOS \"DE YU\"",
           17.090005,
           -96.75306200000001
          ],
          [
           "El Establo Bar & Grill",
           17.071215,
           -96.75215500000002
          ],
          [
           "Deposito De Cerveza Juquilita",
           17.1032739,
           -96.7765924
          ],
          [
           "Botanero Santa Elena",
           17.0785046,
           -96.76731559999999
          ],
          [
           "Barola 35 restaurante Coffee bar",
           17.076232,
           -96.75109309999999
          ],
          [
           "Jardines de Sofía.",
           17.1055183,
           -96.77564799999999
          ],
          [
           "Bar magaly",
           17.0966273,
           -96.75861309999999
          ],
          [
           "Viña Tulps",
           17.1028985,
           -96.75276339999999
          ],
          [
           "Barola35",
           17.0762547,
           -96.751148
          ],
          [
           "PAPALOPEZ",
           17.0754626,
           -96.7533129
          ],
          [
           "Los Tarros Micheladas",
           17.069621,
           -96.75377119999999
          ],
          [
           "Restaurante bar la cocina de Ana",
           17.0818268,
           -96.7610397
          ]
         ],
         "index": [
          0,
          1,
          2,
          3,
          4,
          5,
          6,
          7,
          8,
          9,
          10,
          11,
          12,
          13,
          14,
          15,
          16,
          17
         ]
        }
       },
       "height": 500,
       "layout": "IPY_MODEL_2d2a83f4129040be8bcacee3cedd479d",
       "value": "Hello World!"
      }
     },
     "d9e2534fe4ba421d95f4bf553c073051": {
      "model_module": "@jupyter-widgets/base",
      "model_module_version": "1.2.0",
      "model_name": "LayoutModel",
      "state": {}
     },
     "dd59a0be6a5745f0ba03577ffc1e53e3": {
      "model_module": "@jupyter-widgets/base",
      "model_module_version": "1.2.0",
      "model_name": "LayoutModel",
      "state": {}
     },
     "deb9da776c9344c1a52e033c2ae13e0d": {
      "model_module": "@jupyter-widgets/base",
      "model_module_version": "1.2.0",
      "model_name": "LayoutModel",
      "state": {}
     },
     "e22c24299aec46a3857848a475de1df5": {
      "model_module": "@jupyter-widgets/base",
      "model_module_version": "1.2.0",
      "model_name": "LayoutModel",
      "state": {}
     },
     "e6b7f115680042058969231182b085d7": {
      "model_module": "@jupyter-widgets/base",
      "model_module_version": "1.2.0",
      "model_name": "LayoutModel",
      "state": {}
     },
     "ef0328ad5f154e39a208daf9c9f1a730": {
      "model_module": "keplergl-jupyter",
      "model_module_version": "^0.1.0",
      "model_name": "KeplerGlModal",
      "state": {
       "_model_module_version": "^0.1.0",
       "_view_module_version": "^0.1.0",
       "config": {
        "config": {
         "mapState": {
          "bearing": 24,
          "dragRotate": true,
          "isSplit": false,
          "latitude": 52.13814937498052,
          "longitude": -106.6715972458186,
          "pitch": 50,
          "zoom": 12.557881983181224
         },
         "mapStyle": {
          "mapStyles": {},
          "styleType": "dark",
          "threeDBuildingColor": [
           9.665468314072013,
           17.18305478057247,
           31.1442867897876
          ],
          "topLayerGroups": {},
          "visibleLayerGroups": {
           "3d building": true,
           "border": false,
           "building": true,
           "label": true,
           "land": true,
           "road": true,
           "water": true
          }
         },
         "visState": {
          "animationConfig": {
           "currentTime": null,
           "speed": 1
          },
          "filters": [],
          "interactionConfig": {
           "brush": {
            "enabled": false,
            "size": 0.5
           },
           "tooltip": {
            "enabled": true,
            "fieldsToShow": {
             "Final Location": [
              "city"
             ],
             "bars": [
              "place"
             ],
             "schools": [
              "place"
             ],
             "starbucks": [
              "place"
             ],
             "vegan": [
              "place"
             ]
            }
           }
          },
          "layerBlending": "normal",
          "layers": [
           {
            "config": {
             "color": [
              136,
              87,
              44
             ],
             "columns": {
              "altitude": null,
              "lat": "latitude",
              "lng": "longitude"
             },
             "dataId": "Final Location",
             "isVisible": true,
             "label": "City",
             "textLabel": [
              {
               "alignment": "center",
               "anchor": "start",
               "color": [
                255,
                255,
                255
               ],
               "field": {
                "name": "city",
                "type": "string"
               },
               "offset": [
                0,
                0
               ],
               "size": 18
              }
             ],
             "visConfig": {
              "colorRange": {
               "category": "Uber",
               "colors": [
                "#5A1846",
                "#900C3F",
                "#C70039",
                "#E3611C",
                "#F1920E",
                "#FFC300"
               ],
               "name": "Global Warming",
               "type": "sequential"
              },
              "filled": true,
              "fixedRadius": false,
              "opacity": 0.8,
              "outline": false,
              "radius": 34.7,
              "radiusRange": [
               0,
               50
              ],
              "strokeColor": null,
              "strokeColorRange": {
               "category": "Uber",
               "colors": [
                "#5A1846",
                "#900C3F",
                "#C70039",
                "#E3611C",
                "#F1920E",
                "#FFC300"
               ],
               "name": "Global Warming",
               "type": "sequential"
              },
              "thickness": 2
             }
            },
            "id": "d35u2nb",
            "type": "point",
            "visualChannels": {
             "colorField": null,
             "colorScale": "quantile",
             "sizeField": null,
             "sizeScale": "linear",
             "strokeColorField": null,
             "strokeColorScale": "quantile"
            }
           },
           {
            "config": {
             "color": [
              255,
              153,
              31
             ],
             "columns": {
              "altitude": null,
              "lat": "latitude",
              "lng": "longitude"
             },
             "dataId": "starbucks",
             "isVisible": true,
             "label": "Starbucks",
             "textLabel": [
              {
               "alignment": "center",
               "anchor": "start",
               "color": [
                255,
                255,
                255
               ],
               "field": null,
               "offset": [
                0,
                0
               ],
               "size": 18
              }
             ],
             "visConfig": {
              "colorRange": {
               "category": "Uber",
               "colors": [
                "#5A1846",
                "#900C3F",
                "#C70039",
                "#E3611C",
                "#F1920E",
                "#FFC300"
               ],
               "name": "Global Warming",
               "type": "sequential"
              },
              "filled": true,
              "fixedRadius": false,
              "opacity": 0.8,
              "outline": false,
              "radius": 10,
              "radiusRange": [
               0,
               50
              ],
              "strokeColor": null,
              "strokeColorRange": {
               "category": "Uber",
               "colors": [
                "#5A1846",
                "#900C3F",
                "#C70039",
                "#E3611C",
                "#F1920E",
                "#FFC300"
               ],
               "name": "Global Warming",
               "type": "sequential"
              },
              "thickness": 2
             }
            },
            "id": "s11vhl",
            "type": "point",
            "visualChannels": {
             "colorField": null,
             "colorScale": "quantile",
             "sizeField": null,
             "sizeScale": "linear",
             "strokeColorField": null,
             "strokeColorScale": "quantile"
            }
           },
           {
            "config": {
             "color": [
              241,
              92,
              23
             ],
             "columns": {
              "altitude": null,
              "lat": "latitude",
              "lng": "longitude"
             },
             "dataId": "schools",
             "isVisible": true,
             "label": "Schools",
             "textLabel": [
              {
               "alignment": "center",
               "anchor": "start",
               "color": [
                255,
                255,
                255
               ],
               "field": null,
               "offset": [
                0,
                0
               ],
               "size": 18
              }
             ],
             "visConfig": {
              "colorRange": {
               "category": "Uber",
               "colors": [
                "#5A1846",
                "#900C3F",
                "#C70039",
                "#E3611C",
                "#F1920E",
                "#FFC300"
               ],
               "name": "Global Warming",
               "type": "sequential"
              },
              "filled": true,
              "fixedRadius": false,
              "opacity": 0.8,
              "outline": false,
              "radius": 10,
              "radiusRange": [
               0,
               50
              ],
              "strokeColor": null,
              "strokeColorRange": {
               "category": "Uber",
               "colors": [
                "#5A1846",
                "#900C3F",
                "#C70039",
                "#E3611C",
                "#F1920E",
                "#FFC300"
               ],
               "name": "Global Warming",
               "type": "sequential"
              },
              "thickness": 2
             }
            },
            "id": "nqnauv4",
            "type": "point",
            "visualChannels": {
             "colorField": null,
             "colorScale": "quantile",
             "sizeField": null,
             "sizeScale": "linear",
             "strokeColorField": null,
             "strokeColorScale": "quantile"
            }
           },
           {
            "config": {
             "color": [
              34,
              63,
              154
             ],
             "columns": {
              "altitude": null,
              "lat": "latitude",
              "lng": "longitude"
             },
             "dataId": "bars",
             "isVisible": true,
             "label": "Bars",
             "textLabel": [
              {
               "alignment": "center",
               "anchor": "start",
               "color": [
                255,
                255,
                255
               ],
               "field": null,
               "offset": [
                0,
                0
               ],
               "size": 18
              }
             ],
             "visConfig": {
              "colorRange": {
               "category": "Uber",
               "colors": [
                "#5A1846",
                "#900C3F",
                "#C70039",
                "#E3611C",
                "#F1920E",
                "#FFC300"
               ],
               "name": "Global Warming",
               "type": "sequential"
              },
              "filled": true,
              "fixedRadius": false,
              "opacity": 0.8,
              "outline": false,
              "radius": 10,
              "radiusRange": [
               0,
               50
              ],
              "strokeColor": null,
              "strokeColorRange": {
               "category": "Uber",
               "colors": [
                "#5A1846",
                "#900C3F",
                "#C70039",
                "#E3611C",
                "#F1920E",
                "#FFC300"
               ],
               "name": "Global Warming",
               "type": "sequential"
              },
              "thickness": 2
             }
            },
            "id": "7feug5p",
            "type": "point",
            "visualChannels": {
             "colorField": null,
             "colorScale": "quantile",
             "sizeField": null,
             "sizeScale": "linear",
             "strokeColorField": null,
             "strokeColorScale": "quantile"
            }
           },
           {
            "config": {
             "color": [
              218,
              112,
              191
             ],
             "columns": {
              "altitude": null,
              "lat": "latitude",
              "lng": "longitude"
             },
             "dataId": "vegan",
             "isVisible": true,
             "label": "Vegan Restaurants",
             "textLabel": [
              {
               "alignment": "center",
               "anchor": "start",
               "color": [
                255,
                255,
                255
               ],
               "field": null,
               "offset": [
                0,
                0
               ],
               "size": 18
              }
             ],
             "visConfig": {
              "colorRange": {
               "category": "Uber",
               "colors": [
                "#5A1846",
                "#900C3F",
                "#C70039",
                "#E3611C",
                "#F1920E",
                "#FFC300"
               ],
               "name": "Global Warming",
               "type": "sequential"
              },
              "filled": true,
              "fixedRadius": false,
              "opacity": 0.8,
              "outline": false,
              "radius": 10,
              "radiusRange": [
               0,
               50
              ],
              "strokeColor": null,
              "strokeColorRange": {
               "category": "Uber",
               "colors": [
                "#5A1846",
                "#900C3F",
                "#C70039",
                "#E3611C",
                "#F1920E",
                "#FFC300"
               ],
               "name": "Global Warming",
               "type": "sequential"
              },
              "thickness": 2
             }
            },
            "id": "dnt6b8",
            "type": "point",
            "visualChannels": {
             "colorField": null,
             "colorScale": "quantile",
             "sizeField": null,
             "sizeScale": "linear",
             "strokeColorField": null,
             "strokeColorScale": "quantile"
            }
           }
          ],
          "splitMaps": []
         }
        },
        "version": "v1"
       },
       "data": {
        "Final Location": {
         "columns": [
          "city",
          "latitude",
          "longitude"
         ],
         "data": [
          [
           "Saskatoon",
           52.143886,
           -106.6634565
          ]
         ],
         "index": [
          1247
         ]
        },
        "bars": {
         "columns": [
          "place",
          "latitude",
          "longitude"
         ],
         "data": [
          [
           "Hudsons Saskatoon",
           52.1263771,
           -106.6609726
          ],
          [
           "Winston's English Pub & Grill",
           52.1268,
           -106.6634549
          ],
          [
           "Cathedral Social Hall",
           52.1267709,
           -106.6594192
          ],
          [
           "Congress Beer House",
           52.126907,
           -106.665293
          ],
          [
           "The Rook & Raven Pub",
           52.127713,
           -106.664077
          ],
          [
           "Red Zone Sports Bar",
           52.1588691,
           -106.6722458
          ],
          [
           "Shark Club Sports Bar & Grill",
           52.1583653,
           -106.6741767
          ],
          [
           "Outlaws Country Rock Bar",
           52.1367803,
           -106.6699082
          ],
          [
           "Fox & Hounds Pub & Brewery",
           52.1597333,
           -106.6456222
          ],
          [
           "Melody Bar",
           52.1260428,
           -106.6634974
          ],
          [
           "Flint",
           52.1261472,
           -106.665375
          ],
          [
           "Dogg House",
           52.1499573,
           -106.6707325
          ],
          [
           "Bartari",
           52.126025,
           -106.6771944
          ],
          [
           "Louis'",
           52.1299684,
           -106.6352134
          ],
          [
           "The Riv Bar",
           52.1575808,
           -106.6722375
          ],
          [
           "Birmingham's Vodka and Ale House Saskatoon",
           52.15898499999999,
           -106.6507974
          ],
          [
           "Manchester Brew Pub",
           52.14404099999999,
           -106.670908
          ],
          [
           "Divas Nightclub",
           52.126377,
           -106.662583
          ],
          [
           "Finns Irish Pub",
           52.13173399999999,
           -106.6525952
          ],
          [
           "Taverna Italian Kitchen + Bar",
           52.1268818,
           -106.663954
          ]
         ],
         "index": [
          0,
          1,
          2,
          3,
          4,
          5,
          6,
          7,
          8,
          9,
          10,
          11,
          12,
          13,
          14,
          15,
          16,
          17,
          18,
          19
         ]
        },
        "schools": {
         "columns": [
          "place",
          "latitude",
          "longitude"
         ],
         "data": [
          [
           "E. D. Feehan Catholic High School",
           52.13405299999999,
           -106.6890684
          ],
          [
           "Westmount Community School",
           52.1338815,
           -106.6848947
          ],
          [
           "Caswell Community School",
           52.1388107,
           -106.6722033
          ],
          [
           "City Park Collegiate",
           52.139676,
           -106.648072
          ],
          [
           "Mayfair Community School",
           52.146272,
           -106.676687
          ],
          [
           "North Park Wilson School",
           52.1479045,
           -106.6498186
          ],
          [
           "École St. Paul Elementary School",
           52.147756,
           -106.6454079
          ],
          [
           "Princess Alexandra Community School",
           52.12807979999999,
           -106.6810388
          ],
          [
           "École Henry Kelsey School",
           52.14479979999999,
           -106.6882793
          ],
          [
           "Bedford Road Collegiate",
           52.133737,
           -106.6810117
          ],
          [
           "Brunskill School",
           52.1248623,
           -106.6385865
          ],
          [
           "École River Heights School",
           52.1636139,
           -106.6344305
          ],
          [
           "Flex ED School",
           52.1494159,
           -106.6675388
          ],
          [
           "St. Maria Goretti Community School",
           52.1325916,
           -106.6963512
          ],
          [
           "St. Edward School",
           52.1405373,
           -106.693808
          ],
          [
           "St. Mary's Wellness & Education Centre",
           52.1249032,
           -106.6908406
          ],
          [
           "Newcomer Student Centre - Saskatoon Public Schools",
           52.1270164,
           -106.6623526
          ],
          [
           "Post-Secondary Education & Skills Training",
           52.12864039999999,
           -106.6651608
          ]
         ],
         "index": [
          0,
          1,
          2,
          3,
          4,
          5,
          6,
          7,
          8,
          9,
          10,
          11,
          12,
          13,
          14,
          15,
          16,
          17
         ]
        },
        "starbucks": {
         "columns": [
          "place",
          "latitude",
          "longitude"
         ],
         "data": [
          [
           "Starbucks",
           52.1315654,
           -106.6409981
          ],
          [
           "Starbucks",
           52.1285414,
           -106.6636211
          ],
          [
           "Starbucks",
           52.1311913,
           -106.6369734
          ],
          [
           "Starbucks",
           52.1276455,
           -106.6664984
          ],
          [
           "Starbucks",
           52.1475915,
           -106.670829
          ],
          [
           "Starbucks",
           52.1584278,
           -106.6636507
          ]
         ],
         "index": [
          0,
          1,
          2,
          3,
          4,
          5
         ]
        },
        "stations": "no",
        "vegan": {
         "columns": [
          "place",
          "latitude",
          "longitude"
         ],
         "data": [
          [
           "The Karma - Conscious Café & Eatery",
           52.130243,
           -106.6633351
          ],
          [
           "Yay! Thai",
           52.1277832,
           -106.664059
          ],
          [
           "The Griffin Takeaway",
           52.1393225,
           -106.6526751
          ],
          [
           "Seasoned Fusion Tastes",
           52.127114,
           -106.6633115
          ],
          [
           "Leyda's Cafe",
           52.12624,
           -106.6707697
          ],
          [
           "Odd Couple Restaurant",
           52.126256,
           -106.6728275
          ],
          [
           "Pizza Pirates",
           52.1295711,
           -106.6930952
          ],
          [
           "Hometown Diner",
           52.1262749,
           -106.6723029
          ],
          [
           "Poached Breakfast Bistro",
           52.1261444,
           -106.665375
          ],
          [
           "Cactus Club Cafe Idylwyld Drive",
           52.1276583,
           -106.669775
          ],
          [
           "Spicy Bite",
           52.1278988,
           -106.6629386
          ],
          [
           "Picaro Cocktails & Tacos",
           52.125685,
           -106.6704665
          ],
          [
           "Freshii",
           52.1277167,
           -106.6645874
          ],
          [
           "Flanagan's Steakhouse",
           52.1267045,
           -106.6635229
          ],
          [
           "Genesis Family Restaurant",
           52.128916,
           -106.6834179
          ],
          [
           "Season's Cafe & Eatery",
           52.15499579999999,
           -106.6848518
          ],
          [
           "Saba's African Cuisine",
           52.1290207,
           -106.6830997
          ],
          [
           "Earls Kitchen + Bar - Takeout & Delivery",
           52.136891,
           -106.659574
          ],
          [
           "Taverna Italian Kitchen + Bar",
           52.1268818,
           -106.663954
          ],
          [
           "The Rook & Raven Pub",
           52.127713,
           -106.664077
          ]
         ],
         "index": [
          0,
          1,
          2,
          3,
          4,
          5,
          6,
          7,
          8,
          9,
          10,
          11,
          12,
          13,
          14,
          15,
          16,
          17,
          18,
          19
         ]
        }
       },
       "height": 500,
       "layout": "IPY_MODEL_af044b2bf75b4b338e3794a042be2092",
       "value": "Hello World!"
      }
     },
     "f09aac15165b4a73bf09d48b45fb9c7a": {
      "model_module": "@jupyter-widgets/base",
      "model_module_version": "1.2.0",
      "model_name": "LayoutModel",
      "state": {}
     },
     "f643a74085194151a8d6e24148822d5f": {
      "model_module": "keplergl-jupyter",
      "model_module_version": "^0.1.0",
      "model_name": "KeplerGlModal",
      "state": {
       "_model_module_version": "^0.1.0",
       "_view_module_version": "^0.1.0",
       "data": {
        "cities": {
         "columns": [
          "place",
          "longitude",
          "latitude"
         ],
         "data": [
          [
           "Mccarthy's Irish Pub",
           17.0755179,
           -96.7579678
          ],
          [
           "La Rinconada",
           17.0957441,
           -96.768439
          ],
          [
           "Liverpool bar musica retro",
           17.1008725,
           -96.7610098
          ],
          [
           "Cuate's BAR",
           17.0745031,
           -96.746774
          ],
          [
           "bar bar",
           17.08083,
           -96.760437
          ],
          [
           "Bar el mariachi",
           17.0789519,
           -96.7613708
          ],
          [
           "BAR LOS CAUDILLOS \"DE YU\"",
           17.090005,
           -96.75306200000001
          ],
          [
           "El Establo Bar & Grill",
           17.071215,
           -96.75215500000002
          ],
          [
           "Deposito De Cerveza Juquilita",
           17.1032739,
           -96.7765924
          ],
          [
           "Botanero Santa Elena",
           17.0785046,
           -96.76731559999999
          ],
          [
           "Barola 35 restaurante Coffee bar",
           17.076232,
           -96.75109309999999
          ],
          [
           "Jardines de Sofía.",
           17.1055183,
           -96.77564799999999
          ],
          [
           "Bar magaly",
           17.0966273,
           -96.75861309999999
          ],
          [
           "Viña Tulps",
           17.1028985,
           -96.75276339999999
          ],
          [
           "Barola35",
           17.0762547,
           -96.751148
          ],
          [
           "PAPALOPEZ",
           17.0754626,
           -96.7533129
          ],
          [
           "Los Tarros Micheladas",
           17.069621,
           -96.75377119999999
          ],
          [
           "Restaurante bar la cocina de Ana",
           17.0818268,
           -96.7610397
          ]
         ],
         "index": [
          0,
          1,
          2,
          3,
          4,
          5,
          6,
          7,
          8,
          9,
          10,
          11,
          12,
          13,
          14,
          15,
          16,
          17
         ]
        }
       },
       "height": 500,
       "layout": "IPY_MODEL_81daa4c4b65d429d91888a5d5a9ac7a6",
       "value": "Hello World!"
      }
     },
     "f81a156c38ec4366b66c368c573fc8dd": {
      "model_module": "keplergl-jupyter",
      "model_module_version": "^0.1.0",
      "model_name": "KeplerGlModal",
      "state": {
       "_model_module_version": "^0.1.0",
       "_view_module_version": "^0.1.0",
       "config": {
        "config": {
         "mapState": {
          "bearing": 0,
          "dragRotate": false,
          "isSplit": false,
          "latitude": 17.08797694502314,
          "longitude": -96.76263053994042,
          "pitch": 0,
          "zoom": 12.946456063012109
         },
         "mapStyle": {
          "mapStyles": {},
          "styleType": "dark",
          "threeDBuildingColor": [
           9.665468314072013,
           17.18305478057247,
           31.1442867897876
          ],
          "topLayerGroups": {},
          "visibleLayerGroups": {
           "3d building": false,
           "border": false,
           "building": true,
           "label": true,
           "land": true,
           "road": true,
           "water": true
          }
         },
         "visState": {
          "animationConfig": {
           "currentTime": null,
           "speed": 1
          },
          "filters": [],
          "interactionConfig": {
           "brush": {
            "enabled": false,
            "size": 0.5
           },
           "tooltip": {
            "enabled": true,
            "fieldsToShow": {
             "cities": [
              "place"
             ]
            }
           }
          },
          "layerBlending": "normal",
          "layers": [
           {
            "config": {
             "color": [
              246,
              209,
              138
             ],
             "columns": {
              "altitude": null,
              "lat": "latitude",
              "lng": "longitude"
             },
             "dataId": "cities",
             "isVisible": true,
             "label": "Point",
             "textLabel": [
              {
               "alignment": "center",
               "anchor": "start",
               "color": [
                255,
                255,
                255
               ],
               "field": null,
               "offset": [
                0,
                0
               ],
               "size": 18
              }
             ],
             "visConfig": {
              "colorRange": {
               "category": "Uber",
               "colors": [
                "#5A1846",
                "#900C3F",
                "#C70039",
                "#E3611C",
                "#F1920E",
                "#FFC300"
               ],
               "name": "Global Warming",
               "type": "sequential"
              },
              "filled": true,
              "fixedRadius": false,
              "opacity": 0.8,
              "outline": false,
              "radius": 10,
              "radiusRange": [
               0,
               50
              ],
              "strokeColor": null,
              "strokeColorRange": {
               "category": "Uber",
               "colors": [
                "#5A1846",
                "#900C3F",
                "#C70039",
                "#E3611C",
                "#F1920E",
                "#FFC300"
               ],
               "name": "Global Warming",
               "type": "sequential"
              },
              "thickness": 2
             }
            },
            "id": "ouz7vs",
            "type": "point",
            "visualChannels": {
             "colorField": null,
             "colorScale": "quantile",
             "sizeField": null,
             "sizeScale": "linear",
             "strokeColorField": null,
             "strokeColorScale": "quantile"
            }
           }
          ],
          "splitMaps": []
         }
        },
        "version": "v1"
       },
       "data": {
        "cities": {
         "columns": [
          "place",
          "latitude",
          "longitude"
         ],
         "data": [
          [
           "Mccarthy's Irish Pub",
           17.0755179,
           -96.7579678
          ],
          [
           "La Rinconada",
           17.0957441,
           -96.768439
          ],
          [
           "Liverpool bar musica retro",
           17.1008725,
           -96.7610098
          ],
          [
           "Cuate's BAR",
           17.0745031,
           -96.746774
          ],
          [
           "bar bar",
           17.08083,
           -96.760437
          ],
          [
           "Bar el mariachi",
           17.0789519,
           -96.7613708
          ],
          [
           "BAR LOS CAUDILLOS \"DE YU\"",
           17.090005,
           -96.75306200000001
          ],
          [
           "El Establo Bar & Grill",
           17.071215,
           -96.75215500000002
          ],
          [
           "Deposito De Cerveza Juquilita",
           17.1032739,
           -96.7765924
          ],
          [
           "Botanero Santa Elena",
           17.0785046,
           -96.76731559999999
          ],
          [
           "Barola 35 restaurante Coffee bar",
           17.076232,
           -96.75109309999999
          ],
          [
           "Jardines de Sofía.",
           17.1055183,
           -96.77564799999999
          ],
          [
           "Bar magaly",
           17.0966273,
           -96.75861309999999
          ],
          [
           "Viña Tulps",
           17.1028985,
           -96.75276339999999
          ],
          [
           "Barola35",
           17.0762547,
           -96.751148
          ],
          [
           "PAPALOPEZ",
           17.0754626,
           -96.7533129
          ],
          [
           "Los Tarros Micheladas",
           17.069621,
           -96.75377119999999
          ],
          [
           "Restaurante bar la cocina de Ana",
           17.0818268,
           -96.7610397
          ]
         ],
         "index": [
          0,
          1,
          2,
          3,
          4,
          5,
          6,
          7,
          8,
          9,
          10,
          11,
          12,
          13,
          14,
          15,
          16,
          17
         ]
        }
       },
       "height": 500,
       "layout": "IPY_MODEL_27f0b70250344e05a0dbc0755560d201",
       "value": "Hello World!"
      }
     },
     "f85e1795e5174323aa58a30afb228da6": {
      "model_module": "@jupyter-widgets/base",
      "model_module_version": "1.2.0",
      "model_name": "LayoutModel",
      "state": {}
     }
    },
    "version_major": 2,
    "version_minor": 0
   }
  }
 },
 "nbformat": 4,
 "nbformat_minor": 2
}
